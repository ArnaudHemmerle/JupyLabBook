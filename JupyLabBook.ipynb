{
 "cells": [
  {
   "cell_type": "markdown",
   "metadata": {
    "tags": [
     "notPrint"
    ]
   },
   "source": [
    "# JupyLabBook @ SIRIUS"
   ]
  },
  {
   "cell_type": "code",
   "execution_count": null,
   "metadata": {
    "scrolled": true,
    "tags": [
     "notPrint"
    ]
   },
   "outputs": [],
   "source": [
    "import CustomFunctions as CF\n",
    "import FrontendFunctions as FF\n",
    "import PyNexus as PN\n",
    "\n",
    "import numpy as np\n",
    "import matplotlib as mpl\n",
    "import matplotlib.pyplot as plt\n",
    "from IPython.display import set_matplotlib_formats, Javascript, display\n",
    "set_matplotlib_formats('png', 'pdf')\n",
    "    \n",
    "# To have all the cells expanded (not collapsed)\n",
    "display(Javascript('IPython.OutputArea.prototype._should_scroll = function(lines) {return false;}'))\n",
    "        \n",
    "class Experiment:\n",
    "    \"\"\"\n",
    "    Class Experiment is used to pass arguments concerning the current experiment only.\n",
    "    \"\"\"\n",
    "    def __init__(self):\n",
    "        pass\n",
    "\n",
    "# Test if the expt already exists (avoid loosing info when reloading this cell)\n",
    "try:\n",
    "    expt.notebook_name\n",
    "except:\n",
    "    expt = Experiment() \n",
    "\n",
    "# Necessary for saving in pdf\n",
    "expt.notebook_name = 'JupyLabBook.ipynb'\n",
    "\n",
    "# Directory where the data will be saved\n",
    "expt.working_dir = \"working/\"\n",
    "\n",
    "# Directory where the nexus files are \n",
    "expt.recording_dir = \"recording/\"\n",
    "\n",
    "# Directory where the logs are\n",
    "expt.logs_dir = \"logs/\"   \n",
    "\n",
    "######################################\n",
    "FF.Check_files(expt)"
   ]
  }
 ],
 "metadata": {
  "celltoolbar": "Format de la Cellule Texte Brut",
  "kernelspec": {
   "display_name": "Python 3",
   "language": "python",
   "name": "python3"
  },
  "language_info": {
   "codemirror_mode": {
    "name": "ipython",
    "version": 3
   },
   "file_extension": ".py",
   "mimetype": "text/x-python",
   "name": "python",
   "nbconvert_exporter": "python",
   "pygments_lexer": "ipython3",
   "version": "3.7.6"
  },
  "widgets": {
   "application/vnd.jupyter.widget-state+json": {
    "state": {
     "003a901d0cce4f3eb6bfad6731a4689c": {
      "model_module": "@jupyter-widgets/controls",
      "model_module_version": "1.5.0",
      "model_name": "DescriptionStyleModel",
      "state": {
       "description_width": "initial"
      }
     },
     "00429279c03a49459e552bb79700164d": {
      "model_module": "@jupyter-widgets/base",
      "model_module_version": "1.2.0",
      "model_name": "LayoutModel",
      "state": {}
     },
     "00adad3fa0734584a356a1ecf55f581f": {
      "model_module": "@jupyter-widgets/controls",
      "model_module_version": "1.5.0",
      "model_name": "TextModel",
      "state": {
       "description": "mon4:",
       "layout": "IPY_MODEL_162425f79766460199b1b8007161a320",
       "placeholder": "Empty or type of mon",
       "style": "IPY_MODEL_d21787dd9e64487693cce979dfceb55b"
      }
     },
     "00e4c00b954c498187ead4e7396c3a2b": {
      "model_module": "@jupyter-widgets/controls",
      "model_module_version": "1.5.0",
      "model_name": "DescriptionStyleModel",
      "state": {
       "description_width": "initial"
      }
     },
     "01010430254d4cba99a73a26684cfc73": {
      "model_module": "@jupyter-widgets/base",
      "model_module_version": "1.2.0",
      "model_name": "LayoutModel",
      "state": {}
     },
     "0115134e664b4c6cb647fe2f90bca28f": {
      "model_module": "@jupyter-widgets/controls",
      "model_module_version": "1.5.0",
      "model_name": "HBoxModel",
      "state": {
       "children": [
        "IPY_MODEL_3e1162c49fc04eaeac73770a05bd5947",
        "IPY_MODEL_ada52c8724e34a4f87ecd8c8743083c8",
        "IPY_MODEL_e31f8cb79dfb44d4b60bbe0a2dcb2fce",
        "IPY_MODEL_b3c4cdcec99d4efebaa258e88c4d293c",
        "IPY_MODEL_c09a86e299e74b7aad8ce92b17149bd3",
        "IPY_MODEL_74631de0ad1d4440a888c0b8f566080b",
        "IPY_MODEL_05bc47bde9384389a8e781d42ccf8a80"
       ],
       "layout": "IPY_MODEL_0970aef352be46cdbadb425af0d48757"
      }
     },
     "0116208e26ec4ee4a20e90d50e096633": {
      "model_module": "@jupyter-widgets/controls",
      "model_module_version": "1.5.0",
      "model_name": "DescriptionStyleModel",
      "state": {
       "description_width": "initial"
      }
     },
     "013c139aa4de47d18c1f3fa5b12b88df": {
      "model_module": "@jupyter-widgets/controls",
      "model_module_version": "1.5.0",
      "model_name": "HBoxModel",
      "state": {
       "children": [
        "IPY_MODEL_395621552c4d48dfab43c9e86b1c6355",
        "IPY_MODEL_c63dd5fbd4f14720b328d0327c6e860d"
       ],
       "layout": "IPY_MODEL_bd0b234a4180430a9dbe1b77c9b8343f"
      }
     },
     "014b14f3d5614ed68010d544f0ecaf11": {
      "model_module": "@jupyter-widgets/controls",
      "model_module_version": "1.5.0",
      "model_name": "ButtonStyleModel",
      "state": {}
     },
     "01da22c6a8a045d4b3450d9f06e87410": {
      "model_module": "@jupyter-widgets/controls",
      "model_module_version": "1.5.0",
      "model_name": "DescriptionStyleModel",
      "state": {
       "description_width": "initial"
      }
     },
     "01f19ff693334f4b9fbe2cdd51277a87": {
      "model_module": "@jupyter-widgets/output",
      "model_module_version": "1.0.0",
      "model_name": "OutputModel",
      "state": {
       "layout": "IPY_MODEL_e88ed32b14084863a16ad8bc4a67f9b6"
      }
     },
     "0225a01146d3494bb1a5e4944ffc452b": {
      "model_module": "@jupyter-widgets/controls",
      "model_module_version": "1.5.0",
      "model_name": "ButtonStyleModel",
      "state": {}
     },
     "023d2b8f1ec949ffab53983beb69cbad": {
      "model_module": "@jupyter-widgets/output",
      "model_module_version": "1.0.0",
      "model_name": "OutputModel",
      "state": {
       "layout": "IPY_MODEL_52207643ab6b49309c7c37de433da428"
      }
     },
     "0262269833f547358722243ab799e334": {
      "model_module": "@jupyter-widgets/base",
      "model_module_version": "1.2.0",
      "model_name": "LayoutModel",
      "state": {}
     },
     "02856630cd884fd996a74c3adc3254cf": {
      "model_module": "@jupyter-widgets/controls",
      "model_module_version": "1.5.0",
      "model_name": "TextModel",
      "state": {
       "description": "Energy (keV):",
       "layout": "IPY_MODEL_a2ab455042d94793bc480c9af559906c",
       "placeholder": "Value(s)",
       "style": "IPY_MODEL_88f4448733414590b689b0ede29d5016"
      }
     },
     "02886d8433554f61ad8bb120a91626e6": {
      "model_module": "@jupyter-widgets/controls",
      "model_module_version": "1.5.0",
      "model_name": "HBoxModel",
      "state": {
       "children": [
        "IPY_MODEL_1a9399ba66f64dd1851bad858572695f",
        "IPY_MODEL_572cd6e1e3fe4ffd831e08afec4d4b62"
       ],
       "layout": "IPY_MODEL_3f6a8ea06c7c4366a44de4822c2bf5dc"
      }
     },
     "029108a645ed4b9e99af47256698884d": {
      "model_module": "@jupyter-widgets/controls",
      "model_module_version": "1.5.0",
      "model_name": "ButtonStyleModel",
      "state": {}
     },
     "032342a8576f40f69100477a457ab9a9": {
      "model_module": "@jupyter-widgets/controls",
      "model_module_version": "1.5.0",
      "model_name": "TextModel",
      "state": {
       "description": "Harmonic:",
       "layout": "IPY_MODEL_34c27c545c9249bea2f28c9bf3bd98ea",
       "placeholder": "Value(s)",
       "style": "IPY_MODEL_80b36c5c22f04b0fb819a1f604d8f39c"
      }
     },
     "033fd0eeec434428b682d52afc0036e0": {
      "model_module": "@jupyter-widgets/controls",
      "model_module_version": "1.5.0",
      "model_name": "DropdownModel",
      "state": {
       "_options_labels": [
        "M4 Pt Track",
        "M4 Si Track",
        "No M4"
       ],
       "description": "M4:",
       "index": 0,
       "layout": "IPY_MODEL_41d8f21011354d9291b13a1b6807b2f4",
       "style": "IPY_MODEL_bd925e7d82ae4b69b7ac535687524537"
      }
     },
     "036f5d085f3240c982a99592e2a40f98": {
      "model_module": "@jupyter-widgets/controls",
      "model_module_version": "1.5.0",
      "model_name": "HBoxModel",
      "state": {
       "children": [
        "IPY_MODEL_6cb2eaf97f69469fa15bf15a8eed109c",
        "IPY_MODEL_6bc885e8c68b42a39617e5d83316bac4",
        "IPY_MODEL_253d960d963641d584c9f76a9fa4953a",
        "IPY_MODEL_4321c1ee7b7d4d0d977e7a66ec2c0538"
       ],
       "layout": "IPY_MODEL_5abd9c58ec2948849328d88c0b06df58"
      }
     },
     "038be3fc04194c0bb1c590a2a029ae38": {
      "model_module": "@jupyter-widgets/controls",
      "model_module_version": "1.5.0",
      "model_name": "ButtonStyleModel",
      "state": {}
     },
     "03b2cb6b87084ac6adb06adc1b432bcc": {
      "model_module": "@jupyter-widgets/base",
      "model_module_version": "1.2.0",
      "model_name": "LayoutModel",
      "state": {
       "height": "40px",
       "width": "200px"
      }
     },
     "03b7962fe0934653aa391bdf83057ec7": {
      "model_module": "@jupyter-widgets/controls",
      "model_module_version": "1.5.0",
      "model_name": "ButtonModel",
      "state": {
       "description": "Refresh",
       "layout": "IPY_MODEL_8267015a58db4227bd7df5dbba723c9e",
       "style": "IPY_MODEL_de685eed734d436091b90e1348992a13"
      }
     },
     "03e8eff2f2a44ceb94fbe596819e41b4": {
      "model_module": "@jupyter-widgets/base",
      "model_module_version": "1.2.0",
      "model_name": "LayoutModel",
      "state": {}
     },
     "03f31822e4514f17a8b9077b3df036d5": {
      "model_module": "@jupyter-widgets/controls",
      "model_module_version": "1.5.0",
      "model_name": "DescriptionStyleModel",
      "state": {
       "description_width": "initial"
      }
     },
     "03ff52f4a1d84e208398e9040ffde27e": {
      "model_module": "@jupyter-widgets/controls",
      "model_module_version": "1.5.0",
      "model_name": "DescriptionStyleModel",
      "state": {
       "description_width": "initial"
      }
     },
     "0453f63d9a5d41129715de0956486fa5": {
      "model_module": "@jupyter-widgets/controls",
      "model_module_version": "1.5.0",
      "model_name": "ButtonModel",
      "state": {
       "description": "Plot Pilatus",
       "layout": "IPY_MODEL_71b04b25380743c09868dc9bdabd87f4",
       "style": "IPY_MODEL_651d57a1a4864887b851477642c67f45"
      }
     },
     "045d7e9aa9204366a74aa08e0606a03c": {
      "model_module": "@jupyter-widgets/controls",
      "model_module_version": "1.5.0",
      "model_name": "HBoxModel",
      "state": {
       "children": [
        "IPY_MODEL_5bc60a5c7b0b4f89b80e83ec774e7778",
        "IPY_MODEL_aaae537d9061462397d22c08bf08e588",
        "IPY_MODEL_945176563b424bbb9ab05d709079e625",
        "IPY_MODEL_692758ef36214c0fb964674367653459"
       ],
       "layout": "IPY_MODEL_82f7b35b76c1478c902cb8847c8369e0"
      }
     },
     "0485f4483ff64d679e79281c7abb7811": {
      "model_module": "@jupyter-widgets/controls",
      "model_module_version": "1.5.0",
      "model_name": "HBoxModel",
      "state": {
       "children": [
        "IPY_MODEL_991e5a36cbec41159041486e7723baba",
        "IPY_MODEL_a125e277cc6e45628756b181d3cfcafc",
        "IPY_MODEL_ea2346ad6caa4ae39370238b9ccb5643",
        "IPY_MODEL_d5ba40fe766447aaad24959ae72f3268"
       ],
       "layout": "IPY_MODEL_3f85acc42b49492fa38593054d689b3a"
      }
     },
     "0487beec638c4a9a8186cc2aeca4e62f": {
      "model_module": "@jupyter-widgets/base",
      "model_module_version": "1.2.0",
      "model_name": "LayoutModel",
      "state": {}
     },
     "05570406e72b4c38a92f6d47139d5edc": {
      "model_module": "@jupyter-widgets/controls",
      "model_module_version": "1.5.0",
      "model_name": "DropdownModel",
      "state": {
       "_options_labels": [
        "M2 Pt Track",
        "M2 B4C Track",
        "No M2"
       ],
       "description": "M2:",
       "index": 0,
       "layout": "IPY_MODEL_f20b5e2276ae42a1842b875a8d167e62",
       "style": "IPY_MODEL_5ff712ebb29248aba3f51082cb2426d2"
      }
     },
     "0597213e601441a0a6a4cd903a5f3372": {
      "model_module": "@jupyter-widgets/controls",
      "model_module_version": "1.5.0",
      "model_name": "DescriptionStyleModel",
      "state": {
       "description_width": "initial"
      }
     },
     "05bc47bde9384389a8e781d42ccf8a80": {
      "model_module": "@jupyter-widgets/controls",
      "model_module_version": "1.5.0",
      "model_name": "SelectModel",
      "state": {
       "_options_labels": [
        "viridis",
        "jet",
        "Greys",
        "cividis",
        "hot"
       ],
       "description": "cmap",
       "index": 1,
       "layout": "IPY_MODEL_1a5574bc61b54a679cf3334cfced757b",
       "style": "IPY_MODEL_20e3c46b8d6b4329972c81191d6a6fa0"
      }
     },
     "05fdeb6e011e45f5a915f124ae58c395": {
      "model_module": "@jupyter-widgets/base",
      "model_module_version": "1.2.0",
      "model_name": "LayoutModel",
      "state": {}
     },
     "060fd10efab94d82bae9f9ea88f6619b": {
      "model_module": "@jupyter-widgets/controls",
      "model_module_version": "1.5.0",
      "model_name": "DescriptionStyleModel",
      "state": {
       "description_width": "initial"
      }
     },
     "0614faef13644e829fd49be91a32b192": {
      "model_module": "@jupyter-widgets/controls",
      "model_module_version": "1.5.0",
      "model_name": "DescriptionStyleModel",
      "state": {
       "description_width": "initial"
      }
     },
     "062de8601ece41ce934797275ec4be6f": {
      "model_module": "@jupyter-widgets/base",
      "model_module_version": "1.2.0",
      "model_name": "LayoutModel",
      "state": {
       "height": "40px",
       "width": "300px"
      }
     },
     "06638f8856bf413bae6297c9275dd5f6": {
      "model_module": "@jupyter-widgets/base",
      "model_module_version": "1.2.0",
      "model_name": "LayoutModel",
      "state": {}
     },
     "068ca871031a408886485195bc2dffbc": {
      "model_module": "@jupyter-widgets/base",
      "model_module_version": "1.2.0",
      "model_name": "LayoutModel",
      "state": {}
     },
     "0693a08961fb46b0877f66d4f71e1aea": {
      "model_module": "@jupyter-widgets/controls",
      "model_module_version": "1.5.0",
      "model_name": "HBoxModel",
      "state": {
       "children": [
        "IPY_MODEL_773963c89afb423fa587927facdb68d3",
        "IPY_MODEL_f5f5564c2fa94e6093fc616d71e14fea"
       ],
       "layout": "IPY_MODEL_16afde840a0549b78f5a680f48b94a7c"
      }
     },
     "06950f4c81f544c78dfefe749f27ba34": {
      "model_module": "@jupyter-widgets/base",
      "model_module_version": "1.2.0",
      "model_name": "LayoutModel",
      "state": {}
     },
     "06a13e07c4ef4471b2f9e27ab05e4839": {
      "model_module": "@jupyter-widgets/controls",
      "model_module_version": "1.5.0",
      "model_name": "HBoxModel",
      "state": {
       "children": [
        "IPY_MODEL_4348af629a9f45b5b027ddeaf3923708",
        "IPY_MODEL_4626d3d4310849efbf87a0fda1ab1fc0"
       ],
       "layout": "IPY_MODEL_bb51c82e662847f9a70320081dbccae0"
      }
     },
     "06cdf8ed30a0478fbef1464530893476": {
      "model_module": "@jupyter-widgets/base",
      "model_module_version": "1.2.0",
      "model_name": "LayoutModel",
      "state": {
       "height": "40px",
       "width": "200px"
      }
     },
     "072f925afff3417e9d8f4b697745cc65": {
      "model_module": "@jupyter-widgets/controls",
      "model_module_version": "1.5.0",
      "model_name": "HBoxModel",
      "state": {
       "children": [
        "IPY_MODEL_7484d54ca35d4534b097f3b76325e3bf",
        "IPY_MODEL_1cbde8cc0dc1431796cfefb8e3ecbb87"
       ],
       "layout": "IPY_MODEL_2d5dc784571f49198acd3468570627de"
      }
     },
     "077fcf01e55e4dc0a68a91bd5a8044ff": {
      "model_module": "@jupyter-widgets/controls",
      "model_module_version": "1.5.0",
      "model_name": "ButtonModel",
      "state": {
       "description": "Next action",
       "layout": "IPY_MODEL_8093e8b4417e496db27ee1dd98f007b9",
       "style": "IPY_MODEL_de0b9a9f347d44a2822051d68a0ead6a"
      }
     },
     "07df9ca2c6b04bfab2847e5c1a0f6ed1": {
      "model_module": "@jupyter-widgets/base",
      "model_module_version": "1.2.0",
      "model_name": "LayoutModel",
      "state": {}
     },
     "0825855d56214be1a17c3904c8a0d9cb": {
      "model_module": "@jupyter-widgets/controls",
      "model_module_version": "1.5.0",
      "model_name": "DropdownModel",
      "state": {
       "_options_labels": [
        "Si111",
        "InSb",
        "Not Used"
       ],
       "description": "DCM:",
       "index": 0,
       "layout": "IPY_MODEL_cdeaddc84d3042aa8f711ad28f25d155",
       "style": "IPY_MODEL_8505bb748e6e48afa0a3fb5c538cb5d9"
      }
     },
     "083a55bbe3df486c8af756ab4d4188fa": {
      "model_module": "@jupyter-widgets/base",
      "model_module_version": "1.2.0",
      "model_name": "LayoutModel",
      "state": {}
     },
     "083bd747da474d39b67ef8fb382381cf": {
      "model_module": "@jupyter-widgets/controls",
      "model_module_version": "1.5.0",
      "model_name": "TextModel",
      "state": {
       "description": "Users (on site):",
       "layout": "IPY_MODEL_43eebc09dfaf4150a458cba7eca2814a",
       "placeholder": "Names",
       "style": "IPY_MODEL_c6e5cae9184646adb75122e6acedb0cc"
      }
     },
     "084e417c95f14575a4a4f6bda50c9364": {
      "model_module": "@jupyter-widgets/controls",
      "model_module_version": "1.5.0",
      "model_name": "DescriptionStyleModel",
      "state": {
       "description_width": "initial"
      }
     },
     "085e6f116d144027bb217d6348388ffa": {
      "model_module": "@jupyter-widgets/controls",
      "model_module_version": "1.5.0",
      "model_name": "HBoxModel",
      "state": {
       "children": [
        "IPY_MODEL_e345ba7d46274b68b10a8263c86e3fc6",
        "IPY_MODEL_7c0ebaf6bedf45358815a5b91b4dc3d0"
       ],
       "layout": "IPY_MODEL_4e3721a13a6141aba70cf430051a799a"
      }
     },
     "08761cb8d2434ee1b850f832ee707302": {
      "model_module": "@jupyter-widgets/base",
      "model_module_version": "1.2.0",
      "model_name": "LayoutModel",
      "state": {}
     },
     "0880cd0715834454827e0184d21b5261": {
      "model_module": "@jupyter-widgets/controls",
      "model_module_version": "1.5.0",
      "model_name": "ButtonStyleModel",
      "state": {}
     },
     "088691fceeb14c549f91b0a571affb2a": {
      "model_module": "@jupyter-widgets/controls",
      "model_module_version": "1.5.0",
      "model_name": "ButtonModel",
      "state": {
       "description": "Insert script",
       "layout": "IPY_MODEL_432793781c61421eaa64b88e3e100331",
       "style": "IPY_MODEL_7ea217b4ce634a5e8899058183681d4b"
      }
     },
     "089951b0c9624f96a0bc94b9e75232bc": {
      "model_module": "@jupyter-widgets/controls",
      "model_module_version": "1.5.0",
      "model_name": "DescriptionStyleModel",
      "state": {
       "description_width": "initial"
      }
     },
     "08a6d6c15de54fb58d7c305101f5a69f": {
      "model_module": "@jupyter-widgets/controls",
      "model_module_version": "1.5.0",
      "model_name": "DescriptionStyleModel",
      "state": {
       "description_width": "initial"
      }
     },
     "08c2f0c4edec42a5b3eb8ceac074b6cf": {
      "model_module": "@jupyter-widgets/controls",
      "model_module_version": "1.5.0",
      "model_name": "TextareaModel",
      "state": {
       "description": "Detectors:",
       "layout": "IPY_MODEL_e83d3931957c468f8e6fa683f1994911",
       "placeholder": "Type of detectors",
       "style": "IPY_MODEL_56e9ac2d39a1437280a774e366a5b01a"
      }
     },
     "08cad5d643974d5eb14afd708e9f1782": {
      "model_module": "@jupyter-widgets/controls",
      "model_module_version": "1.5.0",
      "model_name": "ButtonModel",
      "state": {
       "description": "Fill form",
       "layout": "IPY_MODEL_2bc91dc2c5b440109d9b91180c58b4c3",
       "style": "IPY_MODEL_692805c3993443f0b98c04d6618d2ad1"
      }
     },
     "08d9efaf48e9418ebea6eb3bd2371265": {
      "model_module": "@jupyter-widgets/controls",
      "model_module_version": "1.5.0",
      "model_name": "ButtonModel",
      "state": {
       "description": "Extract Vineyard",
       "layout": "IPY_MODEL_ae2ecea170064e31bd88aa36a6f81997",
       "style": "IPY_MODEL_014b14f3d5614ed68010d544f0ecaf11"
      }
     },
     "08f78e9a9297400aad49959b047d2f85": {
      "model_module": "@jupyter-widgets/base",
      "model_module_version": "1.2.0",
      "model_name": "LayoutModel",
      "state": {}
     },
     "09167665b82a4f52b273681aa6fb625f": {
      "model_module": "@jupyter-widgets/controls",
      "model_module_version": "1.5.0",
      "model_name": "ButtonStyleModel",
      "state": {}
     },
     "09179e4098c74b7b967080991e730cc2": {
      "model_module": "@jupyter-widgets/base",
      "model_module_version": "1.2.0",
      "model_name": "LayoutModel",
      "state": {}
     },
     "096bdde9588d4f29a44ba3119138dc89": {
      "model_module": "@jupyter-widgets/controls",
      "model_module_version": "1.5.0",
      "model_name": "ButtonModel",
      "state": {
       "description": "Insert script",
       "layout": "IPY_MODEL_84969ba1a519472fa085eb417ea1fe03",
       "style": "IPY_MODEL_59a7d16e7c2146a28f7f75317397db52"
      }
     },
     "0970aef352be46cdbadb425af0d48757": {
      "model_module": "@jupyter-widgets/base",
      "model_module_version": "1.2.0",
      "model_name": "LayoutModel",
      "state": {}
     },
     "099943e003b4403b97fd1140e0dd7f45": {
      "model_module": "@jupyter-widgets/base",
      "model_module_version": "1.2.0",
      "model_name": "LayoutModel",
      "state": {}
     },
     "09a0aaa0e24343e7b67838ea7b06fa3a": {
      "model_module": "@jupyter-widgets/controls",
      "model_module_version": "1.5.0",
      "model_name": "DescriptionStyleModel",
      "state": {
       "description_width": ""
      }
     },
     "09b73b10a31a4a2c8bf9c4c0ac95bc07": {
      "model_module": "@jupyter-widgets/controls",
      "model_module_version": "1.5.0",
      "model_name": "TextareaModel",
      "state": {
       "description": "Remarks:",
       "layout": "IPY_MODEL_563883aaaf3c4c3bb1c85b4bac7a5e1f",
       "placeholder": "Remarks",
       "style": "IPY_MODEL_01da22c6a8a045d4b3450d9f06e87410"
      }
     },
     "09baf302ad4a435a820dc62936337ee8": {
      "model_module": "@jupyter-widgets/controls",
      "model_module_version": "1.5.0",
      "model_name": "ButtonModel",
      "state": {
       "description": "Convert logs",
       "layout": "IPY_MODEL_df88026994a640678f1531a6513b830b",
       "style": "IPY_MODEL_b7b31c3621094066a0bc2922790f519e"
      }
     },
     "09c3dfbf6d8b4614891d305c178976fe": {
      "model_module": "@jupyter-widgets/controls",
      "model_module_version": "1.5.0",
      "model_name": "DescriptionStyleModel",
      "state": {
       "description_width": "initial"
      }
     },
     "09d12ac8a933499088bb050025af210c": {
      "model_module": "@jupyter-widgets/controls",
      "model_module_version": "1.5.0",
      "model_name": "ButtonModel",
      "state": {
       "description": "Insert script",
       "layout": "IPY_MODEL_eff21f8c5c8543efaae950ef95a95104",
       "style": "IPY_MODEL_dc922da572254dd6bb17a093e6346c07"
      }
     },
     "0a0f4c47a58f40f1a47786ae540e05f9": {
      "model_module": "@jupyter-widgets/base",
      "model_module_version": "1.2.0",
      "model_name": "LayoutModel",
      "state": {
       "width": "300px"
      }
     },
     "0a27aed8c9e84d2b9c222e977c215b0f": {
      "model_module": "@jupyter-widgets/base",
      "model_module_version": "1.2.0",
      "model_name": "LayoutModel",
      "state": {
       "width": "150px"
      }
     },
     "0aac6a8dd9474ec8985c7e6623c062db": {
      "model_module": "@jupyter-widgets/base",
      "model_module_version": "1.2.0",
      "model_name": "LayoutModel",
      "state": {}
     },
     "0abe3cfd73df480b8607c29e47f4e323": {
      "model_module": "@jupyter-widgets/base",
      "model_module_version": "1.2.0",
      "model_name": "LayoutModel",
      "state": {}
     },
     "0adfaa065b6b4dc9b0c02266c7ed9c3b": {
      "model_module": "@jupyter-widgets/controls",
      "model_module_version": "1.5.0",
      "model_name": "ButtonStyleModel",
      "state": {}
     },
     "0b190272ddc6450d8c87928a989db3ec": {
      "model_module": "@jupyter-widgets/controls",
      "model_module_version": "1.5.0",
      "model_name": "TextModel",
      "state": {
       "description": "Polarisation:",
       "layout": "IPY_MODEL_162425f79766460199b1b8007161a320",
       "placeholder": "Value(s)",
       "style": "IPY_MODEL_c732e12a99834de59fcf47b8bfdb82a9",
       "value": "LH"
      }
     },
     "0b731c119911453f997f471c14ef823c": {
      "model_module": "@jupyter-widgets/base",
      "model_module_version": "1.2.0",
      "model_name": "LayoutModel",
      "state": {}
     },
     "0b9a6795eee74c9094327fac5eaaadf3": {
      "model_module": "@jupyter-widgets/base",
      "model_module_version": "1.2.0",
      "model_name": "LayoutModel",
      "state": {}
     },
     "0bb78dd4f04b40ffbb7cd69cecfe7a4f": {
      "model_module": "@jupyter-widgets/base",
      "model_module_version": "1.2.0",
      "model_name": "LayoutModel",
      "state": {}
     },
     "0be9dfc74ee446a9964fd3ba9f064f61": {
      "model_module": "@jupyter-widgets/base",
      "model_module_version": "1.2.0",
      "model_name": "LayoutModel",
      "state": {}
     },
     "0c4897b6ccd84e3da9618644c2d801dd": {
      "model_module": "@jupyter-widgets/controls",
      "model_module_version": "1.5.0",
      "model_name": "DescriptionStyleModel",
      "state": {
       "description_width": "initial"
      }
     },
     "0c8347427eea4951b1f3515dba4f099f": {
      "model_module": "@jupyter-widgets/controls",
      "model_module_version": "1.5.0",
      "model_name": "TextModel",
      "state": {
       "description": "Current:",
       "layout": "IPY_MODEL_062de8601ece41ce934797275ec4be6f",
       "placeholder": "450 mA, 500 mA, ...",
       "style": "IPY_MODEL_9bd6cba76a00424cb7f8dc10cbb8bf0d"
      }
     },
     "0d0c18af41cc4208991177f72c4a140a": {
      "model_module": "@jupyter-widgets/base",
      "model_module_version": "1.2.0",
      "model_name": "LayoutModel",
      "state": {}
     },
     "0d3a7ab50b214b6597876429b5f4fa29": {
      "model_module": "@jupyter-widgets/controls",
      "model_module_version": "1.5.0",
      "model_name": "CheckboxModel",
      "state": {
       "description": "Compute qz",
       "disabled": false,
       "layout": "IPY_MODEL_a89223ec90af4523b06171b2808174c0",
       "style": "IPY_MODEL_acf548102e2a41b98c366ddff5621918",
       "value": true
      }
     },
     "0d8256c392e941d89c3df8ccde31142b": {
      "model_module": "@jupyter-widgets/controls",
      "model_module_version": "1.5.0",
      "model_name": "DescriptionStyleModel",
      "state": {
       "description_width": "initial"
      }
     },
     "0dbd5c750fa54a049a70e669808e8137": {
      "model_module": "@jupyter-widgets/controls",
      "model_module_version": "1.5.0",
      "model_name": "TextModel",
      "state": {
       "description": "Mode:",
       "layout": "IPY_MODEL_6faf68ef2f054ab08877f9bd20cd7eb5",
       "placeholder": "Hybrid, Top-up, ...",
       "style": "IPY_MODEL_6dee8379dd9b4de7868b4bf79319ec27"
      }
     },
     "0e1a1b88c95649c683cc0573615cdfce": {
      "model_module": "@jupyter-widgets/base",
      "model_module_version": "1.2.0",
      "model_name": "LayoutModel",
      "state": {}
     },
     "0e275f64a3ae46e38a1f071fa1fa13b5": {
      "model_module": "@jupyter-widgets/controls",
      "model_module_version": "1.5.0",
      "model_name": "ButtonStyleModel",
      "state": {}
     },
     "0e5679fc882d48ea8f346ab41abddbae": {
      "model_module": "@jupyter-widgets/controls",
      "model_module_version": "1.5.0",
      "model_name": "DescriptionStyleModel",
      "state": {
       "description_width": "initial"
      }
     },
     "0e6e46fcab234ff0ae98c56e25724528": {
      "model_module": "@jupyter-widgets/controls",
      "model_module_version": "1.5.0",
      "model_name": "ButtonModel",
      "state": {
       "description": "Insert comment",
       "layout": "IPY_MODEL_f569fe79366b49da9add9b306469abdd",
       "style": "IPY_MODEL_5de13d1ab98549219c581e52713d96f9"
      }
     },
     "0e83a04dcd3a460e9a381eff19c0416e": {
      "model_module": "@jupyter-widgets/controls",
      "model_module_version": "1.5.0",
      "model_name": "DescriptionStyleModel",
      "state": {
       "description_width": "initial"
      }
     },
     "0e859f83930c41efb3732f468e4eb4b6": {
      "model_module": "@jupyter-widgets/base",
      "model_module_version": "1.2.0",
      "model_name": "LayoutModel",
      "state": {}
     },
     "0e94cfcd9cde45c996e643dd04672d45": {
      "model_module": "@jupyter-widgets/controls",
      "model_module_version": "1.5.0",
      "model_name": "CheckboxModel",
      "state": {
       "description": "Horizontal focalisation:",
       "disabled": false,
       "layout": "IPY_MODEL_a98e1165cc0341128547c82ecbfcb341",
       "style": "IPY_MODEL_c5aab2c9922245739755ff39acd35ad7",
       "value": true
      }
     },
     "0ecf2dd289f34d50b1c8783868dc9503": {
      "model_module": "@jupyter-widgets/base",
      "model_module_version": "1.2.0",
      "model_name": "LayoutModel",
      "state": {}
     },
     "0ee70c80497e414bbc2fcf1dfeef5e18": {
      "model_module": "@jupyter-widgets/controls",
      "model_module_version": "1.5.0",
      "model_name": "TextModel",
      "state": {
       "description": "Experiment number:",
       "layout": "IPY_MODEL_062de8601ece41ce934797275ec4be6f",
       "placeholder": "Number",
       "style": "IPY_MODEL_d6e515e59e1a415b8b6ad46ab045830b"
      }
     },
     "0ef382ed804e4517b2a76987a643a082": {
      "model_module": "@jupyter-widgets/base",
      "model_module_version": "1.2.0",
      "model_name": "LayoutModel",
      "state": {}
     },
     "0f4c3d44502e4bd1b2916f7f01f84992": {
      "model_module": "@jupyter-widgets/base",
      "model_module_version": "1.2.0",
      "model_name": "LayoutModel",
      "state": {}
     },
     "0f89dd1353ab4bc788e4c5f561e6611b": {
      "model_module": "@jupyter-widgets/controls",
      "model_module_version": "1.5.0",
      "model_name": "ButtonStyleModel",
      "state": {}
     },
     "0f9684fe175447b9aa63785815731d83": {
      "model_module": "@jupyter-widgets/controls",
      "model_module_version": "1.5.0",
      "model_name": "TextModel",
      "state": {
       "description": "Phase (deg):",
       "layout": "IPY_MODEL_162425f79766460199b1b8007161a320",
       "placeholder": "Value(s)",
       "style": "IPY_MODEL_830c565d06ae40d1a750491417d13e10",
       "value": "0"
      }
     },
     "0fb67e6a76c94ddf8e3fb08612517d58": {
      "model_module": "@jupyter-widgets/controls",
      "model_module_version": "1.5.0",
      "model_name": "DescriptionStyleModel",
      "state": {
       "description_width": "initial"
      }
     },
     "0fced1a5fdab44f2be8dab5125dc56b5": {
      "model_module": "@jupyter-widgets/controls",
      "model_module_version": "1.5.0",
      "model_name": "VBoxModel",
      "state": {
       "_dom_classes": [
        "widget-interact"
       ],
       "children": [
        "IPY_MODEL_1cdff033c0334d19a4400b7d2d88d6e2",
        "IPY_MODEL_aa18dc887d1247e7b3431d69c5502dfb",
        "IPY_MODEL_76c75b198a484c4b8dc77da6cb62ee95"
       ],
       "layout": "IPY_MODEL_31fb25ad2f3a4f919933dc18611cbda5"
      }
     },
     "1010eed76b05461b8749fad38c38a2fd": {
      "model_module": "@jupyter-widgets/controls",
      "model_module_version": "1.5.0",
      "model_name": "ButtonModel",
      "state": {
       "description": "Extract Vineyard",
       "layout": "IPY_MODEL_068ca871031a408886485195bc2dffbc",
       "style": "IPY_MODEL_5ab1f590b04142569ac4923d80f461a6"
      }
     },
     "10b8badc245d4e718208b173b809e106": {
      "model_module": "@jupyter-widgets/controls",
      "model_module_version": "1.5.0",
      "model_name": "ButtonStyleModel",
      "state": {}
     },
     "10c67326f9e3473c8d58b4be26e65ec5": {
      "model_module": "@jupyter-widgets/controls",
      "model_module_version": "1.5.0",
      "model_name": "ButtonStyleModel",
      "state": {}
     },
     "10d56976e13a4de6834a52f659751f67": {
      "model_module": "@jupyter-widgets/base",
      "model_module_version": "1.2.0",
      "model_name": "LayoutModel",
      "state": {}
     },
     "10f360f6c0a54dd2ade6df61e746b314": {
      "model_module": "@jupyter-widgets/controls",
      "model_module_version": "1.5.0",
      "model_name": "ButtonModel",
      "state": {
       "description": "Export to PDF",
       "layout": "IPY_MODEL_cb8758b9f6f944e89e6d82c3fe93736e",
       "style": "IPY_MODEL_23c2d250cb8f499585a144f97f7b883c"
      }
     },
     "11047219594349b2b77e4e6b182af963": {
      "model_module": "@jupyter-widgets/controls",
      "model_module_version": "1.5.0",
      "model_name": "DescriptionStyleModel",
      "state": {
       "description_width": "initial"
      }
     },
     "110dee130f734e17861e2903c083cfb7": {
      "model_module": "@jupyter-widgets/base",
      "model_module_version": "1.2.0",
      "model_name": "LayoutModel",
      "state": {}
     },
     "1117db5949d3483a93664b211371115e": {
      "model_module": "@jupyter-widgets/controls",
      "model_module_version": "1.5.0",
      "model_name": "DescriptionStyleModel",
      "state": {
       "description_width": "initial"
      }
     },
     "113b55a36f164b7ab76e2fe0f92eee02": {
      "model_module": "@jupyter-widgets/controls",
      "model_module_version": "1.5.0",
      "model_name": "ButtonStyleModel",
      "state": {}
     },
     "1161d2e5971044549f510c935389527d": {
      "model_module": "@jupyter-widgets/controls",
      "model_module_version": "1.5.0",
      "model_name": "DescriptionStyleModel",
      "state": {
       "description_width": "initial"
      }
     },
     "1176763dba3e4727bc0175b86c1799ff": {
      "model_module": "@jupyter-widgets/base",
      "model_module_version": "1.2.0",
      "model_name": "LayoutModel",
      "state": {}
     },
     "11b24a8e3d76445dabf01d90d789a194": {
      "model_module": "@jupyter-widgets/controls",
      "model_module_version": "1.5.0",
      "model_name": "DescriptionStyleModel",
      "state": {
       "description_width": ""
      }
     },
     "11bc70d574fa45e895c98b6a7724edf3": {
      "model_module": "@jupyter-widgets/controls",
      "model_module_version": "1.5.0",
      "model_name": "ButtonStyleModel",
      "state": {}
     },
     "123429b74b3a4f57bd6ddc7ffa59c250": {
      "model_module": "@jupyter-widgets/controls",
      "model_module_version": "1.5.0",
      "model_name": "DropdownModel",
      "state": {
       "_options_labels": [
        "M1-A Pt Track",
        "M1-A B4C Track",
        "M1-B (B4C)",
        "No M1"
       ],
       "description": "M1:",
       "index": 0,
       "layout": "IPY_MODEL_c18715b32e5444e3a30afeb0e6895540",
       "style": "IPY_MODEL_fff1b02c87ea4c61aef210688e6012ee"
      }
     },
     "1247b939b27c4c0a8574ddc35d3bdb44": {
      "model_module": "@jupyter-widgets/controls",
      "model_module_version": "1.5.0",
      "model_name": "ButtonStyleModel",
      "state": {}
     },
     "12b90e4087c8422e933be7c1b3c5d235": {
      "model_module": "@jupyter-widgets/controls",
      "model_module_version": "1.5.0",
      "model_name": "TextModel",
      "state": {
       "description": "Mode:",
       "layout": "IPY_MODEL_467985be4ab04d3f82089be5e8da4549",
       "placeholder": "Hybrid, Top-up, ...",
       "style": "IPY_MODEL_518a4249fcd84c7484d841a26a21544c"
      }
     },
     "12c91d9616de4c2a808794cdab103d09": {
      "model_module": "@jupyter-widgets/controls",
      "model_module_version": "1.5.0",
      "model_name": "DescriptionStyleModel",
      "state": {
       "description_width": "initial"
      }
     },
     "12e57a59cf83445cb37d9e5997951936": {
      "model_module": "@jupyter-widgets/base",
      "model_module_version": "1.2.0",
      "model_name": "LayoutModel",
      "state": {}
     },
     "12f96dc6242940f7b686f50af69c2356": {
      "model_module": "@jupyter-widgets/controls",
      "model_module_version": "1.5.0",
      "model_name": "ButtonModel",
      "state": {
       "description": "Export to PDF",
       "layout": "IPY_MODEL_bc922953ee1d4fae9713943464f746a6",
       "style": "IPY_MODEL_69174bdf30ea403c9f3866054bec59cd"
      }
     },
     "13b05d1286884e2581d525058d3b0e41": {
      "model_module": "@jupyter-widgets/controls",
      "model_module_version": "1.5.0",
      "model_name": "TextModel",
      "state": {
       "description": "Recording directory:",
       "layout": "IPY_MODEL_43eebc09dfaf4150a458cba7eca2814a",
       "placeholder": "Full path to the recording directory",
       "style": "IPY_MODEL_73a4019c876d43c69e29003b2ee1beba"
      }
     },
     "13cc0648d35343c49a918ab7d491dcf1": {
      "model_module": "@jupyter-widgets/controls",
      "model_module_version": "1.5.0",
      "model_name": "HBoxModel",
      "state": {
       "children": [
        "IPY_MODEL_37d8727f59f14163970f66de427f659e",
        "IPY_MODEL_40b0a1e8c0424dc297b2ada9fdc7e8df",
        "IPY_MODEL_143f77659d534afbaea9fbe42b8b0cfd"
       ],
       "layout": "IPY_MODEL_9d719eb20faf435b8e79381804baa02f"
      }
     },
     "13cce124776943b496cb11f1fbe55a33": {
      "model_module": "@jupyter-widgets/controls",
      "model_module_version": "1.5.0",
      "model_name": "ButtonStyleModel",
      "state": {}
     },
     "140f370ba7274321830f7a7e2018d852": {
      "model_module": "@jupyter-widgets/controls",
      "model_module_version": "1.5.0",
      "model_name": "ButtonModel",
      "state": {
       "description": "Add plot to report",
       "layout": "IPY_MODEL_569d838181a0456b9ce02c0758abdc8e",
       "style": "IPY_MODEL_e6de7d7048a44ff7ac6ae29ea2823783"
      }
     },
     "14110fe1de1642c8b543b919cb78020b": {
      "model_module": "@jupyter-widgets/base",
      "model_module_version": "1.2.0",
      "model_name": "LayoutModel",
      "state": {}
     },
     "142f3b7058b946e8a4396d9317b32f97": {
      "model_module": "@jupyter-widgets/controls",
      "model_module_version": "1.5.0",
      "model_name": "DescriptionStyleModel",
      "state": {
       "description_width": "initial"
      }
     },
     "14380f35a1ba4a15b6007255cd8cf08d": {
      "model_module": "@jupyter-widgets/controls",
      "model_module_version": "1.5.0",
      "model_name": "ButtonModel",
      "state": {
       "description": "Insert script",
       "layout": "IPY_MODEL_d52e7e25623a44ca8b3b76e99a3cfceb",
       "style": "IPY_MODEL_0225a01146d3494bb1a5e4944ffc452b"
      }
     },
     "143f77659d534afbaea9fbe42b8b0cfd": {
      "model_module": "@jupyter-widgets/controls",
      "model_module_version": "1.5.0",
      "model_name": "TextModel",
      "state": {
       "description": "Wavelength (nm):",
       "layout": "IPY_MODEL_062de8601ece41ce934797275ec4be6f",
       "placeholder": "Value(s)",
       "style": "IPY_MODEL_6d150cb67a2240dcafba4fd4dea36994"
      }
     },
     "146ff85cefdf4be2a9559632c5f9f34d": {
      "model_module": "@jupyter-widgets/base",
      "model_module_version": "1.2.0",
      "model_name": "LayoutModel",
      "state": {}
     },
     "14892ad40ef846e68f3e668c4b11e46c": {
      "model_module": "@jupyter-widgets/base",
      "model_module_version": "1.2.0",
      "model_name": "LayoutModel",
      "state": {
       "width": "400px"
      }
     },
     "149d23c5d0744df88cdd476b6c0abe33": {
      "model_module": "@jupyter-widgets/controls",
      "model_module_version": "1.5.0",
      "model_name": "DescriptionStyleModel",
      "state": {
       "description_width": "initial"
      }
     },
     "14bd815f316a47e99a04467ceb09409a": {
      "model_module": "@jupyter-widgets/base",
      "model_module_version": "1.2.0",
      "model_name": "LayoutModel",
      "state": {}
     },
     "14be64717b2b41e0aefa4d3ca9087e17": {
      "model_module": "@jupyter-widgets/controls",
      "model_module_version": "1.5.0",
      "model_name": "ButtonStyleModel",
      "state": {}
     },
     "1597624c89704f288a613205a4daa425": {
      "model_module": "@jupyter-widgets/controls",
      "model_module_version": "1.5.0",
      "model_name": "SelectMultipleModel",
      "state": {
       "_options_labels": [
        "SIRIUS_Isotherm_2019_02_17_01544.nxs",
        "SIRIUS_Fluo_2020_07_03_00422.nxs",
        "SIRIUS_Fluo_2020_07_03_0042.nxs",
        "SIRIUS_2020_07_17_1613.nxs",
        "SIRIUS_2020_07_17_1610.nxs",
        "SIRIUS_2020_07_16_1555.nxs",
        "SIRIUS_2020_03_12_0760.nxs",
        "SIRIUS_2020_03_12_0756.nxs",
        "SIRIUS_2020_03_11_0752.nxs",
        "SIRIUS_2020_03_11_0744.nxs",
        "SIRIUS_2019_11_07_00325.nxs",
        "SIRIUS_2017_12_11_08042.nxs"
       ],
       "description": "Next scan(s):",
       "index": [],
       "layout": "IPY_MODEL_25c20722bd0341018d29d94c91d4b5b4",
       "rows": 10,
       "style": "IPY_MODEL_96789ef847f740e2bfee0a9279501a91"
      }
     },
     "15a9d12c428948948a577a2955e9bdc7": {
      "model_module": "@jupyter-widgets/controls",
      "model_module_version": "1.5.0",
      "model_name": "ButtonModel",
      "state": {
       "description": "Refresh",
       "layout": "IPY_MODEL_c8d2f378f9254fa1a544fc5214725ef3",
       "style": "IPY_MODEL_7151be7490a842f49395889a9811878a"
      }
     },
     "162425f79766460199b1b8007161a320": {
      "model_module": "@jupyter-widgets/base",
      "model_module_version": "1.2.0",
      "model_name": "LayoutModel",
      "state": {
       "height": "40px",
       "width": "200px"
      }
     },
     "164eb8791e79444cbba3c47f8db2b3b5": {
      "model_module": "@jupyter-widgets/controls",
      "model_module_version": "1.5.0",
      "model_name": "DescriptionStyleModel",
      "state": {
       "description_width": "initial"
      }
     },
     "165652d2980b4f8bbacd442ca62f85a6": {
      "model_module": "@jupyter-widgets/controls",
      "model_module_version": "1.5.0",
      "model_name": "HBoxModel",
      "state": {
       "children": [
        "IPY_MODEL_47125e5649274cc59e9d26d38f62f770",
        "IPY_MODEL_480ea105ac104fed8d6b818282377810"
       ],
       "layout": "IPY_MODEL_638e8d999eb84ee383878142ff150e7c"
      }
     },
     "166c9c45b3a54927b468bc1bbf7bae8f": {
      "model_module": "@jupyter-widgets/controls",
      "model_module_version": "1.5.0",
      "model_name": "HBoxModel",
      "state": {
       "children": [
        "IPY_MODEL_83b57cbe17cd4f838c5bda1ae71879a8",
        "IPY_MODEL_e8e607a7dba04785a1ffe92d91dbed4d",
        "IPY_MODEL_7108c060977245e482e6ae18c76a8214",
        "IPY_MODEL_5bc6691e03864081a87725caf8ae0063"
       ],
       "layout": "IPY_MODEL_72d44d59e6ec4050906c1879c269bf06"
      }
     },
     "168abf01615a4a01a53d88d9c1d3cb6d": {
      "model_module": "@jupyter-widgets/controls",
      "model_module_version": "1.5.0",
      "model_name": "TextModel",
      "state": {
       "description": "Recording directory:",
       "layout": "IPY_MODEL_a98e1165cc0341128547c82ecbfcb341",
       "placeholder": "Full path to the recording directory",
       "style": "IPY_MODEL_192e1b5e3bfb47888459d10ad609b519"
      }
     },
     "16afde840a0549b78f5a680f48b94a7c": {
      "model_module": "@jupyter-widgets/base",
      "model_module_version": "1.2.0",
      "model_name": "LayoutModel",
      "state": {}
     },
     "16e75fa5a19940cd8c64ec915380c332": {
      "model_module": "@jupyter-widgets/controls",
      "model_module_version": "1.5.0",
      "model_name": "ButtonStyleModel",
      "state": {}
     },
     "172b8ea1f1bc4802bd803dec9e6da245": {
      "model_module": "@jupyter-widgets/controls",
      "model_module_version": "1.5.0",
      "model_name": "ButtonStyleModel",
      "state": {}
     },
     "17a89f49846944dcab6a0f7ec3bd527d": {
      "model_module": "@jupyter-widgets/controls",
      "model_module_version": "1.5.0",
      "model_name": "TextModel",
      "state": {
       "description": "Horizontal beamsize (mm):",
       "layout": "IPY_MODEL_6faf68ef2f054ab08877f9bd20cd7eb5",
       "placeholder": "Value(s)",
       "style": "IPY_MODEL_5d398687cb58486a83d096e9801bd64d"
      }
     },
     "17ac75c862d243d7928b854001e0aa4c": {
      "model_module": "@jupyter-widgets/controls",
      "model_module_version": "1.5.0",
      "model_name": "ButtonModel",
      "state": {
       "description": "Insert comment",
       "layout": "IPY_MODEL_d868882f3ac641e085f085c1f0d45346",
       "style": "IPY_MODEL_c8cdf4bc15914c0cb27ded43fa0bacd6"
      }
     },
     "17bf154695854dcab14c7b01e0261017": {
      "model_module": "@jupyter-widgets/base",
      "model_module_version": "1.2.0",
      "model_name": "LayoutModel",
      "state": {}
     },
     "17edbf7be1cd443cb6dcdc1181b6b69b": {
      "model_module": "@jupyter-widgets/controls",
      "model_module_version": "1.5.0",
      "model_name": "DescriptionStyleModel",
      "state": {
       "description_width": "initial"
      }
     },
     "17f439252d504378a5de863ea0507dbb": {
      "model_module": "@jupyter-widgets/controls",
      "model_module_version": "1.5.0",
      "model_name": "CheckboxModel",
      "state": {
       "description": "Horizontal focalisation:",
       "disabled": false,
       "layout": "IPY_MODEL_98363491c7d64638bd025ad862cfec75",
       "style": "IPY_MODEL_fcc87da3e5864cdab661cabc0d4636d7",
       "value": true
      }
     },
     "1802dc6ab06543c4a49531ba37582bca": {
      "model_module": "@jupyter-widgets/controls",
      "model_module_version": "1.5.0",
      "model_name": "ButtonStyleModel",
      "state": {}
     },
     "1813602e5d5746a2bd1af27b24231b19": {
      "model_module": "@jupyter-widgets/controls",
      "model_module_version": "1.5.0",
      "model_name": "DescriptionStyleModel",
      "state": {
       "description_width": "initial"
      }
     },
     "1826e1889bae448f83ee89cfd04b5f3e": {
      "model_module": "@jupyter-widgets/base",
      "model_module_version": "1.2.0",
      "model_name": "LayoutModel",
      "state": {
       "width": "200px"
      }
     },
     "18c7ef3d1cb8451cb06dc5176e0b6cc7": {
      "model_module": "@jupyter-widgets/controls",
      "model_module_version": "1.5.0",
      "model_name": "DescriptionStyleModel",
      "state": {
       "description_width": "initial"
      }
     },
     "18d6369f36d047df8b3f21a8b6ed41d8": {
      "model_module": "@jupyter-widgets/controls",
      "model_module_version": "1.5.0",
      "model_name": "ButtonModel",
      "state": {
       "description": "Refresh",
       "layout": "IPY_MODEL_73a2d1e9ed144c759fea98e4fd1ea3e6",
       "style": "IPY_MODEL_fa8af925823145659a587ecd67a4e267"
      }
     },
     "192e1b5e3bfb47888459d10ad609b519": {
      "model_module": "@jupyter-widgets/controls",
      "model_module_version": "1.5.0",
      "model_name": "DescriptionStyleModel",
      "state": {
       "description_width": "initial"
      }
     },
     "194f2d9895e945e986cb27b641248276": {
      "model_module": "@jupyter-widgets/controls",
      "model_module_version": "1.5.0",
      "model_name": "DescriptionStyleModel",
      "state": {
       "description_width": "initial"
      }
     },
     "197570b4744e426d8bc1ebe73424d49b": {
      "model_module": "@jupyter-widgets/controls",
      "model_module_version": "1.5.0",
      "model_name": "DropdownModel",
      "state": {
       "_options_labels": [
        "delta",
        "zs",
        "gamma",
        "hu36energy",
        "xs",
        "energydcm",
        "current",
        "mon2",
        "surfacepressure",
        "areapermolecule",
        "qxy",
        "pilatusroi1",
        "integration_time",
        "sensorsRelTimestamps",
        "sensorsTimestamps"
       ],
       "description": "yLabel",
       "index": 6,
       "layout": "IPY_MODEL_5253dfd80fa745bb898ac4f17b0eb371",
       "style": "IPY_MODEL_2c56fa13fe8d4b288a4eedd653c3c1df"
      }
     },
     "197b40104bb54d2daa24029143aaca1b": {
      "model_module": "@jupyter-widgets/base",
      "model_module_version": "1.2.0",
      "model_name": "LayoutModel",
      "state": {}
     },
     "19c378a66a34450884e516ae5a3a6a21": {
      "model_module": "@jupyter-widgets/controls",
      "model_module_version": "1.5.0",
      "model_name": "DescriptionStyleModel",
      "state": {
       "description_width": "initial"
      }
     },
     "1a5574bc61b54a679cf3334cfced757b": {
      "model_module": "@jupyter-widgets/base",
      "model_module_version": "1.2.0",
      "model_name": "LayoutModel",
      "state": {}
     },
     "1a5c016d50164033a931480ec2bad70b": {
      "model_module": "@jupyter-widgets/base",
      "model_module_version": "1.2.0",
      "model_name": "LayoutModel",
      "state": {}
     },
     "1a9399ba66f64dd1851bad858572695f": {
      "model_module": "@jupyter-widgets/controls",
      "model_module_version": "1.5.0",
      "model_name": "ButtonModel",
      "state": {
       "description": "Treat scan(s)",
       "layout": "IPY_MODEL_e0e589ddb117419e911875d4d9f41205",
       "style": "IPY_MODEL_e8f9843c2e4c41709ba6e158c0c750af"
      }
     },
     "1af394891e4e4537bf08a99f95348f54": {
      "model_module": "@jupyter-widgets/controls",
      "model_module_version": "1.5.0",
      "model_name": "DescriptionStyleModel",
      "state": {
       "description_width": "initial"
      }
     },
     "1b18e1faa886415c99113d659467e72b": {
      "model_module": "@jupyter-widgets/controls",
      "model_module_version": "1.5.0",
      "model_name": "ButtonStyleModel",
      "state": {}
     },
     "1ba242a1224842769c96da330e273d4a": {
      "model_module": "@jupyter-widgets/controls",
      "model_module_version": "1.5.0",
      "model_name": "ButtonStyleModel",
      "state": {}
     },
     "1bb6fd658e2b4aa3ba0ca423cbcc30e6": {
      "model_module": "@jupyter-widgets/controls",
      "model_module_version": "1.5.0",
      "model_name": "HBoxModel",
      "state": {
       "children": [
        "IPY_MODEL_c67e0e603bc54d7f8933aadd27ba84e0",
        "IPY_MODEL_88b3755a81994d75b4f4ed929788607b",
        "IPY_MODEL_a7c9292f475e447a8fd3b0a2b8f9f30c",
        "IPY_MODEL_00adad3fa0734584a356a1ecf55f581f"
       ],
       "layout": "IPY_MODEL_a60416d206d24dd3ae0e02b22847c1c8"
      }
     },
     "1bd42bdf3f784b2ab0a37ee8acf4f955": {
      "model_module": "@jupyter-widgets/base",
      "model_module_version": "1.2.0",
      "model_name": "LayoutModel",
      "state": {}
     },
     "1bed8002a2814dd7bcbfa5c3990ccd60": {
      "model_module": "@jupyter-widgets/controls",
      "model_module_version": "1.5.0",
      "model_name": "ButtonStyleModel",
      "state": {}
     },
     "1c8286fd415d42908c9a5b64017cc50e": {
      "model_module": "@jupyter-widgets/controls",
      "model_module_version": "1.5.0",
      "model_name": "DescriptionStyleModel",
      "state": {
       "description_width": "initial"
      }
     },
     "1c8fe9bc3ee44891966fc02ff692b443": {
      "model_module": "@jupyter-widgets/controls",
      "model_module_version": "1.5.0",
      "model_name": "TextModel",
      "state": {
       "description": "Vertical beamsize (mm):",
       "layout": "IPY_MODEL_a2ab455042d94793bc480c9af559906c",
       "placeholder": "Value(s)",
       "style": "IPY_MODEL_f8f9abe1af574f93b05787786f947dde"
      }
     },
     "1cbde8cc0dc1431796cfefb8e3ecbb87": {
      "model_module": "@jupyter-widgets/controls",
      "model_module_version": "1.5.0",
      "model_name": "TextModel",
      "state": {
       "description": "Experiment number:",
       "layout": "IPY_MODEL_6faf68ef2f054ab08877f9bd20cd7eb5",
       "placeholder": "Number",
       "style": "IPY_MODEL_f5784ba5fb9147c8bf1af7dfa07576c2"
      }
     },
     "1cdff033c0334d19a4400b7d2d88d6e2": {
      "model_module": "@jupyter-widgets/controls",
      "model_module_version": "1.5.0",
      "model_name": "DropdownModel",
      "state": {
       "_options_labels": [
        "delta",
        "zs",
        "gamma",
        "hu36energy",
        "xs",
        "energydcm",
        "current",
        "mon2",
        "surfacepressure",
        "areapermolecule",
        "qxy",
        "pilatusroi1",
        "integration_time",
        "sensorsRelTimestamps",
        "sensorsTimestamps"
       ],
       "description": "xLabel",
       "index": 0,
       "layout": "IPY_MODEL_abbcec959c934884a3f373e4bf8e04de",
       "style": "IPY_MODEL_b4ac814709b841db85737140adc31a22"
      }
     },
     "1d02e96fcb194568bfd9eac4c17260cc": {
      "model_module": "@jupyter-widgets/controls",
      "model_module_version": "1.5.0",
      "model_name": "ButtonModel",
      "state": {
       "description": "Fit with gaussian",
       "layout": "IPY_MODEL_6c858e7fa8e94dc6ae0b86a8771933bf",
       "style": "IPY_MODEL_87dfdf39c735459badddf64575f1da24"
      }
     },
     "1d03aa0f5ee24a58b9a91cbbe10b892f": {
      "model_module": "@jupyter-widgets/base",
      "model_module_version": "1.2.0",
      "model_name": "LayoutModel",
      "state": {}
     },
     "1d358e8ced2e4558a1750c3ffcd99519": {
      "model_module": "@jupyter-widgets/controls",
      "model_module_version": "1.5.0",
      "model_name": "DescriptionStyleModel",
      "state": {
       "description_width": "initial"
      }
     },
     "1d7365bfeb10441ca0fef9f4af86c449": {
      "model_module": "@jupyter-widgets/controls",
      "model_module_version": "1.5.0",
      "model_name": "ButtonStyleModel",
      "state": {}
     },
     "1da3c53f698b45eabe02857642a18500": {
      "model_module": "@jupyter-widgets/base",
      "model_module_version": "1.2.0",
      "model_name": "LayoutModel",
      "state": {}
     },
     "1daa958243f2460cb5081c98e6efad80": {
      "model_module": "@jupyter-widgets/controls",
      "model_module_version": "1.5.0",
      "model_name": "ButtonStyleModel",
      "state": {}
     },
     "1dd4cf1d8815496d9d407d77e0d9c8c6": {
      "model_module": "@jupyter-widgets/base",
      "model_module_version": "1.2.0",
      "model_name": "LayoutModel",
      "state": {}
     },
     "1dedc5835ce747d98371633145f65669": {
      "model_module": "@jupyter-widgets/controls",
      "model_module_version": "1.5.0",
      "model_name": "DescriptionStyleModel",
      "state": {
       "description_width": "initial"
      }
     },
     "1e2872eb40d942cf91804033bba57c56": {
      "model_module": "@jupyter-widgets/controls",
      "model_module_version": "1.5.0",
      "model_name": "TextModel",
      "state": {
       "description": "Polarisation:",
       "layout": "IPY_MODEL_34c27c545c9249bea2f28c9bf3bd98ea",
       "placeholder": "Value(s)",
       "style": "IPY_MODEL_864d743f947241bb89fd39f47d3226f3",
       "value": "LH"
      }
     },
     "1e8ec51f81ee496294757371cac4fc38": {
      "model_module": "@jupyter-widgets/base",
      "model_module_version": "1.2.0",
      "model_name": "LayoutModel",
      "state": {}
     },
     "1eadd7347e564b90a281e0f685a5aff4": {
      "model_module": "@jupyter-widgets/controls",
      "model_module_version": "1.5.0",
      "model_name": "DropdownModel",
      "state": {
       "_options_labels": [
        "Green",
        "Yellow",
        "Red"
       ],
       "description": "Safety:",
       "index": 1,
       "layout": "IPY_MODEL_76c64c5899c843ef8399a72d2bd9cd25",
       "style": "IPY_MODEL_d1898c6ea26a42f0aa23641f3526a291"
      }
     },
     "1ebab382db1545148784305dbb9f0c9b": {
      "model_module": "@jupyter-widgets/base",
      "model_module_version": "1.2.0",
      "model_name": "LayoutModel",
      "state": {}
     },
     "1eea2c2ee66447638f5a48f4318f260b": {
      "model_module": "@jupyter-widgets/controls",
      "model_module_version": "1.5.0",
      "model_name": "ButtonModel",
      "state": {
       "description": "Insert commands",
       "layout": "IPY_MODEL_363dcdb7c04844808d56455b2f954bb7",
       "style": "IPY_MODEL_e0c711d5f35e478aacbdfefee4000123"
      }
     },
     "1f173d3b6369432aaa094c43c6052c18": {
      "model_module": "@jupyter-widgets/controls",
      "model_module_version": "1.5.0",
      "model_name": "ButtonStyleModel",
      "state": {}
     },
     "1fd482334fe4411f808719f290187864": {
      "model_module": "@jupyter-widgets/controls",
      "model_module_version": "1.5.0",
      "model_name": "IntTextModel",
      "state": {
       "description": "nblevels",
       "layout": "IPY_MODEL_a89223ec90af4523b06171b2808174c0",
       "step": 1,
       "style": "IPY_MODEL_c1eee2c2521943cab609d49c07fe70b3",
       "value": 50
      }
     },
     "1febe486fbef4a62aa84c8c8d4e9b47b": {
      "model_module": "@jupyter-widgets/base",
      "model_module_version": "1.2.0",
      "model_name": "LayoutModel",
      "state": {}
     },
     "201496bd24784611a0d92119e50c56df": {
      "model_module": "@jupyter-widgets/controls",
      "model_module_version": "1.5.0",
      "model_name": "ButtonStyleModel",
      "state": {}
     },
     "203d41b19e184c599e8a084f184dda0b": {
      "model_module": "@jupyter-widgets/base",
      "model_module_version": "1.2.0",
      "model_name": "LayoutModel",
      "state": {}
     },
     "205300cadf194797bcea790fe5842b87": {
      "model_module": "@jupyter-widgets/base",
      "model_module_version": "1.2.0",
      "model_name": "LayoutModel",
      "state": {}
     },
     "2059223add1f4e208781f0319acdd0d6": {
      "model_module": "@jupyter-widgets/controls",
      "model_module_version": "1.5.0",
      "model_name": "HBoxModel",
      "state": {
       "children": [
        "IPY_MODEL_c8cd84f79f1746eb85fcf74184941487",
        "IPY_MODEL_900911dbbd794defa26635427ace586f",
        "IPY_MODEL_9cdcae175adf4d769673f2c5f2044a85",
        "IPY_MODEL_bdb3edf542904373b3e89474dd364d3e",
        "IPY_MODEL_e1a2972e413943cfbdb39bbc041fe4db"
       ],
       "layout": "IPY_MODEL_da1e918b318d453d803fe3f8d68c8fa7"
      }
     },
     "205fc2fcae44418193406ed5fb655d7e": {
      "model_module": "@jupyter-widgets/controls",
      "model_module_version": "1.5.0",
      "model_name": "ButtonStyleModel",
      "state": {}
     },
     "206bfed0916f4cdf86e0aeebf201959d": {
      "model_module": "@jupyter-widgets/controls",
      "model_module_version": "1.5.0",
      "model_name": "HBoxModel",
      "state": {
       "children": [
        "IPY_MODEL_d433c9b5865941e7a8f1f0045f17a1eb",
        "IPY_MODEL_54ced7333bd1468fa57f6a322effe99f",
        "IPY_MODEL_39ceb17017fd421080ed9b6d663c1608"
       ],
       "layout": "IPY_MODEL_0b731c119911453f997f471c14ef823c"
      }
     },
     "209c143222b94570b65e4f50dd651069": {
      "model_module": "@jupyter-widgets/controls",
      "model_module_version": "1.5.0",
      "model_name": "ButtonModel",
      "state": {
       "description": "Convert logs",
       "layout": "IPY_MODEL_5622b5f52b134fe4a136b017065eb818",
       "style": "IPY_MODEL_1d7365bfeb10441ca0fef9f4af86c449"
      }
     },
     "20c4186c86fa4803b48d6810e54670ee": {
      "model_module": "@jupyter-widgets/controls",
      "model_module_version": "1.5.0",
      "model_name": "ButtonStyleModel",
      "state": {}
     },
     "20c49110c2754d8584b9f2e5540c012f": {
      "model_module": "@jupyter-widgets/base",
      "model_module_version": "1.2.0",
      "model_name": "LayoutModel",
      "state": {}
     },
     "20d04bb10c0c492c8d8d23ec0bdc8163": {
      "model_module": "@jupyter-widgets/base",
      "model_module_version": "1.2.0",
      "model_name": "LayoutModel",
      "state": {}
     },
     "20e3c46b8d6b4329972c81191d6a6fa0": {
      "model_module": "@jupyter-widgets/controls",
      "model_module_version": "1.5.0",
      "model_name": "DescriptionStyleModel",
      "state": {
       "description_width": "initial"
      }
     },
     "20fcfafb6edb4ecdb0524b4f01e2f792": {
      "model_module": "@jupyter-widgets/controls",
      "model_module_version": "1.5.0",
      "model_name": "ButtonStyleModel",
      "state": {}
     },
     "210995f15aa34d96bbcb297dfec15db1": {
      "model_module": "@jupyter-widgets/base",
      "model_module_version": "1.2.0",
      "model_name": "LayoutModel",
      "state": {}
     },
     "2116ac5a8bd941d99ed0ef5d75b9b995": {
      "model_module": "@jupyter-widgets/base",
      "model_module_version": "1.2.0",
      "model_name": "LayoutModel",
      "state": {}
     },
     "214423042f4d44068a6bf084c3c8d418": {
      "model_module": "@jupyter-widgets/controls",
      "model_module_version": "1.5.0",
      "model_name": "HBoxModel",
      "state": {
       "children": [
        "IPY_MODEL_17f439252d504378a5de863ea0507dbb",
        "IPY_MODEL_994f89480a8644b2a6b572732c7678d5"
       ],
       "layout": "IPY_MODEL_7769c8bea2af43e6975080661d8ba7f2"
      }
     },
     "2148fc390bab4b58870e898f7eb8d62d": {
      "model_module": "@jupyter-widgets/controls",
      "model_module_version": "1.5.0",
      "model_name": "ButtonStyleModel",
      "state": {}
     },
     "21667b15cb3a45f98682e342b33e1595": {
      "model_module": "@jupyter-widgets/controls",
      "model_module_version": "1.5.0",
      "model_name": "ButtonModel",
      "state": {
       "description": "Calib. theta z",
       "layout": "IPY_MODEL_08f78e9a9297400aad49959b047d2f85",
       "style": "IPY_MODEL_8f9c123e8ea84c67916ef8d082d494a6"
      }
     },
     "2186d18f52e7402f90847129047b6b0d": {
      "model_module": "@jupyter-widgets/controls",
      "model_module_version": "1.5.0",
      "model_name": "ButtonModel",
      "state": {
       "description": "Refresh",
       "layout": "IPY_MODEL_afc4f42728f447249dfafafd0914dac7",
       "style": "IPY_MODEL_ee25c003a3844fc093ed0791524437b0"
      }
     },
     "21a5516fcfe145c5afb034fa70494a8d": {
      "model_module": "@jupyter-widgets/controls",
      "model_module_version": "1.5.0",
      "model_name": "TextModel",
      "state": {
       "description": "Local contact:",
       "layout": "IPY_MODEL_062de8601ece41ce934797275ec4be6f",
       "placeholder": "Name",
       "style": "IPY_MODEL_4376ae49e0674e9fbcfbf116cbc069eb"
      }
     },
     "21a6f02cde974efe81428e28ae481e13": {
      "model_module": "@jupyter-widgets/controls",
      "model_module_version": "1.5.0",
      "model_name": "ButtonModel",
      "state": {
       "description": "Convert logs",
       "layout": "IPY_MODEL_6c47d6f1ff6e4e8b8c026ca69fb4329f",
       "style": "IPY_MODEL_172b8ea1f1bc4802bd803dec9e6da245"
      }
     },
     "21aa6424c76b4b8594c8933cb3aac204": {
      "model_module": "@jupyter-widgets/controls",
      "model_module_version": "1.5.0",
      "model_name": "DropdownModel",
      "state": {
       "_options_labels": [
        "M3 Pt Track",
        "M3 B4C Track",
        "No M3"
       ],
       "description": "M3:",
       "index": 2,
       "layout": "IPY_MODEL_a595d8da5c7b411bbc462de8c3dfd8f4",
       "style": "IPY_MODEL_8fa42662c01c42dabd2176b800a253d9"
      }
     },
     "224e276cebe54a23bceea3958f293e1b": {
      "model_module": "@jupyter-widgets/controls",
      "model_module_version": "1.5.0",
      "model_name": "ButtonStyleModel",
      "state": {}
     },
     "227fcb0dba014de69f34de20c911a690": {
      "model_module": "@jupyter-widgets/base",
      "model_module_version": "1.2.0",
      "model_name": "LayoutModel",
      "state": {}
     },
     "228c1e27ff5d4c24817dc75e769862e5": {
      "model_module": "@jupyter-widgets/base",
      "model_module_version": "1.2.0",
      "model_name": "LayoutModel",
      "state": {
       "width": "400px"
      }
     },
     "22a035670b59489ba771f6427d8dadef": {
      "model_module": "@jupyter-widgets/controls",
      "model_module_version": "1.5.0",
      "model_name": "TextModel",
      "state": {
       "description": "Local contact:",
       "layout": "IPY_MODEL_b4c6cc9946d14fbcb3540493567ad192",
       "placeholder": "Name",
       "style": "IPY_MODEL_5505e25dc5c14617a3cde934ddaa4935"
      }
     },
     "22a2deb93f484a38bcb9960f51a766c9": {
      "model_module": "@jupyter-widgets/controls",
      "model_module_version": "1.5.0",
      "model_name": "DescriptionStyleModel",
      "state": {
       "description_width": "initial"
      }
     },
     "22c255a98a6d4b5d9badded5837fefac": {
      "model_module": "@jupyter-widgets/base",
      "model_module_version": "1.2.0",
      "model_name": "LayoutModel",
      "state": {
       "height": "40px",
       "width": "200px"
      }
     },
     "22e16ce5760a4bd2aa6ef6724b2f66f2": {
      "model_module": "@jupyter-widgets/base",
      "model_module_version": "1.2.0",
      "model_name": "LayoutModel",
      "state": {}
     },
     "230ef068c46b495bbad5d83a3d102bcd": {
      "model_module": "@jupyter-widgets/controls",
      "model_module_version": "1.5.0",
      "model_name": "TextModel",
      "state": {
       "description": "Experiment number:",
       "layout": "IPY_MODEL_b4c6cc9946d14fbcb3540493567ad192",
       "placeholder": "Number",
       "style": "IPY_MODEL_b9c7d5630b7546eaad2873c69197bde1"
      }
     },
     "2334680112994c42bed065fe8ae2aa37": {
      "model_module": "@jupyter-widgets/base",
      "model_module_version": "1.2.0",
      "model_name": "LayoutModel",
      "state": {
       "width": "400px"
      }
     },
     "2356a0c2bc6e4101b2144bb6eb19454e": {
      "model_module": "@jupyter-widgets/controls",
      "model_module_version": "1.5.0",
      "model_name": "ButtonStyleModel",
      "state": {}
     },
     "23b90afc8335459aae77ad1edd01ee5b": {
      "model_module": "@jupyter-widgets/controls",
      "model_module_version": "1.5.0",
      "model_name": "TextModel",
      "state": {
       "description": "Type:",
       "layout": "IPY_MODEL_a2ab455042d94793bc480c9af559906c",
       "placeholder": "Proposal, Commissioning, ...",
       "style": "IPY_MODEL_1c8286fd415d42908c9a5b64017cc50e"
      }
     },
     "23c2d250cb8f499585a144f97f7b883c": {
      "model_module": "@jupyter-widgets/controls",
      "model_module_version": "1.5.0",
      "model_name": "ButtonStyleModel",
      "state": {}
     },
     "23c8a500e9b24b19a6ad5e5b235e9f79": {
      "model_module": "@jupyter-widgets/controls",
      "model_module_version": "1.5.0",
      "model_name": "ButtonStyleModel",
      "state": {}
     },
     "23f70c88b301476dae20bae13fff4cc1": {
      "model_module": "@jupyter-widgets/base",
      "model_module_version": "1.2.0",
      "model_name": "LayoutModel",
      "state": {}
     },
     "241d9299e2824d42ac11ce4f202bb87d": {
      "model_module": "@jupyter-widgets/base",
      "model_module_version": "1.2.0",
      "model_name": "LayoutModel",
      "state": {}
     },
     "244b6d860faa43169aa986cbc31d42db": {
      "model_module": "@jupyter-widgets/controls",
      "model_module_version": "1.5.0",
      "model_name": "CheckboxModel",
      "state": {
       "description": "Vertical focalisation:",
       "disabled": false,
       "layout": "IPY_MODEL_563883aaaf3c4c3bb1c85b4bac7a5e1f",
       "style": "IPY_MODEL_d583d82fcaff4b158c2eebc54fc6c8c8",
       "value": true
      }
     },
     "247af726bb7f4a7bbd7efadeab1e66db": {
      "model_module": "@jupyter-widgets/controls",
      "model_module_version": "1.5.0",
      "model_name": "DescriptionStyleModel",
      "state": {
       "description_width": "initial"
      }
     },
     "248d580ebbfb41d58026de5c738201c1": {
      "model_module": "@jupyter-widgets/controls",
      "model_module_version": "1.5.0",
      "model_name": "ButtonStyleModel",
      "state": {}
     },
     "24c3aa578e0948a28dd8653dec47077f": {
      "model_module": "@jupyter-widgets/base",
      "model_module_version": "1.2.0",
      "model_name": "LayoutModel",
      "state": {
       "width": "150px"
      }
     },
     "253d960d963641d584c9f76a9fa4953a": {
      "model_module": "@jupyter-widgets/controls",
      "model_module_version": "1.5.0",
      "model_name": "ButtonModel",
      "state": {
       "description": "Insert positions",
       "layout": "IPY_MODEL_0aac6a8dd9474ec8985c7e6623c062db",
       "style": "IPY_MODEL_3f9a0add225040d28f0d69f3a6499239"
      }
     },
     "254dbd90323e4df6a75337eef3f50ebb": {
      "model_module": "@jupyter-widgets/controls",
      "model_module_version": "1.5.0",
      "model_name": "TextModel",
      "state": {
       "description": "mon4:",
       "layout": "IPY_MODEL_fcc1a1b0d3664300b8f863a47c8ad19d",
       "placeholder": "Empty or type of mon",
       "style": "IPY_MODEL_164eb8791e79444cbba3c47f8db2b3b5"
      }
     },
     "2563c49a7ca940da88fc7c4756160a90": {
      "model_module": "@jupyter-widgets/controls",
      "model_module_version": "1.5.0",
      "model_name": "CheckboxModel",
      "state": {
       "description": "Vertical focalisation:",
       "disabled": false,
       "layout": "IPY_MODEL_43eebc09dfaf4150a458cba7eca2814a",
       "style": "IPY_MODEL_cf9c342a9680473da740a591dadcb5c6",
       "value": true
      }
     },
     "25782b6401734c1981aedc6c227607a4": {
      "model_module": "@jupyter-widgets/controls",
      "model_module_version": "1.5.0",
      "model_name": "ButtonStyleModel",
      "state": {}
     },
     "25804d06848247c4b77694a5f6e4df8e": {
      "model_module": "@jupyter-widgets/base",
      "model_module_version": "1.2.0",
      "model_name": "LayoutModel",
      "state": {}
     },
     "25c20722bd0341018d29d94c91d4b5b4": {
      "model_module": "@jupyter-widgets/base",
      "model_module_version": "1.2.0",
      "model_name": "LayoutModel",
      "state": {
       "width": "400px"
      }
     },
     "25cc9df68ec04249b6c72438a827c4fd": {
      "model_module": "@jupyter-widgets/controls",
      "model_module_version": "1.5.0",
      "model_name": "ButtonModel",
      "state": {
       "description": "Next action",
       "layout": "IPY_MODEL_4911630622ef4cb1af82e32301a4ddee",
       "style": "IPY_MODEL_2356a0c2bc6e4101b2144bb6eb19454e"
      }
     },
     "25f2133bbbaa4936b21d99a1a52cb425": {
      "model_module": "@jupyter-widgets/controls",
      "model_module_version": "1.5.0",
      "model_name": "TextModel",
      "state": {
       "description": "Vertical beamsize (mm):",
       "layout": "IPY_MODEL_467985be4ab04d3f82089be5e8da4549",
       "placeholder": "Value(s)",
       "style": "IPY_MODEL_6377fc5a352044689674a05836fa2104"
      }
     },
     "261ac1e504554a3985a271f66719697d": {
      "model_module": "@jupyter-widgets/controls",
      "model_module_version": "1.5.0",
      "model_name": "ButtonModel",
      "state": {
       "description": "Convert logs",
       "layout": "IPY_MODEL_2a355621f74b4999ae478060f38e656a",
       "style": "IPY_MODEL_350f19eb86cd42c59e61933d6782844a"
      }
     },
     "263672f010ae4e9cbeea2d14aea6ef78": {
      "model_module": "@jupyter-widgets/base",
      "model_module_version": "1.2.0",
      "model_name": "LayoutModel",
      "state": {}
     },
     "265df178bad945f98ff07262b9266457": {
      "model_module": "@jupyter-widgets/base",
      "model_module_version": "1.2.0",
      "model_name": "LayoutModel",
      "state": {}
     },
     "266a006bec104b2d98de52e672e9e95d": {
      "model_module": "@jupyter-widgets/controls",
      "model_module_version": "1.5.0",
      "model_name": "HBoxModel",
      "state": {
       "children": [
        "IPY_MODEL_8963bee895884137833563d896662766",
        "IPY_MODEL_a05eb973945a4043b184b6ebf9e35d87",
        "IPY_MODEL_9d1f4e87db024e278e9b9eec3b767318",
        "IPY_MODEL_e2d59d7844b6481a83895e6d95a704c2"
       ],
       "layout": "IPY_MODEL_a79a41cee0ea4796aa4c9325f7984561"
      }
     },
     "26a2fe6e5a4e4cdbaacf9daac0b3351f": {
      "model_module": "@jupyter-widgets/controls",
      "model_module_version": "1.5.0",
      "model_name": "DescriptionStyleModel",
      "state": {
       "description_width": "initial"
      }
     },
     "26bb42417dfd4d1bad6049bb13f44b28": {
      "model_module": "@jupyter-widgets/base",
      "model_module_version": "1.2.0",
      "model_name": "LayoutModel",
      "state": {}
     },
     "26cda598171b428bac7cc10a6d05a2b2": {
      "model_module": "@jupyter-widgets/controls",
      "model_module_version": "1.5.0",
      "model_name": "DescriptionStyleModel",
      "state": {
       "description_width": "initial"
      }
     },
     "26ea1ed25ffd4e45a5c0dfbe70144e0f": {
      "model_module": "@jupyter-widgets/controls",
      "model_module_version": "1.5.0",
      "model_name": "ButtonStyleModel",
      "state": {}
     },
     "26f37bbc365441d9a31440ccf0996f34": {
      "model_module": "@jupyter-widgets/controls",
      "model_module_version": "1.5.0",
      "model_name": "ButtonModel",
      "state": {
       "description": "Fit with erf",
       "layout": "IPY_MODEL_c47af2ee19a84d328c46ded8f84cb6a5",
       "style": "IPY_MODEL_029108a645ed4b9e99af47256698884d"
      }
     },
     "271c24b8b16e4af0a4649d6cd3cce5ba": {
      "model_module": "@jupyter-widgets/base",
      "model_module_version": "1.2.0",
      "model_name": "LayoutModel",
      "state": {}
     },
     "274a57f3a82545f98d94c7eed8736dc5": {
      "model_module": "@jupyter-widgets/controls",
      "model_module_version": "1.5.0",
      "model_name": "ButtonModel",
      "state": {
       "description": "Insert commands",
       "layout": "IPY_MODEL_7ef95a2428f34b13a75c0afe2afc6032",
       "style": "IPY_MODEL_ac123b51a8da427aac786c34da042099"
      }
     },
     "276cb85aac0443b1b037c1d3de9a91a9": {
      "model_module": "@jupyter-widgets/controls",
      "model_module_version": "1.5.0",
      "model_name": "DescriptionStyleModel",
      "state": {
       "description_width": "initial"
      }
     },
     "2770ec643ff649d1857dc0c76413c0c4": {
      "model_module": "@jupyter-widgets/controls",
      "model_module_version": "1.5.0",
      "model_name": "ButtonModel",
      "state": {
       "description": "Plot GIXD",
       "layout": "IPY_MODEL_e91d7ee34d0d4413b66322378b2c86f8",
       "style": "IPY_MODEL_6f3dc27971c5449e800174bb083f0166"
      }
     },
     "277ead1dcf4c453cab82a8813e7e9560": {
      "model_module": "@jupyter-widgets/controls",
      "model_module_version": "1.5.0",
      "model_name": "DescriptionStyleModel",
      "state": {
       "description_width": "initial"
      }
     },
     "278e96b0d58946008600604c3aac3a2b": {
      "model_module": "@jupyter-widgets/base",
      "model_module_version": "1.2.0",
      "model_name": "LayoutModel",
      "state": {}
     },
     "27d686878ab445299a5c2b6f283615f3": {
      "model_module": "@jupyter-widgets/controls",
      "model_module_version": "1.5.0",
      "model_name": "DescriptionStyleModel",
      "state": {
       "description_width": "initial"
      }
     },
     "28559ede1f8c4e66bc3fddfc20961a5e": {
      "model_module": "@jupyter-widgets/controls",
      "model_module_version": "1.5.0",
      "model_name": "DescriptionStyleModel",
      "state": {
       "description_width": "initial"
      }
     },
     "28c934142ab943fa891bb95fb731a295": {
      "model_module": "@jupyter-widgets/controls",
      "model_module_version": "1.5.0",
      "model_name": "HBoxModel",
      "state": {
       "children": [
        "IPY_MODEL_bebaea2cdddf49d28654b348d81aa39a",
        "IPY_MODEL_2186d18f52e7402f90847129047b6b0d"
       ],
       "layout": "IPY_MODEL_1e8ec51f81ee496294757371cac4fc38"
      }
     },
     "2920a064806f4dfe9b3f3de1d649ed88": {
      "model_module": "@jupyter-widgets/controls",
      "model_module_version": "1.5.0",
      "model_name": "ButtonModel",
      "state": {
       "description": "Insert commands",
       "layout": "IPY_MODEL_35712236d6954f5d85654b4241a6da99",
       "style": "IPY_MODEL_d189cf72bfa94d1684fe7c47192a4ded"
      }
     },
     "297d951b86d3461794e0405c5478e740": {
      "model_module": "@jupyter-widgets/controls",
      "model_module_version": "1.5.0",
      "model_name": "HBoxModel",
      "state": {
       "children": [
        "IPY_MODEL_f913dbfebe0940e68f21fb5dfa2051dc",
        "IPY_MODEL_9a519cbb1d2b41e892a75f9a6a8cedcf",
        "IPY_MODEL_261ac1e504554a3985a271f66719697d",
        "IPY_MODEL_44bbdb34883a4518b652d6f3a02a998d"
       ],
       "layout": "IPY_MODEL_4707954933284d29ae9dde7727cd6649"
      }
     },
     "29994233024b45b3991fea4f6e3c9d44": {
      "model_module": "@jupyter-widgets/base",
      "model_module_version": "1.2.0",
      "model_name": "LayoutModel",
      "state": {}
     },
     "29ae4aae49ae446894e9266e6be9f760": {
      "model_module": "@jupyter-widgets/controls",
      "model_module_version": "1.5.0",
      "model_name": "HBoxModel",
      "state": {
       "children": [
        "IPY_MODEL_42ed65dfd4b94c6fa30588fbafd22f09",
        "IPY_MODEL_a620d674f6e34cefb811bcf3e80677fa",
        "IPY_MODEL_21aa6424c76b4b8594c8933cb3aac204",
        "IPY_MODEL_f34786661a424ab7a55821aec403e1cc"
       ],
       "layout": "IPY_MODEL_748c54917cc14a4f886827308cfd6531"
      }
     },
     "29db5e5233ac436f8a6e0db506ad0131": {
      "model_module": "@jupyter-widgets/base",
      "model_module_version": "1.2.0",
      "model_name": "LayoutModel",
      "state": {}
     },
     "29ebeae7eaf2464dbf68ba81a8726548": {
      "model_module": "@jupyter-widgets/controls",
      "model_module_version": "1.5.0",
      "model_name": "TextModel",
      "state": {
       "description": "Recording directory:",
       "layout": "IPY_MODEL_4441b00faa9d4c4c8c1f378e3c734c7a",
       "placeholder": "Full path to the recording directory",
       "style": "IPY_MODEL_fa5a8ddcd56840058523c04b5a8ad563"
      }
     },
     "29f9c7e21e424e6693c9a7697992c319": {
      "model_module": "@jupyter-widgets/base",
      "model_module_version": "1.2.0",
      "model_name": "LayoutModel",
      "state": {}
     },
     "2a355621f74b4999ae478060f38e656a": {
      "model_module": "@jupyter-widgets/base",
      "model_module_version": "1.2.0",
      "model_name": "LayoutModel",
      "state": {}
     },
     "2a5bd102ea524dc583a81ed0c5a377d6": {
      "model_module": "@jupyter-widgets/controls",
      "model_module_version": "1.5.0",
      "model_name": "ButtonModel",
      "state": {
       "description": "Print form",
       "layout": "IPY_MODEL_bc96d8a75e594b1795a62057f68b739f",
       "style": "IPY_MODEL_3d92c8624aac49d7bd4be6cb8e8ee100"
      }
     },
     "2a6a8545c98e457682d7a5c172e6d494": {
      "model_module": "@jupyter-widgets/controls",
      "model_module_version": "1.5.0",
      "model_name": "TextModel",
      "state": {
       "description": "mon2:",
       "layout": "IPY_MODEL_fcc1a1b0d3664300b8f863a47c8ad19d",
       "placeholder": "Empty or type of mon",
       "style": "IPY_MODEL_713ebb46aa25467fa5799240e55b6574"
      }
     },
     "2a9fb22b136649e69a4b239fd2e2692b": {
      "model_module": "@jupyter-widgets/controls",
      "model_module_version": "1.5.0",
      "model_name": "ButtonModel",
      "state": {
       "description": "Refresh",
       "layout": "IPY_MODEL_a460360017ea4094b43fd9e2ef184631",
       "style": "IPY_MODEL_0f89dd1353ab4bc788e4c5f561e6611b"
      }
     },
     "2ad8cfdedb2248d5831a499c7d9d8610": {
      "model_module": "@jupyter-widgets/controls",
      "model_module_version": "1.5.0",
      "model_name": "TextModel",
      "state": {
       "description": "Mode:",
       "layout": "IPY_MODEL_ef3c54d5330e4692acf81870921e6155",
       "placeholder": "Hybrid, Top-up, ...",
       "style": "IPY_MODEL_19c378a66a34450884e516ae5a3a6a21"
      }
     },
     "2b47fab887f04582891e05fd1707afe9": {
      "model_module": "@jupyter-widgets/controls",
      "model_module_version": "1.5.0",
      "model_name": "FloatTextModel",
      "state": {
       "description": "thetazfactor (rad/chan)",
       "layout": "IPY_MODEL_dcd99d3504bd4f09953b312407b2bb24",
       "step": null,
       "style": "IPY_MODEL_efbe718864594ecebe16b5090eee45a6",
       "value": 0.000243
      }
     },
     "2bbaf31a55dc469383d3ea702a2a37aa": {
      "model_module": "@jupyter-widgets/base",
      "model_module_version": "1.2.0",
      "model_name": "LayoutModel",
      "state": {}
     },
     "2bc91dc2c5b440109d9b91180c58b4c3": {
      "model_module": "@jupyter-widgets/base",
      "model_module_version": "1.2.0",
      "model_name": "LayoutModel",
      "state": {}
     },
     "2bcb9bc84f7d486186b7aeb5298e392f": {
      "model_module": "@jupyter-widgets/base",
      "model_module_version": "1.2.0",
      "model_name": "LayoutModel",
      "state": {}
     },
     "2c1e3ed467774b7c8cc255f1868e5e4a": {
      "model_module": "@jupyter-widgets/controls",
      "model_module_version": "1.5.0",
      "model_name": "ButtonModel",
      "state": {
       "description": "Plot Pilatus",
       "layout": "IPY_MODEL_d0e17eb1844048af900636487043d976",
       "style": "IPY_MODEL_bf921ed3d6914700bcc452d516282b5e"
      }
     },
     "2c56fa13fe8d4b288a4eedd653c3c1df": {
      "model_module": "@jupyter-widgets/controls",
      "model_module_version": "1.5.0",
      "model_name": "DescriptionStyleModel",
      "state": {
       "description_width": ""
      }
     },
     "2c591b6ac6ad4988b80f2f54ea27fbba": {
      "model_module": "@jupyter-widgets/base",
      "model_module_version": "1.2.0",
      "model_name": "LayoutModel",
      "state": {
       "width": "300px"
      }
     },
     "2c6c34c45e364d2293ebce206baf0851": {
      "model_module": "@jupyter-widgets/controls",
      "model_module_version": "1.5.0",
      "model_name": "ButtonModel",
      "state": {
       "description": "Plot",
       "layout": "IPY_MODEL_10d56976e13a4de6834a52f659751f67",
       "style": "IPY_MODEL_7bb3c590fe644aee971fc2a791a61037"
      }
     },
     "2c6ce009c66f4f25bb457df27c6261b6": {
      "model_module": "@jupyter-widgets/base",
      "model_module_version": "1.2.0",
      "model_name": "LayoutModel",
      "state": {}
     },
     "2d5da761348147dfa7af937ea1ae2aeb": {
      "model_module": "@jupyter-widgets/controls",
      "model_module_version": "1.5.0",
      "model_name": "ButtonModel",
      "state": {
       "description": "Extract Vineyard",
       "layout": "IPY_MODEL_7c9c265ca1194ba8a84ab1dbb864365d",
       "style": "IPY_MODEL_f4373133a38b46288234bb3ba4882ffd"
      }
     },
     "2d5dc784571f49198acd3468570627de": {
      "model_module": "@jupyter-widgets/base",
      "model_module_version": "1.2.0",
      "model_name": "LayoutModel",
      "state": {}
     },
     "2d6b92ef98d542d8b129ca9548ac263c": {
      "model_module": "@jupyter-widgets/base",
      "model_module_version": "1.2.0",
      "model_name": "LayoutModel",
      "state": {}
     },
     "2d844a75a89e42b98c708a18d1bf621d": {
      "model_module": "@jupyter-widgets/controls",
      "model_module_version": "1.5.0",
      "model_name": "DescriptionStyleModel",
      "state": {
       "description_width": "initial"
      }
     },
     "2d8b1099bfab4212b7578cba37c12782": {
      "model_module": "@jupyter-widgets/base",
      "model_module_version": "1.2.0",
      "model_name": "LayoutModel",
      "state": {}
     },
     "2dd495e7371643b392a9c82942a1b7f3": {
      "model_module": "@jupyter-widgets/controls",
      "model_module_version": "1.5.0",
      "model_name": "TextModel",
      "state": {
       "description": "Polarisation:",
       "layout": "IPY_MODEL_fcc1a1b0d3664300b8f863a47c8ad19d",
       "placeholder": "Value(s)",
       "style": "IPY_MODEL_0116208e26ec4ee4a20e90d50e096633",
       "value": "LH"
      }
     },
     "2dedadee2bbe4e999cb94e64fa42357d": {
      "model_module": "@jupyter-widgets/controls",
      "model_module_version": "1.5.0",
      "model_name": "ButtonStyleModel",
      "state": {}
     },
     "2dffefe5139043d6aca55eb47e167778": {
      "model_module": "@jupyter-widgets/controls",
      "model_module_version": "1.5.0",
      "model_name": "HBoxModel",
      "state": {
       "children": [
        "IPY_MODEL_53f055b41ef54a398a391172b3d4837d",
        "IPY_MODEL_6ad020c5439a4127a10eb29edaa5e363"
       ],
       "layout": "IPY_MODEL_c535b624e64543e985a7b30fbad459f8"
      }
     },
     "2e75c23c4f824a87ba82c22c52cdcd11": {
      "model_module": "@jupyter-widgets/controls",
      "model_module_version": "1.5.0",
      "model_name": "ButtonModel",
      "state": {
       "description": "Fill form",
       "layout": "IPY_MODEL_2fb5d28b00704b7f982f4e7145642996",
       "style": "IPY_MODEL_b8ce6386ffde498ead13f3f98d584436"
      }
     },
     "2e768ac221db450ab6cf30dc8e69568d": {
      "model_module": "@jupyter-widgets/controls",
      "model_module_version": "1.5.0",
      "model_name": "TextModel",
      "state": {
       "description": "mon2:",
       "layout": "IPY_MODEL_34c27c545c9249bea2f28c9bf3bd98ea",
       "placeholder": "Empty or type of mon",
       "style": "IPY_MODEL_0fb67e6a76c94ddf8e3fb08612517d58"
      }
     },
     "2e936416ed7f4d668399079f4dda803f": {
      "model_module": "@jupyter-widgets/base",
      "model_module_version": "1.2.0",
      "model_name": "LayoutModel",
      "state": {}
     },
     "2e975f4823794ff8b54f420a3007a5f4": {
      "model_module": "@jupyter-widgets/controls",
      "model_module_version": "1.5.0",
      "model_name": "VBoxModel",
      "state": {
       "_dom_classes": [
        "widget-interact"
       ],
       "children": [
        "IPY_MODEL_983a6dad18dc441694ee9bf08b10d791",
        "IPY_MODEL_023d2b8f1ec949ffab53983beb69cbad"
       ],
       "layout": "IPY_MODEL_dd5c0c9fbed2498caafbb9a11d0f31a1"
      }
     },
     "2ea5b1e410ee42d19395dee7862d44c9": {
      "model_module": "@jupyter-widgets/base",
      "model_module_version": "1.2.0",
      "model_name": "LayoutModel",
      "state": {}
     },
     "2fb5d28b00704b7f982f4e7145642996": {
      "model_module": "@jupyter-widgets/base",
      "model_module_version": "1.2.0",
      "model_name": "LayoutModel",
      "state": {}
     },
     "2fe28c0b594a484ca8d2168c356a2d1f": {
      "model_module": "@jupyter-widgets/controls",
      "model_module_version": "1.5.0",
      "model_name": "ButtonModel",
      "state": {
       "description": "Print form",
       "layout": "IPY_MODEL_554b3323f05d44e5837f1e1d38b2b2ad",
       "style": "IPY_MODEL_fc1fd21d3b5849eeb2d0216fdbe96046"
      }
     },
     "300300b3ad924de9bc35d6572964a767": {
      "model_module": "@jupyter-widgets/controls",
      "model_module_version": "1.5.0",
      "model_name": "ButtonStyleModel",
      "state": {}
     },
     "3027953c17074ab493b71c303a29ce42": {
      "model_module": "@jupyter-widgets/base",
      "model_module_version": "1.2.0",
      "model_name": "LayoutModel",
      "state": {}
     },
     "306419b534a7451fac5620f4edb11a18": {
      "model_module": "@jupyter-widgets/base",
      "model_module_version": "1.2.0",
      "model_name": "LayoutModel",
      "state": {}
     },
     "306673712cb14834b14e675293036fea": {
      "model_module": "@jupyter-widgets/controls",
      "model_module_version": "1.5.0",
      "model_name": "DescriptionStyleModel",
      "state": {
       "description_width": "initial"
      }
     },
     "3087504e2a894a4e99eec97d01de6744": {
      "model_module": "@jupyter-widgets/controls",
      "model_module_version": "1.5.0",
      "model_name": "ButtonModel",
      "state": {
       "description": "Plot XRF",
       "layout": "IPY_MODEL_5746b8b9e4ba416b9539688fa4843405",
       "style": "IPY_MODEL_734c01b5bb3d4ee796286e4af5fad693"
      }
     },
     "30a9ca85803a491f9da35cb4ca76066a": {
      "model_module": "@jupyter-widgets/controls",
      "model_module_version": "1.5.0",
      "model_name": "DropdownModel",
      "state": {
       "_options_labels": [
        "M3 Pt Track",
        "M3 B4C Track",
        "No M3"
       ],
       "description": "M3:",
       "index": 2,
       "layout": "IPY_MODEL_1826e1889bae448f83ee89cfd04b5f3e",
       "style": "IPY_MODEL_1d358e8ced2e4558a1750c3ffcd99519"
      }
     },
     "30c0d25c457045d78268ef7d947dafa6": {
      "model_module": "@jupyter-widgets/controls",
      "model_module_version": "1.5.0",
      "model_name": "ButtonStyleModel",
      "state": {}
     },
     "30f8469b92c7412380d90c6caf7fd45a": {
      "model_module": "@jupyter-widgets/controls",
      "model_module_version": "1.5.0",
      "model_name": "ButtonModel",
      "state": {
       "description": "Treat scan(s)",
       "layout": "IPY_MODEL_210995f15aa34d96bbcb297dfec15db1",
       "style": "IPY_MODEL_5f9d3a0b93c44e21a03bd67a19f02117"
      }
     },
     "313a303f4c5b43bbb865e79cddba0e39": {
      "model_module": "@jupyter-widgets/base",
      "model_module_version": "1.2.0",
      "model_name": "LayoutModel",
      "state": {}
     },
     "31b9722ff6f6436093164f58027ccd4e": {
      "model_module": "@jupyter-widgets/controls",
      "model_module_version": "1.5.0",
      "model_name": "DescriptionStyleModel",
      "state": {
       "description_width": ""
      }
     },
     "31ed0605e42249299bd288fca9dc1f12": {
      "model_module": "@jupyter-widgets/controls",
      "model_module_version": "1.5.0",
      "model_name": "SelectMultipleModel",
      "state": {
       "_options_labels": [
        "SIRIUS_Isotherm_2019_02_17_01544.nxs",
        "SIRIUS_Fluo_2020_07_03_00422.nxs",
        "SIRIUS_Fluo_2020_07_03_0042.nxs",
        "SIRIUS_2020_07_17_1613.nxs",
        "SIRIUS_2020_07_17_1610.nxs",
        "SIRIUS_2020_07_16_1555.nxs",
        "SIRIUS_2020_03_12_0760.nxs",
        "SIRIUS_2020_03_12_0756.nxs",
        "SIRIUS_2020_03_11_0752.nxs",
        "SIRIUS_2020_03_11_0744.nxs",
        "SIRIUS_2019_11_07_00325.nxs",
        "SIRIUS_2017_12_11_08042.nxs"
       ],
       "description": "Next scan(s):",
       "index": [
        7
       ],
       "layout": "IPY_MODEL_228c1e27ff5d4c24817dc75e769862e5",
       "rows": 10,
       "style": "IPY_MODEL_e599639624754bee9a1560bf0d687d1b"
      }
     },
     "31fb25ad2f3a4f919933dc18611cbda5": {
      "model_module": "@jupyter-widgets/base",
      "model_module_version": "1.2.0",
      "model_name": "LayoutModel",
      "state": {}
     },
     "3275426790f441f69d4084f57c00b908": {
      "model_module": "@jupyter-widgets/base",
      "model_module_version": "1.2.0",
      "model_name": "LayoutModel",
      "state": {}
     },
     "32ce47250b7a410f9774267a5251cb2d": {
      "model_module": "@jupyter-widgets/controls",
      "model_module_version": "1.5.0",
      "model_name": "DescriptionStyleModel",
      "state": {
       "description_width": ""
      }
     },
     "3302ee1c76d549cc9d0d1e3c957b2093": {
      "model_module": "@jupyter-widgets/base",
      "model_module_version": "1.2.0",
      "model_name": "LayoutModel",
      "state": {}
     },
     "332b199d7bd54121831b4a5a776c0bea": {
      "model_module": "@jupyter-widgets/base",
      "model_module_version": "1.2.0",
      "model_name": "LayoutModel",
      "state": {}
     },
     "335230a5ade84c5e965185859cac1680": {
      "model_module": "@jupyter-widgets/controls",
      "model_module_version": "1.5.0",
      "model_name": "HBoxModel",
      "state": {
       "children": [
        "IPY_MODEL_87708d5733eb4c63a3b9c503db5b6033",
        "IPY_MODEL_d507632e655a4e17a3e919be876748b6",
        "IPY_MODEL_b5e85b186d7047fa9ccce92aa9af344a",
        "IPY_MODEL_2920a064806f4dfe9b3f3de1d649ed88"
       ],
       "layout": "IPY_MODEL_0d0c18af41cc4208991177f72c4a140a"
      }
     },
     "3372a0f8ffec4e598587414de730cf36": {
      "model_module": "@jupyter-widgets/controls",
      "model_module_version": "1.5.0",
      "model_name": "DescriptionStyleModel",
      "state": {
       "description_width": "initial"
      }
     },
     "33930d58a04542738935f5964fb09e69": {
      "model_module": "@jupyter-widgets/controls",
      "model_module_version": "1.5.0",
      "model_name": "ButtonModel",
      "state": {
       "description": "Treat scan(s)",
       "layout": "IPY_MODEL_1176763dba3e4727bc0175b86c1799ff",
       "style": "IPY_MODEL_68adbab054e9459e94368cb17f94a6d4"
      }
     },
     "33b587f28377489b9542b308ad4a2806": {
      "model_module": "@jupyter-widgets/controls",
      "model_module_version": "1.5.0",
      "model_name": "HBoxModel",
      "state": {
       "children": [
        "IPY_MODEL_363eb156b6a7441796d1b4fd7c093829",
        "IPY_MODEL_e80f767b8d394b159bd5fe2c5f197bf8"
       ],
       "layout": "IPY_MODEL_f9f0de33beb74873a782455311ef1280"
      }
     },
     "33c2dce1ca444fa7ac76d9334bbafafa": {
      "model_module": "@jupyter-widgets/base",
      "model_module_version": "1.2.0",
      "model_name": "LayoutModel",
      "state": {}
     },
     "33f02d14a5484a6287f88b75d153c785": {
      "model_module": "@jupyter-widgets/base",
      "model_module_version": "1.2.0",
      "model_name": "LayoutModel",
      "state": {
       "width": "200px"
      }
     },
     "3421f6f1347b4e478733207fee0caab4": {
      "model_module": "@jupyter-widgets/controls",
      "model_module_version": "1.5.0",
      "model_name": "DropdownModel",
      "state": {
       "_options_labels": [
        "In use",
        "Not used"
       ],
       "description": "MGM:",
       "index": 1,
       "layout": "IPY_MODEL_56d269c37902442581f7736ec7f7f82a",
       "style": "IPY_MODEL_142f3b7058b946e8a4396d9317b32f97"
      }
     },
     "3481425bc1af46fbbcfc3ce57e61c4d6": {
      "model_module": "@jupyter-widgets/controls",
      "model_module_version": "1.5.0",
      "model_name": "DropdownModel",
      "state": {
       "_options_labels": [
        "M4 Pt Track",
        "M4 Si Track",
        "No M4"
       ],
       "description": "M4:",
       "index": 0,
       "layout": "IPY_MODEL_843205fc43c34ccb88ae79e038f2143e",
       "style": "IPY_MODEL_4c192ae1f972408eb5ffccb3f1064490"
      }
     },
     "34b3180173764dcfb7333cff6edf969a": {
      "model_module": "@jupyter-widgets/controls",
      "model_module_version": "1.5.0",
      "model_name": "TextModel",
      "state": {
       "description": "Phase (deg):",
       "layout": "IPY_MODEL_fcc1a1b0d3664300b8f863a47c8ad19d",
       "placeholder": "Value(s)",
       "style": "IPY_MODEL_e3019ccc99724081b9b50e70633413ed",
       "value": "0"
      }
     },
     "34c27c545c9249bea2f28c9bf3bd98ea": {
      "model_module": "@jupyter-widgets/base",
      "model_module_version": "1.2.0",
      "model_name": "LayoutModel",
      "state": {
       "height": "40px",
       "width": "200px"
      }
     },
     "34e138f1120d4db2a027fda113495d7f": {
      "model_module": "@jupyter-widgets/controls",
      "model_module_version": "1.5.0",
      "model_name": "TextareaModel",
      "state": {
       "description": "Remarks:",
       "layout": "IPY_MODEL_e83d3931957c468f8e6fa683f1994911",
       "placeholder": "Remarks",
       "style": "IPY_MODEL_2d844a75a89e42b98c708a18d1bf621d"
      }
     },
     "34f1ced341584f76a341dec4166ea68e": {
      "model_module": "@jupyter-widgets/base",
      "model_module_version": "1.2.0",
      "model_name": "LayoutModel",
      "state": {}
     },
     "350f19eb86cd42c59e61933d6782844a": {
      "model_module": "@jupyter-widgets/controls",
      "model_module_version": "1.5.0",
      "model_name": "ButtonStyleModel",
      "state": {}
     },
     "352320f79a844f109a17ee3de237abe7": {
      "model_module": "@jupyter-widgets/controls",
      "model_module_version": "1.5.0",
      "model_name": "DescriptionStyleModel",
      "state": {
       "description_width": "initial"
      }
     },
     "35589d9ef708468cb3140a63228fb2e2": {
      "model_module": "@jupyter-widgets/controls",
      "model_module_version": "1.5.0",
      "model_name": "DescriptionStyleModel",
      "state": {
       "description_width": "initial"
      }
     },
     "355f82ebb35445b4a0d25b6f3b581518": {
      "model_module": "@jupyter-widgets/controls",
      "model_module_version": "1.5.0",
      "model_name": "HBoxModel",
      "state": {
       "children": [
        "IPY_MODEL_64970e1b791d499b93b6916298fead27",
        "IPY_MODEL_421427cc291240e38c127b6da7e1fc4d",
        "IPY_MODEL_8ca98b93d7f24953891378170b8f1de9",
        "IPY_MODEL_bc4acc19b78349e9976d931584c73624"
       ],
       "layout": "IPY_MODEL_7cd70783ead64984b029127476691b22"
      }
     },
     "35712236d6954f5d85654b4241a6da99": {
      "model_module": "@jupyter-widgets/base",
      "model_module_version": "1.2.0",
      "model_name": "LayoutModel",
      "state": {}
     },
     "363005fced9146008fed98f01f3e50df": {
      "model_module": "@jupyter-widgets/controls",
      "model_module_version": "1.5.0",
      "model_name": "ButtonStyleModel",
      "state": {}
     },
     "363dcdb7c04844808d56455b2f954bb7": {
      "model_module": "@jupyter-widgets/base",
      "model_module_version": "1.2.0",
      "model_name": "LayoutModel",
      "state": {}
     },
     "363eb156b6a7441796d1b4fd7c093829": {
      "model_module": "@jupyter-widgets/controls",
      "model_module_version": "1.5.0",
      "model_name": "TextModel",
      "state": {
       "description": "Type:",
       "layout": "IPY_MODEL_062de8601ece41ce934797275ec4be6f",
       "placeholder": "Proposal, Commissioning, ...",
       "style": "IPY_MODEL_247af726bb7f4a7bbd7efadeab1e66db"
      }
     },
     "36c194c2273349879722c328cfef61a2": {
      "model_module": "@jupyter-widgets/controls",
      "model_module_version": "1.5.0",
      "model_name": "DescriptionStyleModel",
      "state": {
       "description_width": "initial"
      }
     },
     "374225d254dd4f219a790c994e22375d": {
      "model_module": "@jupyter-widgets/controls",
      "model_module_version": "1.5.0",
      "model_name": "DescriptionStyleModel",
      "state": {
       "description_width": "initial"
      }
     },
     "376564736768496cbd9f2eb4620bfbf5": {
      "model_module": "@jupyter-widgets/controls",
      "model_module_version": "1.5.0",
      "model_name": "DescriptionStyleModel",
      "state": {
       "description_width": "initial"
      }
     },
     "37a7e4e15c194ed0b5ee76b38f6296f4": {
      "model_module": "@jupyter-widgets/base",
      "model_module_version": "1.2.0",
      "model_name": "LayoutModel",
      "state": {}
     },
     "37beb20741d24347bfe158b600259b5b": {
      "model_module": "@jupyter-widgets/base",
      "model_module_version": "1.2.0",
      "model_name": "LayoutModel",
      "state": {}
     },
     "37d8727f59f14163970f66de427f659e": {
      "model_module": "@jupyter-widgets/controls",
      "model_module_version": "1.5.0",
      "model_name": "DropdownModel",
      "state": {
       "_options_labels": [
        "Fixed",
        "Variable"
       ],
       "description": "Fixed/Variable energy:",
       "index": 0,
       "layout": "IPY_MODEL_5687c1ac71c144c79b13368e104f4ac8",
       "style": "IPY_MODEL_149d23c5d0744df88cdd476b6c0abe33"
      }
     },
     "37f46ba2a956403f810816cd3c8e2af0": {
      "model_module": "@jupyter-widgets/controls",
      "model_module_version": "1.5.0",
      "model_name": "ButtonStyleModel",
      "state": {}
     },
     "37faeb69b3564ed2bf686a2737e591bf": {
      "model_module": "@jupyter-widgets/controls",
      "model_module_version": "1.5.0",
      "model_name": "TextModel",
      "state": {
       "description": "Energy (keV):",
       "layout": "IPY_MODEL_b4c6cc9946d14fbcb3540493567ad192",
       "placeholder": "Value(s)",
       "style": "IPY_MODEL_73d390507d7e49668bde659a3928889c"
      }
     },
     "3816ad12d2424e0e94c84d5a27bae4b4": {
      "model_module": "@jupyter-widgets/controls",
      "model_module_version": "1.5.0",
      "model_name": "TextModel",
      "state": {
       "description": "Current:",
       "layout": "IPY_MODEL_b4c6cc9946d14fbcb3540493567ad192",
       "placeholder": "450 mA, 500 mA, ...",
       "style": "IPY_MODEL_a3603233d7394aeabc8f203d81ba830a"
      }
     },
     "3894713cdc1d44e088b3f68bb8accb6e": {
      "model_module": "@jupyter-widgets/base",
      "model_module_version": "1.2.0",
      "model_name": "LayoutModel",
      "state": {}
     },
     "39079f026a864e33ac476e0079f1fb06": {
      "model_module": "@jupyter-widgets/controls",
      "model_module_version": "1.5.0",
      "model_name": "DropdownModel",
      "state": {
       "_options_labels": [
        "Green",
        "Yellow",
        "Red"
       ],
       "description": "Safety:",
       "index": 1,
       "layout": "IPY_MODEL_a2d0d12633a546b29d7b5347adc0b665",
       "style": "IPY_MODEL_a830e3307e0f47beae06e4b8dd1c4cef"
      }
     },
     "3915162dbb144682ab3f838f4d50d9b7": {
      "model_module": "@jupyter-widgets/base",
      "model_module_version": "1.2.0",
      "model_name": "LayoutModel",
      "state": {
       "width": "150px"
      }
     },
     "391bb76b21c340c0a450e24f254d7904": {
      "model_module": "@jupyter-widgets/controls",
      "model_module_version": "1.5.0",
      "model_name": "HBoxModel",
      "state": {
       "children": [
        "IPY_MODEL_8246a9659ba04858916fa8d03daa1e4d",
        "IPY_MODEL_661eda9f90544c5e8bf47a54c026bb2c",
        "IPY_MODEL_8f87e9e488864c4f83e6f8f24a8d998b",
        "IPY_MODEL_96191bd3d5d34af9b4ed038de61371e6"
       ],
       "layout": "IPY_MODEL_d39097d7cdb3488d916107a1b32bb70b"
      }
     },
     "391cd50597fa4a46a381a9f0d1c98f7d": {
      "model_module": "@jupyter-widgets/controls",
      "model_module_version": "1.5.0",
      "model_name": "HBoxModel",
      "state": {
       "children": [
        "IPY_MODEL_b4781adfdf1c481b861bc58c23c8e19e",
        "IPY_MODEL_acd48f6644784f8cba3a4ae77aa3ab7d"
       ],
       "layout": "IPY_MODEL_53dc16fb588c4525891aea45829e7bb9"
      }
     },
     "395621552c4d48dfab43c9e86b1c6355": {
      "model_module": "@jupyter-widgets/controls",
      "model_module_version": "1.5.0",
      "model_name": "ButtonModel",
      "state": {
       "description": "Treat scan(s)",
       "layout": "IPY_MODEL_e9fc01bbf5024f2a90d7e23a20a6e424",
       "style": "IPY_MODEL_97db421641a94569b483227e88622a08"
      }
     },
     "395a51147e644859b0f94681a9812be9": {
      "model_module": "@jupyter-widgets/controls",
      "model_module_version": "1.5.0",
      "model_name": "ButtonStyleModel",
      "state": {}
     },
     "39604dcdb11f4faf902e5100db6b13f4": {
      "model_module": "@jupyter-widgets/controls",
      "model_module_version": "1.5.0",
      "model_name": "DescriptionStyleModel",
      "state": {
       "description_width": "initial"
      }
     },
     "396d532fa9ac4cc9af015665438a3358": {
      "model_module": "@jupyter-widgets/controls",
      "model_module_version": "1.5.0",
      "model_name": "DropdownModel",
      "state": {
       "_options_labels": [
        "Si111",
        "InSb",
        "Not Used"
       ],
       "description": "DCM:",
       "index": 0,
       "layout": "IPY_MODEL_fb41628d209d4836a2c55923d158bed0",
       "style": "IPY_MODEL_bc54ff8b90d146618c1ecd0e2d3402bf"
      }
     },
     "39b7aa38bb8844e0961a9a849a842292": {
      "model_module": "@jupyter-widgets/controls",
      "model_module_version": "1.5.0",
      "model_name": "DropdownModel",
      "state": {
       "_options_labels": [
        "In use",
        "Not used"
       ],
       "description": "MGM:",
       "index": 1,
       "layout": "IPY_MODEL_0a27aed8c9e84d2b9c222e977c215b0f",
       "style": "IPY_MODEL_9e193aa6a0ac4a798b7719aae25b1cb2"
      }
     },
     "39cc771f13c74c0faeeddcf4857ee93e": {
      "model_module": "@jupyter-widgets/controls",
      "model_module_version": "1.5.0",
      "model_name": "ButtonStyleModel",
      "state": {}
     },
     "39ceb17017fd421080ed9b6d663c1608": {
      "model_module": "@jupyter-widgets/controls",
      "model_module_version": "1.5.0",
      "model_name": "TextModel",
      "state": {
       "description": "Phase (deg):",
       "layout": "IPY_MODEL_ac1a62b3ce5b4317865a384051361bed",
       "placeholder": "Value(s)",
       "style": "IPY_MODEL_72b9bfb586b548bba0e737edaa49fb00",
       "value": "0"
      }
     },
     "39f79884d3974e05b86db89f98ed2e0b": {
      "model_module": "@jupyter-widgets/controls",
      "model_module_version": "1.5.0",
      "model_name": "ButtonModel",
      "state": {
       "description": "Insert script",
       "layout": "IPY_MODEL_8fc86c0520414958a1436e3d4e325bb8",
       "style": "IPY_MODEL_5f9a6bb7d323411186db75eb5f845690"
      }
     },
     "3a20e22fcf4d4e31acd7b2865b71f01c": {
      "model_module": "@jupyter-widgets/controls",
      "model_module_version": "1.5.0",
      "model_name": "DescriptionStyleModel",
      "state": {
       "description_width": "initial"
      }
     },
     "3a7e65f7319842939a3c7397c8e8022e": {
      "model_module": "@jupyter-widgets/controls",
      "model_module_version": "1.5.0",
      "model_name": "TextModel",
      "state": {
       "description": "Type:",
       "layout": "IPY_MODEL_b4c6cc9946d14fbcb3540493567ad192",
       "placeholder": "Proposal, Commissioning, ...",
       "style": "IPY_MODEL_fd56fbdd18fb4e9889de1d6456389871"
      }
     },
     "3a7fd3475b194eb7bd9d32fdb374ae03": {
      "model_module": "@jupyter-widgets/controls",
      "model_module_version": "1.5.0",
      "model_name": "TextModel",
      "state": {
       "description": "Users (on site):",
       "layout": "IPY_MODEL_a98e1165cc0341128547c82ecbfcb341",
       "placeholder": "Names",
       "style": "IPY_MODEL_6b17baf665d6431b86d97cadc97d9a17"
      }
     },
     "3a912bad27d64477bb4ca6318fedc21b": {
      "model_module": "@jupyter-widgets/controls",
      "model_module_version": "1.5.0",
      "model_name": "ButtonModel",
      "state": {
       "description": "Fit with gaussian",
       "layout": "IPY_MODEL_4b03e68850124b9ab4d9ba914df81943",
       "style": "IPY_MODEL_7b187de7e08f4a2a9cd6d121a7700ebe"
      }
     },
     "3aa8d03b8cd24023b3cf0eb7c3e03ce0": {
      "model_module": "@jupyter-widgets/controls",
      "model_module_version": "1.5.0",
      "model_name": "HBoxModel",
      "state": {
       "children": [
        "IPY_MODEL_7723405d3407458fa3af60d68e482013",
        "IPY_MODEL_1c8fe9bc3ee44891966fc02ff692b443"
       ],
       "layout": "IPY_MODEL_b3bc13c7b0634dd1984516e2e3a353e0"
      }
     },
     "3ace16b9e089415b8d567458c48f3862": {
      "model_module": "@jupyter-widgets/controls",
      "model_module_version": "1.5.0",
      "model_name": "DescriptionStyleModel",
      "state": {
       "description_width": "initial"
      }
     },
     "3adf541364894f66811c432a387b0460": {
      "model_module": "@jupyter-widgets/base",
      "model_module_version": "1.2.0",
      "model_name": "LayoutModel",
      "state": {}
     },
     "3ae700a8bdd84dbdabc0e4cb82a9f271": {
      "model_module": "@jupyter-widgets/controls",
      "model_module_version": "1.5.0",
      "model_name": "HBoxModel",
      "state": {
       "children": [
        "IPY_MODEL_b52349d327bf48168c2574d0905f2ac8",
        "IPY_MODEL_bd0fb88a168a454f91bd46ac1ba518b3"
       ],
       "layout": "IPY_MODEL_92550db3f14a48949b63b345ea8d7ad1"
      }
     },
     "3b14b9848d55425c973d43a23edad97c": {
      "model_module": "@jupyter-widgets/base",
      "model_module_version": "1.2.0",
      "model_name": "LayoutModel",
      "state": {}
     },
     "3b1b4ac9ade047228b8d3c4f365ba1a3": {
      "model_module": "@jupyter-widgets/base",
      "model_module_version": "1.2.0",
      "model_name": "LayoutModel",
      "state": {
       "width": "300px"
      }
     },
     "3b2b893c934c445c893f613e664c21c3": {
      "model_module": "@jupyter-widgets/base",
      "model_module_version": "1.2.0",
      "model_name": "LayoutModel",
      "state": {}
     },
     "3b6608c836034986bb4deaa890f69946": {
      "model_module": "@jupyter-widgets/controls",
      "model_module_version": "1.5.0",
      "model_name": "DescriptionStyleModel",
      "state": {
       "description_width": "initial"
      }
     },
     "3b8061aacc684b5bac1e3b5202b9c4c7": {
      "model_module": "@jupyter-widgets/controls",
      "model_module_version": "1.5.0",
      "model_name": "ButtonStyleModel",
      "state": {}
     },
     "3c200443205846a1b48a0a006c3047c7": {
      "model_module": "@jupyter-widgets/controls",
      "model_module_version": "1.5.0",
      "model_name": "DropdownModel",
      "state": {
       "_options_labels": [
        "M2 Pt Track",
        "M2 B4C Track",
        "No M2"
       ],
       "description": "M2:",
       "index": 0,
       "layout": "IPY_MODEL_b2f8577ca73c4408991e17c405476120",
       "style": "IPY_MODEL_9d483108774d44eaa55c9e1272de8b7b"
      }
     },
     "3c38d862f88f4333a87b6c24932ac2a9": {
      "model_module": "@jupyter-widgets/base",
      "model_module_version": "1.2.0",
      "model_name": "LayoutModel",
      "state": {}
     },
     "3c845eace9d1455796417ec487d6c9bc": {
      "model_module": "@jupyter-widgets/controls",
      "model_module_version": "1.5.0",
      "model_name": "TextModel",
      "state": {
       "description": "Date:",
       "layout": "IPY_MODEL_062de8601ece41ce934797275ec4be6f",
       "placeholder": "DD/MM/YYYY - DD/MM/YYYY",
       "style": "IPY_MODEL_276cb85aac0443b1b037c1d3de9a91a9"
      }
     },
     "3cbfc10a566d4068b773cbc1a3008325": {
      "model_module": "@jupyter-widgets/base",
      "model_module_version": "1.2.0",
      "model_name": "LayoutModel",
      "state": {
       "width": "400px"
      }
     },
     "3d1423997e724df194685b04be96d582": {
      "model_module": "@jupyter-widgets/base",
      "model_module_version": "1.2.0",
      "model_name": "LayoutModel",
      "state": {}
     },
     "3d5b9f645f38466ea966e718e2907742": {
      "model_module": "@jupyter-widgets/controls",
      "model_module_version": "1.5.0",
      "model_name": "TextModel",
      "state": {
       "description": "Experiment title:",
       "layout": "IPY_MODEL_98363491c7d64638bd025ad862cfec75",
       "placeholder": "Title",
       "style": "IPY_MODEL_a4ccb3c57bcf448f9fcdd85e37c08315",
       "value": "Test of multilayer substrates and"
      }
     },
     "3d5fd51c0ce84ce8939041baa0bd7879": {
      "model_module": "@jupyter-widgets/base",
      "model_module_version": "1.2.0",
      "model_name": "LayoutModel",
      "state": {}
     },
     "3d896c11395841c09f887b8cd1a6d697": {
      "model_module": "@jupyter-widgets/controls",
      "model_module_version": "1.5.0",
      "model_name": "ButtonModel",
      "state": {
       "description": "Fit with erf",
       "layout": "IPY_MODEL_0abe3cfd73df480b8607c29e47f4e323",
       "style": "IPY_MODEL_363005fced9146008fed98f01f3e50df"
      }
     },
     "3d92c8624aac49d7bd4be6cb8e8ee100": {
      "model_module": "@jupyter-widgets/controls",
      "model_module_version": "1.5.0",
      "model_name": "ButtonStyleModel",
      "state": {}
     },
     "3da739d7e34a47de878a4500274fcea4": {
      "model_module": "@jupyter-widgets/base",
      "model_module_version": "1.2.0",
      "model_name": "LayoutModel",
      "state": {}
     },
     "3df8c7633aa14acc882f3ca5032c8f85": {
      "model_module": "@jupyter-widgets/controls",
      "model_module_version": "1.5.0",
      "model_name": "ButtonStyleModel",
      "state": {}
     },
     "3e1162c49fc04eaeac73770a05bd5947": {
      "model_module": "@jupyter-widgets/controls",
      "model_module_version": "1.5.0",
      "model_name": "CheckboxModel",
      "state": {
       "description": "Print sensors",
       "disabled": false,
       "layout": "IPY_MODEL_a89223ec90af4523b06171b2808174c0",
       "style": "IPY_MODEL_0c4897b6ccd84e3da9618644c2d801dd",
       "value": false
      }
     },
     "3e26e7acd3aa4f2999ed5cec2e399931": {
      "model_module": "@jupyter-widgets/controls",
      "model_module_version": "1.5.0",
      "model_name": "ButtonModel",
      "state": {
       "description": "Insert positions",
       "layout": "IPY_MODEL_ad7828e9ae224c1d9306f0afe1355c26",
       "style": "IPY_MODEL_7aa31fca8e434ffa92bb95a1bdb326f6"
      }
     },
     "3e2c673dc0ab4f6dbc8ab1859339241c": {
      "model_module": "@jupyter-widgets/controls",
      "model_module_version": "1.5.0",
      "model_name": "HBoxModel",
      "state": {
       "children": [
        "IPY_MODEL_396d532fa9ac4cc9af015665438a3358",
        "IPY_MODEL_a99f6e99edf74135b40614479484b22c"
       ],
       "layout": "IPY_MODEL_313a303f4c5b43bbb865e79cddba0e39"
      }
     },
     "3e77a4c1f6c14367bf6212bcb5268141": {
      "model_module": "@jupyter-widgets/controls",
      "model_module_version": "1.5.0",
      "model_name": "DropdownModel",
      "state": {
       "_options_labels": [
        "Fixed",
        "Variable"
       ],
       "description": "Fixed/Variable energy:",
       "index": 0,
       "layout": "IPY_MODEL_49ac7430d9814b24ac291e071415e8b3",
       "style": "IPY_MODEL_9ef4ee38496c434988dbc73f0927ebe5"
      }
     },
     "3ece09372fd947559afa1d0c403fdd87": {
      "model_module": "@jupyter-widgets/base",
      "model_module_version": "1.2.0",
      "model_name": "LayoutModel",
      "state": {
       "height": "40px",
       "width": "300px"
      }
     },
     "3ed29208784b4fb3b520ea211262248d": {
      "model_module": "@jupyter-widgets/controls",
      "model_module_version": "1.5.0",
      "model_name": "ButtonModel",
      "state": {
       "description": "Treat scan(s)",
       "layout": "IPY_MODEL_bc0cb6736e8c4eb8a93eb628271df570",
       "style": "IPY_MODEL_84c3bf95e43a48a3abd6119d8f4d2f1c"
      }
     },
     "3f35a74996a340e9958182f7d550841a": {
      "model_module": "@jupyter-widgets/base",
      "model_module_version": "1.2.0",
      "model_name": "LayoutModel",
      "state": {}
     },
     "3f547bb5ac1a4d1d8e520ce0a69676aa": {
      "model_module": "@jupyter-widgets/base",
      "model_module_version": "1.2.0",
      "model_name": "LayoutModel",
      "state": {}
     },
     "3f6a8ea06c7c4366a44de4822c2bf5dc": {
      "model_module": "@jupyter-widgets/base",
      "model_module_version": "1.2.0",
      "model_name": "LayoutModel",
      "state": {}
     },
     "3f79129921334dfc96d814ed25c2cd17": {
      "model_module": "@jupyter-widgets/controls",
      "model_module_version": "1.5.0",
      "model_name": "HBoxModel",
      "state": {
       "children": [
        "IPY_MODEL_032342a8576f40f69100477a457ab9a9",
        "IPY_MODEL_1e2872eb40d942cf91804033bba57c56",
        "IPY_MODEL_e393eff07a484e60bc8432848fda07d7"
       ],
       "layout": "IPY_MODEL_b5b02f44119a48dc8225966e2cd2a173"
      }
     },
     "3f85acc42b49492fa38593054d689b3a": {
      "model_module": "@jupyter-widgets/base",
      "model_module_version": "1.2.0",
      "model_name": "LayoutModel",
      "state": {}
     },
     "3f9a0add225040d28f0d69f3a6499239": {
      "model_module": "@jupyter-widgets/controls",
      "model_module_version": "1.5.0",
      "model_name": "ButtonStyleModel",
      "state": {}
     },
     "3fb319564ce14b699e0da4247044e579": {
      "model_module": "@jupyter-widgets/controls",
      "model_module_version": "1.5.0",
      "model_name": "DescriptionStyleModel",
      "state": {
       "description_width": "initial"
      }
     },
     "40ab621b96f145bbb47b56f021d2b37d": {
      "model_module": "@jupyter-widgets/controls",
      "model_module_version": "1.5.0",
      "model_name": "DescriptionStyleModel",
      "state": {
       "description_width": "initial"
      }
     },
     "40b0a1e8c0424dc297b2ada9fdc7e8df": {
      "model_module": "@jupyter-widgets/controls",
      "model_module_version": "1.5.0",
      "model_name": "TextModel",
      "state": {
       "description": "Energy (keV):",
       "layout": "IPY_MODEL_062de8601ece41ce934797275ec4be6f",
       "placeholder": "Value(s)",
       "style": "IPY_MODEL_8a6a040b30214231b1dff9ff53ea2e94"
      }
     },
     "40dec1d98b1e4ff19c0a284414cbdf6d": {
      "model_module": "@jupyter-widgets/base",
      "model_module_version": "1.2.0",
      "model_name": "LayoutModel",
      "state": {}
     },
     "40fcf151430a445a936e25096ec54e2b": {
      "model_module": "@jupyter-widgets/controls",
      "model_module_version": "1.5.0",
      "model_name": "TextareaModel",
      "state": {
       "description": "Detectors:",
       "layout": "IPY_MODEL_43eebc09dfaf4150a458cba7eca2814a",
       "placeholder": "Type of detectors",
       "style": "IPY_MODEL_22a2deb93f484a38bcb9960f51a766c9"
      }
     },
     "414eeab5a081466a9a242c7b855a3e10": {
      "model_module": "@jupyter-widgets/controls",
      "model_module_version": "1.5.0",
      "model_name": "TextModel",
      "state": {
       "description": "mon3:",
       "layout": "IPY_MODEL_e917d212456d4b2988c1979851b9037e",
       "placeholder": "Empty or type of mon",
       "style": "IPY_MODEL_999919abbed445d7a393ab95c99c6435"
      }
     },
     "4150bd52eb4748529a0ac2ad901606de": {
      "model_module": "@jupyter-widgets/controls",
      "model_module_version": "1.5.0",
      "model_name": "DescriptionStyleModel",
      "state": {
       "description_width": "initial"
      }
     },
     "416437b862384142b3925e6d6659e1fc": {
      "model_module": "@jupyter-widgets/base",
      "model_module_version": "1.2.0",
      "model_name": "LayoutModel",
      "state": {}
     },
     "419a2af1f23942019d5a735901122884": {
      "model_module": "@jupyter-widgets/base",
      "model_module_version": "1.2.0",
      "model_name": "LayoutModel",
      "state": {}
     },
     "41b2970d82864e65b1dd47c7e027f9c2": {
      "model_module": "@jupyter-widgets/controls",
      "model_module_version": "1.5.0",
      "model_name": "DescriptionStyleModel",
      "state": {
       "description_width": "initial"
      }
     },
     "41ba0a472b6e4396baa02b0d0cee17f6": {
      "model_module": "@jupyter-widgets/base",
      "model_module_version": "1.2.0",
      "model_name": "LayoutModel",
      "state": {}
     },
     "41bd9a26ecb8466591e0144bfb307316": {
      "model_module": "@jupyter-widgets/controls",
      "model_module_version": "1.5.0",
      "model_name": "DescriptionStyleModel",
      "state": {
       "description_width": "initial"
      }
     },
     "41c4a37ef1f14010b0e050e55b58c320": {
      "model_module": "@jupyter-widgets/controls",
      "model_module_version": "1.5.0",
      "model_name": "ButtonModel",
      "state": {
       "description": "Export to PDF",
       "layout": "IPY_MODEL_69d4111229ac4491a31c3bdbf4783e55",
       "style": "IPY_MODEL_9bd313f19b1a4d909b2975212a311176"
      }
     },
     "41d8f21011354d9291b13a1b6807b2f4": {
      "model_module": "@jupyter-widgets/base",
      "model_module_version": "1.2.0",
      "model_name": "LayoutModel",
      "state": {
       "width": "200px"
      }
     },
     "421427cc291240e38c127b6da7e1fc4d": {
      "model_module": "@jupyter-widgets/controls",
      "model_module_version": "1.5.0",
      "model_name": "TextModel",
      "state": {
       "description": "mon2:",
       "layout": "IPY_MODEL_ac1a62b3ce5b4317865a384051361bed",
       "placeholder": "Empty or type of mon",
       "style": "IPY_MODEL_a4426141ccbb4d7b99b865dfdcf4d45b"
      }
     },
     "4223df30e8514383893cb9aa45e1455b": {
      "model_module": "@jupyter-widgets/controls",
      "model_module_version": "1.5.0",
      "model_name": "TextModel",
      "state": {
       "description": "Mode:",
       "layout": "IPY_MODEL_062de8601ece41ce934797275ec4be6f",
       "placeholder": "Hybrid, Top-up, ...",
       "style": "IPY_MODEL_6e94ca0967b849eb9d0a8acd54a31faf"
      }
     },
     "4225decc1dcd444c942f80824af6c106": {
      "model_module": "@jupyter-widgets/base",
      "model_module_version": "1.2.0",
      "model_name": "LayoutModel",
      "state": {}
     },
     "42525a133c5a41fdaf6486050fbd8d6f": {
      "model_module": "@jupyter-widgets/controls",
      "model_module_version": "1.5.0",
      "model_name": "HBoxModel",
      "state": {
       "children": [
        "IPY_MODEL_61b1883c6482429b91b2f21519475c31",
        "IPY_MODEL_76ab80f7fa17427aa454e10165bf8273",
        "IPY_MODEL_8c26302d3a814e5e8ce959d5c8b8cbf0",
        "IPY_MODEL_12f96dc6242940f7b686f50af69c2356"
       ],
       "layout": "IPY_MODEL_12e57a59cf83445cb37d9e5997951936"
      }
     },
     "428ca0f06b4e4459983f2556f587a9b1": {
      "model_module": "@jupyter-widgets/controls",
      "model_module_version": "1.5.0",
      "model_name": "ButtonModel",
      "state": {
       "description": "Insert commands",
       "layout": "IPY_MODEL_5d7adabcc90346ae80cea8779e94e611",
       "style": "IPY_MODEL_c9de1cfb25714b289e73cdca488fbde0"
      }
     },
     "42ed65dfd4b94c6fa30588fbafd22f09": {
      "model_module": "@jupyter-widgets/controls",
      "model_module_version": "1.5.0",
      "model_name": "DropdownModel",
      "state": {
       "_options_labels": [
        "M1-A Pt Track",
        "M1-A B4C Track",
        "M1-B (B4C)",
        "No M1"
       ],
       "description": "M1:",
       "index": 0,
       "layout": "IPY_MODEL_cd0140c3347f4c478f6a6e91cf59fab5",
       "style": "IPY_MODEL_089951b0c9624f96a0bc94b9e75232bc"
      }
     },
     "4321c1ee7b7d4d0d977e7a66ec2c0538": {
      "model_module": "@jupyter-widgets/controls",
      "model_module_version": "1.5.0",
      "model_name": "ButtonModel",
      "state": {
       "description": "Insert commands",
       "layout": "IPY_MODEL_54ab771e1bae4505822b93b45620357f",
       "style": "IPY_MODEL_78fd91c2a2954e7b86cb417c4acf42a7"
      }
     },
     "432793781c61421eaa64b88e3e100331": {
      "model_module": "@jupyter-widgets/base",
      "model_module_version": "1.2.0",
      "model_name": "LayoutModel",
      "state": {}
     },
     "43289477482d4cb989ad891781437cb6": {
      "model_module": "@jupyter-widgets/base",
      "model_module_version": "1.2.0",
      "model_name": "LayoutModel",
      "state": {}
     },
     "4348af629a9f45b5b027ddeaf3923708": {
      "model_module": "@jupyter-widgets/controls",
      "model_module_version": "1.5.0",
      "model_name": "ButtonModel",
      "state": {
       "description": "Treat scan(s)",
       "layout": "IPY_MODEL_4f0ee3a87b3d450fbde6f6077420d32a",
       "style": "IPY_MODEL_c2e11fd7c2de456fa56f7f4ef38dc45d"
      }
     },
     "4371696d3092481192fdd6aab2d8757c": {
      "model_module": "@jupyter-widgets/controls",
      "model_module_version": "1.5.0",
      "model_name": "ButtonStyleModel",
      "state": {}
     },
     "4376ae49e0674e9fbcfbf116cbc069eb": {
      "model_module": "@jupyter-widgets/controls",
      "model_module_version": "1.5.0",
      "model_name": "DescriptionStyleModel",
      "state": {
       "description_width": "initial"
      }
     },
     "43b94e73aa684ba486c444fff06adcd3": {
      "model_module": "@jupyter-widgets/controls",
      "model_module_version": "1.5.0",
      "model_name": "ButtonModel",
      "state": {
       "description": "Plot XRF",
       "layout": "IPY_MODEL_94c6afa0297348a1b78e4e24a27be71c",
       "style": "IPY_MODEL_c63c928c387c46f880709829cd8d5e23"
      }
     },
     "43eb2104e71e433c9b85fcc48dab97a6": {
      "model_module": "@jupyter-widgets/controls",
      "model_module_version": "1.5.0",
      "model_name": "TextModel",
      "state": {
       "description": "Users (on site):",
       "layout": "IPY_MODEL_e83d3931957c468f8e6fa683f1994911",
       "placeholder": "Names",
       "style": "IPY_MODEL_b5b2570714a244e6b0e7acfdb04f0a5e"
      }
     },
     "43eebc09dfaf4150a458cba7eca2814a": {
      "model_module": "@jupyter-widgets/base",
      "model_module_version": "1.2.0",
      "model_name": "LayoutModel",
      "state": {
       "height": "40px",
       "width": "800px"
      }
     },
     "4441b00faa9d4c4c8c1f378e3c734c7a": {
      "model_module": "@jupyter-widgets/base",
      "model_module_version": "1.2.0",
      "model_name": "LayoutModel",
      "state": {
       "height": "40px",
       "width": "800px"
      }
     },
     "446ae40965eb4673a3400d745985d24e": {
      "model_module": "@jupyter-widgets/base",
      "model_module_version": "1.2.0",
      "model_name": "LayoutModel",
      "state": {}
     },
     "44bbdb34883a4518b652d6f3a02a998d": {
      "model_module": "@jupyter-widgets/controls",
      "model_module_version": "1.5.0",
      "model_name": "ButtonModel",
      "state": {
       "description": "Export to PDF",
       "layout": "IPY_MODEL_4c551822400d4987841d9d9300b904d7",
       "style": "IPY_MODEL_ee67dd49e12749579b10fb14eca4efb0"
      }
     },
     "44c4ff6a8e1445af931027069bddbe0b": {
      "model_module": "@jupyter-widgets/base",
      "model_module_version": "1.2.0",
      "model_name": "LayoutModel",
      "state": {}
     },
     "450fad2d40244d60910f5de8718677dd": {
      "model_module": "@jupyter-widgets/controls",
      "model_module_version": "1.5.0",
      "model_name": "TextModel",
      "state": {
       "description": "Recording directory:",
       "layout": "IPY_MODEL_e83d3931957c468f8e6fa683f1994911",
       "placeholder": "Full path to the recording directory",
       "style": "IPY_MODEL_060fd10efab94d82bae9f9ea88f6619b"
      }
     },
     "45677e6c764c49dd80439df27200c589": {
      "model_module": "@jupyter-widgets/controls",
      "model_module_version": "1.5.0",
      "model_name": "HBoxModel",
      "state": {
       "children": [
        "IPY_MODEL_8bceb1cc9c144401b32a7a77dfca3574",
        "IPY_MODEL_caa6d954cea34b27a73f9c93e924ea1f",
        "IPY_MODEL_21a6f02cde974efe81428e28ae481e13",
        "IPY_MODEL_97db3c865a5c4579928e1f2d4b6129a7"
       ],
       "layout": "IPY_MODEL_00429279c03a49459e552bb79700164d"
      }
     },
     "459a501c8c6c4effacddb554e2fc9e04": {
      "model_module": "@jupyter-widgets/controls",
      "model_module_version": "1.5.0",
      "model_name": "ButtonStyleModel",
      "state": {}
     },
     "45b37598205c4a7288d49798a2263751": {
      "model_module": "@jupyter-widgets/controls",
      "model_module_version": "1.5.0",
      "model_name": "ButtonModel",
      "state": {
       "description": "Add plot to report",
       "layout": "IPY_MODEL_ac8245ada12a4bc9b15cbd40c8623cb9",
       "style": "IPY_MODEL_80511940231849398838872e60f108a7"
      }
     },
     "45f8ef4edb4c437887538ab15fe5296e": {
      "model_module": "@jupyter-widgets/controls",
      "model_module_version": "1.5.0",
      "model_name": "ButtonStyleModel",
      "state": {}
     },
     "46082761502748b68ab5a51e05f1bd3a": {
      "model_module": "@jupyter-widgets/controls",
      "model_module_version": "1.5.0",
      "model_name": "TextModel",
      "state": {
       "description": "mon4:",
       "layout": "IPY_MODEL_34c27c545c9249bea2f28c9bf3bd98ea",
       "placeholder": "Empty or type of mon",
       "style": "IPY_MODEL_1161d2e5971044549f510c935389527d"
      }
     },
     "4626d3d4310849efbf87a0fda1ab1fc0": {
      "model_module": "@jupyter-widgets/controls",
      "model_module_version": "1.5.0",
      "model_name": "ButtonModel",
      "state": {
       "description": "Refresh",
       "layout": "IPY_MODEL_b76315ba09644f4797a34af9662121b8",
       "style": "IPY_MODEL_9427fa6ca65b4c248f87d7d8145c02e8"
      }
     },
     "466144695da642bf98e42230ec8b3321": {
      "model_module": "@jupyter-widgets/controls",
      "model_module_version": "1.5.0",
      "model_name": "DescriptionStyleModel",
      "state": {
       "description_width": "initial"
      }
     },
     "46692091744c48eba46a75e440eb1bd2": {
      "model_module": "@jupyter-widgets/controls",
      "model_module_version": "1.5.0",
      "model_name": "ButtonModel",
      "state": {
       "description": "Insert comment",
       "layout": "IPY_MODEL_68144be7ed18424a88e919f73e8a4a64",
       "style": "IPY_MODEL_e9b3cc16fa6a4658b36b323580279411"
      }
     },
     "467985be4ab04d3f82089be5e8da4549": {
      "model_module": "@jupyter-widgets/base",
      "model_module_version": "1.2.0",
      "model_name": "LayoutModel",
      "state": {
       "height": "40px",
       "width": "300px"
      }
     },
     "4707954933284d29ae9dde7727cd6649": {
      "model_module": "@jupyter-widgets/base",
      "model_module_version": "1.2.0",
      "model_name": "LayoutModel",
      "state": {}
     },
     "470894a1f58b47948d9dafbe607ffbb8": {
      "model_module": "@jupyter-widgets/controls",
      "model_module_version": "1.5.0",
      "model_name": "ButtonStyleModel",
      "state": {}
     },
     "47125e5649274cc59e9d26d38f62f770": {
      "model_module": "@jupyter-widgets/controls",
      "model_module_version": "1.5.0",
      "model_name": "CheckboxModel",
      "state": {
       "description": "Horizontal focalisation:",
       "disabled": false,
       "layout": "IPY_MODEL_4441b00faa9d4c4c8c1f378e3c734c7a",
       "style": "IPY_MODEL_febdf768bd6247eb9fa454c3e941448a",
       "value": true
      }
     },
     "472b3ae82cdb4cc6b5aa6f801d25262f": {
      "model_module": "@jupyter-widgets/controls",
      "model_module_version": "1.5.0",
      "model_name": "TextModel",
      "state": {
       "description": "mon1:",
       "layout": "IPY_MODEL_686c1063d637444699b0cf2ea00bf68d",
       "placeholder": "Empty or type of mon",
       "style": "IPY_MODEL_af4c89f17e2e40eb833759afade02d74"
      }
     },
     "474c7075cfab443b9ec288a6d088c13d": {
      "model_module": "@jupyter-widgets/controls",
      "model_module_version": "1.5.0",
      "model_name": "DescriptionStyleModel",
      "state": {
       "description_width": "initial"
      }
     },
     "47f323cc734e4581a9b0bf9ea519b175": {
      "model_module": "@jupyter-widgets/controls",
      "model_module_version": "1.5.0",
      "model_name": "DescriptionStyleModel",
      "state": {
       "description_width": "initial"
      }
     },
     "480ea105ac104fed8d6b818282377810": {
      "model_module": "@jupyter-widgets/controls",
      "model_module_version": "1.5.0",
      "model_name": "CheckboxModel",
      "state": {
       "description": "Vertical focalisation:",
       "disabled": false,
       "layout": "IPY_MODEL_4441b00faa9d4c4c8c1f378e3c734c7a",
       "style": "IPY_MODEL_41b2970d82864e65b1dd47c7e027f9c2",
       "value": true
      }
     },
     "482ee66342dd48568b65872b8a59801c": {
      "model_module": "@jupyter-widgets/controls",
      "model_module_version": "1.5.0",
      "model_name": "HBoxModel",
      "state": {
       "children": [
        "IPY_MODEL_98d68dc1b9c447e3ab2317827e6e034f",
        "IPY_MODEL_f0144034868e42d4bc14d841c7d34d65",
        "IPY_MODEL_e2dcf533af574c4ab92b88a1758cc346",
        "IPY_MODEL_60a9d6c6577749f2b3d45cdd40457706"
       ],
       "layout": "IPY_MODEL_0ef382ed804e4517b2a76987a643a082"
      }
     },
     "483657ff8c49485db7958846940ac9f3": {
      "model_module": "@jupyter-widgets/controls",
      "model_module_version": "1.5.0",
      "model_name": "ButtonModel",
      "state": {
       "description": "Convert logs",
       "layout": "IPY_MODEL_79b5f6589bad4745a390b89410f91cca",
       "style": "IPY_MODEL_2dedadee2bbe4e999cb94e64fa42357d"
      }
     },
     "48aef12830504731a49629845ee2569c": {
      "model_module": "@jupyter-widgets/controls",
      "model_module_version": "1.5.0",
      "model_name": "DescriptionStyleModel",
      "state": {
       "description_width": "initial"
      }
     },
     "490ecb9858fd48d9ab79a71e40b1eba6": {
      "model_module": "@jupyter-widgets/controls",
      "model_module_version": "1.5.0",
      "model_name": "HBoxModel",
      "state": {
       "children": [
        "IPY_MODEL_ff29165bd7dc44389d3467653c3fd54d",
        "IPY_MODEL_5932eba534b0461683aa3498836e4ea3",
        "IPY_MODEL_f2323bacbd1d464bb8d3e7f3f7842dd0"
       ],
       "layout": "IPY_MODEL_4e55283e41e140b1b484f63c9f02b82e"
      }
     },
     "4911630622ef4cb1af82e32301a4ddee": {
      "model_module": "@jupyter-widgets/base",
      "model_module_version": "1.2.0",
      "model_name": "LayoutModel",
      "state": {}
     },
     "49166ac59bc54c8ebd1282ded677e079": {
      "model_module": "@jupyter-widgets/base",
      "model_module_version": "1.2.0",
      "model_name": "LayoutModel",
      "state": {}
     },
     "498271c1d3db4b75a714921a4f4f170a": {
      "model_module": "@jupyter-widgets/base",
      "model_module_version": "1.2.0",
      "model_name": "LayoutModel",
      "state": {}
     },
     "49902742e037474caebc3ee91fd8d5a0": {
      "model_module": "@jupyter-widgets/controls",
      "model_module_version": "1.5.0",
      "model_name": "ButtonStyleModel",
      "state": {}
     },
     "49a967293e9640aaa6b177912fe60c2a": {
      "model_module": "@jupyter-widgets/base",
      "model_module_version": "1.2.0",
      "model_name": "LayoutModel",
      "state": {
       "width": "150px"
      }
     },
     "49ac7430d9814b24ac291e071415e8b3": {
      "model_module": "@jupyter-widgets/base",
      "model_module_version": "1.2.0",
      "model_name": "LayoutModel",
      "state": {
       "width": "300px"
      }
     },
     "49cf1897b0e14945b6d1d4b374922ae4": {
      "model_module": "@jupyter-widgets/base",
      "model_module_version": "1.2.0",
      "model_name": "LayoutModel",
      "state": {}
     },
     "49f82f30091548c297f739d300741ba3": {
      "model_module": "@jupyter-widgets/controls",
      "model_module_version": "1.5.0",
      "model_name": "DescriptionStyleModel",
      "state": {
       "description_width": "initial"
      }
     },
     "4a0a64b3024946539ee86ed0b83dc333": {
      "model_module": "@jupyter-widgets/base",
      "model_module_version": "1.2.0",
      "model_name": "LayoutModel",
      "state": {}
     },
     "4a5922268db249608450b0558ac6a452": {
      "model_module": "@jupyter-widgets/controls",
      "model_module_version": "1.5.0",
      "model_name": "TextModel",
      "state": {
       "description": "Harmonic:",
       "layout": "IPY_MODEL_686c1063d637444699b0cf2ea00bf68d",
       "placeholder": "Value(s)",
       "style": "IPY_MODEL_66079be28e66438b8711d714c46ec159"
      }
     },
     "4a7657ed5c454eea95ad7de604cc02ae": {
      "model_module": "@jupyter-widgets/controls",
      "model_module_version": "1.5.0",
      "model_name": "TextareaModel",
      "state": {
       "description": "Detectors:",
       "layout": "IPY_MODEL_98363491c7d64638bd025ad862cfec75",
       "placeholder": "Type of detectors",
       "style": "IPY_MODEL_ecaf460d858f4282be8658bdc2ffeffc"
      }
     },
     "4ae17256abb04b7f876f640789f9179b": {
      "model_module": "@jupyter-widgets/controls",
      "model_module_version": "1.5.0",
      "model_name": "DropdownModel",
      "state": {
       "_options_labels": [
        "delta",
        "zs",
        "gamma",
        "hu36energy",
        "xs",
        "energydcm",
        "current",
        "mon2",
        "surfacepressure",
        "areapermolecule",
        "qxy",
        "pilatusroi1",
        "integration_time",
        "sensorsRelTimestamps",
        "sensorsTimestamps"
       ],
       "description": "yLabel",
       "index": 0,
       "layout": "IPY_MODEL_dff03b1883c448b6bcd215a818fb732f",
       "style": "IPY_MODEL_5a12426a6d5a4888a0e7994734ee3037"
      }
     },
     "4b03e68850124b9ab4d9ba914df81943": {
      "model_module": "@jupyter-widgets/base",
      "model_module_version": "1.2.0",
      "model_name": "LayoutModel",
      "state": {}
     },
     "4b0b0f53532a482381555f24077a3b68": {
      "model_module": "@jupyter-widgets/controls",
      "model_module_version": "1.5.0",
      "model_name": "ButtonStyleModel",
      "state": {}
     },
     "4b3f8b95aa8b4d8183361643d059fb22": {
      "model_module": "@jupyter-widgets/controls",
      "model_module_version": "1.5.0",
      "model_name": "DropdownModel",
      "state": {
       "_options_labels": [
        "M1-A Pt Track",
        "M1-A B4C Track",
        "M1-B (B4C)",
        "No M1"
       ],
       "description": "M1:",
       "index": 0,
       "layout": "IPY_MODEL_eff81c19d83b470caafb125744a0fc7b",
       "style": "IPY_MODEL_e6c076ab88f54d2eb63befc88abfc50c"
      }
     },
     "4bb5b50f14ad4d47b2c12b85eebc9ed2": {
      "model_module": "@jupyter-widgets/output",
      "model_module_version": "1.0.0",
      "model_name": "OutputModel",
      "state": {
       "layout": "IPY_MODEL_68ce281ae8994475bfe9f25697d7035a"
      }
     },
     "4c192ae1f972408eb5ffccb3f1064490": {
      "model_module": "@jupyter-widgets/controls",
      "model_module_version": "1.5.0",
      "model_name": "DescriptionStyleModel",
      "state": {
       "description_width": "initial"
      }
     },
     "4c551822400d4987841d9d9300b904d7": {
      "model_module": "@jupyter-widgets/base",
      "model_module_version": "1.2.0",
      "model_name": "LayoutModel",
      "state": {}
     },
     "4c9b0131b83e45af9417723c412cf7f2": {
      "model_module": "@jupyter-widgets/base",
      "model_module_version": "1.2.0",
      "model_name": "LayoutModel",
      "state": {}
     },
     "4c9be66ba5e743d692dcd98a380982d6": {
      "model_module": "@jupyter-widgets/output",
      "model_module_version": "1.0.0",
      "model_name": "OutputModel",
      "state": {
       "layout": "IPY_MODEL_3b14b9848d55425c973d43a23edad97c",
       "outputs": [
        {
         "data": {
          "image/png": "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\n",
          "text/plain": "<Figure size 432x288 with 1 Axes>"
         },
         "metadata": {
          "needs_background": "light"
         },
         "output_type": "display_data"
        }
       ]
      }
     },
     "4cec06740e0745569c2d5eff850a5de0": {
      "model_module": "@jupyter-widgets/controls",
      "model_module_version": "1.5.0",
      "model_name": "TextareaModel",
      "state": {
       "description": "Detectors:",
       "layout": "IPY_MODEL_563883aaaf3c4c3bb1c85b4bac7a5e1f",
       "placeholder": "Type of detectors",
       "style": "IPY_MODEL_abf98f00e6dd4780bfd0cdad8bea4a9e"
      }
     },
     "4d076903055b49d2998fb0cc3e8b8afd": {
      "model_module": "@jupyter-widgets/controls",
      "model_module_version": "1.5.0",
      "model_name": "HBoxModel",
      "state": {
       "children": [
        "IPY_MODEL_0e6e46fcab234ff0ae98c56e25724528",
        "IPY_MODEL_077fcf01e55e4dc0a68a91bd5a8044ff"
       ],
       "layout": "IPY_MODEL_3b2b893c934c445c893f613e664c21c3"
      }
     },
     "4d426881a6594afdb55305e03489f53d": {
      "model_module": "@jupyter-widgets/controls",
      "model_module_version": "1.5.0",
      "model_name": "ButtonModel",
      "state": {
       "description": "Export to PDF",
       "layout": "IPY_MODEL_ea57709a99a0411d9ddf87608cea49fa",
       "style": "IPY_MODEL_6646ca88ba4f44aba74f2f2c9433dcb0"
      }
     },
     "4d4bdc23f2e244dbb9ad4673e6db1b2a": {
      "model_module": "@jupyter-widgets/controls",
      "model_module_version": "1.5.0",
      "model_name": "TextModel",
      "state": {
       "description": "Horizontal beamsize (mm):",
       "layout": "IPY_MODEL_062de8601ece41ce934797275ec4be6f",
       "placeholder": "Value(s)",
       "style": "IPY_MODEL_d07c8cf28ef84eee985f9753cf722844"
      }
     },
     "4d52f280b72a4bd09c551b15b04e6775": {
      "model_module": "@jupyter-widgets/controls",
      "model_module_version": "1.5.0",
      "model_name": "VBoxModel",
      "state": {
       "_dom_classes": [
        "widget-interact"
       ],
       "children": [
        "IPY_MODEL_916de521737c492a862975bb551b03e4",
        "IPY_MODEL_8e793c9018d245cf8ae96f8b4e495e58",
        "IPY_MODEL_da9fa4a54e724189aa8506c5f9d9c70f"
       ],
       "layout": "IPY_MODEL_2d8b1099bfab4212b7578cba37c12782"
      }
     },
     "4d7577de3a08498fb8f404062856a464": {
      "model_module": "@jupyter-widgets/base",
      "model_module_version": "1.2.0",
      "model_name": "LayoutModel",
      "state": {}
     },
     "4dc296fb66e440b7899cebdf4bcbc7f9": {
      "model_module": "@jupyter-widgets/controls",
      "model_module_version": "1.5.0",
      "model_name": "ButtonStyleModel",
      "state": {}
     },
     "4dec8973ec634138823e4cbd699b4d02": {
      "model_module": "@jupyter-widgets/controls",
      "model_module_version": "1.5.0",
      "model_name": "DescriptionStyleModel",
      "state": {
       "description_width": "initial"
      }
     },
     "4df2710975174379b1c5d311c090c685": {
      "model_module": "@jupyter-widgets/controls",
      "model_module_version": "1.5.0",
      "model_name": "VBoxModel",
      "state": {
       "_dom_classes": [
        "widget-interact"
       ],
       "children": [
        "IPY_MODEL_b11fd1a5570e46c1985120355c63110f",
        "IPY_MODEL_c89faba072054fb9849755d21ea83d65",
        "IPY_MODEL_4c9be66ba5e743d692dcd98a380982d6"
       ],
       "layout": "IPY_MODEL_05fdeb6e011e45f5a915f124ae58c395"
      }
     },
     "4e1d81f2fe8444b1b32784c10fd6adbd": {
      "model_module": "@jupyter-widgets/base",
      "model_module_version": "1.2.0",
      "model_name": "LayoutModel",
      "state": {}
     },
     "4e3721a13a6141aba70cf430051a799a": {
      "model_module": "@jupyter-widgets/base",
      "model_module_version": "1.2.0",
      "model_name": "LayoutModel",
      "state": {}
     },
     "4e462a17f2c64f1f9e1b9b4cc576cf46": {
      "model_module": "@jupyter-widgets/base",
      "model_module_version": "1.2.0",
      "model_name": "LayoutModel",
      "state": {}
     },
     "4e55283e41e140b1b484f63c9f02b82e": {
      "model_module": "@jupyter-widgets/base",
      "model_module_version": "1.2.0",
      "model_name": "LayoutModel",
      "state": {}
     },
     "4e64a4ca7c96423c9e882830a6b2cafe": {
      "model_module": "@jupyter-widgets/controls",
      "model_module_version": "1.5.0",
      "model_name": "DescriptionStyleModel",
      "state": {
       "description_width": ""
      }
     },
     "4ecd3b3a23fe4333b18094db41047af9": {
      "model_module": "@jupyter-widgets/base",
      "model_module_version": "1.2.0",
      "model_name": "LayoutModel",
      "state": {}
     },
     "4f0ee3a87b3d450fbde6f6077420d32a": {
      "model_module": "@jupyter-widgets/base",
      "model_module_version": "1.2.0",
      "model_name": "LayoutModel",
      "state": {}
     },
     "50106247eef144f1a408ae6eb01b66df": {
      "model_module": "@jupyter-widgets/base",
      "model_module_version": "1.2.0",
      "model_name": "LayoutModel",
      "state": {}
     },
     "503cfa5a9e154642a8e7f29321c5dd36": {
      "model_module": "@jupyter-widgets/controls",
      "model_module_version": "1.5.0",
      "model_name": "TextModel",
      "state": {
       "description": "moy to create",
       "layout": "IPY_MODEL_06cdf8ed30a0478fbef1464530893476",
       "style": "IPY_MODEL_3fb319564ce14b699e0da4247044e579",
       "value": "10, 20, 40"
      }
     },
     "505361f982294727864dd6f574e47d20": {
      "model_module": "@jupyter-widgets/controls",
      "model_module_version": "1.5.0",
      "model_name": "DropdownModel",
      "state": {
       "_options_labels": [
        "M2 Pt Track",
        "M2 B4C Track",
        "No M2"
       ],
       "description": "M2:",
       "index": 0,
       "layout": "IPY_MODEL_71bc3294c90f40fcae683215d587bd2b",
       "style": "IPY_MODEL_d9994dfe734c46e7825a39cb5fa5d539"
      }
     },
     "507005f7078c41fa9b5c1e486676430f": {
      "model_module": "@jupyter-widgets/base",
      "model_module_version": "1.2.0",
      "model_name": "LayoutModel",
      "state": {}
     },
     "508b78282a904c319f2aefce23d7ff4a": {
      "model_module": "@jupyter-widgets/base",
      "model_module_version": "1.2.0",
      "model_name": "LayoutModel",
      "state": {}
     },
     "508e8fe084c54c5ab330a537e2481422": {
      "model_module": "@jupyter-widgets/controls",
      "model_module_version": "1.5.0",
      "model_name": "ButtonStyleModel",
      "state": {}
     },
     "50a32d87902840519bff30fcad35b66b": {
      "model_module": "@jupyter-widgets/controls",
      "model_module_version": "1.5.0",
      "model_name": "ButtonModel",
      "state": {
       "description": "Calib. theta z",
       "layout": "IPY_MODEL_0b9a6795eee74c9094327fac5eaaadf3",
       "style": "IPY_MODEL_53bfdba11026444e985fc14bc932abac"
      }
     },
     "50ed72dc3732458caa3b861892dac903": {
      "model_module": "@jupyter-widgets/base",
      "model_module_version": "1.2.0",
      "model_name": "LayoutModel",
      "state": {}
     },
     "5104de47f12449949b82e3165f1b973b": {
      "model_module": "@jupyter-widgets/base",
      "model_module_version": "1.2.0",
      "model_name": "LayoutModel",
      "state": {}
     },
     "5108677e4f974183a01326cde2e410fd": {
      "model_module": "@jupyter-widgets/controls",
      "model_module_version": "1.5.0",
      "model_name": "DescriptionStyleModel",
      "state": {
       "description_width": "initial"
      }
     },
     "51462a19ce1044d8b9b987e08723427a": {
      "model_module": "@jupyter-widgets/base",
      "model_module_version": "1.2.0",
      "model_name": "LayoutModel",
      "state": {}
     },
     "51794a7a785a4c71a809a10025298bdb": {
      "model_module": "@jupyter-widgets/controls",
      "model_module_version": "1.5.0",
      "model_name": "HBoxModel",
      "state": {
       "children": [
        "IPY_MODEL_d784806da7624279a800bdaff6866c6a",
        "IPY_MODEL_7d59c848874145bc839b43bb7eecb000"
       ],
       "layout": "IPY_MODEL_1dd4cf1d8815496d9d407d77e0d9c8c6"
      }
     },
     "518a4249fcd84c7484d841a26a21544c": {
      "model_module": "@jupyter-widgets/controls",
      "model_module_version": "1.5.0",
      "model_name": "DescriptionStyleModel",
      "state": {
       "description_width": "initial"
      }
     },
     "51ea6357cf874aab970968535959d382": {
      "model_module": "@jupyter-widgets/controls",
      "model_module_version": "1.5.0",
      "model_name": "DescriptionStyleModel",
      "state": {
       "description_width": "initial"
      }
     },
     "520213593aa2483b82868da20b95bd83": {
      "model_module": "@jupyter-widgets/controls",
      "model_module_version": "1.5.0",
      "model_name": "DescriptionStyleModel",
      "state": {
       "description_width": "initial"
      }
     },
     "52207643ab6b49309c7c37de433da428": {
      "model_module": "@jupyter-widgets/base",
      "model_module_version": "1.2.0",
      "model_name": "LayoutModel",
      "state": {}
     },
     "523fee935aee46c0a61fbd9f654ad295": {
      "model_module": "@jupyter-widgets/controls",
      "model_module_version": "1.5.0",
      "model_name": "DescriptionStyleModel",
      "state": {
       "description_width": "initial"
      }
     },
     "5253dfd80fa745bb898ac4f17b0eb371": {
      "model_module": "@jupyter-widgets/base",
      "model_module_version": "1.2.0",
      "model_name": "LayoutModel",
      "state": {}
     },
     "5263d9277b394270a713385518ce0db4": {
      "model_module": "@jupyter-widgets/controls",
      "model_module_version": "1.5.0",
      "model_name": "DropdownModel",
      "state": {
       "_options_labels": [
        "Fixed",
        "Variable"
       ],
       "description": "Fixed/Variable energy:",
       "index": 0,
       "layout": "IPY_MODEL_636c0236e7e642c38b7fb5c6d59779c8",
       "style": "IPY_MODEL_bcf5ee6f54db44f2baf9108e0b914e4d"
      }
     },
     "52eb80ecad7848b78a6fbfbd4b222c02": {
      "model_module": "@jupyter-widgets/controls",
      "model_module_version": "1.5.0",
      "model_name": "DescriptionStyleModel",
      "state": {
       "description_width": ""
      }
     },
     "52ef44135a3e45adb3ab98d9acba03aa": {
      "model_module": "@jupyter-widgets/controls",
      "model_module_version": "1.5.0",
      "model_name": "DropdownModel",
      "state": {
       "_options_labels": [
        "Si111",
        "InSb",
        "Not Used"
       ],
       "description": "DCM:",
       "index": 0,
       "layout": "IPY_MODEL_b65bbcd1586d43e09a59e6267cda66ed",
       "style": "IPY_MODEL_99f2e7d2254d4524964cddc509204cdf"
      }
     },
     "538615eae31c40b2824d9f56bf47fa66": {
      "model_module": "@jupyter-widgets/controls",
      "model_module_version": "1.5.0",
      "model_name": "HBoxModel",
      "state": {
       "children": [
        "IPY_MODEL_123429b74b3a4f57bd6ddc7ffa59c250",
        "IPY_MODEL_629948d1fd2349b39c3541036f26579e",
        "IPY_MODEL_64e5b7ed99754e24ba9900c819036248",
        "IPY_MODEL_ac52bf6cad1f45f2929e751b5698d4fa"
       ],
       "layout": "IPY_MODEL_5c723db591904ea186872c9838e7762f"
      }
     },
     "538af724aac84c0b8548116342b129cb": {
      "model_module": "@jupyter-widgets/controls",
      "model_module_version": "1.5.0",
      "model_name": "ButtonModel",
      "state": {
       "description": "Calib. theta z",
       "layout": "IPY_MODEL_854da794b6524eb59454f573a43cf11a",
       "style": "IPY_MODEL_11bc70d574fa45e895c98b6a7724edf3"
      }
     },
     "53bfdba11026444e985fc14bc932abac": {
      "model_module": "@jupyter-widgets/controls",
      "model_module_version": "1.5.0",
      "model_name": "ButtonStyleModel",
      "state": {}
     },
     "53c5a720e4434c7b9599c4425af0082c": {
      "model_module": "@jupyter-widgets/controls",
      "model_module_version": "1.5.0",
      "model_name": "ButtonModel",
      "state": {
       "description": "Fit with erf",
       "layout": "IPY_MODEL_241d9299e2824d42ac11ce4f202bb87d",
       "style": "IPY_MODEL_9b50d9c860744716ad4d78e62d3a3045"
      }
     },
     "53dc16fb588c4525891aea45829e7bb9": {
      "model_module": "@jupyter-widgets/base",
      "model_module_version": "1.2.0",
      "model_name": "LayoutModel",
      "state": {}
     },
     "53f055b41ef54a398a391172b3d4837d": {
      "model_module": "@jupyter-widgets/controls",
      "model_module_version": "1.5.0",
      "model_name": "TextModel",
      "state": {
       "description": "Horizontal beamsize (mm):",
       "layout": "IPY_MODEL_b4c6cc9946d14fbcb3540493567ad192",
       "placeholder": "Value(s)",
       "style": "IPY_MODEL_ff570fab2d044544bd6fc7a9e4a609bc"
      }
     },
     "53fe22d004a74d4f9500ccda83dcea52": {
      "model_module": "@jupyter-widgets/controls",
      "model_module_version": "1.5.0",
      "model_name": "DropdownModel",
      "state": {
       "_options_labels": [
        "In use",
        "Not used"
       ],
       "description": "MGM:",
       "index": 1,
       "layout": "IPY_MODEL_c629f00d3e4942a5b64e29c903b833e2",
       "style": "IPY_MODEL_27d686878ab445299a5c2b6f283615f3"
      }
     },
     "540f6f93511b46148b35c41121439e8f": {
      "model_module": "@jupyter-widgets/controls",
      "model_module_version": "1.5.0",
      "model_name": "HBoxModel",
      "state": {
       "children": [
        "IPY_MODEL_f5bc9fdbeaea48c3942d8ab829ee652c",
        "IPY_MODEL_ed58bc429a054a09959bd07e73c992e9"
       ],
       "layout": "IPY_MODEL_d9b053aba24d4b97ae9ad856527d926a"
      }
     },
     "541209954b624c369de989921084cab4": {
      "model_module": "@jupyter-widgets/controls",
      "model_module_version": "1.5.0",
      "model_name": "HBoxModel",
      "state": {
       "children": [
        "IPY_MODEL_23b90afc8335459aae77ad1edd01ee5b",
        "IPY_MODEL_39079f026a864e33ac476e0079f1fb06"
       ],
       "layout": "IPY_MODEL_2e936416ed7f4d668399079f4dda803f"
      }
     },
     "54ab771e1bae4505822b93b45620357f": {
      "model_module": "@jupyter-widgets/base",
      "model_module_version": "1.2.0",
      "model_name": "LayoutModel",
      "state": {}
     },
     "54ada8ad92e740c8b073bacac7bef8df": {
      "model_module": "@jupyter-widgets/controls",
      "model_module_version": "1.5.0",
      "model_name": "DescriptionStyleModel",
      "state": {
       "description_width": "initial"
      }
     },
     "54ced7333bd1468fa57f6a322effe99f": {
      "model_module": "@jupyter-widgets/controls",
      "model_module_version": "1.5.0",
      "model_name": "TextModel",
      "state": {
       "description": "Polarisation:",
       "layout": "IPY_MODEL_ac1a62b3ce5b4317865a384051361bed",
       "placeholder": "Value(s)",
       "style": "IPY_MODEL_e5803fe970a544cc8ce535b6dead2ca7",
       "value": "LH"
      }
     },
     "5505e25dc5c14617a3cde934ddaa4935": {
      "model_module": "@jupyter-widgets/controls",
      "model_module_version": "1.5.0",
      "model_name": "DescriptionStyleModel",
      "state": {
       "description_width": "initial"
      }
     },
     "554b3323f05d44e5837f1e1d38b2b2ad": {
      "model_module": "@jupyter-widgets/base",
      "model_module_version": "1.2.0",
      "model_name": "LayoutModel",
      "state": {}
     },
     "556b6b8997434790b122dab8a00ff4b3": {
      "model_module": "@jupyter-widgets/base",
      "model_module_version": "1.2.0",
      "model_name": "LayoutModel",
      "state": {}
     },
     "558f0e2d2b6e471cb7c6f5226298223d": {
      "model_module": "@jupyter-widgets/controls",
      "model_module_version": "1.5.0",
      "model_name": "DescriptionStyleModel",
      "state": {
       "description_width": "initial"
      }
     },
     "55fed8225d4d407d8c1c8775f388d256": {
      "model_module": "@jupyter-widgets/controls",
      "model_module_version": "1.5.0",
      "model_name": "ButtonStyleModel",
      "state": {}
     },
     "5622b5f52b134fe4a136b017065eb818": {
      "model_module": "@jupyter-widgets/base",
      "model_module_version": "1.2.0",
      "model_name": "LayoutModel",
      "state": {}
     },
     "56341a3570fa4e3495de098fa3080fb5": {
      "model_module": "@jupyter-widgets/controls",
      "model_module_version": "1.5.0",
      "model_name": "TextModel",
      "state": {
       "description": "Wavelength (nm):",
       "layout": "IPY_MODEL_6faf68ef2f054ab08877f9bd20cd7eb5",
       "placeholder": "Value(s)",
       "style": "IPY_MODEL_eacaffc9e90940fe8f1a03ee8449aed8"
      }
     },
     "563883aaaf3c4c3bb1c85b4bac7a5e1f": {
      "model_module": "@jupyter-widgets/base",
      "model_module_version": "1.2.0",
      "model_name": "LayoutModel",
      "state": {
       "height": "40px",
       "width": "800px"
      }
     },
     "565259c8c8794eaf84cf3c4fecbfdc0f": {
      "model_module": "@jupyter-widgets/base",
      "model_module_version": "1.2.0",
      "model_name": "LayoutModel",
      "state": {}
     },
     "567cae1bd76a4e3fb492ae7f53fa684a": {
      "model_module": "@jupyter-widgets/base",
      "model_module_version": "1.2.0",
      "model_name": "LayoutModel",
      "state": {}
     },
     "56863d1d372b42e1935d0a3c5951d608": {
      "model_module": "@jupyter-widgets/controls",
      "model_module_version": "1.5.0",
      "model_name": "SelectMultipleModel",
      "state": {
       "_options_labels": [
        "SIRIUS_Isotherm_2019_02_17_01544.nxs",
        "SIRIUS_Fluo_2020_07_03_00422.nxs",
        "SIRIUS_Fluo_2020_07_03_0042.nxs",
        "SIRIUS_2020_07_17_1613.nxs",
        "SIRIUS_2020_07_17_1610.nxs",
        "SIRIUS_2020_07_16_1555.nxs",
        "SIRIUS_2020_03_12_0760.nxs",
        "SIRIUS_2020_03_12_0756.nxs",
        "SIRIUS_2020_03_11_0752.nxs",
        "SIRIUS_2020_03_11_0744.nxs",
        "SIRIUS_2019_11_07_00325.nxs",
        "SIRIUS_2017_12_11_08042.nxs"
       ],
       "description": "Next scan(s):",
       "index": [
        7
       ],
       "layout": "IPY_MODEL_a324991ca94a4fb8a2a5b7ab4e7cc69e",
       "rows": 10,
       "style": "IPY_MODEL_8f14962062694ce3ba34ff90abb6f130"
      }
     },
     "5687c1ac71c144c79b13368e104f4ac8": {
      "model_module": "@jupyter-widgets/base",
      "model_module_version": "1.2.0",
      "model_name": "LayoutModel",
      "state": {
       "width": "300px"
      }
     },
     "5689105935854f9a8573cc4a63c5ca1e": {
      "model_module": "@jupyter-widgets/controls",
      "model_module_version": "1.5.0",
      "model_name": "DescriptionStyleModel",
      "state": {
       "description_width": "initial"
      }
     },
     "569d838181a0456b9ce02c0758abdc8e": {
      "model_module": "@jupyter-widgets/base",
      "model_module_version": "1.2.0",
      "model_name": "LayoutModel",
      "state": {}
     },
     "56d269c37902442581f7736ec7f7f82a": {
      "model_module": "@jupyter-widgets/base",
      "model_module_version": "1.2.0",
      "model_name": "LayoutModel",
      "state": {
       "width": "150px"
      }
     },
     "56e9ac2d39a1437280a774e366a5b01a": {
      "model_module": "@jupyter-widgets/controls",
      "model_module_version": "1.5.0",
      "model_name": "DescriptionStyleModel",
      "state": {
       "description_width": "initial"
      }
     },
     "56f80a539d0449deaff40a8c277a2a6b": {
      "model_module": "@jupyter-widgets/controls",
      "model_module_version": "1.5.0",
      "model_name": "ButtonModel",
      "state": {
       "description": "Insert commands",
       "layout": "IPY_MODEL_5f179887d61847dca303c2d502d31818",
       "style": "IPY_MODEL_20c4186c86fa4803b48d6810e54670ee"
      }
     },
     "5707e472edfd459d89a5d2a6227a4771": {
      "model_module": "@jupyter-widgets/controls",
      "model_module_version": "1.5.0",
      "model_name": "TextModel",
      "state": {
       "description": "Main proposer:",
       "layout": "IPY_MODEL_686c1063d637444699b0cf2ea00bf68d",
       "placeholder": "Name",
       "style": "IPY_MODEL_0614faef13644e829fd49be91a32b192"
      }
     },
     "57247ea47ea3484b8daf7a2184146526": {
      "model_module": "@jupyter-widgets/controls",
      "model_module_version": "1.5.0",
      "model_name": "DescriptionStyleModel",
      "state": {
       "description_width": "initial"
      }
     },
     "572c314019f146399dc735046414b806": {
      "model_module": "@jupyter-widgets/controls",
      "model_module_version": "1.5.0",
      "model_name": "DescriptionStyleModel",
      "state": {
       "description_width": "initial"
      }
     },
     "572cd6e1e3fe4ffd831e08afec4d4b62": {
      "model_module": "@jupyter-widgets/controls",
      "model_module_version": "1.5.0",
      "model_name": "ButtonModel",
      "state": {
       "description": "Refresh",
       "layout": "IPY_MODEL_96212c9e082a42d78c09a52fa1182154",
       "style": "IPY_MODEL_45f8ef4edb4c437887538ab15fe5296e"
      }
     },
     "5746b8b9e4ba416b9539688fa4843405": {
      "model_module": "@jupyter-widgets/base",
      "model_module_version": "1.2.0",
      "model_name": "LayoutModel",
      "state": {}
     },
     "576d53f4232e401888a0d99576b4a6df": {
      "model_module": "@jupyter-widgets/controls",
      "model_module_version": "1.5.0",
      "model_name": "ButtonStyleModel",
      "state": {}
     },
     "5774bec5402443e7b766cdb590d8ab3b": {
      "model_module": "@jupyter-widgets/controls",
      "model_module_version": "1.5.0",
      "model_name": "ButtonModel",
      "state": {
       "description": "Fill form",
       "layout": "IPY_MODEL_8a5bcdb208d9446a82815ff5adaa25be",
       "style": "IPY_MODEL_98c413c03b5943a8b5080d06a2b60b77"
      }
     },
     "57ec109de86340c89c114b3ce5e79886": {
      "model_module": "@jupyter-widgets/controls",
      "model_module_version": "1.5.0",
      "model_name": "HBoxModel",
      "state": {
       "children": [
        "IPY_MODEL_5774bec5402443e7b766cdb590d8ab3b",
        "IPY_MODEL_9252576cebf840d482a6dbcd82308dbc",
        "IPY_MODEL_09baf302ad4a435a820dc62936337ee8",
        "IPY_MODEL_4d426881a6594afdb55305e03489f53d"
       ],
       "layout": "IPY_MODEL_ddbf9d053fe14a47b8c2ff49389760a6"
      }
     },
     "581316a9fff14d7bb6a44ca34e4d6388": {
      "model_module": "@jupyter-widgets/controls",
      "model_module_version": "1.5.0",
      "model_name": "HBoxModel",
      "state": {
       "children": [
        "IPY_MODEL_778caf25f4294ad1925831d0d5489816",
        "IPY_MODEL_15a9d12c428948948a577a2955e9bdc7"
       ],
       "layout": "IPY_MODEL_8f060447a2c34049b37fbae797ef45b1"
      }
     },
     "5851c17927884108ad3d3a50c65f6df4": {
      "model_module": "@jupyter-widgets/base",
      "model_module_version": "1.2.0",
      "model_name": "LayoutModel",
      "state": {}
     },
     "585524a9b6e24a7cb8197523dee4e62c": {
      "model_module": "@jupyter-widgets/base",
      "model_module_version": "1.2.0",
      "model_name": "LayoutModel",
      "state": {}
     },
     "589b7a1ec6d843a291dc48f613035c91": {
      "model_module": "@jupyter-widgets/base",
      "model_module_version": "1.2.0",
      "model_name": "LayoutModel",
      "state": {
       "width": "200px"
      }
     },
     "58a4aa74326a4091959ce0bce2442d7d": {
      "model_module": "@jupyter-widgets/controls",
      "model_module_version": "1.5.0",
      "model_name": "DescriptionStyleModel",
      "state": {
       "description_width": ""
      }
     },
     "5932eba534b0461683aa3498836e4ea3": {
      "model_module": "@jupyter-widgets/controls",
      "model_module_version": "1.5.0",
      "model_name": "TextModel",
      "state": {
       "description": "Energy (keV):",
       "layout": "IPY_MODEL_467985be4ab04d3f82089be5e8da4549",
       "placeholder": "Value(s)",
       "style": "IPY_MODEL_bd9b7402c6c949c8b5438389c2e38927"
      }
     },
     "595ebbe75ab54bd1b0215841db26da4b": {
      "model_module": "@jupyter-widgets/controls",
      "model_module_version": "1.5.0",
      "model_name": "HBoxModel",
      "state": {
       "children": [
        "IPY_MODEL_6ed372db578740dc9a141025b57f4725",
        "IPY_MODEL_05570406e72b4c38a92f6d47139d5edc",
        "IPY_MODEL_30a9ca85803a491f9da35cb4ca76066a",
        "IPY_MODEL_5ce6e41a8d6e41a797d201d7ce811a05"
       ],
       "layout": "IPY_MODEL_4e1d81f2fe8444b1b32784c10fd6adbd"
      }
     },
     "59a7d16e7c2146a28f7f75317397db52": {
      "model_module": "@jupyter-widgets/controls",
      "model_module_version": "1.5.0",
      "model_name": "ButtonStyleModel",
      "state": {}
     },
     "59db8eda571040e297ffbb5bb37bd118": {
      "model_module": "@jupyter-widgets/base",
      "model_module_version": "1.2.0",
      "model_name": "LayoutModel",
      "state": {}
     },
     "5a09d891f9244a46804d1a4416ce724e": {
      "model_module": "@jupyter-widgets/controls",
      "model_module_version": "1.5.0",
      "model_name": "TextModel",
      "state": {
       "description": "Experiment number:",
       "layout": "IPY_MODEL_467985be4ab04d3f82089be5e8da4549",
       "placeholder": "Number",
       "style": "IPY_MODEL_11047219594349b2b77e4e6b182af963"
      }
     },
     "5a12426a6d5a4888a0e7994734ee3037": {
      "model_module": "@jupyter-widgets/controls",
      "model_module_version": "1.5.0",
      "model_name": "DescriptionStyleModel",
      "state": {
       "description_width": ""
      }
     },
     "5a2ea7f673844e7abcf76192a5ff199c": {
      "model_module": "@jupyter-widgets/controls",
      "model_module_version": "1.5.0",
      "model_name": "DescriptionStyleModel",
      "state": {
       "description_width": "initial"
      }
     },
     "5a5c6ab1882142cb97fb9f96317ae635": {
      "model_module": "@jupyter-widgets/controls",
      "model_module_version": "1.5.0",
      "model_name": "ButtonModel",
      "state": {
       "description": "Plot GIXS",
       "layout": "IPY_MODEL_b3a6d9550afb4fe9aa602ea379bce012",
       "style": "IPY_MODEL_f545b6737f7b42c49da195707d3de713"
      }
     },
     "5a881d984f3a4d43bd1523838778faa6": {
      "model_module": "@jupyter-widgets/base",
      "model_module_version": "1.2.0",
      "model_name": "LayoutModel",
      "state": {}
     },
     "5ab1f590b04142569ac4923d80f461a6": {
      "model_module": "@jupyter-widgets/controls",
      "model_module_version": "1.5.0",
      "model_name": "ButtonStyleModel",
      "state": {}
     },
     "5abd9c58ec2948849328d88c0b06df58": {
      "model_module": "@jupyter-widgets/base",
      "model_module_version": "1.2.0",
      "model_name": "LayoutModel",
      "state": {}
     },
     "5b57e87450574079865e4f6616785755": {
      "model_module": "@jupyter-widgets/base",
      "model_module_version": "1.2.0",
      "model_name": "LayoutModel",
      "state": {}
     },
     "5b7788ca7c0e4432b423b831a5c23dea": {
      "model_module": "@jupyter-widgets/controls",
      "model_module_version": "1.5.0",
      "model_name": "DescriptionStyleModel",
      "state": {
       "description_width": "initial"
      }
     },
     "5bc2609975574527b14a3a9f01555c5a": {
      "model_module": "@jupyter-widgets/base",
      "model_module_version": "1.2.0",
      "model_name": "LayoutModel",
      "state": {}
     },
     "5bc60a5c7b0b4f89b80e83ec774e7778": {
      "model_module": "@jupyter-widgets/controls",
      "model_module_version": "1.5.0",
      "model_name": "ButtonModel",
      "state": {
       "description": "Fill form",
       "layout": "IPY_MODEL_edb8a8237ecc46ba99e815bd641d0f24",
       "style": "IPY_MODEL_1ba242a1224842769c96da330e273d4a"
      }
     },
     "5bc6691e03864081a87725caf8ae0063": {
      "model_module": "@jupyter-widgets/controls",
      "model_module_version": "1.5.0",
      "model_name": "ButtonModel",
      "state": {
       "description": "Add plot to report",
       "layout": "IPY_MODEL_2d6b92ef98d542d8b129ca9548ac263c",
       "style": "IPY_MODEL_a9d7172436cd46b8a4b40ebc5209aed5"
      }
     },
     "5c169f2c17dd4313ae532e6f5bd09e2c": {
      "model_module": "@jupyter-widgets/controls",
      "model_module_version": "1.5.0",
      "model_name": "HBoxModel",
      "state": {
       "children": [
        "IPY_MODEL_9e89fe0f42694c8c9b1853b6959339d9",
        "IPY_MODEL_2e768ac221db450ab6cf30dc8e69568d",
        "IPY_MODEL_efc85ea576184419b918477ec918cbf3",
        "IPY_MODEL_46082761502748b68ab5a51e05f1bd3a"
       ],
       "layout": "IPY_MODEL_3027953c17074ab493b71c303a29ce42"
      }
     },
     "5c723db591904ea186872c9838e7762f": {
      "model_module": "@jupyter-widgets/base",
      "model_module_version": "1.2.0",
      "model_name": "LayoutModel",
      "state": {}
     },
     "5ca8547978a647ca8f8f6dc1de7b6c73": {
      "model_module": "@jupyter-widgets/base",
      "model_module_version": "1.2.0",
      "model_name": "LayoutModel",
      "state": {}
     },
     "5ce6e41a8d6e41a797d201d7ce811a05": {
      "model_module": "@jupyter-widgets/controls",
      "model_module_version": "1.5.0",
      "model_name": "DropdownModel",
      "state": {
       "_options_labels": [
        "M4 Pt Track",
        "M4 Si Track",
        "No M4"
       ],
       "description": "M4:",
       "index": 0,
       "layout": "IPY_MODEL_fa27b55e524a4e77a48b54e48eec0943",
       "style": "IPY_MODEL_49f82f30091548c297f739d300741ba3"
      }
     },
     "5d398687cb58486a83d096e9801bd64d": {
      "model_module": "@jupyter-widgets/controls",
      "model_module_version": "1.5.0",
      "model_name": "DescriptionStyleModel",
      "state": {
       "description_width": "initial"
      }
     },
     "5d3c52c7c4234b4b889d64289f37fbc1": {
      "model_module": "@jupyter-widgets/controls",
      "model_module_version": "1.5.0",
      "model_name": "SelectMultipleModel",
      "state": {
       "_options_labels": [
        "SIRIUS_Isotherm_2019_02_17_01544.nxs",
        "SIRIUS_Fluo_2020_07_03_00422.nxs",
        "SIRIUS_Fluo_2020_07_03_0042.nxs",
        "SIRIUS_2020_07_17_1613.nxs",
        "SIRIUS_2020_07_17_1610.nxs",
        "SIRIUS_2020_07_16_1555.nxs",
        "SIRIUS_2020_03_12_0760.nxs",
        "SIRIUS_2020_03_12_0756.nxs",
        "SIRIUS_2020_03_11_0752.nxs",
        "SIRIUS_2020_03_11_0744.nxs",
        "SIRIUS_2019_11_07_00325.nxs",
        "SIRIUS_2017_12_11_08042.nxs"
       ],
       "description": "Next scan(s):",
       "index": [],
       "layout": "IPY_MODEL_650639645e49475781e2bee05cded6a7",
       "rows": 10,
       "style": "IPY_MODEL_74b0be5d5be8437fa1e3ce0bcf3350ce"
      }
     },
     "5d78df194e5a4c7b9d3b8181ac870ec3": {
      "model_module": "@jupyter-widgets/controls",
      "model_module_version": "1.5.0",
      "model_name": "ButtonStyleModel",
      "state": {}
     },
     "5d7adabcc90346ae80cea8779e94e611": {
      "model_module": "@jupyter-widgets/base",
      "model_module_version": "1.2.0",
      "model_name": "LayoutModel",
      "state": {}
     },
     "5dbea576afae4ec8ac13994b5f7a39e2": {
      "model_module": "@jupyter-widgets/base",
      "model_module_version": "1.2.0",
      "model_name": "LayoutModel",
      "state": {}
     },
     "5dd97ffb95294441b0d206a78caafb48": {
      "model_module": "@jupyter-widgets/controls",
      "model_module_version": "1.5.0",
      "model_name": "HBoxModel",
      "state": {
       "children": [
        "IPY_MODEL_e0980c4196a641549c3d0ad80fd6d3ee",
        "IPY_MODEL_d69df750b09f4340b5190375b71e6e3d"
       ],
       "layout": "IPY_MODEL_750843e1ce064174a1a6b6a0d7e4d7c0"
      }
     },
     "5de13d1ab98549219c581e52713d96f9": {
      "model_module": "@jupyter-widgets/controls",
      "model_module_version": "1.5.0",
      "model_name": "ButtonStyleModel",
      "state": {}
     },
     "5e000f23e0ee4ab5a3ff692f058b5cd6": {
      "model_module": "@jupyter-widgets/controls",
      "model_module_version": "1.5.0",
      "model_name": "ButtonModel",
      "state": {
       "description": "Refresh",
       "layout": "IPY_MODEL_906f25f3f04a4051a430a812ff5904ae",
       "style": "IPY_MODEL_4b0b0f53532a482381555f24077a3b68"
      }
     },
     "5e1785d3524f484ab018e565b81135cf": {
      "model_module": "@jupyter-widgets/base",
      "model_module_version": "1.2.0",
      "model_name": "LayoutModel",
      "state": {}
     },
     "5e1e549aa5d5478ba8187fabe081ea73": {
      "model_module": "@jupyter-widgets/base",
      "model_module_version": "1.2.0",
      "model_name": "LayoutModel",
      "state": {}
     },
     "5e79915063cd426d94c8ae8fc4052290": {
      "model_module": "@jupyter-widgets/controls",
      "model_module_version": "1.5.0",
      "model_name": "TextModel",
      "state": {
       "description": "Harmonic:",
       "layout": "IPY_MODEL_e917d212456d4b2988c1979851b9037e",
       "placeholder": "Value(s)",
       "style": "IPY_MODEL_b0e9a15334564273a6b3cdbf57bd5dfb"
      }
     },
     "5f179887d61847dca303c2d502d31818": {
      "model_module": "@jupyter-widgets/base",
      "model_module_version": "1.2.0",
      "model_name": "LayoutModel",
      "state": {}
     },
     "5f3a0dfd70d740f98b3139639a8e0c00": {
      "model_module": "@jupyter-widgets/controls",
      "model_module_version": "1.5.0",
      "model_name": "DescriptionStyleModel",
      "state": {
       "description_width": ""
      }
     },
     "5f42e0b70ef34231a0951eed051e1514": {
      "model_module": "@jupyter-widgets/controls",
      "model_module_version": "1.5.0",
      "model_name": "DescriptionStyleModel",
      "state": {
       "description_width": "initial"
      }
     },
     "5f9a6bb7d323411186db75eb5f845690": {
      "model_module": "@jupyter-widgets/controls",
      "model_module_version": "1.5.0",
      "model_name": "ButtonStyleModel",
      "state": {}
     },
     "5f9d3a0b93c44e21a03bd67a19f02117": {
      "model_module": "@jupyter-widgets/controls",
      "model_module_version": "1.5.0",
      "model_name": "ButtonStyleModel",
      "state": {}
     },
     "5ff712ebb29248aba3f51082cb2426d2": {
      "model_module": "@jupyter-widgets/controls",
      "model_module_version": "1.5.0",
      "model_name": "DescriptionStyleModel",
      "state": {
       "description_width": "initial"
      }
     },
     "605d35c03cc245efb2d1014227151a44": {
      "model_module": "@jupyter-widgets/controls",
      "model_module_version": "1.5.0",
      "model_name": "ButtonStyleModel",
      "state": {}
     },
     "6078c96257404ad3835113bfc7be7570": {
      "model_module": "@jupyter-widgets/controls",
      "model_module_version": "1.5.0",
      "model_name": "ButtonModel",
      "state": {
       "description": "Insert commands",
       "layout": "IPY_MODEL_858d6363fdb7433da2ad950f84fee505",
       "style": "IPY_MODEL_6e73c3288ed146d7b6d3d332c6b15534"
      }
     },
     "6089e0563747465eb071a6b2aa49c279": {
      "model_module": "@jupyter-widgets/controls",
      "model_module_version": "1.5.0",
      "model_name": "ButtonStyleModel",
      "state": {}
     },
     "60a9d6c6577749f2b3d45cdd40457706": {
      "model_module": "@jupyter-widgets/controls",
      "model_module_version": "1.5.0",
      "model_name": "ButtonModel",
      "state": {
       "description": "Insert commands",
       "layout": "IPY_MODEL_7ca71cbcdadd4bd49e1cd8aeaa0dcb60",
       "style": "IPY_MODEL_576d53f4232e401888a0d99576b4a6df"
      }
     },
     "60b32425e2eb4b858106d13bb6263cae": {
      "model_module": "@jupyter-widgets/controls",
      "model_module_version": "1.5.0",
      "model_name": "TextModel",
      "state": {
       "description": "Current:",
       "layout": "IPY_MODEL_6faf68ef2f054ab08877f9bd20cd7eb5",
       "placeholder": "450 mA, 500 mA, ...",
       "style": "IPY_MODEL_5a2ea7f673844e7abcf76192a5ff199c"
      }
     },
     "614d1dbaf6db464ab633b8b20276c51d": {
      "model_module": "@jupyter-widgets/controls",
      "model_module_version": "1.5.0",
      "model_name": "ButtonStyleModel",
      "state": {}
     },
     "61b1883c6482429b91b2f21519475c31": {
      "model_module": "@jupyter-widgets/controls",
      "model_module_version": "1.5.0",
      "model_name": "ButtonModel",
      "state": {
       "description": "Fill form",
       "layout": "IPY_MODEL_0f4c3d44502e4bd1b2916f7f01f84992",
       "style": "IPY_MODEL_800ab8d3ca324abf8510d0c1b4e9a66d"
      }
     },
     "61c818c0fcaf499688a30d99847e1d0c": {
      "model_module": "@jupyter-widgets/controls",
      "model_module_version": "1.5.0",
      "model_name": "ButtonModel",
      "state": {
       "description": "Export to PDF",
       "layout": "IPY_MODEL_50ed72dc3732458caa3b861892dac903",
       "style": "IPY_MODEL_23c8a500e9b24b19a6ad5e5b235e9f79"
      }
     },
     "62362a955a064018ba6d75e41bc2e2b8": {
      "model_module": "@jupyter-widgets/controls",
      "model_module_version": "1.5.0",
      "model_name": "ButtonModel",
      "state": {
       "description": "Treat scan(s)",
       "layout": "IPY_MODEL_6e56d1bf13024cd7bf90306beca0a555",
       "style": "IPY_MODEL_5d78df194e5a4c7b9d3b8181ac870ec3"
      }
     },
     "62676882e0724c429d727160ff85af6c": {
      "model_module": "@jupyter-widgets/controls",
      "model_module_version": "1.5.0",
      "model_name": "ButtonStyleModel",
      "state": {}
     },
     "6270f33a78184f7792b040838e1f4932": {
      "model_module": "@jupyter-widgets/base",
      "model_module_version": "1.2.0",
      "model_name": "LayoutModel",
      "state": {}
     },
     "62729addddb34730927b6948cad34e54": {
      "model_module": "@jupyter-widgets/controls",
      "model_module_version": "1.5.0",
      "model_name": "ButtonModel",
      "state": {
       "description": "Add plot to report",
       "layout": "IPY_MODEL_4225decc1dcd444c942f80824af6c106",
       "style": "IPY_MODEL_be57dcb4c93e4b0f8f67db752b45547f"
      }
     },
     "6281dc314941429f9f0b6548957df181": {
      "model_module": "@jupyter-widgets/base",
      "model_module_version": "1.2.0",
      "model_name": "LayoutModel",
      "state": {}
     },
     "629948d1fd2349b39c3541036f26579e": {
      "model_module": "@jupyter-widgets/controls",
      "model_module_version": "1.5.0",
      "model_name": "DropdownModel",
      "state": {
       "_options_labels": [
        "M2 Pt Track",
        "M2 B4C Track",
        "No M2"
       ],
       "description": "M2:",
       "index": 0,
       "layout": "IPY_MODEL_9c4d95a7ce1846e4a7d9bf05e082831a",
       "style": "IPY_MODEL_26a2fe6e5a4e4cdbaacf9daac0b3351f"
      }
     },
     "62a346f43a37492685404e462bd404a8": {
      "model_module": "@jupyter-widgets/base",
      "model_module_version": "1.2.0",
      "model_name": "LayoutModel",
      "state": {}
     },
     "62e2b4372bbe4357a2404846da647cc9": {
      "model_module": "@jupyter-widgets/base",
      "model_module_version": "1.2.0",
      "model_name": "LayoutModel",
      "state": {
       "height": "40px",
       "width": "250px"
      }
     },
     "62fbbbfabd5d4375a22c170510ca110f": {
      "model_module": "@jupyter-widgets/controls",
      "model_module_version": "1.5.0",
      "model_name": "TextModel",
      "state": {
       "description": "Phase (deg):",
       "layout": "IPY_MODEL_e917d212456d4b2988c1979851b9037e",
       "placeholder": "Value(s)",
       "style": "IPY_MODEL_e3241874362d47f08351778b0f058bcf",
       "value": "0"
      }
     },
     "6304b486502849c5869e03e84d2e4f8a": {
      "model_module": "@jupyter-widgets/controls",
      "model_module_version": "1.5.0",
      "model_name": "ButtonModel",
      "state": {
       "description": "Insert positions",
       "layout": "IPY_MODEL_51462a19ce1044d8b9b987e08723427a",
       "style": "IPY_MODEL_9e4fca70411b4fd8b1c9c26cafad46d2"
      }
     },
     "6321421d84bb4209bf3971afdfed4683": {
      "model_module": "@jupyter-widgets/controls",
      "model_module_version": "1.5.0",
      "model_name": "ButtonModel",
      "state": {
       "description": "Refresh",
       "layout": "IPY_MODEL_ae638f7f08094b9a8dbe2d246b737154",
       "style": "IPY_MODEL_459a501c8c6c4effacddb554e2fc9e04"
      }
     },
     "6329eeee4c344c46bc216ab530231b2c": {
      "model_module": "@jupyter-widgets/controls",
      "model_module_version": "1.5.0",
      "model_name": "TextModel",
      "state": {
       "description": "Wavelength (nm):",
       "layout": "IPY_MODEL_ef3c54d5330e4692acf81870921e6155",
       "placeholder": "Value(s)",
       "style": "IPY_MODEL_c067180b9be44906a522869148c7b2a1"
      }
     },
     "636c0236e7e642c38b7fb5c6d59779c8": {
      "model_module": "@jupyter-widgets/base",
      "model_module_version": "1.2.0",
      "model_name": "LayoutModel",
      "state": {
       "width": "300px"
      }
     },
     "6377fc5a352044689674a05836fa2104": {
      "model_module": "@jupyter-widgets/controls",
      "model_module_version": "1.5.0",
      "model_name": "DescriptionStyleModel",
      "state": {
       "description_width": "initial"
      }
     },
     "637a4dead19f4458a3045f01aeed0f6f": {
      "model_module": "@jupyter-widgets/controls",
      "model_module_version": "1.5.0",
      "model_name": "DescriptionStyleModel",
      "state": {
       "description_width": "initial"
      }
     },
     "638e8d999eb84ee383878142ff150e7c": {
      "model_module": "@jupyter-widgets/base",
      "model_module_version": "1.2.0",
      "model_name": "LayoutModel",
      "state": {}
     },
     "639ffa628385437ca2e0e4e7628208e6": {
      "model_module": "@jupyter-widgets/controls",
      "model_module_version": "1.5.0",
      "model_name": "ButtonModel",
      "state": {
       "description": "Refresh",
       "layout": "IPY_MODEL_b905d9bae1e9495cad074b6913d3b590",
       "style": "IPY_MODEL_4dc296fb66e440b7899cebdf4bcbc7f9"
      }
     },
     "63faf9002741418094771b0643ed707d": {
      "model_module": "@jupyter-widgets/base",
      "model_module_version": "1.2.0",
      "model_name": "LayoutModel",
      "state": {}
     },
     "6409d5de228e430c9a61718bc9077922": {
      "model_module": "@jupyter-widgets/base",
      "model_module_version": "1.2.0",
      "model_name": "LayoutModel",
      "state": {}
     },
     "6438d2f389414e9087c121326f5fa98d": {
      "model_module": "@jupyter-widgets/base",
      "model_module_version": "1.2.0",
      "model_name": "LayoutModel",
      "state": {}
     },
     "643bc610a5574d88903d30fa68a1ab45": {
      "model_module": "@jupyter-widgets/controls",
      "model_module_version": "1.5.0",
      "model_name": "ButtonModel",
      "state": {
       "description": "Insert positions",
       "layout": "IPY_MODEL_846f520945dd4bbda234e6f8b2753457",
       "style": "IPY_MODEL_8d55b948995d44d885cd861bb9749a74"
      }
     },
     "64970e1b791d499b93b6916298fead27": {
      "model_module": "@jupyter-widgets/controls",
      "model_module_version": "1.5.0",
      "model_name": "TextModel",
      "state": {
       "description": "mon1:",
       "layout": "IPY_MODEL_ac1a62b3ce5b4317865a384051361bed",
       "placeholder": "Empty or type of mon",
       "style": "IPY_MODEL_dc38b26898f2496d9ef82d567d3f11ee"
      }
     },
     "64dbc991114f420abcdb9d313ed0e18c": {
      "model_module": "@jupyter-widgets/controls",
      "model_module_version": "1.5.0",
      "model_name": "ButtonStyleModel",
      "state": {}
     },
     "64e5b7ed99754e24ba9900c819036248": {
      "model_module": "@jupyter-widgets/controls",
      "model_module_version": "1.5.0",
      "model_name": "DropdownModel",
      "state": {
       "_options_labels": [
        "M3 Pt Track",
        "M3 B4C Track",
        "No M3"
       ],
       "description": "M3:",
       "index": 2,
       "layout": "IPY_MODEL_d2de938e5b164550bef4675756c67057",
       "style": "IPY_MODEL_523fee935aee46c0a61fbd9f654ad295"
      }
     },
     "650639645e49475781e2bee05cded6a7": {
      "model_module": "@jupyter-widgets/base",
      "model_module_version": "1.2.0",
      "model_name": "LayoutModel",
      "state": {
       "width": "400px"
      }
     },
     "6513edeb5ec14130a371675b964bf27c": {
      "model_module": "@jupyter-widgets/controls",
      "model_module_version": "1.5.0",
      "model_name": "TextModel",
      "state": {
       "description": "Experiment title:",
       "layout": "IPY_MODEL_e83d3931957c468f8e6fa683f1994911",
       "placeholder": "Title",
       "style": "IPY_MODEL_925f6bda91c844e1a05b520996066ecb",
       "value": "sdfdsf, skdf,skdf,skf sdfksdo sdf,sldf,"
      }
     },
     "65172e45442c4b6aaa930fee8b2197ce": {
      "model_module": "@jupyter-widgets/controls",
      "model_module_version": "1.5.0",
      "model_name": "ButtonModel",
      "state": {
       "description": "Plot GIXD",
       "layout": "IPY_MODEL_ec6830b8b4b6495a9a8eeac9f47dec26",
       "style": "IPY_MODEL_cfe11434f70a429fb8ae995dbd6abc98"
      }
     },
     "651d57a1a4864887b851477642c67f45": {
      "model_module": "@jupyter-widgets/controls",
      "model_module_version": "1.5.0",
      "model_name": "ButtonStyleModel",
      "state": {}
     },
     "65b11263791e463a8f5b0cde30eeb493": {
      "model_module": "@jupyter-widgets/controls",
      "model_module_version": "1.5.0",
      "model_name": "DescriptionStyleModel",
      "state": {
       "description_width": "initial"
      }
     },
     "65f38276a23a45b08ec3970f93ec563b": {
      "model_module": "@jupyter-widgets/controls",
      "model_module_version": "1.5.0",
      "model_name": "ButtonStyleModel",
      "state": {}
     },
     "66079be28e66438b8711d714c46ec159": {
      "model_module": "@jupyter-widgets/controls",
      "model_module_version": "1.5.0",
      "model_name": "DescriptionStyleModel",
      "state": {
       "description_width": "initial"
      }
     },
     "661eda9f90544c5e8bf47a54c026bb2c": {
      "model_module": "@jupyter-widgets/controls",
      "model_module_version": "1.5.0",
      "model_name": "ButtonModel",
      "state": {
       "description": "Insert script",
       "layout": "IPY_MODEL_278e96b0d58946008600604c3aac3a2b",
       "style": "IPY_MODEL_66710d4b00b940f8a4d9e658b36504de"
      }
     },
     "6646ca88ba4f44aba74f2f2c9433dcb0": {
      "model_module": "@jupyter-widgets/controls",
      "model_module_version": "1.5.0",
      "model_name": "ButtonStyleModel",
      "state": {}
     },
     "66576eb4570a4cd6b7c57d6dc557d3a6": {
      "model_module": "@jupyter-widgets/controls",
      "model_module_version": "1.5.0",
      "model_name": "DescriptionStyleModel",
      "state": {
       "description_width": "initial"
      }
     },
     "6669a61f78d74f988a4ecc1423561cc1": {
      "model_module": "@jupyter-widgets/controls",
      "model_module_version": "1.5.0",
      "model_name": "ButtonModel",
      "state": {
       "description": "Insert comment",
       "layout": "IPY_MODEL_6cd9080a3d27431782d61ba73e3662f5",
       "style": "IPY_MODEL_113b55a36f164b7ab76e2fe0f92eee02"
      }
     },
     "66710d4b00b940f8a4d9e658b36504de": {
      "model_module": "@jupyter-widgets/controls",
      "model_module_version": "1.5.0",
      "model_name": "ButtonStyleModel",
      "state": {}
     },
     "667a26fbceff400c870f093f738df468": {
      "model_module": "@jupyter-widgets/controls",
      "model_module_version": "1.5.0",
      "model_name": "ButtonStyleModel",
      "state": {}
     },
     "674b85008ea64fe5b076567db179b762": {
      "model_module": "@jupyter-widgets/controls",
      "model_module_version": "1.5.0",
      "model_name": "DropdownModel",
      "state": {
       "_options_labels": [
        "Si111",
        "InSb",
        "Not Used"
       ],
       "description": "DCM:",
       "index": 0,
       "layout": "IPY_MODEL_6e208770b651459fbaf7f709fae45c00",
       "style": "IPY_MODEL_3372a0f8ffec4e598587414de730cf36"
      }
     },
     "67ab8061b522419d9825deb50c89bb51": {
      "model_module": "@jupyter-widgets/controls",
      "model_module_version": "1.5.0",
      "model_name": "ButtonModel",
      "state": {
       "description": "Insert commands",
       "layout": "IPY_MODEL_29db5e5233ac436f8a6e0db506ad0131",
       "style": "IPY_MODEL_9c48f1e0f0334aa4806b3c5c7f833d06"
      }
     },
     "67b05af477e444f79fec3e2be51c932d": {
      "model_module": "@jupyter-widgets/output",
      "model_module_version": "1.0.0",
      "model_name": "OutputModel",
      "state": {
       "layout": "IPY_MODEL_c9b3dd7cb5ec45a985df0d5904232aba"
      }
     },
     "68144be7ed18424a88e919f73e8a4a64": {
      "model_module": "@jupyter-widgets/base",
      "model_module_version": "1.2.0",
      "model_name": "LayoutModel",
      "state": {}
     },
     "6823bd21aafe4bc7bc4ef47ed83c5d93": {
      "model_module": "@jupyter-widgets/base",
      "model_module_version": "1.2.0",
      "model_name": "LayoutModel",
      "state": {}
     },
     "6842377c799040cf8c0402fbd54fbc90": {
      "model_module": "@jupyter-widgets/controls",
      "model_module_version": "1.5.0",
      "model_name": "DescriptionStyleModel",
      "state": {
       "description_width": ""
      }
     },
     "685cb4e8e84f4f2199e9e3532a203f16": {
      "model_module": "@jupyter-widgets/controls",
      "model_module_version": "1.5.0",
      "model_name": "DropdownModel",
      "state": {
       "_options_labels": [
        "In use",
        "Not used"
       ],
       "description": "MGM:",
       "index": 1,
       "layout": "IPY_MODEL_49a967293e9640aaa6b177912fe60c2a",
       "style": "IPY_MODEL_0e83a04dcd3a460e9a381eff19c0416e"
      }
     },
     "686c1063d637444699b0cf2ea00bf68d": {
      "model_module": "@jupyter-widgets/base",
      "model_module_version": "1.2.0",
      "model_name": "LayoutModel",
      "state": {
       "height": "40px",
       "width": "200px"
      }
     },
     "68adbab054e9459e94368cb17f94a6d4": {
      "model_module": "@jupyter-widgets/controls",
      "model_module_version": "1.5.0",
      "model_name": "ButtonStyleModel",
      "state": {}
     },
     "68caa21f24454aceab56b3331588b25f": {
      "model_module": "@jupyter-widgets/base",
      "model_module_version": "1.2.0",
      "model_name": "LayoutModel",
      "state": {}
     },
     "68ce281ae8994475bfe9f25697d7035a": {
      "model_module": "@jupyter-widgets/base",
      "model_module_version": "1.2.0",
      "model_name": "LayoutModel",
      "state": {}
     },
     "68d5815be6d94679964988c3b70199c7": {
      "model_module": "@jupyter-widgets/base",
      "model_module_version": "1.2.0",
      "model_name": "LayoutModel",
      "state": {}
     },
     "69174bdf30ea403c9f3866054bec59cd": {
      "model_module": "@jupyter-widgets/controls",
      "model_module_version": "1.5.0",
      "model_name": "ButtonStyleModel",
      "state": {}
     },
     "692758ef36214c0fb964674367653459": {
      "model_module": "@jupyter-widgets/controls",
      "model_module_version": "1.5.0",
      "model_name": "ButtonModel",
      "state": {
       "description": "Export to PDF",
       "layout": "IPY_MODEL_cd8510851c044f0c8ee57f998ec5db3d",
       "style": "IPY_MODEL_c611c9bc5ff941eaa7ae32a20c796301"
      }
     },
     "692805c3993443f0b98c04d6618d2ad1": {
      "model_module": "@jupyter-widgets/controls",
      "model_module_version": "1.5.0",
      "model_name": "ButtonStyleModel",
      "state": {}
     },
     "693d0bc9068645eaa6d75a3c3daee706": {
      "model_module": "@jupyter-widgets/base",
      "model_module_version": "1.2.0",
      "model_name": "LayoutModel",
      "state": {}
     },
     "69d4111229ac4491a31c3bdbf4783e55": {
      "model_module": "@jupyter-widgets/base",
      "model_module_version": "1.2.0",
      "model_name": "LayoutModel",
      "state": {}
     },
     "6a334da4956448d9a7394cd9caa00e34": {
      "model_module": "@jupyter-widgets/controls",
      "model_module_version": "1.5.0",
      "model_name": "DescriptionStyleModel",
      "state": {
       "description_width": "initial"
      }
     },
     "6a60dc42808f4ea4aa5f979d4bf5a5e1": {
      "model_module": "@jupyter-widgets/controls",
      "model_module_version": "1.5.0",
      "model_name": "IntTextModel",
      "state": {
       "description": "binsize",
       "layout": "IPY_MODEL_a89223ec90af4523b06171b2808174c0",
       "step": 1,
       "style": "IPY_MODEL_66576eb4570a4cd6b7c57d6dc557d3a6",
       "value": 10
      }
     },
     "6a7e567136ec4bbab868770dd48915a6": {
      "model_module": "@jupyter-widgets/controls",
      "model_module_version": "1.5.0",
      "model_name": "HBoxModel",
      "state": {
       "children": [
        "IPY_MODEL_c24e268538ff4fc8819ca4d81b6b8353",
        "IPY_MODEL_947e06858a174117a58c017d908f4387"
       ],
       "layout": "IPY_MODEL_3d1423997e724df194685b04be96d582"
      }
     },
     "6a82b147a2b243b4b6d410128f45e392": {
      "model_module": "@jupyter-widgets/controls",
      "model_module_version": "1.5.0",
      "model_name": "DescriptionStyleModel",
      "state": {
       "description_width": "initial"
      }
     },
     "6a92247cb4064490a23d6d0da2de8323": {
      "model_module": "@jupyter-widgets/controls",
      "model_module_version": "1.5.0",
      "model_name": "HBoxModel",
      "state": {
       "children": [
        "IPY_MODEL_65172e45442c4b6aaa930fee8b2197ce",
        "IPY_MODEL_43b94e73aa684ba486c444fff06adcd3",
        "IPY_MODEL_ecaa008b8bd74fb2bb82ff5606ead1be",
        "IPY_MODEL_d360ed396eaa426bbfba7038b0d565ac",
        "IPY_MODEL_6c83808eaa9740d8ab86e5684337e860"
       ],
       "layout": "IPY_MODEL_585524a9b6e24a7cb8197523dee4e62c"
      }
     },
     "6ac5b3e1ef7041bfac9f8aff478d3c91": {
      "model_module": "@jupyter-widgets/controls",
      "model_module_version": "1.5.0",
      "model_name": "DescriptionStyleModel",
      "state": {
       "description_width": "initial"
      }
     },
     "6ad020c5439a4127a10eb29edaa5e363": {
      "model_module": "@jupyter-widgets/controls",
      "model_module_version": "1.5.0",
      "model_name": "TextModel",
      "state": {
       "description": "Vertical beamsize (mm):",
       "layout": "IPY_MODEL_b4c6cc9946d14fbcb3540493567ad192",
       "placeholder": "Value(s)",
       "style": "IPY_MODEL_374225d254dd4f219a790c994e22375d"
      }
     },
     "6ad18026b6394e01960c71c3d497012f": {
      "model_module": "@jupyter-widgets/base",
      "model_module_version": "1.2.0",
      "model_name": "LayoutModel",
      "state": {}
     },
     "6af3e94c4fbb428b820554df33e147fc": {
      "model_module": "@jupyter-widgets/controls",
      "model_module_version": "1.5.0",
      "model_name": "ButtonModel",
      "state": {
       "description": "Insert comment",
       "layout": "IPY_MODEL_43289477482d4cb989ad891781437cb6",
       "style": "IPY_MODEL_ef36cbf220974c2792c66ed85c60e784"
      }
     },
     "6b17baf665d6431b86d97cadc97d9a17": {
      "model_module": "@jupyter-widgets/controls",
      "model_module_version": "1.5.0",
      "model_name": "DescriptionStyleModel",
      "state": {
       "description_width": "initial"
      }
     },
     "6b408d724fd3441c840c2c61fa51716d": {
      "model_module": "@jupyter-widgets/controls",
      "model_module_version": "1.5.0",
      "model_name": "HBoxModel",
      "state": {
       "children": [
        "IPY_MODEL_82f04d5b38ab45738b5b845e426c3f71",
        "IPY_MODEL_8096732cf8b0412594ea476f59bc2407",
        "IPY_MODEL_2b47fab887f04582891e05fd1707afe9"
       ],
       "layout": "IPY_MODEL_d1fbd45ea58246a09d71685b9e411992"
      }
     },
     "6bc885e8c68b42a39617e5d83316bac4": {
      "model_module": "@jupyter-widgets/controls",
      "model_module_version": "1.5.0",
      "model_name": "ButtonModel",
      "state": {
       "description": "Insert script",
       "layout": "IPY_MODEL_d1472fdb1e5643919545bf4982e3c577",
       "style": "IPY_MODEL_78068ea7c178441e8b3b8547fdc5e67e"
      }
     },
     "6bf1448589b34317b791115a9765ead7": {
      "model_module": "@jupyter-widgets/base",
      "model_module_version": "1.2.0",
      "model_name": "LayoutModel",
      "state": {}
     },
     "6bf55ffcacb44ba888c9762cd492d588": {
      "model_module": "@jupyter-widgets/controls",
      "model_module_version": "1.5.0",
      "model_name": "HBoxModel",
      "state": {
       "children": [
        "IPY_MODEL_8ff9201e5aca4daf990df6b5a30828de",
        "IPY_MODEL_6321421d84bb4209bf3971afdfed4683"
       ],
       "layout": "IPY_MODEL_62a346f43a37492685404e462bd404a8"
      }
     },
     "6c3d5c836bb94747a4b62c7455b34126": {
      "model_module": "@jupyter-widgets/controls",
      "model_module_version": "1.5.0",
      "model_name": "ButtonStyleModel",
      "state": {}
     },
     "6c47d6f1ff6e4e8b8c026ca69fb4329f": {
      "model_module": "@jupyter-widgets/base",
      "model_module_version": "1.2.0",
      "model_name": "LayoutModel",
      "state": {}
     },
     "6c7991e02b644309bff71c6322444174": {
      "model_module": "@jupyter-widgets/base",
      "model_module_version": "1.2.0",
      "model_name": "LayoutModel",
      "state": {}
     },
     "6c83808eaa9740d8ab86e5684337e860": {
      "model_module": "@jupyter-widgets/controls",
      "model_module_version": "1.5.0",
      "model_name": "ButtonModel",
      "state": {
       "description": "Plot GIXS",
       "layout": "IPY_MODEL_08761cb8d2434ee1b850f832ee707302",
       "style": "IPY_MODEL_10c67326f9e3473c8d58b4be26e65ec5"
      }
     },
     "6c858e7fa8e94dc6ae0b86a8771933bf": {
      "model_module": "@jupyter-widgets/base",
      "model_module_version": "1.2.0",
      "model_name": "LayoutModel",
      "state": {}
     },
     "6c9c7fe512b34f44a4982fc332ddf0f5": {
      "model_module": "@jupyter-widgets/controls",
      "model_module_version": "1.5.0",
      "model_name": "ButtonStyleModel",
      "state": {}
     },
     "6caa77694c034f2a8697a9f3fce1c495": {
      "model_module": "@jupyter-widgets/controls",
      "model_module_version": "1.5.0",
      "model_name": "DescriptionStyleModel",
      "state": {
       "description_width": "initial"
      }
     },
     "6cb2eaf97f69469fa15bf15a8eed109c": {
      "model_module": "@jupyter-widgets/controls",
      "model_module_version": "1.5.0",
      "model_name": "ButtonModel",
      "state": {
       "description": "Insert comment",
       "layout": "IPY_MODEL_cd3428c91e3d4dc19bb6ab9f36fb245c",
       "style": "IPY_MODEL_49902742e037474caebc3ee91fd8d5a0"
      }
     },
     "6cd9080a3d27431782d61ba73e3662f5": {
      "model_module": "@jupyter-widgets/base",
      "model_module_version": "1.2.0",
      "model_name": "LayoutModel",
      "state": {}
     },
     "6d150cb67a2240dcafba4fd4dea36994": {
      "model_module": "@jupyter-widgets/controls",
      "model_module_version": "1.5.0",
      "model_name": "DescriptionStyleModel",
      "state": {
       "description_width": "initial"
      }
     },
     "6d9faad97f26407986161d912948bc6f": {
      "model_module": "@jupyter-widgets/controls",
      "model_module_version": "1.5.0",
      "model_name": "ButtonModel",
      "state": {
       "description": "Insert script",
       "layout": "IPY_MODEL_4a0a64b3024946539ee86ed0b83dc333",
       "style": "IPY_MODEL_6de84e50c89b4851bcccd1065095ee6d"
      }
     },
     "6de84e50c89b4851bcccd1065095ee6d": {
      "model_module": "@jupyter-widgets/controls",
      "model_module_version": "1.5.0",
      "model_name": "ButtonStyleModel",
      "state": {}
     },
     "6dee8379dd9b4de7868b4bf79319ec27": {
      "model_module": "@jupyter-widgets/controls",
      "model_module_version": "1.5.0",
      "model_name": "DescriptionStyleModel",
      "state": {
       "description_width": "initial"
      }
     },
     "6e208770b651459fbaf7f709fae45c00": {
      "model_module": "@jupyter-widgets/base",
      "model_module_version": "1.2.0",
      "model_name": "LayoutModel",
      "state": {
       "width": "150px"
      }
     },
     "6e27312660e84d0f90c52c54098c3d1c": {
      "model_module": "@jupyter-widgets/controls",
      "model_module_version": "1.5.0",
      "model_name": "TextModel",
      "state": {
       "description": "Vertical beamsize (mm):",
       "layout": "IPY_MODEL_6faf68ef2f054ab08877f9bd20cd7eb5",
       "placeholder": "Value(s)",
       "style": "IPY_MODEL_08a6d6c15de54fb58d7c305101f5a69f"
      }
     },
     "6e30048f14e74354bee05a55f70430bd": {
      "model_module": "@jupyter-widgets/controls",
      "model_module_version": "1.5.0",
      "model_name": "ButtonStyleModel",
      "state": {}
     },
     "6e3e5765897f4fd2a191ee9c6a82a817": {
      "model_module": "@jupyter-widgets/controls",
      "model_module_version": "1.5.0",
      "model_name": "ButtonModel",
      "state": {
       "description": "Plot GIXD",
       "layout": "IPY_MODEL_3c38d862f88f4333a87b6c24932ac2a9",
       "style": "IPY_MODEL_13cce124776943b496cb11f1fbe55a33"
      }
     },
     "6e56d1bf13024cd7bf90306beca0a555": {
      "model_module": "@jupyter-widgets/base",
      "model_module_version": "1.2.0",
      "model_name": "LayoutModel",
      "state": {}
     },
     "6e73c3288ed146d7b6d3d332c6b15534": {
      "model_module": "@jupyter-widgets/controls",
      "model_module_version": "1.5.0",
      "model_name": "ButtonStyleModel",
      "state": {}
     },
     "6e94ca0967b849eb9d0a8acd54a31faf": {
      "model_module": "@jupyter-widgets/controls",
      "model_module_version": "1.5.0",
      "model_name": "DescriptionStyleModel",
      "state": {
       "description_width": "initial"
      }
     },
     "6ea174a33c9e4e2ab9b47c539fc075a3": {
      "model_module": "@jupyter-widgets/controls",
      "model_module_version": "1.5.0",
      "model_name": "ButtonModel",
      "state": {
       "description": "Insert comment",
       "layout": "IPY_MODEL_34f1ced341584f76a341dec4166ea68e",
       "style": "IPY_MODEL_30c0d25c457045d78268ef7d947dafa6"
      }
     },
     "6ed372db578740dc9a141025b57f4725": {
      "model_module": "@jupyter-widgets/controls",
      "model_module_version": "1.5.0",
      "model_name": "DropdownModel",
      "state": {
       "_options_labels": [
        "M1-A Pt Track",
        "M1-A B4C Track",
        "M1-B (B4C)",
        "No M1"
       ],
       "description": "M1:",
       "index": 0,
       "layout": "IPY_MODEL_7dbee45af1cc410dbdc5a95f675d02f1",
       "style": "IPY_MODEL_f082f72826034d47953efc16b85a1b67"
      }
     },
     "6f3dc27971c5449e800174bb083f0166": {
      "model_module": "@jupyter-widgets/controls",
      "model_module_version": "1.5.0",
      "model_name": "ButtonStyleModel",
      "state": {}
     },
     "6f3e78ee60e54f42b85d2a903aa11668": {
      "model_module": "@jupyter-widgets/controls",
      "model_module_version": "1.5.0",
      "model_name": "HBoxModel",
      "state": {
       "children": [
        "IPY_MODEL_cc27d424c18340e399e1f9fbc775a46e",
        "IPY_MODEL_50a32d87902840519bff30fcad35b66b",
        "IPY_MODEL_e7f63263120a4c43a3c7b34a0c363f1b",
        "IPY_MODEL_fe135879db8849b2a85487a45f767431"
       ],
       "layout": "IPY_MODEL_e59c11cb1ccf4d56848d16f14f600663"
      }
     },
     "6f58d8da27b94fd9825b24992f17d638": {
      "model_module": "@jupyter-widgets/controls",
      "model_module_version": "1.5.0",
      "model_name": "ButtonModel",
      "state": {
       "description": "Insert positions",
       "layout": "IPY_MODEL_c287b380bc294ebd985946f96912ab56",
       "style": "IPY_MODEL_6089e0563747465eb071a6b2aa49c279"
      }
     },
     "6f8a8a8456dd4828a0062d9d183c2237": {
      "model_module": "@jupyter-widgets/controls",
      "model_module_version": "1.5.0",
      "model_name": "TextModel",
      "state": {
       "description": "Mode:",
       "layout": "IPY_MODEL_b4c6cc9946d14fbcb3540493567ad192",
       "placeholder": "Hybrid, Top-up, ...",
       "style": "IPY_MODEL_ec794f0af315496183cdcb6244625969"
      }
     },
     "6f94b0aa5fb24670b992337e344e7345": {
      "model_module": "@jupyter-widgets/controls",
      "model_module_version": "1.5.0",
      "model_name": "ButtonModel",
      "state": {
       "description": "Convert logs",
       "layout": "IPY_MODEL_8eb933266a46458a8419632852064717",
       "style": "IPY_MODEL_d345daee0b8d474e96dd9566601e8b99"
      }
     },
     "6faf68ef2f054ab08877f9bd20cd7eb5": {
      "model_module": "@jupyter-widgets/base",
      "model_module_version": "1.2.0",
      "model_name": "LayoutModel",
      "state": {
       "height": "40px",
       "width": "300px"
      }
     },
     "6fbe1032f1614abeb9ae86e1c6af0e66": {
      "model_module": "@jupyter-widgets/controls",
      "model_module_version": "1.5.0",
      "model_name": "ButtonStyleModel",
      "state": {}
     },
     "6fe1fc47392b40cf8050e81c6eb91012": {
      "model_module": "@jupyter-widgets/controls",
      "model_module_version": "1.5.0",
      "model_name": "CheckboxModel",
      "state": {
       "description": "Horizontal focalisation:",
       "disabled": false,
       "layout": "IPY_MODEL_e83d3931957c468f8e6fa683f1994911",
       "style": "IPY_MODEL_be7c75929f3042699da5be557b264d85",
       "value": true
      }
     },
     "6ff33b5e7131413b83bc4121b14d1c66": {
      "model_module": "@jupyter-widgets/controls",
      "model_module_version": "1.5.0",
      "model_name": "TextModel",
      "state": {
       "description": "mon1:",
       "layout": "IPY_MODEL_fcc1a1b0d3664300b8f863a47c8ad19d",
       "placeholder": "Empty or type of mon",
       "style": "IPY_MODEL_8f044c310e9f47bc98af6f3faf7cb1cd"
      }
     },
     "70576b59e5f9486f8cd6e1b91e92f20e": {
      "model_module": "@jupyter-widgets/controls",
      "model_module_version": "1.5.0",
      "model_name": "ButtonModel",
      "state": {
       "description": "Print form",
       "layout": "IPY_MODEL_e5a6a0cf04b843f0a2224af97b3a50c8",
       "style": "IPY_MODEL_7d3f36ad8fde4ddda7526f009ad1f8c8"
      }
     },
     "70725172aac846169b4c217aa00ff06b": {
      "model_module": "@jupyter-widgets/controls",
      "model_module_version": "1.5.0",
      "model_name": "TextModel",
      "state": {
       "description": "Experiment title:",
       "layout": "IPY_MODEL_a98e1165cc0341128547c82ecbfcb341",
       "placeholder": "Title",
       "style": "IPY_MODEL_b7b8e4b3b8ef408c83b11e03c788de98",
       "value": "Test of multilayer substrates and sample environment for improving the implementation of the X − ray standing wave technique on SIRIUS "
      }
     },
     "7108c060977245e482e6ae18c76a8214": {
      "model_module": "@jupyter-widgets/controls",
      "model_module_version": "1.5.0",
      "model_name": "ButtonModel",
      "state": {
       "description": "Fit with erf",
       "layout": "IPY_MODEL_110dee130f734e17861e2903c083cfb7",
       "style": "IPY_MODEL_14be64717b2b41e0aefa4d3ca9087e17"
      }
     },
     "713ebb46aa25467fa5799240e55b6574": {
      "model_module": "@jupyter-widgets/controls",
      "model_module_version": "1.5.0",
      "model_name": "DescriptionStyleModel",
      "state": {
       "description_width": "initial"
      }
     },
     "7151be7490a842f49395889a9811878a": {
      "model_module": "@jupyter-widgets/controls",
      "model_module_version": "1.5.0",
      "model_name": "ButtonStyleModel",
      "state": {}
     },
     "71b04b25380743c09868dc9bdabd87f4": {
      "model_module": "@jupyter-widgets/base",
      "model_module_version": "1.2.0",
      "model_name": "LayoutModel",
      "state": {}
     },
     "71bc3294c90f40fcae683215d587bd2b": {
      "model_module": "@jupyter-widgets/base",
      "model_module_version": "1.2.0",
      "model_name": "LayoutModel",
      "state": {
       "width": "200px"
      }
     },
     "71fc66f30aa1466fa635621216caf5c9": {
      "model_module": "@jupyter-widgets/controls",
      "model_module_version": "1.5.0",
      "model_name": "ButtonModel",
      "state": {
       "description": "Plot isotherm",
       "layout": "IPY_MODEL_3adf541364894f66811c432a387b0460",
       "style": "IPY_MODEL_a305cffc981144c9bb04a661063f5610"
      }
     },
     "720aa6fb4d23465a85fe51b5c7a1edfd": {
      "model_module": "@jupyter-widgets/base",
      "model_module_version": "1.2.0",
      "model_name": "LayoutModel",
      "state": {}
     },
     "72b9bfb586b548bba0e737edaa49fb00": {
      "model_module": "@jupyter-widgets/controls",
      "model_module_version": "1.5.0",
      "model_name": "DescriptionStyleModel",
      "state": {
       "description_width": "initial"
      }
     },
     "72d44d59e6ec4050906c1879c269bf06": {
      "model_module": "@jupyter-widgets/base",
      "model_module_version": "1.2.0",
      "model_name": "LayoutModel",
      "state": {}
     },
     "72dfb0acd85e49148e75402cfa9e2e00": {
      "model_module": "@jupyter-widgets/base",
      "model_module_version": "1.2.0",
      "model_name": "LayoutModel",
      "state": {
       "height": "40px",
       "width": "200px"
      }
     },
     "730bac707f1b4e279e9bc63cdd626ded": {
      "model_module": "@jupyter-widgets/controls",
      "model_module_version": "1.5.0",
      "model_name": "HBoxModel",
      "state": {
       "children": [
        "IPY_MODEL_7815bd3ee6b545aa9ee74f25762a864b",
        "IPY_MODEL_505361f982294727864dd6f574e47d20",
        "IPY_MODEL_82c748643e2840cab775c6e3809ddf19",
        "IPY_MODEL_3481425bc1af46fbbcfc3ce57e61c4d6"
       ],
       "layout": "IPY_MODEL_1da3c53f698b45eabe02857642a18500"
      }
     },
     "734c01b5bb3d4ee796286e4af5fad693": {
      "model_module": "@jupyter-widgets/controls",
      "model_module_version": "1.5.0",
      "model_name": "ButtonStyleModel",
      "state": {}
     },
     "735f58086cb74dd798541706f8e8adda": {
      "model_module": "@jupyter-widgets/controls",
      "model_module_version": "1.5.0",
      "model_name": "ButtonStyleModel",
      "state": {}
     },
     "737f40ed6c7a4f3aa2e0e3ce8ca93342": {
      "model_module": "@jupyter-widgets/controls",
      "model_module_version": "1.5.0",
      "model_name": "DescriptionStyleModel",
      "state": {
       "description_width": "initial"
      }
     },
     "73a20dc4e5a14409b114b1da59bd1035": {
      "model_module": "@jupyter-widgets/controls",
      "model_module_version": "1.5.0",
      "model_name": "ButtonModel",
      "state": {
       "description": "Treat scan(s)",
       "layout": "IPY_MODEL_f7c7a7998f4841b2a37b90032ab9678d",
       "style": "IPY_MODEL_e054cd01a51f4a738e1651877dfca74d"
      }
     },
     "73a2d1e9ed144c759fea98e4fd1ea3e6": {
      "model_module": "@jupyter-widgets/base",
      "model_module_version": "1.2.0",
      "model_name": "LayoutModel",
      "state": {}
     },
     "73a4019c876d43c69e29003b2ee1beba": {
      "model_module": "@jupyter-widgets/controls",
      "model_module_version": "1.5.0",
      "model_name": "DescriptionStyleModel",
      "state": {
       "description_width": "initial"
      }
     },
     "73d390507d7e49668bde659a3928889c": {
      "model_module": "@jupyter-widgets/controls",
      "model_module_version": "1.5.0",
      "model_name": "DescriptionStyleModel",
      "state": {
       "description_width": "initial"
      }
     },
     "743439c46fcf448d87a890c2764f4ac7": {
      "model_module": "@jupyter-widgets/base",
      "model_module_version": "1.2.0",
      "model_name": "LayoutModel",
      "state": {}
     },
     "744c4d7df0ac4020bfab5cb6ae8ae787": {
      "model_module": "@jupyter-widgets/base",
      "model_module_version": "1.2.0",
      "model_name": "LayoutModel",
      "state": {
       "height": "40px",
       "width": "150px"
      }
     },
     "74500abb457f49828e5413a65d7b9c55": {
      "model_module": "@jupyter-widgets/controls",
      "model_module_version": "1.5.0",
      "model_name": "HBoxModel",
      "state": {
       "children": [
        "IPY_MODEL_6af3e94c4fbb428b820554df33e147fc",
        "IPY_MODEL_ef8e60aca1fc40f6a2ffbb626f9c493e"
       ],
       "layout": "IPY_MODEL_0e1a1b88c95649c683cc0573615cdfce"
      }
     },
     "74517e67a760481485bd69322cb859a1": {
      "model_module": "@jupyter-widgets/controls",
      "model_module_version": "1.5.0",
      "model_name": "ButtonModel",
      "state": {
       "description": "Plot XRF",
       "layout": "IPY_MODEL_0e859f83930c41efb3732f468e4eb4b6",
       "style": "IPY_MODEL_9abd72a0c2c94cf5a02041a40da135bd"
      }
     },
     "74631de0ad1d4440a888c0b8f566080b": {
      "model_module": "@jupyter-widgets/controls",
      "model_module_version": "1.5.0",
      "model_name": "CheckboxModel",
      "state": {
       "description": "log z",
       "disabled": false,
       "layout": "IPY_MODEL_a89223ec90af4523b06171b2808174c0",
       "style": "IPY_MODEL_e16b4960573c4e9e8ff0e4e3c23d54a5",
       "value": false
      }
     },
     "7470a95619e84ad29ef39b7e924ce433": {
      "model_module": "@jupyter-widgets/base",
      "model_module_version": "1.2.0",
      "model_name": "LayoutModel",
      "state": {}
     },
     "7484d54ca35d4534b097f3b76325e3bf": {
      "model_module": "@jupyter-widgets/controls",
      "model_module_version": "1.5.0",
      "model_name": "TextModel",
      "state": {
       "description": "Date:",
       "layout": "IPY_MODEL_6faf68ef2f054ab08877f9bd20cd7eb5",
       "placeholder": "DD/MM/YYYY - DD/MM/YYYY",
       "style": "IPY_MODEL_81710046ee8d4a16a5ca3055b44fffb1"
      }
     },
     "748c54917cc14a4f886827308cfd6531": {
      "model_module": "@jupyter-widgets/base",
      "model_module_version": "1.2.0",
      "model_name": "LayoutModel",
      "state": {}
     },
     "74b0be5d5be8437fa1e3ce0bcf3350ce": {
      "model_module": "@jupyter-widgets/controls",
      "model_module_version": "1.5.0",
      "model_name": "DescriptionStyleModel",
      "state": {
       "description_width": ""
      }
     },
     "750843e1ce064174a1a6b6a0d7e4d7c0": {
      "model_module": "@jupyter-widgets/base",
      "model_module_version": "1.2.0",
      "model_name": "LayoutModel",
      "state": {}
     },
     "752440d1ce6d40e195d2b64ffab5dd3d": {
      "model_module": "@jupyter-widgets/output",
      "model_module_version": "1.0.0",
      "model_name": "OutputModel",
      "state": {
       "layout": "IPY_MODEL_2ea5b1e410ee42d19395dee7862d44c9"
      }
     },
     "75460173c38740b6801c65f2aa4dff5b": {
      "model_module": "@jupyter-widgets/controls",
      "model_module_version": "1.5.0",
      "model_name": "HBoxModel",
      "state": {
       "children": [
        "IPY_MODEL_674b85008ea64fe5b076567db179b762",
        "IPY_MODEL_39b7aa38bb8844e0961a9a849a842292"
       ],
       "layout": "IPY_MODEL_edfea08f9b6142e8b83bc37e9a4e8f24"
      }
     },
     "75fa892a87c3450eb268f8721ad345f1": {
      "model_module": "@jupyter-widgets/controls",
      "model_module_version": "1.5.0",
      "model_name": "HBoxModel",
      "state": {
       "children": [
        "IPY_MODEL_6ff33b5e7131413b83bc4121b14d1c66",
        "IPY_MODEL_2a6a8545c98e457682d7a5c172e6d494",
        "IPY_MODEL_f9ed63439edb471884dc39e95576a3ca",
        "IPY_MODEL_254dbd90323e4df6a75337eef3f50ebb"
       ],
       "layout": "IPY_MODEL_6bf1448589b34317b791115a9765ead7"
      }
     },
     "75fd12fd415e4d0fb9660fa504805b0d": {
      "model_module": "@jupyter-widgets/base",
      "model_module_version": "1.2.0",
      "model_name": "LayoutModel",
      "state": {
       "width": "150px"
      }
     },
     "76270869aeab48438162d870bef5f856": {
      "model_module": "@jupyter-widgets/controls",
      "model_module_version": "1.5.0",
      "model_name": "ButtonStyleModel",
      "state": {}
     },
     "767e59139dbf44c8a6f50295bb578fae": {
      "model_module": "@jupyter-widgets/controls",
      "model_module_version": "1.5.0",
      "model_name": "DescriptionStyleModel",
      "state": {
       "description_width": "initial"
      }
     },
     "768b129b48a147fe82992af79a8aa5bb": {
      "model_module": "@jupyter-widgets/base",
      "model_module_version": "1.2.0",
      "model_name": "LayoutModel",
      "state": {}
     },
     "76ab80f7fa17427aa454e10165bf8273": {
      "model_module": "@jupyter-widgets/controls",
      "model_module_version": "1.5.0",
      "model_name": "ButtonModel",
      "state": {
       "description": "Calib. theta z",
       "layout": "IPY_MODEL_9adfb63f4383452f8775c8ef5d739f3c",
       "style": "IPY_MODEL_77e7ca8bb3fe4315972fe968e38935aa"
      }
     },
     "76c64c5899c843ef8399a72d2bd9cd25": {
      "model_module": "@jupyter-widgets/base",
      "model_module_version": "1.2.0",
      "model_name": "LayoutModel",
      "state": {
       "width": "150px"
      }
     },
     "76c75b198a484c4b8dc77da6cb62ee95": {
      "model_module": "@jupyter-widgets/output",
      "model_module_version": "1.0.0",
      "model_name": "OutputModel",
      "state": {
       "layout": "IPY_MODEL_c2423131e45f41f0aacfd4d7b430202a",
       "outputs": [
        {
         "data": {
          "application/pdf": "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\n",
          "image/png": "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\n",
          "text/plain": "<Figure size 432x288 with 1 Axes>"
         },
         "metadata": {
          "needs_background": "light"
         },
         "output_type": "display_data"
        }
       ]
      }
     },
     "76d6d5905cc9430a9f89f4b74d44d29d": {
      "model_module": "@jupyter-widgets/controls",
      "model_module_version": "1.5.0",
      "model_name": "ButtonModel",
      "state": {
       "description": "Treat scan(s)",
       "layout": "IPY_MODEL_de123cd9e74a49e5b82d1b525e06beb2",
       "style": "IPY_MODEL_d2a273e22f5549af9a34b6fa44fa747a"
      }
     },
     "76dd90846cae4711b61a090f5ad5d7b5": {
      "model_module": "@jupyter-widgets/base",
      "model_module_version": "1.2.0",
      "model_name": "LayoutModel",
      "state": {}
     },
     "76f38c434f464574a41ac88a18969e0a": {
      "model_module": "@jupyter-widgets/controls",
      "model_module_version": "1.5.0",
      "model_name": "DescriptionStyleModel",
      "state": {
       "description_width": "initial"
      }
     },
     "76f5363952ca464881f80232cee4a129": {
      "model_module": "@jupyter-widgets/controls",
      "model_module_version": "1.5.0",
      "model_name": "VBoxModel",
      "state": {
       "_dom_classes": [
        "widget-interact"
       ],
       "children": [
        "IPY_MODEL_1597624c89704f288a613205a4daa425",
        "IPY_MODEL_905dfc0d7dc845538d00fc6ff36a11fa"
       ],
       "layout": "IPY_MODEL_33c2dce1ca444fa7ac76d9334bbafafa"
      }
     },
     "7723405d3407458fa3af60d68e482013": {
      "model_module": "@jupyter-widgets/controls",
      "model_module_version": "1.5.0",
      "model_name": "TextModel",
      "state": {
       "description": "Horizontal beamsize (mm):",
       "layout": "IPY_MODEL_a2ab455042d94793bc480c9af559906c",
       "placeholder": "Value(s)",
       "style": "IPY_MODEL_5b7788ca7c0e4432b423b831a5c23dea"
      }
     },
     "773963c89afb423fa587927facdb68d3": {
      "model_module": "@jupyter-widgets/controls",
      "model_module_version": "1.5.0",
      "model_name": "ButtonModel",
      "state": {
       "description": "Insert comment",
       "layout": "IPY_MODEL_1febe486fbef4a62aa84c8c8d4e9b47b",
       "style": "IPY_MODEL_aae68895dd164e4ca10ed7eafd70d7b6"
      }
     },
     "7769c8bea2af43e6975080661d8ba7f2": {
      "model_module": "@jupyter-widgets/base",
      "model_module_version": "1.2.0",
      "model_name": "LayoutModel",
      "state": {}
     },
     "778caf25f4294ad1925831d0d5489816": {
      "model_module": "@jupyter-widgets/controls",
      "model_module_version": "1.5.0",
      "model_name": "ButtonModel",
      "state": {
       "description": "Treat scan(s)",
       "layout": "IPY_MODEL_9b62cfef260e45dda80fda12eb7166df",
       "style": "IPY_MODEL_78f833bc2b3944a9bd9bc1c10e33d51a"
      }
     },
     "77e7ca8bb3fe4315972fe968e38935aa": {
      "model_module": "@jupyter-widgets/controls",
      "model_module_version": "1.5.0",
      "model_name": "ButtonStyleModel",
      "state": {}
     },
     "780350286c46412f90078312ec642763": {
      "model_module": "@jupyter-widgets/controls",
      "model_module_version": "1.5.0",
      "model_name": "HBoxModel",
      "state": {
       "children": [
        "IPY_MODEL_0825855d56214be1a17c3904c8a0d9cb",
        "IPY_MODEL_a0756ad6af5745eca4d36a97b121dab2"
       ],
       "layout": "IPY_MODEL_59db8eda571040e297ffbb5bb37bd118"
      }
     },
     "78068ea7c178441e8b3b8547fdc5e67e": {
      "model_module": "@jupyter-widgets/controls",
      "model_module_version": "1.5.0",
      "model_name": "ButtonStyleModel",
      "state": {}
     },
     "7815bd3ee6b545aa9ee74f25762a864b": {
      "model_module": "@jupyter-widgets/controls",
      "model_module_version": "1.5.0",
      "model_name": "DropdownModel",
      "state": {
       "_options_labels": [
        "M1-A Pt Track",
        "M1-A B4C Track",
        "M1-B (B4C)",
        "No M1"
       ],
       "description": "M1:",
       "index": 0,
       "layout": "IPY_MODEL_7f3db446dd1d4be68f84e16bed27a6b7",
       "style": "IPY_MODEL_f138c80fb5b14c669d43df14bd5345cf"
      }
     },
     "782b500df6de4c6480f3abe7e71d9455": {
      "model_module": "@jupyter-widgets/controls",
      "model_module_version": "1.5.0",
      "model_name": "HBoxModel",
      "state": {
       "children": [
        "IPY_MODEL_7aad4665b3b6419ba12454028cf4f944",
        "IPY_MODEL_2563c49a7ca940da88fc7c4756160a90"
       ],
       "layout": "IPY_MODEL_567cae1bd76a4e3fb492ae7f53fa684a"
      }
     },
     "78f833bc2b3944a9bd9bc1c10e33d51a": {
      "model_module": "@jupyter-widgets/controls",
      "model_module_version": "1.5.0",
      "model_name": "ButtonStyleModel",
      "state": {}
     },
     "78fd91c2a2954e7b86cb417c4acf42a7": {
      "model_module": "@jupyter-widgets/controls",
      "model_module_version": "1.5.0",
      "model_name": "ButtonStyleModel",
      "state": {}
     },
     "78fe654c8b15410892215ece6fe01657": {
      "model_module": "@jupyter-widgets/base",
      "model_module_version": "1.2.0",
      "model_name": "LayoutModel",
      "state": {}
     },
     "792e34eecda248c29772196790516767": {
      "model_module": "@jupyter-widgets/base",
      "model_module_version": "1.2.0",
      "model_name": "LayoutModel",
      "state": {}
     },
     "79b5f6589bad4745a390b89410f91cca": {
      "model_module": "@jupyter-widgets/base",
      "model_module_version": "1.2.0",
      "model_name": "LayoutModel",
      "state": {}
     },
     "79cfd5b058084205b539a139dfe40ca6": {
      "model_module": "@jupyter-widgets/controls",
      "model_module_version": "1.5.0",
      "model_name": "TextModel",
      "state": {
       "description": "mon4:",
       "layout": "IPY_MODEL_e917d212456d4b2988c1979851b9037e",
       "placeholder": "Empty or type of mon",
       "style": "IPY_MODEL_26cda598171b428bac7cc10a6d05a2b2"
      }
     },
     "7a2c5ce9c3ec45a5b89eff27db5e3c10": {
      "model_module": "@jupyter-widgets/controls",
      "model_module_version": "1.5.0",
      "model_name": "DescriptionStyleModel",
      "state": {
       "description_width": "initial"
      }
     },
     "7a5f3c8dc21447d48f1858b16afaa764": {
      "model_module": "@jupyter-widgets/base",
      "model_module_version": "1.2.0",
      "model_name": "LayoutModel",
      "state": {
       "width": "400px"
      }
     },
     "7aa31fca8e434ffa92bb95a1bdb326f6": {
      "model_module": "@jupyter-widgets/controls",
      "model_module_version": "1.5.0",
      "model_name": "ButtonStyleModel",
      "state": {}
     },
     "7aa8743b7bf1409d891e4594ffd685e1": {
      "model_module": "@jupyter-widgets/controls",
      "model_module_version": "1.5.0",
      "model_name": "SelectMultipleModel",
      "state": {
       "_options_labels": [
        "SIRIUS_Isotherm_2019_02_17_01544.nxs",
        "SIRIUS_Fluo_2020_07_03_00422.nxs",
        "SIRIUS_Fluo_2020_07_03_0042.nxs",
        "SIRIUS_2020_07_17_1613.nxs",
        "SIRIUS_2020_07_17_1610.nxs",
        "SIRIUS_2020_07_16_1555.nxs",
        "SIRIUS_2020_03_12_0760.nxs",
        "SIRIUS_2020_03_12_0756.nxs",
        "SIRIUS_2020_03_11_0752.nxs",
        "SIRIUS_2020_03_11_0744.nxs",
        "SIRIUS_2019_11_07_00325.nxs",
        "SIRIUS_2017_12_11_08042.nxs"
       ],
       "description": "Next scan(s):",
       "index": [],
       "layout": "IPY_MODEL_ffb7cda424ac4e9ebf3f3c7f535153e3",
       "rows": 10,
       "style": "IPY_MODEL_58a4aa74326a4091959ce0bce2442d7d"
      }
     },
     "7aad4665b3b6419ba12454028cf4f944": {
      "model_module": "@jupyter-widgets/controls",
      "model_module_version": "1.5.0",
      "model_name": "CheckboxModel",
      "state": {
       "description": "Horizontal focalisation:",
       "disabled": false,
       "layout": "IPY_MODEL_43eebc09dfaf4150a458cba7eca2814a",
       "style": "IPY_MODEL_003a901d0cce4f3eb6bfad6731a4689c",
       "value": true
      }
     },
     "7b187de7e08f4a2a9cd6d121a7700ebe": {
      "model_module": "@jupyter-widgets/controls",
      "model_module_version": "1.5.0",
      "model_name": "ButtonStyleModel",
      "state": {}
     },
     "7b3f3ccf175b4424b2182baef9fbd533": {
      "model_module": "@jupyter-widgets/controls",
      "model_module_version": "1.5.0",
      "model_name": "DescriptionStyleModel",
      "state": {
       "description_width": "initial"
      }
     },
     "7b6d266c7a484ffcb6df58ba0a846355": {
      "model_module": "@jupyter-widgets/base",
      "model_module_version": "1.2.0",
      "model_name": "LayoutModel",
      "state": {}
     },
     "7bb3c590fe644aee971fc2a791a61037": {
      "model_module": "@jupyter-widgets/controls",
      "model_module_version": "1.5.0",
      "model_name": "ButtonStyleModel",
      "state": {}
     },
     "7c0ebaf6bedf45358815a5b91b4dc3d0": {
      "model_module": "@jupyter-widgets/controls",
      "model_module_version": "1.5.0",
      "model_name": "TextModel",
      "state": {
       "description": "Local contact:",
       "layout": "IPY_MODEL_6faf68ef2f054ab08877f9bd20cd7eb5",
       "placeholder": "Name",
       "style": "IPY_MODEL_88d0aa9d58324094a34b18591a4eb275"
      }
     },
     "7c450c5afdbb489c96daf61ad28dc380": {
      "model_module": "@jupyter-widgets/base",
      "model_module_version": "1.2.0",
      "model_name": "LayoutModel",
      "state": {}
     },
     "7c82741f66be4ee39288ad579a442311": {
      "model_module": "@jupyter-widgets/controls",
      "model_module_version": "1.5.0",
      "model_name": "TextModel",
      "state": {
       "description": "Experiment title:",
       "layout": "IPY_MODEL_4441b00faa9d4c4c8c1f378e3c734c7a",
       "placeholder": "Title",
       "style": "IPY_MODEL_9f873e802f064371a16ed028af10cf63",
       "value": "Test of multilayer substrates and sample environment for improving the implementation of the X ray standing wave technique on SIRIUS"
      }
     },
     "7c9c265ca1194ba8a84ab1dbb864365d": {
      "model_module": "@jupyter-widgets/base",
      "model_module_version": "1.2.0",
      "model_name": "LayoutModel",
      "state": {}
     },
     "7ca71cbcdadd4bd49e1cd8aeaa0dcb60": {
      "model_module": "@jupyter-widgets/base",
      "model_module_version": "1.2.0",
      "model_name": "LayoutModel",
      "state": {}
     },
     "7cd70783ead64984b029127476691b22": {
      "model_module": "@jupyter-widgets/base",
      "model_module_version": "1.2.0",
      "model_name": "LayoutModel",
      "state": {}
     },
     "7ced4e50526240a9ba29f7be9482cc57": {
      "model_module": "@jupyter-widgets/controls",
      "model_module_version": "1.5.0",
      "model_name": "HBoxModel",
      "state": {
       "children": [
        "IPY_MODEL_9b3e1f7478fb49528b4982d5c7a57d96",
        "IPY_MODEL_685cb4e8e84f4f2199e9e3532a203f16"
       ],
       "layout": "IPY_MODEL_4d7577de3a08498fb8f404062856a464"
      }
     },
     "7d3f36ad8fde4ddda7526f009ad1f8c8": {
      "model_module": "@jupyter-widgets/controls",
      "model_module_version": "1.5.0",
      "model_name": "ButtonStyleModel",
      "state": {}
     },
     "7d59c848874145bc839b43bb7eecb000": {
      "model_module": "@jupyter-widgets/controls",
      "model_module_version": "1.5.0",
      "model_name": "TextModel",
      "state": {
       "description": "Experiment number:",
       "layout": "IPY_MODEL_ef3c54d5330e4692acf81870921e6155",
       "placeholder": "Number",
       "style": "IPY_MODEL_89ca09a3a69140919f80a37d117cfad3"
      }
     },
     "7db3fbc409014072bfb8723646a1829a": {
      "model_module": "@jupyter-widgets/controls",
      "model_module_version": "1.5.0",
      "model_name": "ButtonStyleModel",
      "state": {}
     },
     "7dbee45af1cc410dbdc5a95f675d02f1": {
      "model_module": "@jupyter-widgets/base",
      "model_module_version": "1.2.0",
      "model_name": "LayoutModel",
      "state": {
       "width": "200px"
      }
     },
     "7dda204b1df84e9faf0aa47fd8e06d6b": {
      "model_module": "@jupyter-widgets/controls",
      "model_module_version": "1.5.0",
      "model_name": "HBoxModel",
      "state": {
       "children": [
        "IPY_MODEL_0e94cfcd9cde45c996e643dd04672d45",
        "IPY_MODEL_f1cb1091ea724552979ed9e2e71badc2"
       ],
       "layout": "IPY_MODEL_8bcdc8d3dee84a5c8cd6222556ead78a"
      }
     },
     "7e7e2fac96b44ad79f45d596ba45c5bd": {
      "model_module": "@jupyter-widgets/base",
      "model_module_version": "1.2.0",
      "model_name": "LayoutModel",
      "state": {}
     },
     "7ea217b4ce634a5e8899058183681d4b": {
      "model_module": "@jupyter-widgets/controls",
      "model_module_version": "1.5.0",
      "model_name": "ButtonStyleModel",
      "state": {}
     },
     "7ef4e69c27124d05861ba6affb6d154a": {
      "model_module": "@jupyter-widgets/base",
      "model_module_version": "1.2.0",
      "model_name": "LayoutModel",
      "state": {}
     },
     "7ef95a2428f34b13a75c0afe2afc6032": {
      "model_module": "@jupyter-widgets/base",
      "model_module_version": "1.2.0",
      "model_name": "LayoutModel",
      "state": {}
     },
     "7f231edbf38f463bb828c41dd4ee550c": {
      "model_module": "@jupyter-widgets/controls",
      "model_module_version": "1.5.0",
      "model_name": "TextModel",
      "state": {
       "description": "Wavelength (nm):",
       "layout": "IPY_MODEL_a2ab455042d94793bc480c9af559906c",
       "placeholder": "Value(s)",
       "style": "IPY_MODEL_4dec8973ec634138823e4cbd699b4d02"
      }
     },
     "7f3db446dd1d4be68f84e16bed27a6b7": {
      "model_module": "@jupyter-widgets/base",
      "model_module_version": "1.2.0",
      "model_name": "LayoutModel",
      "state": {
       "width": "200px"
      }
     },
     "7f48c8e5ba434710829bf39e0beb27be": {
      "model_module": "@jupyter-widgets/controls",
      "model_module_version": "1.5.0",
      "model_name": "HBoxModel",
      "state": {
       "children": [
        "IPY_MODEL_6fe1fc47392b40cf8050e81c6eb91012",
        "IPY_MODEL_8445d762ab0d40d797492ea60da48875"
       ],
       "layout": "IPY_MODEL_0ecf2dd289f34d50b1c8783868dc9503"
      }
     },
     "7f55ebeed9de4f54acffcb5a9f4f7b4d": {
      "model_module": "@jupyter-widgets/base",
      "model_module_version": "1.2.0",
      "model_name": "LayoutModel",
      "state": {}
     },
     "7f64201422cb4aff9bc6ad2d6fda7313": {
      "model_module": "@jupyter-widgets/output",
      "model_module_version": "1.0.0",
      "model_name": "OutputModel",
      "state": {
       "layout": "IPY_MODEL_20d04bb10c0c492c8d8d23ec0bdc8163"
      }
     },
     "800ab8d3ca324abf8510d0c1b4e9a66d": {
      "model_module": "@jupyter-widgets/controls",
      "model_module_version": "1.5.0",
      "model_name": "ButtonStyleModel",
      "state": {}
     },
     "802e4b6507b1473e81569d3798e90dec": {
      "model_module": "@jupyter-widgets/controls",
      "model_module_version": "1.5.0",
      "model_name": "ButtonModel",
      "state": {
       "description": "Fill form",
       "layout": "IPY_MODEL_82f3a4a1cb5e4117a10a7c9ce99bf13c",
       "style": "IPY_MODEL_b691c6a0c48548daaa6fa6f1d05b6a59"
      }
     },
     "8032d612dd8f4132840556d59504c065": {
      "model_module": "@jupyter-widgets/controls",
      "model_module_version": "1.5.0",
      "model_name": "TextModel",
      "state": {
       "description": "Harmonic:",
       "layout": "IPY_MODEL_fcc1a1b0d3664300b8f863a47c8ad19d",
       "placeholder": "Value(s)",
       "style": "IPY_MODEL_277ead1dcf4c453cab82a8813e7e9560"
      }
     },
     "80511940231849398838872e60f108a7": {
      "model_module": "@jupyter-widgets/controls",
      "model_module_version": "1.5.0",
      "model_name": "ButtonStyleModel",
      "state": {}
     },
     "8093e8b4417e496db27ee1dd98f007b9": {
      "model_module": "@jupyter-widgets/base",
      "model_module_version": "1.2.0",
      "model_name": "LayoutModel",
      "state": {}
     },
     "8096732cf8b0412594ea476f59bc2407": {
      "model_module": "@jupyter-widgets/controls",
      "model_module_version": "1.5.0",
      "model_name": "FloatTextModel",
      "state": {
       "description": "thetac (rad)",
       "layout": "IPY_MODEL_06cdf8ed30a0478fbef1464530893476",
       "step": null,
       "style": "IPY_MODEL_bebd3ae94a6b4f55bc1b9aa975f2252c",
       "value": 0.0028
      }
     },
     "80b36c5c22f04b0fb819a1f604d8f39c": {
      "model_module": "@jupyter-widgets/controls",
      "model_module_version": "1.5.0",
      "model_name": "DescriptionStyleModel",
      "state": {
       "description_width": "initial"
      }
     },
     "814c7d15325e463ebf903d577fc418a8": {
      "model_module": "@jupyter-widgets/base",
      "model_module_version": "1.2.0",
      "model_name": "LayoutModel",
      "state": {}
     },
     "815ca18079bc4f15ae013baf61b15a9c": {
      "model_module": "@jupyter-widgets/controls",
      "model_module_version": "1.5.0",
      "model_name": "ButtonStyleModel",
      "state": {}
     },
     "81710046ee8d4a16a5ca3055b44fffb1": {
      "model_module": "@jupyter-widgets/controls",
      "model_module_version": "1.5.0",
      "model_name": "DescriptionStyleModel",
      "state": {
       "description_width": "initial"
      }
     },
     "821ae98c1f01481596e71aa2555e407f": {
      "model_module": "@jupyter-widgets/controls",
      "model_module_version": "1.5.0",
      "model_name": "ButtonStyleModel",
      "state": {}
     },
     "8245de32262b45d097eeb7a49d5507a7": {
      "model_module": "@jupyter-widgets/output",
      "model_module_version": "1.0.0",
      "model_name": "OutputModel",
      "state": {
       "layout": "IPY_MODEL_89332a0b5ca44a7eac5e1384c78702cc"
      }
     },
     "8246a9659ba04858916fa8d03daa1e4d": {
      "model_module": "@jupyter-widgets/controls",
      "model_module_version": "1.5.0",
      "model_name": "ButtonModel",
      "state": {
       "description": "Insert comment",
       "layout": "IPY_MODEL_cdff664b548247529de7701f1425381c",
       "style": "IPY_MODEL_94befce8aaa142c2a232c2ab2562a659"
      }
     },
     "8267015a58db4227bd7df5dbba723c9e": {
      "model_module": "@jupyter-widgets/base",
      "model_module_version": "1.2.0",
      "model_name": "LayoutModel",
      "state": {}
     },
     "829c0d85d1d748e18daf01dbd624229a": {
      "model_module": "@jupyter-widgets/controls",
      "model_module_version": "1.5.0",
      "model_name": "ButtonStyleModel",
      "state": {}
     },
     "82bb912098284c7a9968b78bf98714c1": {
      "model_module": "@jupyter-widgets/controls",
      "model_module_version": "1.5.0",
      "model_name": "ButtonModel",
      "state": {
       "description": "Print form",
       "layout": "IPY_MODEL_b159fe4bb5a740bcb6a60d6209afe771",
       "style": "IPY_MODEL_39cc771f13c74c0faeeddcf4857ee93e"
      }
     },
     "82c748643e2840cab775c6e3809ddf19": {
      "model_module": "@jupyter-widgets/controls",
      "model_module_version": "1.5.0",
      "model_name": "DropdownModel",
      "state": {
       "_options_labels": [
        "M3 Pt Track",
        "M3 B4C Track",
        "No M3"
       ],
       "description": "M3:",
       "index": 2,
       "layout": "IPY_MODEL_eea060467b154fb9b2e14a49e4854858",
       "style": "IPY_MODEL_b2ba507c97854d5999abee337a25ff2d"
      }
     },
     "82dfaddc7d8f46878258e9911a695f9b": {
      "model_module": "@jupyter-widgets/controls",
      "model_module_version": "1.5.0",
      "model_name": "HBoxModel",
      "state": {
       "children": [
        "IPY_MODEL_c021275832d646938284b35b84c07583",
        "IPY_MODEL_3421f6f1347b4e478733207fee0caab4"
       ],
       "layout": "IPY_MODEL_508b78282a904c319f2aefce23d7ff4a"
      }
     },
     "82e7a9f3e5a548cea8c51eed6c9cb7ec": {
      "model_module": "@jupyter-widgets/controls",
      "model_module_version": "1.5.0",
      "model_name": "ButtonStyleModel",
      "state": {}
     },
     "82f04d5b38ab45738b5b845e426c3f71": {
      "model_module": "@jupyter-widgets/controls",
      "model_module_version": "1.5.0",
      "model_name": "FloatTextModel",
      "state": {
       "description": "wavelength (nm)",
       "layout": "IPY_MODEL_06cdf8ed30a0478fbef1464530893476",
       "step": null,
       "style": "IPY_MODEL_a095adecd1e64ffe9d096396c79fbaf7",
       "value": 0.155
      }
     },
     "82f3a4a1cb5e4117a10a7c9ce99bf13c": {
      "model_module": "@jupyter-widgets/base",
      "model_module_version": "1.2.0",
      "model_name": "LayoutModel",
      "state": {}
     },
     "82f7b35b76c1478c902cb8847c8369e0": {
      "model_module": "@jupyter-widgets/base",
      "model_module_version": "1.2.0",
      "model_name": "LayoutModel",
      "state": {}
     },
     "830c565d06ae40d1a750491417d13e10": {
      "model_module": "@jupyter-widgets/controls",
      "model_module_version": "1.5.0",
      "model_name": "DescriptionStyleModel",
      "state": {
       "description_width": "initial"
      }
     },
     "83b237741f9640bc9f80f5cd2bd3b574": {
      "model_module": "@jupyter-widgets/controls",
      "model_module_version": "1.5.0",
      "model_name": "DescriptionStyleModel",
      "state": {
       "description_width": "initial"
      }
     },
     "83b57cbe17cd4f838c5bda1ae71879a8": {
      "model_module": "@jupyter-widgets/controls",
      "model_module_version": "1.5.0",
      "model_name": "ButtonModel",
      "state": {
       "description": "Extract Vineyard",
       "layout": "IPY_MODEL_e775b28539124992b2f2e023f9abb77b",
       "style": "IPY_MODEL_9d3b8c1dfb29495b88d1ffee67c14e88"
      }
     },
     "84266d5a44a74e5ebed70493b192956c": {
      "model_module": "@jupyter-widgets/controls",
      "model_module_version": "1.5.0",
      "model_name": "TextModel",
      "state": {
       "description": "mon2:",
       "layout": "IPY_MODEL_686c1063d637444699b0cf2ea00bf68d",
       "placeholder": "Empty or type of mon",
       "style": "IPY_MODEL_5f42e0b70ef34231a0951eed051e1514"
      }
     },
     "843205fc43c34ccb88ae79e038f2143e": {
      "model_module": "@jupyter-widgets/base",
      "model_module_version": "1.2.0",
      "model_name": "LayoutModel",
      "state": {
       "width": "200px"
      }
     },
     "8445d762ab0d40d797492ea60da48875": {
      "model_module": "@jupyter-widgets/controls",
      "model_module_version": "1.5.0",
      "model_name": "CheckboxModel",
      "state": {
       "description": "Vertical focalisation:",
       "disabled": false,
       "layout": "IPY_MODEL_e83d3931957c468f8e6fa683f1994911",
       "style": "IPY_MODEL_41bd9a26ecb8466591e0144bfb307316",
       "value": true
      }
     },
     "846f520945dd4bbda234e6f8b2753457": {
      "model_module": "@jupyter-widgets/base",
      "model_module_version": "1.2.0",
      "model_name": "LayoutModel",
      "state": {}
     },
     "84969ba1a519472fa085eb417ea1fe03": {
      "model_module": "@jupyter-widgets/base",
      "model_module_version": "1.2.0",
      "model_name": "LayoutModel",
      "state": {}
     },
     "84c3bf95e43a48a3abd6119d8f4d2f1c": {
      "model_module": "@jupyter-widgets/controls",
      "model_module_version": "1.5.0",
      "model_name": "ButtonStyleModel",
      "state": {}
     },
     "84e99931e79c4a2984510df9cba12f59": {
      "model_module": "@jupyter-widgets/controls",
      "model_module_version": "1.5.0",
      "model_name": "DescriptionStyleModel",
      "state": {
       "description_width": "initial"
      }
     },
     "8505bb748e6e48afa0a3fb5c538cb5d9": {
      "model_module": "@jupyter-widgets/controls",
      "model_module_version": "1.5.0",
      "model_name": "DescriptionStyleModel",
      "state": {
       "description_width": "initial"
      }
     },
     "8537b0606a2747178907a3f231e4d88c": {
      "model_module": "@jupyter-widgets/base",
      "model_module_version": "1.2.0",
      "model_name": "LayoutModel",
      "state": {
       "height": "40px",
       "width": "200px"
      }
     },
     "854da794b6524eb59454f573a43cf11a": {
      "model_module": "@jupyter-widgets/base",
      "model_module_version": "1.2.0",
      "model_name": "LayoutModel",
      "state": {}
     },
     "85651b61d32b43ccb8f7177650a3fdec": {
      "model_module": "@jupyter-widgets/base",
      "model_module_version": "1.2.0",
      "model_name": "LayoutModel",
      "state": {}
     },
     "857101be2f3642e5a9b48425330c61dd": {
      "model_module": "@jupyter-widgets/base",
      "model_module_version": "1.2.0",
      "model_name": "LayoutModel",
      "state": {
       "height": "40px",
       "width": "250px"
      }
     },
     "858d6363fdb7433da2ad950f84fee505": {
      "model_module": "@jupyter-widgets/base",
      "model_module_version": "1.2.0",
      "model_name": "LayoutModel",
      "state": {}
     },
     "85ba69e0aaf04a4e935c345d82fbf964": {
      "model_module": "@jupyter-widgets/controls",
      "model_module_version": "1.5.0",
      "model_name": "VBoxModel",
      "state": {
       "_dom_classes": [
        "widget-interact"
       ],
       "children": [
        "IPY_MODEL_f76c0e6bc50d422fa47b64645386ec17",
        "IPY_MODEL_fd16baae317340c4a6eda0deacdea75d"
       ],
       "layout": "IPY_MODEL_e7c77ef9e5384ba3acc3c65d96cd47d7"
      }
     },
     "8622a028d7cc40eeb58a655b55fc13ed": {
      "model_module": "@jupyter-widgets/controls",
      "model_module_version": "1.5.0",
      "model_name": "VBoxModel",
      "state": {
       "_dom_classes": [
        "widget-interact"
       ],
       "children": [
        "IPY_MODEL_9892ed328fcb485cadba447b97ffc6fc",
        "IPY_MODEL_a5336781007440d0897589e5c55126f1"
       ],
       "layout": "IPY_MODEL_5104de47f12449949b82e3165f1b973b"
      }
     },
     "864d743f947241bb89fd39f47d3226f3": {
      "model_module": "@jupyter-widgets/controls",
      "model_module_version": "1.5.0",
      "model_name": "DescriptionStyleModel",
      "state": {
       "description_width": "initial"
      }
     },
     "87430160388844e1a0349bc95b1a0eee": {
      "model_module": "@jupyter-widgets/controls",
      "model_module_version": "1.5.0",
      "model_name": "HBoxModel",
      "state": {
       "children": [
        "IPY_MODEL_8032d612dd8f4132840556d59504c065",
        "IPY_MODEL_2dd495e7371643b392a9c82942a1b7f3",
        "IPY_MODEL_34b3180173764dcfb7333cff6edf969a"
       ],
       "layout": "IPY_MODEL_6ad18026b6394e01960c71c3d497012f"
      }
     },
     "87708d5733eb4c63a3b9c503db5b6033": {
      "model_module": "@jupyter-widgets/controls",
      "model_module_version": "1.5.0",
      "model_name": "ButtonModel",
      "state": {
       "description": "Insert comment",
       "layout": "IPY_MODEL_6409d5de228e430c9a61718bc9077922",
       "style": "IPY_MODEL_1802dc6ab06543c4a49531ba37582bca"
      }
     },
     "8786a4d7de5e47db84b6fd7b90ae2b90": {
      "model_module": "@jupyter-widgets/base",
      "model_module_version": "1.2.0",
      "model_name": "LayoutModel",
      "state": {}
     },
     "87dfdf39c735459badddf64575f1da24": {
      "model_module": "@jupyter-widgets/controls",
      "model_module_version": "1.5.0",
      "model_name": "ButtonStyleModel",
      "state": {}
     },
     "888ecffe6d024a50bdb79af778f091f7": {
      "model_module": "@jupyter-widgets/base",
      "model_module_version": "1.2.0",
      "model_name": "LayoutModel",
      "state": {}
     },
     "88b3755a81994d75b4f4ed929788607b": {
      "model_module": "@jupyter-widgets/controls",
      "model_module_version": "1.5.0",
      "model_name": "TextModel",
      "state": {
       "description": "mon2:",
       "layout": "IPY_MODEL_162425f79766460199b1b8007161a320",
       "placeholder": "Empty or type of mon",
       "style": "IPY_MODEL_abcaecb302b9465792f878626b33a031"
      }
     },
     "88d0aa9d58324094a34b18591a4eb275": {
      "model_module": "@jupyter-widgets/controls",
      "model_module_version": "1.5.0",
      "model_name": "DescriptionStyleModel",
      "state": {
       "description_width": "initial"
      }
     },
     "88f4448733414590b689b0ede29d5016": {
      "model_module": "@jupyter-widgets/controls",
      "model_module_version": "1.5.0",
      "model_name": "DescriptionStyleModel",
      "state": {
       "description_width": "initial"
      }
     },
     "89081bde1be142fe9c320da2243fffb9": {
      "model_module": "@jupyter-widgets/controls",
      "model_module_version": "1.5.0",
      "model_name": "DescriptionStyleModel",
      "state": {
       "description_width": "initial"
      }
     },
     "89332a0b5ca44a7eac5e1384c78702cc": {
      "model_module": "@jupyter-widgets/base",
      "model_module_version": "1.2.0",
      "model_name": "LayoutModel",
      "state": {}
     },
     "89389a2bfa8242a9abe3ded52808fc60": {
      "model_module": "@jupyter-widgets/controls",
      "model_module_version": "1.5.0",
      "model_name": "TextModel",
      "state": {
       "description": "Date:",
       "layout": "IPY_MODEL_a2ab455042d94793bc480c9af559906c",
       "placeholder": "DD/MM/YYYY - DD/MM/YYYY",
       "style": "IPY_MODEL_54ada8ad92e740c8b073bacac7bef8df"
      }
     },
     "8963bee895884137833563d896662766": {
      "model_module": "@jupyter-widgets/controls",
      "model_module_version": "1.5.0",
      "model_name": "ButtonModel",
      "state": {
       "description": "Insert comment",
       "layout": "IPY_MODEL_37beb20741d24347bfe158b600259b5b",
       "style": "IPY_MODEL_4371696d3092481192fdd6aab2d8757c"
      }
     },
     "898f66ce36044044a6788d967b0ac00a": {
      "model_module": "@jupyter-widgets/controls",
      "model_module_version": "1.5.0",
      "model_name": "VBoxModel",
      "state": {
       "_dom_classes": [
        "widget-interact"
       ],
       "children": [
        "IPY_MODEL_5d3c52c7c4234b4b889d64289f37fbc1",
        "IPY_MODEL_67b05af477e444f79fec3e2be51c932d"
       ],
       "layout": "IPY_MODEL_cc30e993d8f6462c9d5c854a9e4085e2"
      }
     },
     "89ca09a3a69140919f80a37d117cfad3": {
      "model_module": "@jupyter-widgets/controls",
      "model_module_version": "1.5.0",
      "model_name": "DescriptionStyleModel",
      "state": {
       "description_width": "initial"
      }
     },
     "8a5bcdb208d9446a82815ff5adaa25be": {
      "model_module": "@jupyter-widgets/base",
      "model_module_version": "1.2.0",
      "model_name": "LayoutModel",
      "state": {}
     },
     "8a6a040b30214231b1dff9ff53ea2e94": {
      "model_module": "@jupyter-widgets/controls",
      "model_module_version": "1.5.0",
      "model_name": "DescriptionStyleModel",
      "state": {
       "description_width": "initial"
      }
     },
     "8adb52d8e3bd4b8fb3edfda13cddd47b": {
      "model_module": "@jupyter-widgets/base",
      "model_module_version": "1.2.0",
      "model_name": "LayoutModel",
      "state": {
       "height": "40px",
       "width": "300px"
      }
     },
     "8b459409f6564c29be3b9eed7f0e18a2": {
      "model_module": "@jupyter-widgets/base",
      "model_module_version": "1.2.0",
      "model_name": "LayoutModel",
      "state": {}
     },
     "8b5ddccaa3954cabbcefdcb98b4eec9b": {
      "model_module": "@jupyter-widgets/base",
      "model_module_version": "1.2.0",
      "model_name": "LayoutModel",
      "state": {}
     },
     "8b8ea55926d049509d89df03d5e1a2a5": {
      "model_module": "@jupyter-widgets/base",
      "model_module_version": "1.2.0",
      "model_name": "LayoutModel",
      "state": {}
     },
     "8bc9db739d5148169b2bf1eff52e14b5": {
      "model_module": "@jupyter-widgets/controls",
      "model_module_version": "1.5.0",
      "model_name": "ButtonStyleModel",
      "state": {}
     },
     "8bcdc8d3dee84a5c8cd6222556ead78a": {
      "model_module": "@jupyter-widgets/base",
      "model_module_version": "1.2.0",
      "model_name": "LayoutModel",
      "state": {}
     },
     "8bceb1cc9c144401b32a7a77dfca3574": {
      "model_module": "@jupyter-widgets/controls",
      "model_module_version": "1.5.0",
      "model_name": "ButtonModel",
      "state": {
       "description": "Fill form",
       "layout": "IPY_MODEL_8b5ddccaa3954cabbcefdcb98b4eec9b",
       "style": "IPY_MODEL_6c3d5c836bb94747a4b62c7455b34126"
      }
     },
     "8bd07ec73aa6486f97fe3818e1279718": {
      "model_module": "@jupyter-widgets/controls",
      "model_module_version": "1.5.0",
      "model_name": "ButtonStyleModel",
      "state": {}
     },
     "8bd3aefb75db4056b7348199373c7937": {
      "model_module": "@jupyter-widgets/base",
      "model_module_version": "1.2.0",
      "model_name": "LayoutModel",
      "state": {}
     },
     "8c26302d3a814e5e8ce959d5c8b8cbf0": {
      "model_module": "@jupyter-widgets/controls",
      "model_module_version": "1.5.0",
      "model_name": "ButtonModel",
      "state": {
       "description": "Convert logs",
       "layout": "IPY_MODEL_4c9b0131b83e45af9417723c412cf7f2",
       "style": "IPY_MODEL_ea5770bdcb7943bd93be5c410e9f5b4f"
      }
     },
     "8c8ccbf769f044c7bd0ff4821549e873": {
      "model_module": "@jupyter-widgets/controls",
      "model_module_version": "1.5.0",
      "model_name": "HBoxModel",
      "state": {
       "children": [
        "IPY_MODEL_33930d58a04542738935f5964fb09e69",
        "IPY_MODEL_639ffa628385437ca2e0e4e7628208e6"
       ],
       "layout": "IPY_MODEL_2c6ce009c66f4f25bb457df27c6261b6"
      }
     },
     "8c9fade3771b44328f804b70b9f4f714": {
      "model_module": "@jupyter-widgets/base",
      "model_module_version": "1.2.0",
      "model_name": "LayoutModel",
      "state": {}
     },
     "8ca98b93d7f24953891378170b8f1de9": {
      "model_module": "@jupyter-widgets/controls",
      "model_module_version": "1.5.0",
      "model_name": "TextModel",
      "state": {
       "description": "mon3:",
       "layout": "IPY_MODEL_ac1a62b3ce5b4317865a384051361bed",
       "placeholder": "Empty or type of mon",
       "style": "IPY_MODEL_e4e00cc594a84a639689514687309fb0"
      }
     },
     "8ceb327412954b9eac4ffc4c3fc19fd0": {
      "model_module": "@jupyter-widgets/base",
      "model_module_version": "1.2.0",
      "model_name": "LayoutModel",
      "state": {}
     },
     "8d55b948995d44d885cd861bb9749a74": {
      "model_module": "@jupyter-widgets/controls",
      "model_module_version": "1.5.0",
      "model_name": "ButtonStyleModel",
      "state": {}
     },
     "8d9b3486b944403b8e20cd6e5381243b": {
      "model_module": "@jupyter-widgets/controls",
      "model_module_version": "1.5.0",
      "model_name": "HBoxModel",
      "state": {
       "children": [
        "IPY_MODEL_beeee61f065b415fbe4f9e156a80b00e",
        "IPY_MODEL_ae0c1d1235f14c52b6759a11bdad7015",
        "IPY_MODEL_3d896c11395841c09f887b8cd1a6d697",
        "IPY_MODEL_140f370ba7274321830f7a7e2018d852"
       ],
       "layout": "IPY_MODEL_c5aea4e8e4f149eab8633cb6e98c461a"
      }
     },
     "8daa0bccfb9f400194bf33bce12f9e40": {
      "model_module": "@jupyter-widgets/controls",
      "model_module_version": "1.5.0",
      "model_name": "SelectMultipleModel",
      "state": {
       "_options_labels": [
        "SIRIUS_Isotherm_2019_02_17_01544.nxs",
        "SIRIUS_Fluo_2020_07_03_00422.nxs",
        "SIRIUS_Fluo_2020_07_03_0042.nxs",
        "SIRIUS_2020_07_17_1613.nxs",
        "SIRIUS_2020_07_17_1610.nxs",
        "SIRIUS_2020_07_16_1555.nxs",
        "SIRIUS_2020_03_12_0760.nxs",
        "SIRIUS_2020_03_12_0756.nxs",
        "SIRIUS_2020_03_11_0752.nxs",
        "SIRIUS_2020_03_11_0744.nxs",
        "SIRIUS_2019_11_07_00325.nxs",
        "SIRIUS_2017_12_11_08042.nxs"
       ],
       "description": "Next scan(s):",
       "index": [],
       "layout": "IPY_MODEL_14892ad40ef846e68f3e668c4b11e46c",
       "rows": 10,
       "style": "IPY_MODEL_52eb80ecad7848b78a6fbfbd4b222c02"
      }
     },
     "8dbf25cee05d4d6dbc1ca1144fb97848": {
      "model_module": "@jupyter-widgets/controls",
      "model_module_version": "1.5.0",
      "model_name": "ButtonModel",
      "state": {
       "description": "Convert logs",
       "layout": "IPY_MODEL_14bd815f316a47e99a04467ceb09409a",
       "style": "IPY_MODEL_55fed8225d4d407d8c1c8775f388d256"
      }
     },
     "8e793c9018d245cf8ae96f8b4e495e58": {
      "model_module": "@jupyter-widgets/controls",
      "model_module_version": "1.5.0",
      "model_name": "DropdownModel",
      "state": {
       "_options_labels": [
        "delta",
        "zs",
        "gamma",
        "hu36energy",
        "xs",
        "energydcm",
        "current",
        "mon2",
        "surfacepressure",
        "areapermolecule",
        "qxy",
        "pilatusroi1",
        "integration_time",
        "sensorsRelTimestamps",
        "sensorsTimestamps"
       ],
       "description": "yLabel",
       "index": 11,
       "layout": "IPY_MODEL_fc3109f281b840c9b1701d67abb42c15",
       "style": "IPY_MODEL_31b9722ff6f6436093164f58027ccd4e"
      }
     },
     "8e8c9e24eacf450e8becc6fd1a78a724": {
      "model_module": "@jupyter-widgets/controls",
      "model_module_version": "1.5.0",
      "model_name": "TextModel",
      "state": {
       "description": "Main proposer:",
       "layout": "IPY_MODEL_e917d212456d4b2988c1979851b9037e",
       "placeholder": "Name",
       "style": "IPY_MODEL_96238a88897a4d63bc88a3ccb2ae77de"
      }
     },
     "8eb933266a46458a8419632852064717": {
      "model_module": "@jupyter-widgets/base",
      "model_module_version": "1.2.0",
      "model_name": "LayoutModel",
      "state": {}
     },
     "8eb9dac07cfa435e93a8cb797155e06f": {
      "model_module": "@jupyter-widgets/controls",
      "model_module_version": "1.5.0",
      "model_name": "HBoxModel",
      "state": {
       "children": [
        "IPY_MODEL_52ef44135a3e45adb3ab98d9acba03aa",
        "IPY_MODEL_53fe22d004a74d4f9500ccda83dcea52"
       ],
       "layout": "IPY_MODEL_0262269833f547358722243ab799e334"
      }
     },
     "8ecab6a28c424b478845f35ca198940f": {
      "model_module": "@jupyter-widgets/base",
      "model_module_version": "1.2.0",
      "model_name": "LayoutModel",
      "state": {}
     },
     "8f044c310e9f47bc98af6f3faf7cb1cd": {
      "model_module": "@jupyter-widgets/controls",
      "model_module_version": "1.5.0",
      "model_name": "DescriptionStyleModel",
      "state": {
       "description_width": "initial"
      }
     },
     "8f060447a2c34049b37fbae797ef45b1": {
      "model_module": "@jupyter-widgets/base",
      "model_module_version": "1.2.0",
      "model_name": "LayoutModel",
      "state": {}
     },
     "8f14962062694ce3ba34ff90abb6f130": {
      "model_module": "@jupyter-widgets/controls",
      "model_module_version": "1.5.0",
      "model_name": "DescriptionStyleModel",
      "state": {
       "description_width": ""
      }
     },
     "8f16e3a04a8c44f7b137daf54d0dcbaf": {
      "model_module": "@jupyter-widgets/base",
      "model_module_version": "1.2.0",
      "model_name": "LayoutModel",
      "state": {}
     },
     "8f87e9e488864c4f83e6f8f24a8d998b": {
      "model_module": "@jupyter-widgets/controls",
      "model_module_version": "1.5.0",
      "model_name": "ButtonModel",
      "state": {
       "description": "Insert positions",
       "layout": "IPY_MODEL_7b6d266c7a484ffcb6df58ba0a846355",
       "style": "IPY_MODEL_7db3fbc409014072bfb8723646a1829a"
      }
     },
     "8f9c123e8ea84c67916ef8d082d494a6": {
      "model_module": "@jupyter-widgets/controls",
      "model_module_version": "1.5.0",
      "model_name": "ButtonStyleModel",
      "state": {}
     },
     "8fa42662c01c42dabd2176b800a253d9": {
      "model_module": "@jupyter-widgets/controls",
      "model_module_version": "1.5.0",
      "model_name": "DescriptionStyleModel",
      "state": {
       "description_width": "initial"
      }
     },
     "8fb5114a80764ec7bb9820b04589ea26": {
      "model_module": "@jupyter-widgets/controls",
      "model_module_version": "1.5.0",
      "model_name": "ButtonModel",
      "state": {
       "description": "Insert positions",
       "layout": "IPY_MODEL_f51e622add5c4d6f8ff4ca4e9d283f0f",
       "style": "IPY_MODEL_821ae98c1f01481596e71aa2555e407f"
      }
     },
     "8fc86c0520414958a1436e3d4e325bb8": {
      "model_module": "@jupyter-widgets/base",
      "model_module_version": "1.2.0",
      "model_name": "LayoutModel",
      "state": {}
     },
     "8feb782fced64286ae8889ce30b5e1bf": {
      "model_module": "@jupyter-widgets/controls",
      "model_module_version": "1.5.0",
      "model_name": "DescriptionStyleModel",
      "state": {
       "description_width": "initial"
      }
     },
     "8ff9201e5aca4daf990df6b5a30828de": {
      "model_module": "@jupyter-widgets/controls",
      "model_module_version": "1.5.0",
      "model_name": "ButtonModel",
      "state": {
       "description": "Treat scan(s)",
       "layout": "IPY_MODEL_1bd42bdf3f784b2ab0a37ee8acf4f955",
       "style": "IPY_MODEL_248d580ebbfb41d58026de5c738201c1"
      }
     },
     "900911dbbd794defa26635427ace586f": {
      "model_module": "@jupyter-widgets/controls",
      "model_module_version": "1.5.0",
      "model_name": "ButtonModel",
      "state": {
       "description": "Plot XRF",
       "layout": "IPY_MODEL_37a7e4e15c194ed0b5ee76b38f6296f4",
       "style": "IPY_MODEL_e5fd42bd5e744ebf82b693988d3e15c5"
      }
     },
     "902a42f9a8eb4d7f99dcb805b2534f9a": {
      "model_module": "@jupyter-widgets/controls",
      "model_module_version": "1.5.0",
      "model_name": "ButtonStyleModel",
      "state": {}
     },
     "905dfc0d7dc845538d00fc6ff36a11fa": {
      "model_module": "@jupyter-widgets/output",
      "model_module_version": "1.0.0",
      "model_name": "OutputModel",
      "state": {
       "layout": "IPY_MODEL_507005f7078c41fa9b5c1e486676430f"
      }
     },
     "906f25f3f04a4051a430a812ff5904ae": {
      "model_module": "@jupyter-widgets/base",
      "model_module_version": "1.2.0",
      "model_name": "LayoutModel",
      "state": {}
     },
     "90b214f2ed934908a9f4cb59475494b9": {
      "model_module": "@jupyter-widgets/base",
      "model_module_version": "1.2.0",
      "model_name": "LayoutModel",
      "state": {}
     },
     "9152cef866ca4092a5f2db2532689cde": {
      "model_module": "@jupyter-widgets/base",
      "model_module_version": "1.2.0",
      "model_name": "LayoutModel",
      "state": {
       "width": "200px"
      }
     },
     "91547b80a57244a38b2804fcb96cc73f": {
      "model_module": "@jupyter-widgets/controls",
      "model_module_version": "1.5.0",
      "model_name": "ButtonStyleModel",
      "state": {}
     },
     "916de521737c492a862975bb551b03e4": {
      "model_module": "@jupyter-widgets/controls",
      "model_module_version": "1.5.0",
      "model_name": "DropdownModel",
      "state": {
       "_options_labels": [
        "delta",
        "zs",
        "gamma",
        "hu36energy",
        "xs",
        "energydcm",
        "current",
        "mon2",
        "surfacepressure",
        "areapermolecule",
        "qxy",
        "pilatusroi1",
        "integration_time",
        "sensorsRelTimestamps",
        "sensorsTimestamps"
       ],
       "description": "xLabel",
       "index": 10,
       "layout": "IPY_MODEL_743439c46fcf448d87a890c2764f4ac7",
       "style": "IPY_MODEL_09a0aaa0e24343e7b67838ea7b06fa3a"
      }
     },
     "91bf0243bf064544914d3e06e83b8f28": {
      "model_module": "@jupyter-widgets/controls",
      "model_module_version": "1.5.0",
      "model_name": "ButtonStyleModel",
      "state": {}
     },
     "924a2c0c78574f7b93e8ff34cfd72619": {
      "model_module": "@jupyter-widgets/base",
      "model_module_version": "1.2.0",
      "model_name": "LayoutModel",
      "state": {}
     },
     "9252576cebf840d482a6dbcd82308dbc": {
      "model_module": "@jupyter-widgets/controls",
      "model_module_version": "1.5.0",
      "model_name": "ButtonModel",
      "state": {
       "description": "Calib. theta z",
       "layout": "IPY_MODEL_1a5c016d50164033a931480ec2bad70b",
       "style": "IPY_MODEL_d91906644ca84a07905cd969cfba751d"
      }
     },
     "92550db3f14a48949b63b345ea8d7ad1": {
      "model_module": "@jupyter-widgets/base",
      "model_module_version": "1.2.0",
      "model_name": "LayoutModel",
      "state": {}
     },
     "925f6bda91c844e1a05b520996066ecb": {
      "model_module": "@jupyter-widgets/controls",
      "model_module_version": "1.5.0",
      "model_name": "DescriptionStyleModel",
      "state": {
       "description_width": "initial"
      }
     },
     "92651c161e1e4d508b378c60b6396542": {
      "model_module": "@jupyter-widgets/controls",
      "model_module_version": "1.5.0",
      "model_name": "ButtonModel",
      "state": {
       "description": "Export to PDF",
       "layout": "IPY_MODEL_146ff85cefdf4be2a9559632c5f9f34d",
       "style": "IPY_MODEL_470894a1f58b47948d9dafbe607ffbb8"
      }
     },
     "929b4e0126a348d7b96015268ea466ba": {
      "model_module": "@jupyter-widgets/controls",
      "model_module_version": "1.5.0",
      "model_name": "HBoxModel",
      "state": {
       "children": [
        "IPY_MODEL_ff1ae59fa02b46869e5800a08331664e",
        "IPY_MODEL_c822849eae5c469fb9a6f20a7bb48f28"
       ],
       "layout": "IPY_MODEL_b658647de4114cbc98bde9ceddb61f03"
      }
     },
     "92f424f93940485cab6a98f2a2e6e8fa": {
      "model_module": "@jupyter-widgets/base",
      "model_module_version": "1.2.0",
      "model_name": "LayoutModel",
      "state": {}
     },
     "92fbccea6abf4665affedc795fc13cc4": {
      "model_module": "@jupyter-widgets/controls",
      "model_module_version": "1.5.0",
      "model_name": "HBoxModel",
      "state": {
       "children": [
        "IPY_MODEL_5263d9277b394270a713385518ce0db4",
        "IPY_MODEL_e94916920a214009822098f6e0f5e087",
        "IPY_MODEL_56341a3570fa4e3495de098fa3080fb5"
       ],
       "layout": "IPY_MODEL_0bb78dd4f04b40ffbb7cd69cecfe7a4f"
      }
     },
     "9304220e5cbe4abbbda28a17399a6ba3": {
      "model_module": "@jupyter-widgets/controls",
      "model_module_version": "1.5.0",
      "model_name": "ButtonModel",
      "state": {
       "description": "Insert commands",
       "layout": "IPY_MODEL_e1e7a568a2df406fabb82301effb257c",
       "style": "IPY_MODEL_0adfaa065b6b4dc9b0c02266c7ed9c3b"
      }
     },
     "9371c1b9dd504dbb9ab2c895c6337b5b": {
      "model_module": "@jupyter-widgets/base",
      "model_module_version": "1.2.0",
      "model_name": "LayoutModel",
      "state": {}
     },
     "93fee9c42ff74a8188125d0651dbff52": {
      "model_module": "@jupyter-widgets/controls",
      "model_module_version": "1.5.0",
      "model_name": "ButtonModel",
      "state": {
       "description": "Print form",
       "layout": "IPY_MODEL_44c4ff6a8e1445af931027069bddbe0b",
       "style": "IPY_MODEL_fd87e771c7324dab991a91d50e3e5a73"
      }
     },
     "9427fa6ca65b4c248f87d7d8145c02e8": {
      "model_module": "@jupyter-widgets/controls",
      "model_module_version": "1.5.0",
      "model_name": "ButtonStyleModel",
      "state": {}
     },
     "943e233c670c40b6a4c26083138ede22": {
      "model_module": "@jupyter-widgets/controls",
      "model_module_version": "1.5.0",
      "model_name": "ButtonStyleModel",
      "state": {}
     },
     "945176563b424bbb9ab05d709079e625": {
      "model_module": "@jupyter-widgets/controls",
      "model_module_version": "1.5.0",
      "model_name": "ButtonModel",
      "state": {
       "description": "Convert logs",
       "layout": "IPY_MODEL_49166ac59bc54c8ebd1282ded677e079",
       "style": "IPY_MODEL_b70926d363874228b8b3846fb85bb34f"
      }
     },
     "946060f34b0f460f9b174f16a766381f": {
      "model_module": "@jupyter-widgets/controls",
      "model_module_version": "1.5.0",
      "model_name": "TextModel",
      "state": {
       "description": "Experiment title:",
       "layout": "IPY_MODEL_43eebc09dfaf4150a458cba7eca2814a",
       "placeholder": "Title",
       "style": "IPY_MODEL_3a20e22fcf4d4e31acd7b2865b71f01c",
       "value": "Test of multilayer substrates and sample environment for improving the implementation of the X ray standing wave technique on SIRIUS"
      }
     },
     "947e06858a174117a58c017d908f4387": {
      "model_module": "@jupyter-widgets/controls",
      "model_module_version": "1.5.0",
      "model_name": "TextModel",
      "state": {
       "description": "Local contact:",
       "layout": "IPY_MODEL_ef3c54d5330e4692acf81870921e6155",
       "placeholder": "Name",
       "style": "IPY_MODEL_83b237741f9640bc9f80f5cd2bd3b574"
      }
     },
     "948f310e73644a85a5289d0d89d61ca8": {
      "model_module": "@jupyter-widgets/controls",
      "model_module_version": "1.5.0",
      "model_name": "DropdownModel",
      "state": {
       "_options_labels": [
        "Green",
        "Yellow",
        "Red"
       ],
       "description": "Safety:",
       "index": 1,
       "layout": "IPY_MODEL_75fd12fd415e4d0fb9660fa504805b0d",
       "style": "IPY_MODEL_7b3f3ccf175b4424b2182baef9fbd533"
      }
     },
     "94befce8aaa142c2a232c2ab2562a659": {
      "model_module": "@jupyter-widgets/controls",
      "model_module_version": "1.5.0",
      "model_name": "ButtonStyleModel",
      "state": {}
     },
     "94c5ed150dc742f79b997f7e6d733c45": {
      "model_module": "@jupyter-widgets/controls",
      "model_module_version": "1.5.0",
      "model_name": "ButtonStyleModel",
      "state": {}
     },
     "94c6afa0297348a1b78e4e24a27be71c": {
      "model_module": "@jupyter-widgets/base",
      "model_module_version": "1.2.0",
      "model_name": "LayoutModel",
      "state": {}
     },
     "94e287c4861b4183b58d6040af696022": {
      "model_module": "@jupyter-widgets/controls",
      "model_module_version": "1.5.0",
      "model_name": "DescriptionStyleModel",
      "state": {
       "description_width": ""
      }
     },
     "95370800986640999946d98a8baf18a4": {
      "model_module": "@jupyter-widgets/controls",
      "model_module_version": "1.5.0",
      "model_name": "HBoxModel",
      "state": {
       "children": [
        "IPY_MODEL_6ea174a33c9e4e2ab9b47c539fc075a3",
        "IPY_MODEL_088691fceeb14c549f91b0a571affb2a",
        "IPY_MODEL_dc4be71e6c4b4f1892a7df1186a0797c",
        "IPY_MODEL_274a57f3a82545f98d94c7eed8736dc5"
       ],
       "layout": "IPY_MODEL_85651b61d32b43ccb8f7177650a3fdec"
      }
     },
     "95c82da67f464e998e4e8fa36d68caa6": {
      "model_module": "@jupyter-widgets/controls",
      "model_module_version": "1.5.0",
      "model_name": "ButtonStyleModel",
      "state": {}
     },
     "96191bd3d5d34af9b4ed038de61371e6": {
      "model_module": "@jupyter-widgets/controls",
      "model_module_version": "1.5.0",
      "model_name": "ButtonModel",
      "state": {
       "description": "Insert commands",
       "layout": "IPY_MODEL_26bb42417dfd4d1bad6049bb13f44b28",
       "style": "IPY_MODEL_224e276cebe54a23bceea3958f293e1b"
      }
     },
     "96212c9e082a42d78c09a52fa1182154": {
      "model_module": "@jupyter-widgets/base",
      "model_module_version": "1.2.0",
      "model_name": "LayoutModel",
      "state": {}
     },
     "96238a88897a4d63bc88a3ccb2ae77de": {
      "model_module": "@jupyter-widgets/controls",
      "model_module_version": "1.5.0",
      "model_name": "DescriptionStyleModel",
      "state": {
       "description_width": "initial"
      }
     },
     "965693a47aac43b4840fa851fb6eafa1": {
      "model_module": "@jupyter-widgets/controls",
      "model_module_version": "1.5.0",
      "model_name": "ButtonStyleModel",
      "state": {}
     },
     "96789ef847f740e2bfee0a9279501a91": {
      "model_module": "@jupyter-widgets/controls",
      "model_module_version": "1.5.0",
      "model_name": "DescriptionStyleModel",
      "state": {
       "description_width": ""
      }
     },
     "96ce2002a06848bfbdf4bf6369769eae": {
      "model_module": "@jupyter-widgets/base",
      "model_module_version": "1.2.0",
      "model_name": "LayoutModel",
      "state": {}
     },
     "96fb5b86c1314edc8634f66a28d463b6": {
      "model_module": "@jupyter-widgets/controls",
      "model_module_version": "1.5.0",
      "model_name": "HBoxModel",
      "state": {
       "children": [
        "IPY_MODEL_d315b9c40a1e484d98afdf8eafc9a961",
        "IPY_MODEL_2ad8cfdedb2248d5831a499c7d9d8610"
       ],
       "layout": "IPY_MODEL_d99fcae6dc8841469f00b38ee331150c"
      }
     },
     "9757463025324db2b14a2b60b0eba4a3": {
      "model_module": "@jupyter-widgets/controls",
      "model_module_version": "1.5.0",
      "model_name": "HBoxModel",
      "state": {
       "children": [
        "IPY_MODEL_0c8347427eea4951b1f3515dba4f099f",
        "IPY_MODEL_4223df30e8514383893cb9aa45e1455b"
       ],
       "layout": "IPY_MODEL_98d5018fbd794c8596739420f49ab501"
      }
     },
     "97db3c865a5c4579928e1f2d4b6129a7": {
      "model_module": "@jupyter-widgets/controls",
      "model_module_version": "1.5.0",
      "model_name": "ButtonModel",
      "state": {
       "description": "Export to PDF",
       "layout": "IPY_MODEL_76dd90846cae4711b61a090f5ad5d7b5",
       "style": "IPY_MODEL_6e30048f14e74354bee05a55f70430bd"
      }
     },
     "97db421641a94569b483227e88622a08": {
      "model_module": "@jupyter-widgets/controls",
      "model_module_version": "1.5.0",
      "model_name": "ButtonStyleModel",
      "state": {}
     },
     "98363491c7d64638bd025ad862cfec75": {
      "model_module": "@jupyter-widgets/base",
      "model_module_version": "1.2.0",
      "model_name": "LayoutModel",
      "state": {
       "height": "40px",
       "width": "800px"
      }
     },
     "983a6dad18dc441694ee9bf08b10d791": {
      "model_module": "@jupyter-widgets/controls",
      "model_module_version": "1.5.0",
      "model_name": "SelectMultipleModel",
      "state": {
       "_options_labels": [
        "SIRIUS_Isotherm_2019_02_17_01544.nxs",
        "SIRIUS_Fluo_2020_07_03_00422.nxs",
        "SIRIUS_Fluo_2020_07_03_0042.nxs",
        "SIRIUS_2020_07_17_1613.nxs",
        "SIRIUS_2020_07_17_1610.nxs",
        "SIRIUS_2020_07_16_1555.nxs",
        "SIRIUS_2020_03_12_0760.nxs",
        "SIRIUS_2020_03_12_0756.nxs",
        "SIRIUS_2020_03_11_0752.nxs",
        "SIRIUS_2020_03_11_0744.nxs",
        "SIRIUS_2019_11_07_00325.nxs",
        "SIRIUS_2017_12_11_08042.nxs"
       ],
       "description": "Next scan(s):",
       "index": [],
       "layout": "IPY_MODEL_2334680112994c42bed065fe8ae2aa37",
       "rows": 10,
       "style": "IPY_MODEL_4e64a4ca7c96423c9e882830a6b2cafe"
      }
     },
     "9846b2a005524b30951af4a1527e32c5": {
      "model_module": "@jupyter-widgets/base",
      "model_module_version": "1.2.0",
      "model_name": "LayoutModel",
      "state": {}
     },
     "9861accb04c04257ab00655c1bfbeb9b": {
      "model_module": "@jupyter-widgets/controls",
      "model_module_version": "1.5.0",
      "model_name": "SelectMultipleModel",
      "state": {
       "_options_labels": [
        "SIRIUS_Isotherm_2019_02_17_01544.nxs",
        "SIRIUS_Fluo_2020_07_03_00422.nxs",
        "SIRIUS_Fluo_2020_07_03_0042.nxs",
        "SIRIUS_2020_07_17_1613.nxs",
        "SIRIUS_2020_07_17_1610.nxs",
        "SIRIUS_2020_07_16_1555.nxs",
        "SIRIUS_2020_03_12_0760.nxs",
        "SIRIUS_2020_03_12_0756.nxs",
        "SIRIUS_2020_03_11_0752.nxs",
        "SIRIUS_2020_03_11_0744.nxs",
        "SIRIUS_2019_11_07_00325.nxs",
        "SIRIUS_2017_12_11_08042.nxs"
       ],
       "description": "Next scan(s):",
       "index": [],
       "layout": "IPY_MODEL_c8ff108867234d92bfa3445bbc163042",
       "rows": 10,
       "style": "IPY_MODEL_fcb4bc04f1064475a07182f6a8785728"
      }
     },
     "98757e398a46419cadf456bf29cdd38f": {
      "model_module": "@jupyter-widgets/controls",
      "model_module_version": "1.5.0",
      "model_name": "HBoxModel",
      "state": {
       "children": [
        "IPY_MODEL_3816ad12d2424e0e94c84d5a27bae4b4",
        "IPY_MODEL_6f8a8a8456dd4828a0062d9d183c2237"
       ],
       "layout": "IPY_MODEL_22e16ce5760a4bd2aa6ef6724b2f66f2"
      }
     },
     "9892ed328fcb485cadba447b97ffc6fc": {
      "model_module": "@jupyter-widgets/controls",
      "model_module_version": "1.5.0",
      "model_name": "SelectMultipleModel",
      "state": {
       "_options_labels": [
        "SIRIUS_Isotherm_2019_02_17_01544.nxs",
        "SIRIUS_Fluo_2020_07_03_00422.nxs",
        "SIRIUS_Fluo_2020_07_03_0042.nxs",
        "SIRIUS_2020_07_17_1613.nxs",
        "SIRIUS_2020_07_17_1610.nxs",
        "SIRIUS_2020_07_16_1555.nxs",
        "SIRIUS_2020_03_12_0760.nxs",
        "SIRIUS_2020_03_12_0756.nxs",
        "SIRIUS_2020_03_11_0752.nxs",
        "SIRIUS_2020_03_11_0744.nxs",
        "SIRIUS_2019_11_07_00325.nxs",
        "SIRIUS_2017_12_11_08042.nxs"
       ],
       "description": "Next scan(s):",
       "index": [],
       "layout": "IPY_MODEL_7a5f3c8dc21447d48f1858b16afaa764",
       "rows": 10,
       "style": "IPY_MODEL_6842377c799040cf8c0402fbd54fbc90"
      }
     },
     "98bb72efb40a49a2aa20eaee541d14e8": {
      "model_module": "@jupyter-widgets/controls",
      "model_module_version": "1.5.0",
      "model_name": "DescriptionStyleModel",
      "state": {
       "description_width": "initial"
      }
     },
     "98c413c03b5943a8b5080d06a2b60b77": {
      "model_module": "@jupyter-widgets/controls",
      "model_module_version": "1.5.0",
      "model_name": "ButtonStyleModel",
      "state": {}
     },
     "98d5018fbd794c8596739420f49ab501": {
      "model_module": "@jupyter-widgets/base",
      "model_module_version": "1.2.0",
      "model_name": "LayoutModel",
      "state": {}
     },
     "98d68dc1b9c447e3ab2317827e6e034f": {
      "model_module": "@jupyter-widgets/controls",
      "model_module_version": "1.5.0",
      "model_name": "ButtonModel",
      "state": {
       "description": "Insert comment",
       "layout": "IPY_MODEL_49cf1897b0e14945b6d1d4b374922ae4",
       "style": "IPY_MODEL_1247b939b27c4c0a8574ddc35d3bdb44"
      }
     },
     "991e5a36cbec41159041486e7723baba": {
      "model_module": "@jupyter-widgets/controls",
      "model_module_version": "1.5.0",
      "model_name": "ButtonModel",
      "state": {
       "description": "Fill form",
       "layout": "IPY_MODEL_5a881d984f3a4d43bd1523838778faa6",
       "style": "IPY_MODEL_b1e2b35ec8154248acdcc86a496b68dc"
      }
     },
     "994f89480a8644b2a6b572732c7678d5": {
      "model_module": "@jupyter-widgets/controls",
      "model_module_version": "1.5.0",
      "model_name": "CheckboxModel",
      "state": {
       "description": "Vertical focalisation:",
       "disabled": false,
       "layout": "IPY_MODEL_98363491c7d64638bd025ad862cfec75",
       "style": "IPY_MODEL_a11bfa4017bc4b1db6c38c8597bfee9c",
       "value": true
      }
     },
     "998708568d93435d8bccb9b90bed93c1": {
      "model_module": "@jupyter-widgets/controls",
      "model_module_version": "1.5.0",
      "model_name": "DescriptionStyleModel",
      "state": {
       "description_width": "initial"
      }
     },
     "998b4876cfc24c01aa8baa8ed61a11fd": {
      "model_module": "@jupyter-widgets/base",
      "model_module_version": "1.2.0",
      "model_name": "LayoutModel",
      "state": {
       "width": "150px"
      }
     },
     "999919abbed445d7a393ab95c99c6435": {
      "model_module": "@jupyter-widgets/controls",
      "model_module_version": "1.5.0",
      "model_name": "DescriptionStyleModel",
      "state": {
       "description_width": "initial"
      }
     },
     "99cd089e8042404ba26831809fe0c7ef": {
      "model_module": "@jupyter-widgets/controls",
      "model_module_version": "1.5.0",
      "model_name": "HBoxModel",
      "state": {
       "children": [
        "IPY_MODEL_73a20dc4e5a14409b114b1da59bd1035",
        "IPY_MODEL_03b7962fe0934653aa391bdf83057ec7"
       ],
       "layout": "IPY_MODEL_5e1785d3524f484ab018e565b81135cf"
      }
     },
     "99f2e7d2254d4524964cddc509204cdf": {
      "model_module": "@jupyter-widgets/controls",
      "model_module_version": "1.5.0",
      "model_name": "DescriptionStyleModel",
      "state": {
       "description_width": "initial"
      }
     },
     "9a519cbb1d2b41e892a75f9a6a8cedcf": {
      "model_module": "@jupyter-widgets/controls",
      "model_module_version": "1.5.0",
      "model_name": "ButtonModel",
      "state": {
       "description": "Calib. theta z",
       "layout": "IPY_MODEL_78fe654c8b15410892215ece6fe01657",
       "style": "IPY_MODEL_9dec72e3a6be48f7a27580817c75af33"
      }
     },
     "9a6222c60ca74da6ae1b720a7bee5cfa": {
      "model_module": "@jupyter-widgets/controls",
      "model_module_version": "1.5.0",
      "model_name": "TextModel",
      "state": {
       "description": "Date:",
       "layout": "IPY_MODEL_b4c6cc9946d14fbcb3540493567ad192",
       "placeholder": "DD/MM/YYYY - DD/MM/YYYY",
       "style": "IPY_MODEL_a5b6b30cc758426fb020332b0ed81848"
      }
     },
     "9a6e1a3fbc824ff19fc2806b00b799a2": {
      "model_module": "@jupyter-widgets/controls",
      "model_module_version": "1.5.0",
      "model_name": "TextModel",
      "state": {
       "description": "Horizontal beamsize (mm):",
       "layout": "IPY_MODEL_467985be4ab04d3f82089be5e8da4549",
       "placeholder": "Value(s)",
       "style": "IPY_MODEL_36c194c2273349879722c328cfef61a2"
      }
     },
     "9a823fd958ef46e3829681830b9ce606": {
      "model_module": "@jupyter-widgets/controls",
      "model_module_version": "1.5.0",
      "model_name": "ButtonModel",
      "state": {
       "description": "Fill form",
       "layout": "IPY_MODEL_c732ec08630d4f6b8be2a2aaaac443e7",
       "style": "IPY_MODEL_26ea1ed25ffd4e45a5c0dfbe70144e0f"
      }
     },
     "9a8db1a75a6141a3b5ba3e94152d1a9b": {
      "model_module": "@jupyter-widgets/base",
      "model_module_version": "1.2.0",
      "model_name": "LayoutModel",
      "state": {}
     },
     "9a91184328ea41cab22e57366089fc6b": {
      "model_module": "@jupyter-widgets/controls",
      "model_module_version": "1.5.0",
      "model_name": "DescriptionStyleModel",
      "state": {
       "description_width": ""
      }
     },
     "9abd72a0c2c94cf5a02041a40da135bd": {
      "model_module": "@jupyter-widgets/controls",
      "model_module_version": "1.5.0",
      "model_name": "ButtonStyleModel",
      "state": {}
     },
     "9adfb63f4383452f8775c8ef5d739f3c": {
      "model_module": "@jupyter-widgets/base",
      "model_module_version": "1.2.0",
      "model_name": "LayoutModel",
      "state": {}
     },
     "9b0429385e4848228ccabbaefbcfe8f5": {
      "model_module": "@jupyter-widgets/controls",
      "model_module_version": "1.5.0",
      "model_name": "DescriptionStyleModel",
      "state": {
       "description_width": "initial"
      }
     },
     "9b3e1f7478fb49528b4982d5c7a57d96": {
      "model_module": "@jupyter-widgets/controls",
      "model_module_version": "1.5.0",
      "model_name": "DropdownModel",
      "state": {
       "_options_labels": [
        "Si111",
        "InSb",
        "Not Used"
       ],
       "description": "DCM:",
       "index": 0,
       "layout": "IPY_MODEL_24c3aa578e0948a28dd8653dec47077f",
       "style": "IPY_MODEL_767e59139dbf44c8a6f50295bb578fae"
      }
     },
     "9b50d9c860744716ad4d78e62d3a3045": {
      "model_module": "@jupyter-widgets/controls",
      "model_module_version": "1.5.0",
      "model_name": "ButtonStyleModel",
      "state": {}
     },
     "9b62cfef260e45dda80fda12eb7166df": {
      "model_module": "@jupyter-widgets/base",
      "model_module_version": "1.2.0",
      "model_name": "LayoutModel",
      "state": {}
     },
     "9b6bbd2e09ab4e19bf388915cc2e6bc4": {
      "model_module": "@jupyter-widgets/base",
      "model_module_version": "1.2.0",
      "model_name": "LayoutModel",
      "state": {}
     },
     "9bd313f19b1a4d909b2975212a311176": {
      "model_module": "@jupyter-widgets/controls",
      "model_module_version": "1.5.0",
      "model_name": "ButtonStyleModel",
      "state": {}
     },
     "9bd6cba76a00424cb7f8dc10cbb8bf0d": {
      "model_module": "@jupyter-widgets/controls",
      "model_module_version": "1.5.0",
      "model_name": "DescriptionStyleModel",
      "state": {
       "description_width": "initial"
      }
     },
     "9bffda7ace674dbeb1cb3b654dbc0bf9": {
      "model_module": "@jupyter-widgets/controls",
      "model_module_version": "1.5.0",
      "model_name": "VBoxModel",
      "state": {
       "_dom_classes": [
        "widget-interact"
       ],
       "children": [
        "IPY_MODEL_eb5257da9a24476db76bbb55a459e622",
        "IPY_MODEL_cba8be636f2848f2baf08814694c665e"
       ],
       "layout": "IPY_MODEL_cb5e5b5c95bb41c383656b8ad3378057"
      }
     },
     "9c309331da0742af9366af845111a5b6": {
      "model_module": "@jupyter-widgets/output",
      "model_module_version": "1.0.0",
      "model_name": "OutputModel",
      "state": {
       "layout": "IPY_MODEL_a01ff62c6d2740f1bfec2d3da8b23c86"
      }
     },
     "9c48f1e0f0334aa4806b3c5c7f833d06": {
      "model_module": "@jupyter-widgets/controls",
      "model_module_version": "1.5.0",
      "model_name": "ButtonStyleModel",
      "state": {}
     },
     "9c4d95a7ce1846e4a7d9bf05e082831a": {
      "model_module": "@jupyter-widgets/base",
      "model_module_version": "1.2.0",
      "model_name": "LayoutModel",
      "state": {
       "width": "200px"
      }
     },
     "9c62c60bad484580bc3a5e7c0f0c5dc5": {
      "model_module": "@jupyter-widgets/controls",
      "model_module_version": "1.5.0",
      "model_name": "ButtonStyleModel",
      "state": {}
     },
     "9cd03c62ca0a475bb6e7ab48a4e08c36": {
      "model_module": "@jupyter-widgets/controls",
      "model_module_version": "1.5.0",
      "model_name": "ButtonModel",
      "state": {
       "description": "Export to PDF",
       "layout": "IPY_MODEL_197b40104bb54d2daa24029143aaca1b",
       "style": "IPY_MODEL_1bed8002a2814dd7bcbfa5c3990ccd60"
      }
     },
     "9cdcae175adf4d769673f2c5f2044a85": {
      "model_module": "@jupyter-widgets/controls",
      "model_module_version": "1.5.0",
      "model_name": "ButtonModel",
      "state": {
       "description": "Plot isotherm",
       "layout": "IPY_MODEL_ad650d0a840a4a7b8a461d79fe3f899b",
       "style": "IPY_MODEL_395a51147e644859b0f94681a9812be9"
      }
     },
     "9d1f4e87db024e278e9b9eec3b767318": {
      "model_module": "@jupyter-widgets/controls",
      "model_module_version": "1.5.0",
      "model_name": "ButtonModel",
      "state": {
       "description": "Insert positions",
       "layout": "IPY_MODEL_f54a7b6f05d947a5bf0e305bc7119131",
       "style": "IPY_MODEL_16e75fa5a19940cd8c64ec915380c332"
      }
     },
     "9d3b8c1dfb29495b88d1ffee67c14e88": {
      "model_module": "@jupyter-widgets/controls",
      "model_module_version": "1.5.0",
      "model_name": "ButtonStyleModel",
      "state": {}
     },
     "9d483108774d44eaa55c9e1272de8b7b": {
      "model_module": "@jupyter-widgets/controls",
      "model_module_version": "1.5.0",
      "model_name": "DescriptionStyleModel",
      "state": {
       "description_width": "initial"
      }
     },
     "9d719eb20faf435b8e79381804baa02f": {
      "model_module": "@jupyter-widgets/base",
      "model_module_version": "1.2.0",
      "model_name": "LayoutModel",
      "state": {}
     },
     "9d9b85dca0624690890eda1507d68bfb": {
      "model_module": "@jupyter-widgets/controls",
      "model_module_version": "1.5.0",
      "model_name": "TextModel",
      "state": {
       "description": "Type:",
       "layout": "IPY_MODEL_6faf68ef2f054ab08877f9bd20cd7eb5",
       "placeholder": "Proposal, Commissioning, ...",
       "style": "IPY_MODEL_ce92f99fb60f42319bf2aa97a6f86910"
      }
     },
     "9dec72e3a6be48f7a27580817c75af33": {
      "model_module": "@jupyter-widgets/controls",
      "model_module_version": "1.5.0",
      "model_name": "ButtonStyleModel",
      "state": {}
     },
     "9df83242182c4b2b9ced08071319bfbb": {
      "model_module": "@jupyter-widgets/controls",
      "model_module_version": "1.5.0",
      "model_name": "TextModel",
      "state": {
       "description": "Users (on site):",
       "layout": "IPY_MODEL_563883aaaf3c4c3bb1c85b4bac7a5e1f",
       "placeholder": "Names",
       "style": "IPY_MODEL_98bb72efb40a49a2aa20eaee541d14e8"
      }
     },
     "9e193aa6a0ac4a798b7719aae25b1cb2": {
      "model_module": "@jupyter-widgets/controls",
      "model_module_version": "1.5.0",
      "model_name": "DescriptionStyleModel",
      "state": {
       "description_width": "initial"
      }
     },
     "9e4fca70411b4fd8b1c9c26cafad46d2": {
      "model_module": "@jupyter-widgets/controls",
      "model_module_version": "1.5.0",
      "model_name": "ButtonStyleModel",
      "state": {}
     },
     "9e89fe0f42694c8c9b1853b6959339d9": {
      "model_module": "@jupyter-widgets/controls",
      "model_module_version": "1.5.0",
      "model_name": "TextModel",
      "state": {
       "description": "mon1:",
       "layout": "IPY_MODEL_34c27c545c9249bea2f28c9bf3bd98ea",
       "placeholder": "Empty or type of mon",
       "style": "IPY_MODEL_de172c7d60524a5aafa6424217d46a24"
      }
     },
     "9ee28f7cca3148039f466bd843ef8c0e": {
      "model_module": "@jupyter-widgets/base",
      "model_module_version": "1.2.0",
      "model_name": "LayoutModel",
      "state": {
       "height": "40px",
       "width": "150px"
      }
     },
     "9ef4ee38496c434988dbc73f0927ebe5": {
      "model_module": "@jupyter-widgets/controls",
      "model_module_version": "1.5.0",
      "model_name": "DescriptionStyleModel",
      "state": {
       "description_width": "initial"
      }
     },
     "9f36c84a8adb47cc93e91df9775ff0d6": {
      "model_module": "@jupyter-widgets/controls",
      "model_module_version": "1.5.0",
      "model_name": "HBoxModel",
      "state": {
       "children": [
        "IPY_MODEL_62362a955a064018ba6d75e41bc2e2b8",
        "IPY_MODEL_2a9fb22b136649e69a4b239fd2e2692b"
       ],
       "layout": "IPY_MODEL_3da739d7e34a47de878a4500274fcea4"
      }
     },
     "9f7ae2a426ce436ebbb35f7115465a52": {
      "model_module": "@jupyter-widgets/base",
      "model_module_version": "1.2.0",
      "model_name": "LayoutModel",
      "state": {}
     },
     "9f873e802f064371a16ed028af10cf63": {
      "model_module": "@jupyter-widgets/controls",
      "model_module_version": "1.5.0",
      "model_name": "DescriptionStyleModel",
      "state": {
       "description_width": "initial"
      }
     },
     "9f900b1299f2493ca5b5c72b2f7d6690": {
      "model_module": "@jupyter-widgets/base",
      "model_module_version": "1.2.0",
      "model_name": "LayoutModel",
      "state": {}
     },
     "9fa4f968ef5f4f5d93a60aa3034ce6d5": {
      "model_module": "@jupyter-widgets/base",
      "model_module_version": "1.2.0",
      "model_name": "LayoutModel",
      "state": {
       "height": "40px",
       "width": "300px"
      }
     },
     "9fd6828343eb4e7cbd7e317fe603656a": {
      "model_module": "@jupyter-widgets/controls",
      "model_module_version": "1.5.0",
      "model_name": "DropdownModel",
      "state": {
       "_options_labels": [
        "M3 Pt Track",
        "M3 B4C Track",
        "No M3"
       ],
       "description": "M3:",
       "index": 2,
       "layout": "IPY_MODEL_e942e6bca6b542b2873e566f428d8c76",
       "style": "IPY_MODEL_474c7075cfab443b9ec288a6d088c13d"
      }
     },
     "a01ff62c6d2740f1bfec2d3da8b23c86": {
      "model_module": "@jupyter-widgets/base",
      "model_module_version": "1.2.0",
      "model_name": "LayoutModel",
      "state": {}
     },
     "a03b7bc4106e4a21b4f615a1af7d7a6c": {
      "model_module": "@jupyter-widgets/controls",
      "model_module_version": "1.5.0",
      "model_name": "DropdownModel",
      "state": {
       "_options_labels": [
        "Fixed",
        "Variable"
       ],
       "description": "Fixed/Variable energy:",
       "index": 0,
       "layout": "IPY_MODEL_0a0f4c47a58f40f1a47786ae540e05f9",
       "style": "IPY_MODEL_cce3abbf81d34aae8d9a3a2db5ee5bc8"
      }
     },
     "a058614b588c4d679ac4c57d795dddbd": {
      "model_module": "@jupyter-widgets/controls",
      "model_module_version": "1.5.0",
      "model_name": "HBoxModel",
      "state": {
       "children": [
        "IPY_MODEL_4d4bdc23f2e244dbb9ad4673e6db1b2a",
        "IPY_MODEL_ce9e1ec84cdf4523b70633903844e973"
       ],
       "layout": "IPY_MODEL_06638f8856bf413bae6297c9275dd5f6"
      }
     },
     "a05eb973945a4043b184b6ebf9e35d87": {
      "model_module": "@jupyter-widgets/controls",
      "model_module_version": "1.5.0",
      "model_name": "ButtonModel",
      "state": {
       "description": "Insert script",
       "layout": "IPY_MODEL_d2a5e7fdb49c4543b5c329c6d40a5650",
       "style": "IPY_MODEL_038be3fc04194c0bb1c590a2a029ae38"
      }
     },
     "a0756ad6af5745eca4d36a97b121dab2": {
      "model_module": "@jupyter-widgets/controls",
      "model_module_version": "1.5.0",
      "model_name": "DropdownModel",
      "state": {
       "_options_labels": [
        "In use",
        "Not used"
       ],
       "description": "MGM:",
       "index": 1,
       "layout": "IPY_MODEL_3915162dbb144682ab3f838f4d50d9b7",
       "style": "IPY_MODEL_0d8256c392e941d89c3df8ccde31142b"
      }
     },
     "a095adecd1e64ffe9d096396c79fbaf7": {
      "model_module": "@jupyter-widgets/controls",
      "model_module_version": "1.5.0",
      "model_name": "DescriptionStyleModel",
      "state": {
       "description_width": "initial"
      }
     },
     "a11bfa4017bc4b1db6c38c8597bfee9c": {
      "model_module": "@jupyter-widgets/controls",
      "model_module_version": "1.5.0",
      "model_name": "DescriptionStyleModel",
      "state": {
       "description_width": "initial"
      }
     },
     "a125e277cc6e45628756b181d3cfcafc": {
      "model_module": "@jupyter-widgets/controls",
      "model_module_version": "1.5.0",
      "model_name": "ButtonModel",
      "state": {
       "description": "Calib. theta z",
       "layout": "IPY_MODEL_3f35a74996a340e9958182f7d550841a",
       "style": "IPY_MODEL_20fcfafb6edb4ecdb0524b4f01e2f792"
      }
     },
     "a1362ad23a6e4bbe97a8efe4ac7c4bf0": {
      "model_module": "@jupyter-widgets/controls",
      "model_module_version": "1.5.0",
      "model_name": "DescriptionStyleModel",
      "state": {
       "description_width": "initial"
      }
     },
     "a1450231682c4c1d98e0f822909ac0db": {
      "model_module": "@jupyter-widgets/controls",
      "model_module_version": "1.5.0",
      "model_name": "HBoxModel",
      "state": {
       "children": [
        "IPY_MODEL_6e3e5765897f4fd2a191ee9c6a82a817",
        "IPY_MODEL_74517e67a760481485bd69322cb859a1",
        "IPY_MODEL_bfe83b9988c7472793aaea4af349d944",
        "IPY_MODEL_2c1e3ed467774b7c8cc255f1868e5e4a",
        "IPY_MODEL_bae9663a9bd44772995b901b92dd2f19"
       ],
       "layout": "IPY_MODEL_a5b8f25fe5d743eea54dec470d526a69"
      }
     },
     "a1816ed5c74d436fa2c2ec84be5324a1": {
      "model_module": "@jupyter-widgets/base",
      "model_module_version": "1.2.0",
      "model_name": "LayoutModel",
      "state": {}
     },
     "a1de6786e86a427c85f1e9c95dac1e8e": {
      "model_module": "@jupyter-widgets/base",
      "model_module_version": "1.2.0",
      "model_name": "LayoutModel",
      "state": {}
     },
     "a2575d6377df4ddb8de2d300fe772fe6": {
      "model_module": "@jupyter-widgets/controls",
      "model_module_version": "1.5.0",
      "model_name": "DropdownModel",
      "state": {
       "_options_labels": [
        "M4 Pt Track",
        "M4 Si Track",
        "No M4"
       ],
       "description": "M4:",
       "index": 0,
       "layout": "IPY_MODEL_589b7a1ec6d843a291dc48f613035c91",
       "style": "IPY_MODEL_998708568d93435d8bccb9b90bed93c1"
      }
     },
     "a27fcfbd85fc44748a2366d964f1c64b": {
      "model_module": "@jupyter-widgets/base",
      "model_module_version": "1.2.0",
      "model_name": "LayoutModel",
      "state": {}
     },
     "a2ab455042d94793bc480c9af559906c": {
      "model_module": "@jupyter-widgets/base",
      "model_module_version": "1.2.0",
      "model_name": "LayoutModel",
      "state": {
       "height": "40px",
       "width": "300px"
      }
     },
     "a2d0d12633a546b29d7b5347adc0b665": {
      "model_module": "@jupyter-widgets/base",
      "model_module_version": "1.2.0",
      "model_name": "LayoutModel",
      "state": {
       "width": "150px"
      }
     },
     "a305cffc981144c9bb04a661063f5610": {
      "model_module": "@jupyter-widgets/controls",
      "model_module_version": "1.5.0",
      "model_name": "ButtonStyleModel",
      "state": {}
     },
     "a324991ca94a4fb8a2a5b7ab4e7cc69e": {
      "model_module": "@jupyter-widgets/base",
      "model_module_version": "1.2.0",
      "model_name": "LayoutModel",
      "state": {
       "width": "400px"
      }
     },
     "a3603233d7394aeabc8f203d81ba830a": {
      "model_module": "@jupyter-widgets/controls",
      "model_module_version": "1.5.0",
      "model_name": "DescriptionStyleModel",
      "state": {
       "description_width": "initial"
      }
     },
     "a3a9551657e94a2d8a7cbc5c1dabf0bd": {
      "model_module": "@jupyter-widgets/controls",
      "model_module_version": "1.5.0",
      "model_name": "DropdownModel",
      "state": {
       "_options_labels": [
        "delta",
        "zs",
        "gamma",
        "hu36energy",
        "xs",
        "energydcm",
        "current",
        "mon2",
        "surfacepressure",
        "areapermolecule",
        "qxy",
        "pilatusroi1",
        "integration_time",
        "sensorsRelTimestamps",
        "sensorsTimestamps"
       ],
       "description": "xLabel",
       "index": 0,
       "layout": "IPY_MODEL_c14494c6c8ec477da1661e2d115f923c",
       "style": "IPY_MODEL_e48a4d08991d4a2ab9344941662d85b3"
      }
     },
     "a3e1cead0a3a49dfa05de09c7ac992ea": {
      "model_module": "@jupyter-widgets/controls",
      "model_module_version": "1.5.0",
      "model_name": "TextModel",
      "state": {
       "description": "Polarisation:",
       "layout": "IPY_MODEL_e917d212456d4b2988c1979851b9037e",
       "placeholder": "Value(s)",
       "style": "IPY_MODEL_f13d0b57373044b885b1ec3e14fb003b",
       "value": "LH"
      }
     },
     "a3ead751ecfb4e6ea85ccda5970b3d27": {
      "model_module": "@jupyter-widgets/base",
      "model_module_version": "1.2.0",
      "model_name": "LayoutModel",
      "state": {
       "width": "200px"
      }
     },
     "a4426141ccbb4d7b99b865dfdcf4d45b": {
      "model_module": "@jupyter-widgets/controls",
      "model_module_version": "1.5.0",
      "model_name": "DescriptionStyleModel",
      "state": {
       "description_width": "initial"
      }
     },
     "a460360017ea4094b43fd9e2ef184631": {
      "model_module": "@jupyter-widgets/base",
      "model_module_version": "1.2.0",
      "model_name": "LayoutModel",
      "state": {}
     },
     "a4bdc18d715f4b4a9472f45d95395186": {
      "model_module": "@jupyter-widgets/base",
      "model_module_version": "1.2.0",
      "model_name": "LayoutModel",
      "state": {}
     },
     "a4ccb3c57bcf448f9fcdd85e37c08315": {
      "model_module": "@jupyter-widgets/controls",
      "model_module_version": "1.5.0",
      "model_name": "DescriptionStyleModel",
      "state": {
       "description_width": "initial"
      }
     },
     "a4f54423b71b4c4a8ed64e5e8e659ce1": {
      "model_module": "@jupyter-widgets/controls",
      "model_module_version": "1.5.0",
      "model_name": "DropdownModel",
      "state": {
       "_options_labels": [
        "M3 Pt Track",
        "M3 B4C Track",
        "No M3"
       ],
       "description": "M3:",
       "index": 2,
       "layout": "IPY_MODEL_a3ead751ecfb4e6ea85ccda5970b3d27",
       "style": "IPY_MODEL_39604dcdb11f4faf902e5100db6b13f4"
      }
     },
     "a50157df55674c84b3bbe71d7837caa2": {
      "model_module": "@jupyter-widgets/controls",
      "model_module_version": "1.5.0",
      "model_name": "ButtonModel",
      "state": {
       "description": "Plot GIXS",
       "layout": "IPY_MODEL_a27fcfbd85fc44748a2366d964f1c64b",
       "style": "IPY_MODEL_3df8c7633aa14acc882f3ca5032c8f85"
      }
     },
     "a5336781007440d0897589e5c55126f1": {
      "model_module": "@jupyter-widgets/output",
      "model_module_version": "1.0.0",
      "model_name": "OutputModel",
      "state": {
       "layout": "IPY_MODEL_90b214f2ed934908a9f4cb59475494b9"
      }
     },
     "a56f7d98a15e4275acc897db9180fc3c": {
      "model_module": "@jupyter-widgets/controls",
      "model_module_version": "1.5.0",
      "model_name": "HBoxModel",
      "state": {
       "children": [
        "IPY_MODEL_b820ea399fb54bb195838cc34c4a3f12",
        "IPY_MODEL_6d9faad97f26407986161d912948bc6f",
        "IPY_MODEL_3e26e7acd3aa4f2999ed5cec2e399931",
        "IPY_MODEL_56f80a539d0449deaff40a8c277a2a6b"
       ],
       "layout": "IPY_MODEL_6c7991e02b644309bff71c6322444174"
      }
     },
     "a583835fbd134a809098afd33030c9f1": {
      "model_module": "@jupyter-widgets/base",
      "model_module_version": "1.2.0",
      "model_name": "LayoutModel",
      "state": {}
     },
     "a595d8da5c7b411bbc462de8c3dfd8f4": {
      "model_module": "@jupyter-widgets/base",
      "model_module_version": "1.2.0",
      "model_name": "LayoutModel",
      "state": {
       "width": "200px"
      }
     },
     "a5b6b30cc758426fb020332b0ed81848": {
      "model_module": "@jupyter-widgets/controls",
      "model_module_version": "1.5.0",
      "model_name": "DescriptionStyleModel",
      "state": {
       "description_width": "initial"
      }
     },
     "a5b8f25fe5d743eea54dec470d526a69": {
      "model_module": "@jupyter-widgets/base",
      "model_module_version": "1.2.0",
      "model_name": "LayoutModel",
      "state": {}
     },
     "a5e8cb9ac85a488fbce95cd27553faab": {
      "model_module": "@jupyter-widgets/controls",
      "model_module_version": "1.5.0",
      "model_name": "TextareaModel",
      "state": {
       "description": "Remarks:",
       "layout": "IPY_MODEL_4441b00faa9d4c4c8c1f378e3c734c7a",
       "placeholder": "Remarks",
       "style": "IPY_MODEL_a95986ac870c4d02b4f5b0a44b4f0a3f"
      }
     },
     "a60416d206d24dd3ae0e02b22847c1c8": {
      "model_module": "@jupyter-widgets/base",
      "model_module_version": "1.2.0",
      "model_name": "LayoutModel",
      "state": {}
     },
     "a620d674f6e34cefb811bcf3e80677fa": {
      "model_module": "@jupyter-widgets/controls",
      "model_module_version": "1.5.0",
      "model_name": "DropdownModel",
      "state": {
       "_options_labels": [
        "M2 Pt Track",
        "M2 B4C Track",
        "No M2"
       ],
       "description": "M2:",
       "index": 0,
       "layout": "IPY_MODEL_c72334a8b83e47b1adab72828c9dfab7",
       "style": "IPY_MODEL_737f40ed6c7a4f3aa2e0e3ce8ca93342"
      }
     },
     "a67fff9266e74980ab261cddd2989288": {
      "model_module": "@jupyter-widgets/base",
      "model_module_version": "1.2.0",
      "model_name": "LayoutModel",
      "state": {}
     },
     "a6f2fb43a6914cc1bdfeb266d4fa2b1e": {
      "model_module": "@jupyter-widgets/base",
      "model_module_version": "1.2.0",
      "model_name": "LayoutModel",
      "state": {}
     },
     "a79a41cee0ea4796aa4c9325f7984561": {
      "model_module": "@jupyter-widgets/base",
      "model_module_version": "1.2.0",
      "model_name": "LayoutModel",
      "state": {}
     },
     "a7c9292f475e447a8fd3b0a2b8f9f30c": {
      "model_module": "@jupyter-widgets/controls",
      "model_module_version": "1.5.0",
      "model_name": "TextModel",
      "state": {
       "description": "mon3:",
       "layout": "IPY_MODEL_162425f79766460199b1b8007161a320",
       "placeholder": "Empty or type of mon",
       "style": "IPY_MODEL_e25fd4a55a4c403ba23f322ac60ba9dd"
      }
     },
     "a7c9942a586243dab9adb91ac5694e1b": {
      "model_module": "@jupyter-widgets/controls",
      "model_module_version": "1.5.0",
      "model_name": "TextareaModel",
      "state": {
       "description": "Remarks:",
       "layout": "IPY_MODEL_98363491c7d64638bd025ad862cfec75",
       "placeholder": "Remarks",
       "style": "IPY_MODEL_7a2c5ce9c3ec45a5b89eff27db5e3c10"
      }
     },
     "a7d9aaf475d04e8e9bd1b57972d4903b": {
      "model_module": "@jupyter-widgets/controls",
      "model_module_version": "1.5.0",
      "model_name": "DescriptionStyleModel",
      "state": {
       "description_width": ""
      }
     },
     "a81db0fbffaf44c389cc716a087eb11a": {
      "model_module": "@jupyter-widgets/controls",
      "model_module_version": "1.5.0",
      "model_name": "HBoxModel",
      "state": {
       "children": [
        "IPY_MODEL_d871c5067a79452b95a312fb17e4ff07",
        "IPY_MODEL_d093591d794a4f1c8a670a431d2a9c5e",
        "IPY_MODEL_414eeab5a081466a9a242c7b855a3e10",
        "IPY_MODEL_79cfd5b058084205b539a139dfe40ca6"
       ],
       "layout": "IPY_MODEL_df42c532466e4169abf6295df9bfd9ef"
      }
     },
     "a830e3307e0f47beae06e4b8dd1c4cef": {
      "model_module": "@jupyter-widgets/controls",
      "model_module_version": "1.5.0",
      "model_name": "DescriptionStyleModel",
      "state": {
       "description_width": "initial"
      }
     },
     "a83f6b9f1e884e68a8c2b6c3bcbac501": {
      "model_module": "@jupyter-widgets/base",
      "model_module_version": "1.2.0",
      "model_name": "LayoutModel",
      "state": {
       "width": "200px"
      }
     },
     "a84b5f3ec1bd478f966654cd9911bcff": {
      "model_module": "@jupyter-widgets/controls",
      "model_module_version": "1.5.0",
      "model_name": "ButtonModel",
      "state": {
       "description": "Plot XRF",
       "layout": "IPY_MODEL_3f547bb5ac1a4d1d8e520ce0a69676aa",
       "style": "IPY_MODEL_62676882e0724c429d727160ff85af6c"
      }
     },
     "a89223ec90af4523b06171b2808174c0": {
      "model_module": "@jupyter-widgets/base",
      "model_module_version": "1.2.0",
      "model_name": "LayoutModel",
      "state": {
       "height": "40px",
       "width": "150px"
      }
     },
     "a9484e69b3ea4b3bb6f68b7cbe2dd8c6": {
      "model_module": "@jupyter-widgets/controls",
      "model_module_version": "1.5.0",
      "model_name": "ButtonStyleModel",
      "state": {}
     },
     "a95986ac870c4d02b4f5b0a44b4f0a3f": {
      "model_module": "@jupyter-widgets/controls",
      "model_module_version": "1.5.0",
      "model_name": "DescriptionStyleModel",
      "state": {
       "description_width": "initial"
      }
     },
     "a969dbdc501c4b5c914ff51a7db27596": {
      "model_module": "@jupyter-widgets/base",
      "model_module_version": "1.2.0",
      "model_name": "LayoutModel",
      "state": {}
     },
     "a980f918c05c4106beb913665c5f0a06": {
      "model_module": "@jupyter-widgets/controls",
      "model_module_version": "1.5.0",
      "model_name": "HBoxModel",
      "state": {
       "children": [
        "IPY_MODEL_6a60dc42808f4ea4aa5f979d4bf5a5e1",
        "IPY_MODEL_1fd482334fe4411f808719f290187864",
        "IPY_MODEL_503cfa5a9e154642a8e7f29321c5dd36",
        "IPY_MODEL_aea91423999149ba86eb5c6f79724b99",
        "IPY_MODEL_0d3a7ab50b214b6597876429b5f4fa29"
       ],
       "layout": "IPY_MODEL_adfc4390c5e943efacddb9321cc43cb3"
      }
     },
     "a98e1165cc0341128547c82ecbfcb341": {
      "model_module": "@jupyter-widgets/base",
      "model_module_version": "1.2.0",
      "model_name": "LayoutModel",
      "state": {
       "height": "40px",
       "width": "800px"
      }
     },
     "a99f6e99edf74135b40614479484b22c": {
      "model_module": "@jupyter-widgets/controls",
      "model_module_version": "1.5.0",
      "model_name": "DropdownModel",
      "state": {
       "_options_labels": [
        "In use",
        "Not used"
       ],
       "description": "MGM:",
       "index": 1,
       "layout": "IPY_MODEL_b8d4213f89454745a242990fe1ba9573",
       "style": "IPY_MODEL_466144695da642bf98e42230ec8b3321"
      }
     },
     "a9bfae20b4944f33bcba34d2e8ca9dd9": {
      "model_module": "@jupyter-widgets/controls",
      "model_module_version": "1.5.0",
      "model_name": "ButtonModel",
      "state": {
       "description": "Insert positions",
       "layout": "IPY_MODEL_e40716426726464aabe0928a7415e0dc",
       "style": "IPY_MODEL_965693a47aac43b4840fa851fb6eafa1"
      }
     },
     "a9d7172436cd46b8a4b40ebc5209aed5": {
      "model_module": "@jupyter-widgets/controls",
      "model_module_version": "1.5.0",
      "model_name": "ButtonStyleModel",
      "state": {}
     },
     "a9ff2aba215b4d56a0cfb7826b074c7d": {
      "model_module": "@jupyter-widgets/base",
      "model_module_version": "1.2.0",
      "model_name": "LayoutModel",
      "state": {}
     },
     "aa18dc887d1247e7b3431d69c5502dfb": {
      "model_module": "@jupyter-widgets/controls",
      "model_module_version": "1.5.0",
      "model_name": "DropdownModel",
      "state": {
       "_options_labels": [
        "delta",
        "zs",
        "gamma",
        "hu36energy",
        "xs",
        "energydcm",
        "current",
        "mon2",
        "surfacepressure",
        "areapermolecule",
        "qxy",
        "pilatusroi1",
        "integration_time",
        "sensorsRelTimestamps",
        "sensorsTimestamps"
       ],
       "description": "yLabel",
       "index": 0,
       "layout": "IPY_MODEL_924a2c0c78574f7b93e8ff34cfd72619",
       "style": "IPY_MODEL_9a91184328ea41cab22e57366089fc6b"
      }
     },
     "aa46fe6d85854697a2e223004397d8cf": {
      "model_module": "@jupyter-widgets/controls",
      "model_module_version": "1.5.0",
      "model_name": "HBoxModel",
      "state": {
       "children": [
        "IPY_MODEL_2e75c23c4f824a87ba82c22c52cdcd11",
        "IPY_MODEL_db995cf073bc454b8fc6af2435856ff4",
        "IPY_MODEL_8dbf25cee05d4d6dbc1ca1144fb97848",
        "IPY_MODEL_61c818c0fcaf499688a30d99847e1d0c"
       ],
       "layout": "IPY_MODEL_3d5fd51c0ce84ce8939041baa0bd7879"
      }
     },
     "aa698d7dfce844f7bc463c45d9da0189": {
      "model_module": "@jupyter-widgets/base",
      "model_module_version": "1.2.0",
      "model_name": "LayoutModel",
      "state": {}
     },
     "aa934991831742048a4cfe8e69b979c3": {
      "model_module": "@jupyter-widgets/base",
      "model_module_version": "1.2.0",
      "model_name": "LayoutModel",
      "state": {}
     },
     "aaae537d9061462397d22c08bf08e588": {
      "model_module": "@jupyter-widgets/controls",
      "model_module_version": "1.5.0",
      "model_name": "ButtonModel",
      "state": {
       "description": "Calib. theta z",
       "layout": "IPY_MODEL_814c7d15325e463ebf903d577fc418a8",
       "style": "IPY_MODEL_829c0d85d1d748e18daf01dbd624229a"
      }
     },
     "aab42c17d15d42bab3138be3fa06a269": {
      "model_module": "@jupyter-widgets/controls",
      "model_module_version": "1.5.0",
      "model_name": "TextModel",
      "state": {
       "description": "Recording directory:",
       "layout": "IPY_MODEL_98363491c7d64638bd025ad862cfec75",
       "placeholder": "Full path to the recording directory",
       "style": "IPY_MODEL_084e417c95f14575a4a4f6bda50c9364"
      }
     },
     "aab911114cd5407fa82936092fa57704": {
      "model_module": "@jupyter-widgets/base",
      "model_module_version": "1.2.0",
      "model_name": "LayoutModel",
      "state": {}
     },
     "aadbc99cb6ba4255858faea9c8ce5582": {
      "model_module": "@jupyter-widgets/controls",
      "model_module_version": "1.5.0",
      "model_name": "VBoxModel",
      "state": {
       "_dom_classes": [
        "widget-interact"
       ],
       "children": [
        "IPY_MODEL_a3a9551657e94a2d8a7cbc5c1dabf0bd",
        "IPY_MODEL_4ae17256abb04b7f876f640789f9179b",
        "IPY_MODEL_db3d9a3008f24594a133c70dc2ed1365"
       ],
       "layout": "IPY_MODEL_e11e65393639489795b921f74ef63346"
      }
     },
     "aae68895dd164e4ca10ed7eafd70d7b6": {
      "model_module": "@jupyter-widgets/controls",
      "model_module_version": "1.5.0",
      "model_name": "ButtonStyleModel",
      "state": {}
     },
     "aaf84fec2025492ab977f45e68e0f58f": {
      "model_module": "@jupyter-widgets/controls",
      "model_module_version": "1.5.0",
      "model_name": "HBoxModel",
      "state": {
       "children": [
        "IPY_MODEL_5707e472edfd459d89a5d2a6227a4771",
        "IPY_MODEL_21a5516fcfe145c5afb034fa70494a8d"
       ],
       "layout": "IPY_MODEL_7f55ebeed9de4f54acffcb5a9f4f7b4d"
      }
     },
     "abbcec959c934884a3f373e4bf8e04de": {
      "model_module": "@jupyter-widgets/base",
      "model_module_version": "1.2.0",
      "model_name": "LayoutModel",
      "state": {}
     },
     "abcaecb302b9465792f878626b33a031": {
      "model_module": "@jupyter-widgets/controls",
      "model_module_version": "1.5.0",
      "model_name": "DescriptionStyleModel",
      "state": {
       "description_width": "initial"
      }
     },
     "abf98f00e6dd4780bfd0cdad8bea4a9e": {
      "model_module": "@jupyter-widgets/controls",
      "model_module_version": "1.5.0",
      "model_name": "DescriptionStyleModel",
      "state": {
       "description_width": "initial"
      }
     },
     "ac123b51a8da427aac786c34da042099": {
      "model_module": "@jupyter-widgets/controls",
      "model_module_version": "1.5.0",
      "model_name": "ButtonStyleModel",
      "state": {}
     },
     "ac1a62b3ce5b4317865a384051361bed": {
      "model_module": "@jupyter-widgets/base",
      "model_module_version": "1.2.0",
      "model_name": "LayoutModel",
      "state": {
       "height": "40px",
       "width": "200px"
      }
     },
     "ac52bf6cad1f45f2929e751b5698d4fa": {
      "model_module": "@jupyter-widgets/controls",
      "model_module_version": "1.5.0",
      "model_name": "DropdownModel",
      "state": {
       "_options_labels": [
        "M4 Pt Track",
        "M4 Si Track",
        "No M4"
       ],
       "description": "M4:",
       "index": 0,
       "layout": "IPY_MODEL_a83f6b9f1e884e68a8c2b6c3bcbac501",
       "style": "IPY_MODEL_1813602e5d5746a2bd1af27b24231b19"
      }
     },
     "ac6bbb569f184e40be1d5f8517e92c66": {
      "model_module": "@jupyter-widgets/controls",
      "model_module_version": "1.5.0",
      "model_name": "ButtonStyleModel",
      "state": {}
     },
     "ac8245ada12a4bc9b15cbd40c8623cb9": {
      "model_module": "@jupyter-widgets/base",
      "model_module_version": "1.2.0",
      "model_name": "LayoutModel",
      "state": {}
     },
     "acd48f6644784f8cba3a4ae77aa3ab7d": {
      "model_module": "@jupyter-widgets/controls",
      "model_module_version": "1.5.0",
      "model_name": "TextModel",
      "state": {
       "description": "Local contact:",
       "layout": "IPY_MODEL_a2ab455042d94793bc480c9af559906c",
       "placeholder": "Name",
       "style": "IPY_MODEL_cf671712cd994e9da772a529e18fa328"
      }
     },
     "acf548102e2a41b98c366ddff5621918": {
      "model_module": "@jupyter-widgets/controls",
      "model_module_version": "1.5.0",
      "model_name": "DescriptionStyleModel",
      "state": {
       "description_width": "initial"
      }
     },
     "ad3437b5543946bab7b05bda68f54b16": {
      "model_module": "@jupyter-widgets/base",
      "model_module_version": "1.2.0",
      "model_name": "LayoutModel",
      "state": {}
     },
     "ad650d0a840a4a7b8a461d79fe3f899b": {
      "model_module": "@jupyter-widgets/base",
      "model_module_version": "1.2.0",
      "model_name": "LayoutModel",
      "state": {}
     },
     "ad7828e9ae224c1d9306f0afe1355c26": {
      "model_module": "@jupyter-widgets/base",
      "model_module_version": "1.2.0",
      "model_name": "LayoutModel",
      "state": {}
     },
     "ada52c8724e34a4f87ecd8c8743083c8": {
      "model_module": "@jupyter-widgets/controls",
      "model_module_version": "1.5.0",
      "model_name": "CheckboxModel",
      "state": {
       "description": "Print scan info",
       "disabled": false,
       "layout": "IPY_MODEL_a89223ec90af4523b06171b2808174c0",
       "style": "IPY_MODEL_b33a791d04fe46be8162b21b0b7a16c1",
       "value": false
      }
     },
     "ade5c7f7bd1547e697d8e3314151d5c8": {
      "model_module": "@jupyter-widgets/base",
      "model_module_version": "1.2.0",
      "model_name": "LayoutModel",
      "state": {}
     },
     "adfc4390c5e943efacddb9321cc43cb3": {
      "model_module": "@jupyter-widgets/base",
      "model_module_version": "1.2.0",
      "model_name": "LayoutModel",
      "state": {}
     },
     "ae0c1d1235f14c52b6759a11bdad7015": {
      "model_module": "@jupyter-widgets/controls",
      "model_module_version": "1.5.0",
      "model_name": "ButtonModel",
      "state": {
       "description": "Fit with gaussian",
       "layout": "IPY_MODEL_419a2af1f23942019d5a735901122884",
       "style": "IPY_MODEL_dcf9a42269504b8184f55e246b2f8079"
      }
     },
     "ae2ecea170064e31bd88aa36a6f81997": {
      "model_module": "@jupyter-widgets/base",
      "model_module_version": "1.2.0",
      "model_name": "LayoutModel",
      "state": {}
     },
     "ae638f7f08094b9a8dbe2d246b737154": {
      "model_module": "@jupyter-widgets/base",
      "model_module_version": "1.2.0",
      "model_name": "LayoutModel",
      "state": {}
     },
     "ae68a173630140e883b33ec563af4722": {
      "model_module": "@jupyter-widgets/controls",
      "model_module_version": "1.5.0",
      "model_name": "ButtonModel",
      "state": {
       "description": "Insert comment",
       "layout": "IPY_MODEL_720aa6fb4d23465a85fe51b5c7a1edfd",
       "style": "IPY_MODEL_c27da257532f4aa294ee931dc86bf689"
      }
     },
     "ae778acbb96d4561b31e1575f3ffe080": {
      "model_module": "@jupyter-widgets/base",
      "model_module_version": "1.2.0",
      "model_name": "LayoutModel",
      "state": {}
     },
     "aea91423999149ba86eb5c6f79724b99": {
      "model_module": "@jupyter-widgets/controls",
      "model_module_version": "1.5.0",
      "model_name": "FloatTextModel",
      "state": {
       "description": "Vineyard (chan)",
       "layout": "IPY_MODEL_06cdf8ed30a0478fbef1464530893476",
       "step": null,
       "style": "IPY_MODEL_12c91d9616de4c2a808794cdab103d09",
       "value": 640
      }
     },
     "af01c8a5f3a745feb5de8d988f3bafda": {
      "model_module": "@jupyter-widgets/controls",
      "model_module_version": "1.5.0",
      "model_name": "DescriptionStyleModel",
      "state": {
       "description_width": "initial"
      }
     },
     "af4c89f17e2e40eb833759afade02d74": {
      "model_module": "@jupyter-widgets/controls",
      "model_module_version": "1.5.0",
      "model_name": "DescriptionStyleModel",
      "state": {
       "description_width": "initial"
      }
     },
     "af502cf8802d4acf9b6e9b21b24da26f": {
      "model_module": "@jupyter-widgets/controls",
      "model_module_version": "1.5.0",
      "model_name": "ButtonModel",
      "state": {
       "description": "Fill form",
       "layout": "IPY_MODEL_4e462a17f2c64f1f9e1b9b4cc576cf46",
       "style": "IPY_MODEL_09167665b82a4f52b273681aa6fb625f"
      }
     },
     "af6d4be0648544329bcef866648bc216": {
      "model_module": "@jupyter-widgets/controls",
      "model_module_version": "1.5.0",
      "model_name": "VBoxModel",
      "state": {
       "_dom_classes": [
        "widget-interact"
       ],
       "children": [
        "IPY_MODEL_ec191f9081654c9486be9e6a7eb49873",
        "IPY_MODEL_9c309331da0742af9366af845111a5b6"
       ],
       "layout": "IPY_MODEL_6438d2f389414e9087c121326f5fa98d"
      }
     },
     "af7b76c2b5c14825b157b5cf547a7aea": {
      "model_module": "@jupyter-widgets/controls",
      "model_module_version": "1.5.0",
      "model_name": "ButtonModel",
      "state": {
       "description": "Insert comment",
       "layout": "IPY_MODEL_083a55bbe3df486c8af756ab4d4188fa",
       "style": "IPY_MODEL_b668d17686024ebfa93d843af62666f5"
      }
     },
     "af7c93471904416c828ce2adca45d44c": {
      "model_module": "@jupyter-widgets/controls",
      "model_module_version": "1.5.0",
      "model_name": "DescriptionStyleModel",
      "state": {
       "description_width": ""
      }
     },
     "afc4f42728f447249dfafafd0914dac7": {
      "model_module": "@jupyter-widgets/base",
      "model_module_version": "1.2.0",
      "model_name": "LayoutModel",
      "state": {}
     },
     "b0025b828b6042968c306aa5e77cb441": {
      "model_module": "@jupyter-widgets/output",
      "model_module_version": "1.0.0",
      "model_name": "OutputModel",
      "state": {
       "layout": "IPY_MODEL_aab911114cd5407fa82936092fa57704",
       "outputs": [
        {
         "data": {
          "application/javascript": "/* Put everything inside the global mpl namespace */\nwindow.mpl = {};\n\n\nmpl.get_websocket_type = function() {\n    if (typeof(WebSocket) !== 'undefined') {\n        return WebSocket;\n    } else if (typeof(MozWebSocket) !== 'undefined') {\n        return MozWebSocket;\n    } else {\n        alert('Your browser does not have WebSocket support. ' +\n              'Please try Chrome, Safari or Firefox ≥ 6. ' +\n              'Firefox 4 and 5 are also supported but you ' +\n              'have to enable WebSockets in about:config.');\n    };\n}\n\nmpl.figure = function(figure_id, websocket, ondownload, parent_element) {\n    this.id = figure_id;\n\n    this.ws = websocket;\n\n    this.supports_binary = (this.ws.binaryType != undefined);\n\n    if (!this.supports_binary) {\n        var warnings = document.getElementById(\"mpl-warnings\");\n        if (warnings) {\n            warnings.style.display = 'block';\n            warnings.textContent = (\n                \"This browser does not support binary websocket messages. \" +\n                    \"Performance may be slow.\");\n        }\n    }\n\n    this.imageObj = new Image();\n\n    this.context = undefined;\n    this.message = undefined;\n    this.canvas = undefined;\n    this.rubberband_canvas = undefined;\n    this.rubberband_context = undefined;\n    this.format_dropdown = undefined;\n\n    this.image_mode = 'full';\n\n    this.root = $('<div/>');\n    this._root_extra_style(this.root)\n    this.root.attr('style', 'display: inline-block');\n\n    $(parent_element).append(this.root);\n\n    this._init_header(this);\n    this._init_canvas(this);\n    this._init_toolbar(this);\n\n    var fig = this;\n\n    this.waiting = false;\n\n    this.ws.onopen =  function () {\n            fig.send_message(\"supports_binary\", {value: fig.supports_binary});\n            fig.send_message(\"send_image_mode\", {});\n            if (mpl.ratio != 1) {\n                fig.send_message(\"set_dpi_ratio\", {'dpi_ratio': mpl.ratio});\n            }\n            fig.send_message(\"refresh\", {});\n        }\n\n    this.imageObj.onload = function() {\n            if (fig.image_mode == 'full') {\n                // Full images could contain transparency (where diff images\n                // almost always do), so we need to clear the canvas so that\n                // there is no ghosting.\n                fig.context.clearRect(0, 0, fig.canvas.width, fig.canvas.height);\n            }\n            fig.context.drawImage(fig.imageObj, 0, 0);\n        };\n\n    this.imageObj.onunload = function() {\n        fig.ws.close();\n    }\n\n    this.ws.onmessage = this._make_on_message_function(this);\n\n    this.ondownload = ondownload;\n}\n\nmpl.figure.prototype._init_header = function() {\n    var titlebar = $(\n        '<div class=\"ui-dialog-titlebar ui-widget-header ui-corner-all ' +\n        'ui-helper-clearfix\"/>');\n    var titletext = $(\n        '<div class=\"ui-dialog-title\" style=\"width: 100%; ' +\n        'text-align: center; padding: 3px;\"/>');\n    titlebar.append(titletext)\n    this.root.append(titlebar);\n    this.header = titletext[0];\n}\n\n\n\nmpl.figure.prototype._canvas_extra_style = function(canvas_div) {\n\n}\n\n\nmpl.figure.prototype._root_extra_style = function(canvas_div) {\n\n}\n\nmpl.figure.prototype._init_canvas = function() {\n    var fig = this;\n\n    var canvas_div = $('<div/>');\n\n    canvas_div.attr('style', 'position: relative; clear: both; outline: 0');\n\n    function canvas_keyboard_event(event) {\n        return fig.key_event(event, event['data']);\n    }\n\n    canvas_div.keydown('key_press', canvas_keyboard_event);\n    canvas_div.keyup('key_release', canvas_keyboard_event);\n    this.canvas_div = canvas_div\n    this._canvas_extra_style(canvas_div)\n    this.root.append(canvas_div);\n\n    var canvas = $('<canvas/>');\n    canvas.addClass('mpl-canvas');\n    canvas.attr('style', \"left: 0; top: 0; z-index: 0; outline: 0\")\n\n    this.canvas = canvas[0];\n    this.context = canvas[0].getContext(\"2d\");\n\n    var backingStore = this.context.backingStorePixelRatio ||\n\tthis.context.webkitBackingStorePixelRatio ||\n\tthis.context.mozBackingStorePixelRatio ||\n\tthis.context.msBackingStorePixelRatio ||\n\tthis.context.oBackingStorePixelRatio ||\n\tthis.context.backingStorePixelRatio || 1;\n\n    mpl.ratio = (window.devicePixelRatio || 1) / backingStore;\n\n    var rubberband = $('<canvas/>');\n    rubberband.attr('style', \"position: absolute; left: 0; top: 0; z-index: 1;\")\n\n    var pass_mouse_events = true;\n\n    canvas_div.resizable({\n        start: function(event, ui) {\n            pass_mouse_events = false;\n        },\n        resize: function(event, ui) {\n            fig.request_resize(ui.size.width, ui.size.height);\n        },\n        stop: function(event, ui) {\n            pass_mouse_events = true;\n            fig.request_resize(ui.size.width, ui.size.height);\n        },\n    });\n\n    function mouse_event_fn(event) {\n        if (pass_mouse_events)\n            return fig.mouse_event(event, event['data']);\n    }\n\n    rubberband.mousedown('button_press', mouse_event_fn);\n    rubberband.mouseup('button_release', mouse_event_fn);\n    // Throttle sequential mouse events to 1 every 20ms.\n    rubberband.mousemove('motion_notify', mouse_event_fn);\n\n    rubberband.mouseenter('figure_enter', mouse_event_fn);\n    rubberband.mouseleave('figure_leave', mouse_event_fn);\n\n    canvas_div.on(\"wheel\", function (event) {\n        event = event.originalEvent;\n        event['data'] = 'scroll'\n        if (event.deltaY < 0) {\n            event.step = 1;\n        } else {\n            event.step = -1;\n        }\n        mouse_event_fn(event);\n    });\n\n    canvas_div.append(canvas);\n    canvas_div.append(rubberband);\n\n    this.rubberband = rubberband;\n    this.rubberband_canvas = rubberband[0];\n    this.rubberband_context = rubberband[0].getContext(\"2d\");\n    this.rubberband_context.strokeStyle = \"#000000\";\n\n    this._resize_canvas = function(width, height) {\n        // Keep the size of the canvas, canvas container, and rubber band\n        // canvas in synch.\n        canvas_div.css('width', width)\n        canvas_div.css('height', height)\n\n        canvas.attr('width', width * mpl.ratio);\n        canvas.attr('height', height * mpl.ratio);\n        canvas.attr('style', 'width: ' + width + 'px; height: ' + height + 'px;');\n\n        rubberband.attr('width', width);\n        rubberband.attr('height', height);\n    }\n\n    // Set the figure to an initial 600x600px, this will subsequently be updated\n    // upon first draw.\n    this._resize_canvas(600, 600);\n\n    // Disable right mouse context menu.\n    $(this.rubberband_canvas).bind(\"contextmenu\",function(e){\n        return false;\n    });\n\n    function set_focus () {\n        canvas.focus();\n        canvas_div.focus();\n    }\n\n    window.setTimeout(set_focus, 100);\n}\n\nmpl.figure.prototype._init_toolbar = function() {\n    var fig = this;\n\n    var nav_element = $('<div/>');\n    nav_element.attr('style', 'width: 100%');\n    this.root.append(nav_element);\n\n    // Define a callback function for later on.\n    function toolbar_event(event) {\n        return fig.toolbar_button_onclick(event['data']);\n    }\n    function toolbar_mouse_event(event) {\n        return fig.toolbar_button_onmouseover(event['data']);\n    }\n\n    for(var toolbar_ind in mpl.toolbar_items) {\n        var name = mpl.toolbar_items[toolbar_ind][0];\n        var tooltip = mpl.toolbar_items[toolbar_ind][1];\n        var image = mpl.toolbar_items[toolbar_ind][2];\n        var method_name = mpl.toolbar_items[toolbar_ind][3];\n\n        if (!name) {\n            // put a spacer in here.\n            continue;\n        }\n        var button = $('<button/>');\n        button.addClass('ui-button ui-widget ui-state-default ui-corner-all ' +\n                        'ui-button-icon-only');\n        button.attr('role', 'button');\n        button.attr('aria-disabled', 'false');\n        button.click(method_name, toolbar_event);\n        button.mouseover(tooltip, toolbar_mouse_event);\n\n        var icon_img = $('<span/>');\n        icon_img.addClass('ui-button-icon-primary ui-icon');\n        icon_img.addClass(image);\n        icon_img.addClass('ui-corner-all');\n\n        var tooltip_span = $('<span/>');\n        tooltip_span.addClass('ui-button-text');\n        tooltip_span.html(tooltip);\n\n        button.append(icon_img);\n        button.append(tooltip_span);\n\n        nav_element.append(button);\n    }\n\n    var fmt_picker_span = $('<span/>');\n\n    var fmt_picker = $('<select/>');\n    fmt_picker.addClass('mpl-toolbar-option ui-widget ui-widget-content');\n    fmt_picker_span.append(fmt_picker);\n    nav_element.append(fmt_picker_span);\n    this.format_dropdown = fmt_picker[0];\n\n    for (var ind in mpl.extensions) {\n        var fmt = mpl.extensions[ind];\n        var option = $(\n            '<option/>', {selected: fmt === mpl.default_extension}).html(fmt);\n        fmt_picker.append(option);\n    }\n\n    // Add hover states to the ui-buttons\n    $( \".ui-button\" ).hover(\n        function() { $(this).addClass(\"ui-state-hover\");},\n        function() { $(this).removeClass(\"ui-state-hover\");}\n    );\n\n    var status_bar = $('<span class=\"mpl-message\"/>');\n    nav_element.append(status_bar);\n    this.message = status_bar[0];\n}\n\nmpl.figure.prototype.request_resize = function(x_pixels, y_pixels) {\n    // Request matplotlib to resize the figure. Matplotlib will then trigger a resize in the client,\n    // which will in turn request a refresh of the image.\n    this.send_message('resize', {'width': x_pixels, 'height': y_pixels});\n}\n\nmpl.figure.prototype.send_message = function(type, properties) {\n    properties['type'] = type;\n    properties['figure_id'] = this.id;\n    this.ws.send(JSON.stringify(properties));\n}\n\nmpl.figure.prototype.send_draw_message = function() {\n    if (!this.waiting) {\n        this.waiting = true;\n        this.ws.send(JSON.stringify({type: \"draw\", figure_id: this.id}));\n    }\n}\n\n\nmpl.figure.prototype.handle_save = function(fig, msg) {\n    var format_dropdown = fig.format_dropdown;\n    var format = format_dropdown.options[format_dropdown.selectedIndex].value;\n    fig.ondownload(fig, format);\n}\n\n\nmpl.figure.prototype.handle_resize = function(fig, msg) {\n    var size = msg['size'];\n    if (size[0] != fig.canvas.width || size[1] != fig.canvas.height) {\n        fig._resize_canvas(size[0], size[1]);\n        fig.send_message(\"refresh\", {});\n    };\n}\n\nmpl.figure.prototype.handle_rubberband = function(fig, msg) {\n    var x0 = msg['x0'] / mpl.ratio;\n    var y0 = (fig.canvas.height - msg['y0']) / mpl.ratio;\n    var x1 = msg['x1'] / mpl.ratio;\n    var y1 = (fig.canvas.height - msg['y1']) / mpl.ratio;\n    x0 = Math.floor(x0) + 0.5;\n    y0 = Math.floor(y0) + 0.5;\n    x1 = Math.floor(x1) + 0.5;\n    y1 = Math.floor(y1) + 0.5;\n    var min_x = Math.min(x0, x1);\n    var min_y = Math.min(y0, y1);\n    var width = Math.abs(x1 - x0);\n    var height = Math.abs(y1 - y0);\n\n    fig.rubberband_context.clearRect(\n        0, 0, fig.canvas.width / mpl.ratio, fig.canvas.height / mpl.ratio);\n\n    fig.rubberband_context.strokeRect(min_x, min_y, width, height);\n}\n\nmpl.figure.prototype.handle_figure_label = function(fig, msg) {\n    // Updates the figure title.\n    fig.header.textContent = msg['label'];\n}\n\nmpl.figure.prototype.handle_cursor = function(fig, msg) {\n    var cursor = msg['cursor'];\n    switch(cursor)\n    {\n    case 0:\n        cursor = 'pointer';\n        break;\n    case 1:\n        cursor = 'default';\n        break;\n    case 2:\n        cursor = 'crosshair';\n        break;\n    case 3:\n        cursor = 'move';\n        break;\n    }\n    fig.rubberband_canvas.style.cursor = cursor;\n}\n\nmpl.figure.prototype.handle_message = function(fig, msg) {\n    fig.message.textContent = msg['message'];\n}\n\nmpl.figure.prototype.handle_draw = function(fig, msg) {\n    // Request the server to send over a new figure.\n    fig.send_draw_message();\n}\n\nmpl.figure.prototype.handle_image_mode = function(fig, msg) {\n    fig.image_mode = msg['mode'];\n}\n\nmpl.figure.prototype.updated_canvas_event = function() {\n    // Called whenever the canvas gets updated.\n    this.send_message(\"ack\", {});\n}\n\n// A function to construct a web socket function for onmessage handling.\n// Called in the figure constructor.\nmpl.figure.prototype._make_on_message_function = function(fig) {\n    return function socket_on_message(evt) {\n        if (evt.data instanceof Blob) {\n            /* FIXME: We get \"Resource interpreted as Image but\n             * transferred with MIME type text/plain:\" errors on\n             * Chrome.  But how to set the MIME type?  It doesn't seem\n             * to be part of the websocket stream */\n            evt.data.type = \"image/png\";\n\n            /* Free the memory for the previous frames */\n            if (fig.imageObj.src) {\n                (window.URL || window.webkitURL).revokeObjectURL(\n                    fig.imageObj.src);\n            }\n\n            fig.imageObj.src = (window.URL || window.webkitURL).createObjectURL(\n                evt.data);\n            fig.updated_canvas_event();\n            fig.waiting = false;\n            return;\n        }\n        else if (typeof evt.data === 'string' && evt.data.slice(0, 21) == \"data:image/png;base64\") {\n            fig.imageObj.src = evt.data;\n            fig.updated_canvas_event();\n            fig.waiting = false;\n            return;\n        }\n\n        var msg = JSON.parse(evt.data);\n        var msg_type = msg['type'];\n\n        // Call the  \"handle_{type}\" callback, which takes\n        // the figure and JSON message as its only arguments.\n        try {\n            var callback = fig[\"handle_\" + msg_type];\n        } catch (e) {\n            console.log(\"No handler for the '\" + msg_type + \"' message type: \", msg);\n            return;\n        }\n\n        if (callback) {\n            try {\n                // console.log(\"Handling '\" + msg_type + \"' message: \", msg);\n                callback(fig, msg);\n            } catch (e) {\n                console.log(\"Exception inside the 'handler_\" + msg_type + \"' callback:\", e, e.stack, msg);\n            }\n        }\n    };\n}\n\n// from http://stackoverflow.com/questions/1114465/getting-mouse-location-in-canvas\nmpl.findpos = function(e) {\n    //this section is from http://www.quirksmode.org/js/events_properties.html\n    var targ;\n    if (!e)\n        e = window.event;\n    if (e.target)\n        targ = e.target;\n    else if (e.srcElement)\n        targ = e.srcElement;\n    if (targ.nodeType == 3) // defeat Safari bug\n        targ = targ.parentNode;\n\n    // jQuery normalizes the pageX and pageY\n    // pageX,Y are the mouse positions relative to the document\n    // offset() returns the position of the element relative to the document\n    var x = e.pageX - $(targ).offset().left;\n    var y = e.pageY - $(targ).offset().top;\n\n    return {\"x\": x, \"y\": y};\n};\n\n/*\n * return a copy of an object with only non-object keys\n * we need this to avoid circular references\n * http://stackoverflow.com/a/24161582/3208463\n */\nfunction simpleKeys (original) {\n  return Object.keys(original).reduce(function (obj, key) {\n    if (typeof original[key] !== 'object')\n        obj[key] = original[key]\n    return obj;\n  }, {});\n}\n\nmpl.figure.prototype.mouse_event = function(event, name) {\n    var canvas_pos = mpl.findpos(event)\n\n    if (name === 'button_press')\n    {\n        this.canvas.focus();\n        this.canvas_div.focus();\n    }\n\n    var x = canvas_pos.x * mpl.ratio;\n    var y = canvas_pos.y * mpl.ratio;\n\n    this.send_message(name, {x: x, y: y, button: event.button,\n                             step: event.step,\n                             guiEvent: simpleKeys(event)});\n\n    /* This prevents the web browser from automatically changing to\n     * the text insertion cursor when the button is pressed.  We want\n     * to control all of the cursor setting manually through the\n     * 'cursor' event from matplotlib */\n    event.preventDefault();\n    return false;\n}\n\nmpl.figure.prototype._key_event_extra = function(event, name) {\n    // Handle any extra behaviour associated with a key event\n}\n\nmpl.figure.prototype.key_event = function(event, name) {\n\n    // Prevent repeat events\n    if (name == 'key_press')\n    {\n        if (event.which === this._key)\n            return;\n        else\n            this._key = event.which;\n    }\n    if (name == 'key_release')\n        this._key = null;\n\n    var value = '';\n    if (event.ctrlKey && event.which != 17)\n        value += \"ctrl+\";\n    if (event.altKey && event.which != 18)\n        value += \"alt+\";\n    if (event.shiftKey && event.which != 16)\n        value += \"shift+\";\n\n    value += 'k';\n    value += event.which.toString();\n\n    this._key_event_extra(event, name);\n\n    this.send_message(name, {key: value,\n                             guiEvent: simpleKeys(event)});\n    return false;\n}\n\nmpl.figure.prototype.toolbar_button_onclick = function(name) {\n    if (name == 'download') {\n        this.handle_save(this, null);\n    } else {\n        this.send_message(\"toolbar_button\", {name: name});\n    }\n};\n\nmpl.figure.prototype.toolbar_button_onmouseover = function(tooltip) {\n    this.message.textContent = tooltip;\n};\nmpl.toolbar_items = [[\"Home\", \"Reset original view\", \"fa fa-home icon-home\", \"home\"], [\"Back\", \"Back to previous view\", \"fa fa-arrow-left icon-arrow-left\", \"back\"], [\"Forward\", \"Forward to next view\", \"fa fa-arrow-right icon-arrow-right\", \"forward\"], [\"\", \"\", \"\", \"\"], [\"Pan\", \"Pan axes with left mouse, zoom with right\", \"fa fa-arrows icon-move\", \"pan\"], [\"Zoom\", \"Zoom to rectangle\", \"fa fa-square-o icon-check-empty\", \"zoom\"], [\"\", \"\", \"\", \"\"], [\"Download\", \"Download plot\", \"fa fa-floppy-o icon-save\", \"download\"]];\n\nmpl.extensions = [\"eps\", \"jpeg\", \"pdf\", \"png\", \"ps\", \"raw\", \"svg\", \"tif\"];\n\nmpl.default_extension = \"png\";var comm_websocket_adapter = function(comm) {\n    // Create a \"websocket\"-like object which calls the given IPython comm\n    // object with the appropriate methods. Currently this is a non binary\n    // socket, so there is still some room for performance tuning.\n    var ws = {};\n\n    ws.close = function() {\n        comm.close()\n    };\n    ws.send = function(m) {\n        //console.log('sending', m);\n        comm.send(m);\n    };\n    // Register the callback with on_msg.\n    comm.on_msg(function(msg) {\n        //console.log('receiving', msg['content']['data'], msg);\n        // Pass the mpl event to the overridden (by mpl) onmessage function.\n        ws.onmessage(msg['content']['data'])\n    });\n    return ws;\n}\n\nmpl.mpl_figure_comm = function(comm, msg) {\n    // This is the function which gets called when the mpl process\n    // starts-up an IPython Comm through the \"matplotlib\" channel.\n\n    var id = msg.content.data.id;\n    // Get hold of the div created by the display call when the Comm\n    // socket was opened in Python.\n    var element = $(\"#\" + id);\n    var ws_proxy = comm_websocket_adapter(comm)\n\n    function ondownload(figure, format) {\n        window.open(figure.imageObj.src);\n    }\n\n    var fig = new mpl.figure(id, ws_proxy,\n                           ondownload,\n                           element.get(0));\n\n    // Call onopen now - mpl needs it, as it is assuming we've passed it a real\n    // web socket which is closed, not our websocket->open comm proxy.\n    ws_proxy.onopen();\n\n    fig.parent_element = element.get(0);\n    fig.cell_info = mpl.find_output_cell(\"<div id='\" + id + \"'></div>\");\n    if (!fig.cell_info) {\n        console.error(\"Failed to find cell for figure\", id, fig);\n        return;\n    }\n\n    var output_index = fig.cell_info[2]\n    var cell = fig.cell_info[0];\n\n};\n\nmpl.figure.prototype.handle_close = function(fig, msg) {\n    var width = fig.canvas.width/mpl.ratio\n    fig.root.unbind('remove')\n\n    // Update the output cell to use the data from the current canvas.\n    fig.push_to_output();\n    var dataURL = fig.canvas.toDataURL();\n    // Re-enable the keyboard manager in IPython - without this line, in FF,\n    // the notebook keyboard shortcuts fail.\n    IPython.keyboard_manager.enable()\n    $(fig.parent_element).html('<img src=\"' + dataURL + '\" width=\"' + width + '\">');\n    fig.close_ws(fig, msg);\n}\n\nmpl.figure.prototype.close_ws = function(fig, msg){\n    fig.send_message('closing', msg);\n    // fig.ws.close()\n}\n\nmpl.figure.prototype.push_to_output = function(remove_interactive) {\n    // Turn the data on the canvas into data in the output cell.\n    var width = this.canvas.width/mpl.ratio\n    var dataURL = this.canvas.toDataURL();\n    this.cell_info[1]['text/html'] = '<img src=\"' + dataURL + '\" width=\"' + width + '\">';\n}\n\nmpl.figure.prototype.updated_canvas_event = function() {\n    // Tell IPython that the notebook contents must change.\n    IPython.notebook.set_dirty(true);\n    this.send_message(\"ack\", {});\n    var fig = this;\n    // Wait a second, then push the new image to the DOM so\n    // that it is saved nicely (might be nice to debounce this).\n    setTimeout(function () { fig.push_to_output() }, 1000);\n}\n\nmpl.figure.prototype._init_toolbar = function() {\n    var fig = this;\n\n    var nav_element = $('<div/>');\n    nav_element.attr('style', 'width: 100%');\n    this.root.append(nav_element);\n\n    // Define a callback function for later on.\n    function toolbar_event(event) {\n        return fig.toolbar_button_onclick(event['data']);\n    }\n    function toolbar_mouse_event(event) {\n        return fig.toolbar_button_onmouseover(event['data']);\n    }\n\n    for(var toolbar_ind in mpl.toolbar_items){\n        var name = mpl.toolbar_items[toolbar_ind][0];\n        var tooltip = mpl.toolbar_items[toolbar_ind][1];\n        var image = mpl.toolbar_items[toolbar_ind][2];\n        var method_name = mpl.toolbar_items[toolbar_ind][3];\n\n        if (!name) { continue; };\n\n        var button = $('<button class=\"btn btn-default\" href=\"#\" title=\"' + name + '\"><i class=\"fa ' + image + ' fa-lg\"></i></button>');\n        button.click(method_name, toolbar_event);\n        button.mouseover(tooltip, toolbar_mouse_event);\n        nav_element.append(button);\n    }\n\n    // Add the status bar.\n    var status_bar = $('<span class=\"mpl-message\" style=\"text-align:right; float: right;\"/>');\n    nav_element.append(status_bar);\n    this.message = status_bar[0];\n\n    // Add the close button to the window.\n    var buttongrp = $('<div class=\"btn-group inline pull-right\"></div>');\n    var button = $('<button class=\"btn btn-mini btn-primary\" href=\"#\" title=\"Stop Interaction\"><i class=\"fa fa-power-off icon-remove icon-large\"></i></button>');\n    button.click(function (evt) { fig.handle_close(fig, {}); } );\n    button.mouseover('Stop Interaction', toolbar_mouse_event);\n    buttongrp.append(button);\n    var titlebar = this.root.find($('.ui-dialog-titlebar'));\n    titlebar.prepend(buttongrp);\n}\n\nmpl.figure.prototype._root_extra_style = function(el){\n    var fig = this\n    el.on(\"remove\", function(){\n\tfig.close_ws(fig, {});\n    });\n}\n\nmpl.figure.prototype._canvas_extra_style = function(el){\n    // this is important to make the div 'focusable\n    el.attr('tabindex', 0)\n    // reach out to IPython and tell the keyboard manager to turn it's self\n    // off when our div gets focus\n\n    // location in version 3\n    if (IPython.notebook.keyboard_manager) {\n        IPython.notebook.keyboard_manager.register_events(el);\n    }\n    else {\n        // location in version 2\n        IPython.keyboard_manager.register_events(el);\n    }\n\n}\n\nmpl.figure.prototype._key_event_extra = function(event, name) {\n    var manager = IPython.notebook.keyboard_manager;\n    if (!manager)\n        manager = IPython.keyboard_manager;\n\n    // Check for shift+enter\n    if (event.shiftKey && event.which == 13) {\n        this.canvas_div.blur();\n        // select the cell after this one\n        var index = IPython.notebook.find_cell_index(this.cell_info[0]);\n        IPython.notebook.select(index + 1);\n    }\n}\n\nmpl.figure.prototype.handle_save = function(fig, msg) {\n    fig.ondownload(fig, null);\n}\n\n\nmpl.find_output_cell = function(html_output) {\n    // Return the cell and output element which can be found *uniquely* in the notebook.\n    // Note - this is a bit hacky, but it is done because the \"notebook_saving.Notebook\"\n    // IPython event is triggered only after the cells have been serialised, which for\n    // our purposes (turning an active figure into a static one), is too late.\n    var cells = IPython.notebook.get_cells();\n    var ncells = cells.length;\n    for (var i=0; i<ncells; i++) {\n        var cell = cells[i];\n        if (cell.cell_type === 'code'){\n            for (var j=0; j<cell.output_area.outputs.length; j++) {\n                var data = cell.output_area.outputs[j];\n                if (data.data) {\n                    // IPython >= 3 moved mimebundle to data attribute of output\n                    data = data.data;\n                }\n                if (data['text/html'] == html_output) {\n                    return [cell, data, j];\n                }\n            }\n        }\n    }\n}\n\n// Register the function which deals with the matplotlib target/channel.\n// The kernel may be null if the page has been refreshed.\nif (IPython.notebook.kernel != null) {\n    IPython.notebook.kernel.comm_manager.register_target('matplotlib', mpl.mpl_figure_comm);\n}\n",
          "text/plain": "<IPython.core.display.Javascript object>"
         },
         "metadata": {},
         "output_type": "display_data"
        },
        {
         "data": {
          "text/html": "<div id='31b555d9-a2a9-4c77-951e-2d3dc69cfd90'></div>",
          "text/plain": "<IPython.core.display.HTML object>"
         },
         "metadata": {},
         "output_type": "display_data"
        }
       ]
      }
     },
     "b0e9a15334564273a6b3cdbf57bd5dfb": {
      "model_module": "@jupyter-widgets/controls",
      "model_module_version": "1.5.0",
      "model_name": "DescriptionStyleModel",
      "state": {
       "description_width": "initial"
      }
     },
     "b11b454150204e78bd159286dd4924eb": {
      "model_module": "@jupyter-widgets/controls",
      "model_module_version": "1.5.0",
      "model_name": "DescriptionStyleModel",
      "state": {
       "description_width": "initial"
      }
     },
     "b11fd1a5570e46c1985120355c63110f": {
      "model_module": "@jupyter-widgets/controls",
      "model_module_version": "1.5.0",
      "model_name": "DropdownModel",
      "state": {
       "_options_labels": [
        "ys",
        "zs",
        "xs",
        "surfacepressure",
        "areapermolecule",
        "fluo01",
        "fluo02",
        "fluo03",
        "fluo04",
        "fluoicr04",
        "fluoocr04",
        "qxy",
        "integration_time",
        "sensorsRelTimestamps",
        "sensorsTimestamps"
       ],
       "description": "xLabel",
       "index": 0,
       "layout": "IPY_MODEL_1d03aa0f5ee24a58b9a91cbbe10b892f",
       "style": "IPY_MODEL_d7edf0d59837442ab07d6179dc260e07"
      }
     },
     "b135266f3dff42428e7a12bd03607339": {
      "model_module": "@jupyter-widgets/controls",
      "model_module_version": "1.5.0",
      "model_name": "ButtonModel",
      "state": {
       "description": "Plot GIXD",
       "layout": "IPY_MODEL_9f900b1299f2493ca5b5c72b2f7d6690",
       "style": "IPY_MODEL_205fc2fcae44418193406ed5fb655d7e"
      }
     },
     "b159fe4bb5a740bcb6a60d6209afe771": {
      "model_module": "@jupyter-widgets/base",
      "model_module_version": "1.2.0",
      "model_name": "LayoutModel",
      "state": {}
     },
     "b1e2b35ec8154248acdcc86a496b68dc": {
      "model_module": "@jupyter-widgets/controls",
      "model_module_version": "1.5.0",
      "model_name": "ButtonStyleModel",
      "state": {}
     },
     "b1e6c1dd27fd4ab68581747c16c40b3c": {
      "model_module": "@jupyter-widgets/base",
      "model_module_version": "1.2.0",
      "model_name": "LayoutModel",
      "state": {}
     },
     "b2ba507c97854d5999abee337a25ff2d": {
      "model_module": "@jupyter-widgets/controls",
      "model_module_version": "1.5.0",
      "model_name": "DescriptionStyleModel",
      "state": {
       "description_width": "initial"
      }
     },
     "b2c1e9f72d6843918569e6254faae298": {
      "model_module": "@jupyter-widgets/base",
      "model_module_version": "1.2.0",
      "model_name": "LayoutModel",
      "state": {}
     },
     "b2f8577ca73c4408991e17c405476120": {
      "model_module": "@jupyter-widgets/base",
      "model_module_version": "1.2.0",
      "model_name": "LayoutModel",
      "state": {
       "width": "200px"
      }
     },
     "b300bb65ca2c4ee893630bdd1292f878": {
      "model_module": "@jupyter-widgets/controls",
      "model_module_version": "1.5.0",
      "model_name": "ButtonModel",
      "state": {
       "description": "Fill form",
       "layout": "IPY_MODEL_c7c2b708c04c4eda889ef59be7384eda",
       "style": "IPY_MODEL_f0b12d51e9344e6c816248caf16f8e55"
      }
     },
     "b33a791d04fe46be8162b21b0b7a16c1": {
      "model_module": "@jupyter-widgets/controls",
      "model_module_version": "1.5.0",
      "model_name": "DescriptionStyleModel",
      "state": {
       "description_width": "initial"
      }
     },
     "b3521f15c2cc4ad382345f1b698adb61": {
      "model_module": "@jupyter-widgets/controls",
      "model_module_version": "1.5.0",
      "model_name": "VBoxModel",
      "state": {
       "_dom_classes": [
        "widget-interact"
       ],
       "children": [
        "IPY_MODEL_56863d1d372b42e1935d0a3c5951d608",
        "IPY_MODEL_c94c6d48b9c441d0b74be2e4b5a4882c"
       ],
       "layout": "IPY_MODEL_263672f010ae4e9cbeea2d14aea6ef78"
      }
     },
     "b3a6d9550afb4fe9aa602ea379bce012": {
      "model_module": "@jupyter-widgets/base",
      "model_module_version": "1.2.0",
      "model_name": "LayoutModel",
      "state": {}
     },
     "b3bae196435a4145a920ad4e54a25be1": {
      "model_module": "@jupyter-widgets/controls",
      "model_module_version": "1.5.0",
      "model_name": "TextModel",
      "state": {
       "description": "Experiment number:",
       "layout": "IPY_MODEL_a2ab455042d94793bc480c9af559906c",
       "placeholder": "Number",
       "style": "IPY_MODEL_89081bde1be142fe9c320da2243fffb9"
      }
     },
     "b3bc13c7b0634dd1984516e2e3a353e0": {
      "model_module": "@jupyter-widgets/base",
      "model_module_version": "1.2.0",
      "model_name": "LayoutModel",
      "state": {}
     },
     "b3c4cdcec99d4efebaa258e88c4d293c": {
      "model_module": "@jupyter-widgets/controls",
      "model_module_version": "1.5.0",
      "model_name": "CheckboxModel",
      "state": {
       "description": "log x",
       "disabled": false,
       "layout": "IPY_MODEL_a89223ec90af4523b06171b2808174c0",
       "style": "IPY_MODEL_03f31822e4514f17a8b9077b3df036d5",
       "value": false
      }
     },
     "b4781adfdf1c481b861bc58c23c8e19e": {
      "model_module": "@jupyter-widgets/controls",
      "model_module_version": "1.5.0",
      "model_name": "TextModel",
      "state": {
       "description": "Main proposer:",
       "layout": "IPY_MODEL_162425f79766460199b1b8007161a320",
       "placeholder": "Name",
       "style": "IPY_MODEL_352320f79a844f109a17ee3de237abe7"
      }
     },
     "b4ac814709b841db85737140adc31a22": {
      "model_module": "@jupyter-widgets/controls",
      "model_module_version": "1.5.0",
      "model_name": "DescriptionStyleModel",
      "state": {
       "description_width": ""
      }
     },
     "b4bfc8f4e3774a0e86b9b74f55eea87b": {
      "model_module": "@jupyter-widgets/base",
      "model_module_version": "1.2.0",
      "model_name": "LayoutModel",
      "state": {
       "height": "40px",
       "width": "150px"
      }
     },
     "b4c6cc9946d14fbcb3540493567ad192": {
      "model_module": "@jupyter-widgets/base",
      "model_module_version": "1.2.0",
      "model_name": "LayoutModel",
      "state": {
       "height": "40px",
       "width": "300px"
      }
     },
     "b4f86f9e47ab492a88df540fe7dcca1b": {
      "model_module": "@jupyter-widgets/controls",
      "model_module_version": "1.5.0",
      "model_name": "TextModel",
      "state": {
       "description": "Users (on site):",
       "layout": "IPY_MODEL_4441b00faa9d4c4c8c1f378e3c734c7a",
       "placeholder": "Names",
       "style": "IPY_MODEL_572c314019f146399dc735046414b806"
      }
     },
     "b52349d327bf48168c2574d0905f2ac8": {
      "model_module": "@jupyter-widgets/controls",
      "model_module_version": "1.5.0",
      "model_name": "TextModel",
      "state": {
       "description": "Main proposer:",
       "layout": "IPY_MODEL_ac1a62b3ce5b4317865a384051361bed",
       "placeholder": "Name",
       "style": "IPY_MODEL_c432b19f764d4421a51c22a7c38f792f"
      }
     },
     "b53b7f46d0e5482bbac66bacc7465c8e": {
      "model_module": "@jupyter-widgets/output",
      "model_module_version": "1.0.0",
      "model_name": "OutputModel",
      "state": {
       "layout": "IPY_MODEL_aa698d7dfce844f7bc463c45d9da0189",
       "outputs": [
        {
         "name": "stdout",
         "output_type": "stream",
         "text": "SIRIUS_2020_03_12_0756.nxs: continuous_ascan delta -24 -19 100 5\n"
        }
       ]
      }
     },
     "b5a0e11805e6420484a6e8e54a1d3654": {
      "model_module": "@jupyter-widgets/base",
      "model_module_version": "1.2.0",
      "model_name": "LayoutModel",
      "state": {}
     },
     "b5b02f44119a48dc8225966e2cd2a173": {
      "model_module": "@jupyter-widgets/base",
      "model_module_version": "1.2.0",
      "model_name": "LayoutModel",
      "state": {}
     },
     "b5b2570714a244e6b0e7acfdb04f0a5e": {
      "model_module": "@jupyter-widgets/controls",
      "model_module_version": "1.5.0",
      "model_name": "DescriptionStyleModel",
      "state": {
       "description_width": "initial"
      }
     },
     "b5e85b186d7047fa9ccce92aa9af344a": {
      "model_module": "@jupyter-widgets/controls",
      "model_module_version": "1.5.0",
      "model_name": "ButtonModel",
      "state": {
       "description": "Insert positions",
       "layout": "IPY_MODEL_09179e4098c74b7b967080991e730cc2",
       "style": "IPY_MODEL_300300b3ad924de9bc35d6572964a767"
      }
     },
     "b654927e5aba4c388d4b0722e34f03aa": {
      "model_module": "@jupyter-widgets/controls",
      "model_module_version": "1.5.0",
      "model_name": "TextModel",
      "state": {
       "description": "Energy (keV):",
       "layout": "IPY_MODEL_ef3c54d5330e4692acf81870921e6155",
       "placeholder": "Value(s)",
       "style": "IPY_MODEL_558f0e2d2b6e471cb7c6f5226298223d"
      }
     },
     "b658647de4114cbc98bde9ceddb61f03": {
      "model_module": "@jupyter-widgets/base",
      "model_module_version": "1.2.0",
      "model_name": "LayoutModel",
      "state": {}
     },
     "b65bbcd1586d43e09a59e6267cda66ed": {
      "model_module": "@jupyter-widgets/base",
      "model_module_version": "1.2.0",
      "model_name": "LayoutModel",
      "state": {
       "width": "150px"
      }
     },
     "b668d17686024ebfa93d843af62666f5": {
      "model_module": "@jupyter-widgets/controls",
      "model_module_version": "1.5.0",
      "model_name": "ButtonStyleModel",
      "state": {}
     },
     "b691c6a0c48548daaa6fa6f1d05b6a59": {
      "model_module": "@jupyter-widgets/controls",
      "model_module_version": "1.5.0",
      "model_name": "ButtonStyleModel",
      "state": {}
     },
     "b6dfcc1057294e44a88d00ab4fa6ffcc": {
      "model_module": "@jupyter-widgets/base",
      "model_module_version": "1.2.0",
      "model_name": "LayoutModel",
      "state": {
       "width": "400px"
      }
     },
     "b70926d363874228b8b3846fb85bb34f": {
      "model_module": "@jupyter-widgets/controls",
      "model_module_version": "1.5.0",
      "model_name": "ButtonStyleModel",
      "state": {}
     },
     "b71c80e74d954631a49bdb931909ad18": {
      "model_module": "@jupyter-widgets/base",
      "model_module_version": "1.2.0",
      "model_name": "LayoutModel",
      "state": {}
     },
     "b76315ba09644f4797a34af9662121b8": {
      "model_module": "@jupyter-widgets/base",
      "model_module_version": "1.2.0",
      "model_name": "LayoutModel",
      "state": {}
     },
     "b7a04705d76249dc9ac6e55130d8c906": {
      "model_module": "@jupyter-widgets/controls",
      "model_module_version": "1.5.0",
      "model_name": "DescriptionStyleModel",
      "state": {
       "description_width": "initial"
      }
     },
     "b7b31c3621094066a0bc2922790f519e": {
      "model_module": "@jupyter-widgets/controls",
      "model_module_version": "1.5.0",
      "model_name": "ButtonStyleModel",
      "state": {}
     },
     "b7b8e4b3b8ef408c83b11e03c788de98": {
      "model_module": "@jupyter-widgets/controls",
      "model_module_version": "1.5.0",
      "model_name": "DescriptionStyleModel",
      "state": {
       "description_width": "initial"
      }
     },
     "b820ea399fb54bb195838cc34c4a3f12": {
      "model_module": "@jupyter-widgets/controls",
      "model_module_version": "1.5.0",
      "model_name": "ButtonModel",
      "state": {
       "description": "Insert comment",
       "layout": "IPY_MODEL_d782f4e2843048ea998ca26b41d1c3eb",
       "style": "IPY_MODEL_735f58086cb74dd798541706f8e8adda"
      }
     },
     "b8328fafffe54a16a3d7cd8ebf0090c2": {
      "model_module": "@jupyter-widgets/controls",
      "model_module_version": "1.5.0",
      "model_name": "ButtonStyleModel",
      "state": {}
     },
     "b844f2d7ee184eb2acf7043b681ff43e": {
      "model_module": "@jupyter-widgets/controls",
      "model_module_version": "1.5.0",
      "model_name": "HBoxModel",
      "state": {
       "children": [
        "IPY_MODEL_89389a2bfa8242a9abe3ded52808fc60",
        "IPY_MODEL_b3bae196435a4145a920ad4e54a25be1"
       ],
       "layout": "IPY_MODEL_099943e003b4403b97fd1140e0dd7f45"
      }
     },
     "b8ce6386ffde498ead13f3f98d584436": {
      "model_module": "@jupyter-widgets/controls",
      "model_module_version": "1.5.0",
      "model_name": "ButtonStyleModel",
      "state": {}
     },
     "b8d4213f89454745a242990fe1ba9573": {
      "model_module": "@jupyter-widgets/base",
      "model_module_version": "1.2.0",
      "model_name": "LayoutModel",
      "state": {
       "width": "150px"
      }
     },
     "b8fe2a66b1eb4584a8a497dad9977030": {
      "model_module": "@jupyter-widgets/base",
      "model_module_version": "1.2.0",
      "model_name": "LayoutModel",
      "state": {}
     },
     "b905d9bae1e9495cad074b6913d3b590": {
      "model_module": "@jupyter-widgets/base",
      "model_module_version": "1.2.0",
      "model_name": "LayoutModel",
      "state": {}
     },
     "b945da7057104e3ba69b6785478d1e41": {
      "model_module": "@jupyter-widgets/output",
      "model_module_version": "1.0.0",
      "model_name": "OutputModel",
      "state": {
       "layout": "IPY_MODEL_d773607de8564ee2b4a6d3b196fad6ef",
       "outputs": [
        {
         "name": "stdout",
         "output_type": "stream",
         "text": "SIRIUS_Fluo_2020_07_03_0042.nxs: tscan 500 30\n"
        }
       ]
      }
     },
     "b96bca74037e429a915164650184f0c8": {
      "model_module": "@jupyter-widgets/controls",
      "model_module_version": "1.5.0",
      "model_name": "TextModel",
      "state": {
       "description": "Phase (deg):",
       "layout": "IPY_MODEL_686c1063d637444699b0cf2ea00bf68d",
       "placeholder": "Value(s)",
       "style": "IPY_MODEL_b11b454150204e78bd159286dd4924eb",
       "value": "0"
      }
     },
     "b9c7d5630b7546eaad2873c69197bde1": {
      "model_module": "@jupyter-widgets/controls",
      "model_module_version": "1.5.0",
      "model_name": "DescriptionStyleModel",
      "state": {
       "description_width": "initial"
      }
     },
     "bae9663a9bd44772995b901b92dd2f19": {
      "model_module": "@jupyter-widgets/controls",
      "model_module_version": "1.5.0",
      "model_name": "ButtonModel",
      "state": {
       "description": "Plot GIXS",
       "layout": "IPY_MODEL_bf5254e37b74466da95d2f1254d6bac9",
       "style": "IPY_MODEL_a9484e69b3ea4b3bb6f68b7cbe2dd8c6"
      }
     },
     "baed91252d954752908716980662a575": {
      "model_module": "@jupyter-widgets/base",
      "model_module_version": "1.2.0",
      "model_name": "LayoutModel",
      "state": {}
     },
     "bb51c82e662847f9a70320081dbccae0": {
      "model_module": "@jupyter-widgets/base",
      "model_module_version": "1.2.0",
      "model_name": "LayoutModel",
      "state": {}
     },
     "bb80d2a7fc764c2b8da4de3d3d19e4c5": {
      "model_module": "@jupyter-widgets/controls",
      "model_module_version": "1.5.0",
      "model_name": "HBoxModel",
      "state": {
       "children": [
        "IPY_MODEL_4a5922268db249608450b0558ac6a452",
        "IPY_MODEL_ebbb2c93cb8c48f4bdd689ae221fb6d6",
        "IPY_MODEL_b96bca74037e429a915164650184f0c8"
       ],
       "layout": "IPY_MODEL_cef5e35bdcd74fad9bd11aeaa1f3223a"
      }
     },
     "bc0cb6736e8c4eb8a93eb628271df570": {
      "model_module": "@jupyter-widgets/base",
      "model_module_version": "1.2.0",
      "model_name": "LayoutModel",
      "state": {}
     },
     "bc32bae437394656b524ffd49d97ed7e": {
      "model_module": "@jupyter-widgets/controls",
      "model_module_version": "1.5.0",
      "model_name": "HBoxModel",
      "state": {
       "children": [
        "IPY_MODEL_46692091744c48eba46a75e440eb1bd2",
        "IPY_MODEL_09d12ac8a933499088bb050025af210c",
        "IPY_MODEL_8fb5114a80764ec7bb9820b04589ea26",
        "IPY_MODEL_67ab8061b522419d9825deb50c89bb51"
       ],
       "layout": "IPY_MODEL_edbe3061ed20456cb5a071894332af7d"
      }
     },
     "bc4acc19b78349e9976d931584c73624": {
      "model_module": "@jupyter-widgets/controls",
      "model_module_version": "1.5.0",
      "model_name": "TextModel",
      "state": {
       "description": "mon4:",
       "layout": "IPY_MODEL_ac1a62b3ce5b4317865a384051361bed",
       "placeholder": "Empty or type of mon",
       "style": "IPY_MODEL_637a4dead19f4458a3045f01aeed0f6f"
      }
     },
     "bc54ff8b90d146618c1ecd0e2d3402bf": {
      "model_module": "@jupyter-widgets/controls",
      "model_module_version": "1.5.0",
      "model_name": "DescriptionStyleModel",
      "state": {
       "description_width": "initial"
      }
     },
     "bc5ea88c10784dd4ad38daf81542ce4c": {
      "model_module": "@jupyter-widgets/base",
      "model_module_version": "1.2.0",
      "model_name": "LayoutModel",
      "state": {}
     },
     "bc922953ee1d4fae9713943464f746a6": {
      "model_module": "@jupyter-widgets/base",
      "model_module_version": "1.2.0",
      "model_name": "LayoutModel",
      "state": {}
     },
     "bc96d8a75e594b1795a62057f68b739f": {
      "model_module": "@jupyter-widgets/base",
      "model_module_version": "1.2.0",
      "model_name": "LayoutModel",
      "state": {}
     },
     "bcbda2a92cd04274a22044cbb5e2c3bd": {
      "model_module": "@jupyter-widgets/controls",
      "model_module_version": "1.5.0",
      "model_name": "VBoxModel",
      "state": {
       "_dom_classes": [
        "widget-interact"
       ],
       "children": [
        "IPY_MODEL_8daa0bccfb9f400194bf33bce12f9e40",
        "IPY_MODEL_752440d1ce6d40e195d2b64ffab5dd3d"
       ],
       "layout": "IPY_MODEL_17bf154695854dcab14c7b01e0261017"
      }
     },
     "bcf5ee6f54db44f2baf9108e0b914e4d": {
      "model_module": "@jupyter-widgets/controls",
      "model_module_version": "1.5.0",
      "model_name": "DescriptionStyleModel",
      "state": {
       "description_width": "initial"
      }
     },
     "bd0b234a4180430a9dbe1b77c9b8343f": {
      "model_module": "@jupyter-widgets/base",
      "model_module_version": "1.2.0",
      "model_name": "LayoutModel",
      "state": {}
     },
     "bd0fb88a168a454f91bd46ac1ba518b3": {
      "model_module": "@jupyter-widgets/controls",
      "model_module_version": "1.5.0",
      "model_name": "TextModel",
      "state": {
       "description": "Local contact:",
       "layout": "IPY_MODEL_467985be4ab04d3f82089be5e8da4549",
       "placeholder": "Name",
       "style": "IPY_MODEL_76f38c434f464574a41ac88a18969e0a"
      }
     },
     "bd5fa2bf3c39455ea51c096c4690c336": {
      "model_module": "@jupyter-widgets/base",
      "model_module_version": "1.2.0",
      "model_name": "LayoutModel",
      "state": {}
     },
     "bd925e7d82ae4b69b7ac535687524537": {
      "model_module": "@jupyter-widgets/controls",
      "model_module_version": "1.5.0",
      "model_name": "DescriptionStyleModel",
      "state": {
       "description_width": "initial"
      }
     },
     "bd9b7402c6c949c8b5438389c2e38927": {
      "model_module": "@jupyter-widgets/controls",
      "model_module_version": "1.5.0",
      "model_name": "DescriptionStyleModel",
      "state": {
       "description_width": "initial"
      }
     },
     "bdb3edf542904373b3e89474dd364d3e": {
      "model_module": "@jupyter-widgets/controls",
      "model_module_version": "1.5.0",
      "model_name": "ButtonModel",
      "state": {
       "description": "Plot Pilatus",
       "layout": "IPY_MODEL_6270f33a78184f7792b040838e1f4932",
       "style": "IPY_MODEL_76270869aeab48438162d870bef5f856"
      }
     },
     "bdfd2154c149461f92244c01ad2a2855": {
      "model_module": "@jupyter-widgets/controls",
      "model_module_version": "1.5.0",
      "model_name": "ButtonStyleModel",
      "state": {}
     },
     "be2bb04cf9fa4e2d9e0f32a99f6534b1": {
      "model_module": "@jupyter-widgets/base",
      "model_module_version": "1.2.0",
      "model_name": "LayoutModel",
      "state": {
       "width": "150px"
      }
     },
     "be57dcb4c93e4b0f8f67db752b45547f": {
      "model_module": "@jupyter-widgets/controls",
      "model_module_version": "1.5.0",
      "model_name": "ButtonStyleModel",
      "state": {}
     },
     "be7c75929f3042699da5be557b264d85": {
      "model_module": "@jupyter-widgets/controls",
      "model_module_version": "1.5.0",
      "model_name": "DescriptionStyleModel",
      "state": {
       "description_width": "initial"
      }
     },
     "bebaea2cdddf49d28654b348d81aa39a": {
      "model_module": "@jupyter-widgets/controls",
      "model_module_version": "1.5.0",
      "model_name": "ButtonModel",
      "state": {
       "description": "Treat scan(s)",
       "layout": "IPY_MODEL_f8a7b016582d4401ac35d063f3b811bb",
       "style": "IPY_MODEL_508e8fe084c54c5ab330a537e2481422"
      }
     },
     "bebd3ae94a6b4f55bc1b9aa975f2252c": {
      "model_module": "@jupyter-widgets/controls",
      "model_module_version": "1.5.0",
      "model_name": "DescriptionStyleModel",
      "state": {
       "description_width": "initial"
      }
     },
     "beeee61f065b415fbe4f9e156a80b00e": {
      "model_module": "@jupyter-widgets/controls",
      "model_module_version": "1.5.0",
      "model_name": "ButtonModel",
      "state": {
       "description": "Extract Vineyard",
       "layout": "IPY_MODEL_a1de6786e86a427c85f1e9c95dac1e8e",
       "style": "IPY_MODEL_1f173d3b6369432aaa094c43c6052c18"
      }
     },
     "bf5254e37b74466da95d2f1254d6bac9": {
      "model_module": "@jupyter-widgets/base",
      "model_module_version": "1.2.0",
      "model_name": "LayoutModel",
      "state": {}
     },
     "bf921ed3d6914700bcc452d516282b5e": {
      "model_module": "@jupyter-widgets/controls",
      "model_module_version": "1.5.0",
      "model_name": "ButtonStyleModel",
      "state": {}
     },
     "bfc4c329f8c64c46ba23b0124366a8fb": {
      "model_module": "@jupyter-widgets/controls",
      "model_module_version": "1.5.0",
      "model_name": "HBoxModel",
      "state": {
       "children": [
        "IPY_MODEL_af7b76c2b5c14825b157b5cf547a7aea",
        "IPY_MODEL_e043c525e4734ba69e5c0fb4f61ce0c2",
        "IPY_MODEL_643bc610a5574d88903d30fa68a1ab45",
        "IPY_MODEL_9304220e5cbe4abbbda28a17399a6ba3"
       ],
       "layout": "IPY_MODEL_203d41b19e184c599e8a084f184dda0b"
      }
     },
     "bfe83b9988c7472793aaea4af349d944": {
      "model_module": "@jupyter-widgets/controls",
      "model_module_version": "1.5.0",
      "model_name": "ButtonModel",
      "state": {
       "description": "Plot isotherm",
       "layout": "IPY_MODEL_b2c1e9f72d6843918569e6254faae298",
       "style": "IPY_MODEL_f0b37d5fdc054efd81c2301e40206787"
      }
     },
     "c021275832d646938284b35b84c07583": {
      "model_module": "@jupyter-widgets/controls",
      "model_module_version": "1.5.0",
      "model_name": "DropdownModel",
      "state": {
       "_options_labels": [
        "Si111",
        "InSb",
        "Not Used"
       ],
       "description": "DCM:",
       "index": 0,
       "layout": "IPY_MODEL_d34da27526d643929ab3b3c121e9ac38",
       "style": "IPY_MODEL_eee80262ce8c496aadb37fbd6873600e"
      }
     },
     "c059b5ef069d43a090707c44b0d256d8": {
      "model_module": "@jupyter-widgets/base",
      "model_module_version": "1.2.0",
      "model_name": "LayoutModel",
      "state": {
       "width": "200px"
      }
     },
     "c067180b9be44906a522869148c7b2a1": {
      "model_module": "@jupyter-widgets/controls",
      "model_module_version": "1.5.0",
      "model_name": "DescriptionStyleModel",
      "state": {
       "description_width": "initial"
      }
     },
     "c09a86e299e74b7aad8ce92b17149bd3": {
      "model_module": "@jupyter-widgets/controls",
      "model_module_version": "1.5.0",
      "model_name": "CheckboxModel",
      "state": {
       "description": "log y",
       "disabled": false,
       "layout": "IPY_MODEL_a89223ec90af4523b06171b2808174c0",
       "style": "IPY_MODEL_09c3dfbf6d8b4614891d305c178976fe",
       "value": false
      }
     },
     "c105e7a9df854281855f163b1022857b": {
      "model_module": "@jupyter-widgets/base",
      "model_module_version": "1.2.0",
      "model_name": "LayoutModel",
      "state": {}
     },
     "c14494c6c8ec477da1661e2d115f923c": {
      "model_module": "@jupyter-widgets/base",
      "model_module_version": "1.2.0",
      "model_name": "LayoutModel",
      "state": {}
     },
     "c18715b32e5444e3a30afeb0e6895540": {
      "model_module": "@jupyter-widgets/base",
      "model_module_version": "1.2.0",
      "model_name": "LayoutModel",
      "state": {
       "width": "200px"
      }
     },
     "c18aa67accb340fa98f30e88b0892f3c": {
      "model_module": "@jupyter-widgets/controls",
      "model_module_version": "1.5.0",
      "model_name": "HBoxModel",
      "state": {
       "children": [
        "IPY_MODEL_f217a96ab62e45b9af5e6f50fb3076db",
        "IPY_MODEL_39f79884d3974e05b86db89f98ed2e0b",
        "IPY_MODEL_a9bfae20b4944f33bcba34d2e8ca9dd9",
        "IPY_MODEL_1eea2c2ee66447638f5a48f4318f260b"
       ],
       "layout": "IPY_MODEL_68caa21f24454aceab56b3331588b25f"
      }
     },
     "c1a92704e93b42d6b5dc1547ac336470": {
      "model_module": "@jupyter-widgets/base",
      "model_module_version": "1.2.0",
      "model_name": "LayoutModel",
      "state": {}
     },
     "c1eee2c2521943cab609d49c07fe70b3": {
      "model_module": "@jupyter-widgets/controls",
      "model_module_version": "1.5.0",
      "model_name": "DescriptionStyleModel",
      "state": {
       "description_width": "initial"
      }
     },
     "c1fb2b02bdf9475f9c82683e01f90fc0": {
      "model_module": "@jupyter-widgets/controls",
      "model_module_version": "1.5.0",
      "model_name": "DropdownModel",
      "state": {
       "_options_labels": [
        "Fixed",
        "Variable"
       ],
       "description": "Fixed/Variable energy:",
       "index": 0,
       "layout": "IPY_MODEL_2c591b6ac6ad4988b80f2f54ea27fbba",
       "style": "IPY_MODEL_d3aa1a465cde434cb7239e5943f233ac"
      }
     },
     "c2308d896ba24f159a0d8846faaf7333": {
      "model_module": "@jupyter-widgets/controls",
      "model_module_version": "1.5.0",
      "model_name": "ButtonModel",
      "state": {
       "description": "Calib. theta z",
       "layout": "IPY_MODEL_25804d06848247c4b77694a5f6e4df8e",
       "style": "IPY_MODEL_f5de0ebda10f4bdfa38bc6837db1f5fd"
      }
     },
     "c2423131e45f41f0aacfd4d7b430202a": {
      "model_module": "@jupyter-widgets/base",
      "model_module_version": "1.2.0",
      "model_name": "LayoutModel",
      "state": {}
     },
     "c24e268538ff4fc8819ca4d81b6b8353": {
      "model_module": "@jupyter-widgets/controls",
      "model_module_version": "1.5.0",
      "model_name": "TextModel",
      "state": {
       "description": "Main proposer:",
       "layout": "IPY_MODEL_34c27c545c9249bea2f28c9bf3bd98ea",
       "placeholder": "Name",
       "style": "IPY_MODEL_18c7ef3d1cb8451cb06dc5176e0b6cc7"
      }
     },
     "c27da257532f4aa294ee931dc86bf689": {
      "model_module": "@jupyter-widgets/controls",
      "model_module_version": "1.5.0",
      "model_name": "ButtonStyleModel",
      "state": {}
     },
     "c287b380bc294ebd985946f96912ab56": {
      "model_module": "@jupyter-widgets/base",
      "model_module_version": "1.2.0",
      "model_name": "LayoutModel",
      "state": {}
     },
     "c2e11fd7c2de456fa56f7f4ef38dc45d": {
      "model_module": "@jupyter-widgets/controls",
      "model_module_version": "1.5.0",
      "model_name": "ButtonStyleModel",
      "state": {}
     },
     "c383690d1a0f4bf0893452252fc1573e": {
      "model_module": "@jupyter-widgets/controls",
      "model_module_version": "1.5.0",
      "model_name": "ButtonStyleModel",
      "state": {}
     },
     "c3a535eb8b4d4595bda7dd7d65b5c931": {
      "model_module": "@jupyter-widgets/controls",
      "model_module_version": "1.5.0",
      "model_name": "ButtonStyleModel",
      "state": {}
     },
     "c3e0a696170c456ea081b21c7b00572c": {
      "model_module": "@jupyter-widgets/output",
      "model_module_version": "1.0.0",
      "model_name": "OutputModel",
      "state": {
       "layout": "IPY_MODEL_fef6e8a0b9204cc1902eb88e82816f76"
      }
     },
     "c432b19f764d4421a51c22a7c38f792f": {
      "model_module": "@jupyter-widgets/controls",
      "model_module_version": "1.5.0",
      "model_name": "DescriptionStyleModel",
      "state": {
       "description_width": "initial"
      }
     },
     "c47af2ee19a84d328c46ded8f84cb6a5": {
      "model_module": "@jupyter-widgets/base",
      "model_module_version": "1.2.0",
      "model_name": "LayoutModel",
      "state": {}
     },
     "c50e12f4b8614a818dfa9ef637f656be": {
      "model_module": "@jupyter-widgets/base",
      "model_module_version": "1.2.0",
      "model_name": "LayoutModel",
      "state": {}
     },
     "c535b624e64543e985a7b30fbad459f8": {
      "model_module": "@jupyter-widgets/base",
      "model_module_version": "1.2.0",
      "model_name": "LayoutModel",
      "state": {}
     },
     "c556dd1d93484c758a789de9ddfd475f": {
      "model_module": "@jupyter-widgets/controls",
      "model_module_version": "1.5.0",
      "model_name": "HBoxModel",
      "state": {
       "children": [
        "IPY_MODEL_802e4b6507b1473e81569d3798e90dec",
        "IPY_MODEL_21667b15cb3a45f98682e342b33e1595",
        "IPY_MODEL_209c143222b94570b65e4f50dd651069",
        "IPY_MODEL_41c4a37ef1f14010b0e050e55b58c320"
       ],
       "layout": "IPY_MODEL_ae778acbb96d4561b31e1575f3ffe080"
      }
     },
     "c5a803a6403446fb803527c9cdc2d743": {
      "model_module": "@jupyter-widgets/controls",
      "model_module_version": "1.5.0",
      "model_name": "HBoxModel",
      "state": {
       "children": [
        "IPY_MODEL_d1e6dd25e1a949f5a21cd11b68dafa32",
        "IPY_MODEL_ddd5438999fe4db990ce35cb00f0c9cd"
       ],
       "layout": "IPY_MODEL_227fcb0dba014de69f34de20c911a690"
      }
     },
     "c5aab2c9922245739755ff39acd35ad7": {
      "model_module": "@jupyter-widgets/controls",
      "model_module_version": "1.5.0",
      "model_name": "DescriptionStyleModel",
      "state": {
       "description_width": "initial"
      }
     },
     "c5aea4e8e4f149eab8633cb6e98c461a": {
      "model_module": "@jupyter-widgets/base",
      "model_module_version": "1.2.0",
      "model_name": "LayoutModel",
      "state": {}
     },
     "c611c9bc5ff941eaa7ae32a20c796301": {
      "model_module": "@jupyter-widgets/controls",
      "model_module_version": "1.5.0",
      "model_name": "ButtonStyleModel",
      "state": {}
     },
     "c629f00d3e4942a5b64e29c903b833e2": {
      "model_module": "@jupyter-widgets/base",
      "model_module_version": "1.2.0",
      "model_name": "LayoutModel",
      "state": {
       "width": "150px"
      }
     },
     "c63c928c387c46f880709829cd8d5e23": {
      "model_module": "@jupyter-widgets/controls",
      "model_module_version": "1.5.0",
      "model_name": "ButtonStyleModel",
      "state": {}
     },
     "c63dd5fbd4f14720b328d0327c6e860d": {
      "model_module": "@jupyter-widgets/controls",
      "model_module_version": "1.5.0",
      "model_name": "ButtonModel",
      "state": {
       "description": "Refresh",
       "layout": "IPY_MODEL_271c24b8b16e4af0a4649d6cd3cce5ba",
       "style": "IPY_MODEL_1daa958243f2460cb5081c98e6efad80"
      }
     },
     "c67e0e603bc54d7f8933aadd27ba84e0": {
      "model_module": "@jupyter-widgets/controls",
      "model_module_version": "1.5.0",
      "model_name": "TextModel",
      "state": {
       "description": "mon1:",
       "layout": "IPY_MODEL_162425f79766460199b1b8007161a320",
       "placeholder": "Empty or type of mon",
       "style": "IPY_MODEL_6a82b147a2b243b4b6d410128f45e392"
      }
     },
     "c693ed04ff8c4a55bef8ae1d9f7cfef0": {
      "model_module": "@jupyter-widgets/controls",
      "model_module_version": "1.5.0",
      "model_name": "HBoxModel",
      "state": {
       "children": [
        "IPY_MODEL_8e8c9e24eacf450e8becc6fd1a78a724",
        "IPY_MODEL_22a035670b59489ba771f6427d8dadef"
       ],
       "layout": "IPY_MODEL_68d5815be6d94679964988c3b70199c7"
      }
     },
     "c6e5cae9184646adb75122e6acedb0cc": {
      "model_module": "@jupyter-widgets/controls",
      "model_module_version": "1.5.0",
      "model_name": "DescriptionStyleModel",
      "state": {
       "description_width": "initial"
      }
     },
     "c704f5858be4485b881230a6123db4af": {
      "model_module": "@jupyter-widgets/base",
      "model_module_version": "1.2.0",
      "model_name": "LayoutModel",
      "state": {
       "width": "150px"
      }
     },
     "c71f8063c809454f85d21f28011db5ec": {
      "model_module": "@jupyter-widgets/controls",
      "model_module_version": "1.5.0",
      "model_name": "ButtonModel",
      "state": {
       "description": "Calib. theta z",
       "layout": "IPY_MODEL_2116ac5a8bd941d99ed0ef5d75b9b995",
       "style": "IPY_MODEL_da91e01698fc4b47ab94c19c49012eb5"
      }
     },
     "c72334a8b83e47b1adab72828c9dfab7": {
      "model_module": "@jupyter-widgets/base",
      "model_module_version": "1.2.0",
      "model_name": "LayoutModel",
      "state": {
       "width": "200px"
      }
     },
     "c732e12a99834de59fcf47b8bfdb82a9": {
      "model_module": "@jupyter-widgets/controls",
      "model_module_version": "1.5.0",
      "model_name": "DescriptionStyleModel",
      "state": {
       "description_width": "initial"
      }
     },
     "c732ec08630d4f6b8be2a2aaaac443e7": {
      "model_module": "@jupyter-widgets/base",
      "model_module_version": "1.2.0",
      "model_name": "LayoutModel",
      "state": {}
     },
     "c73f040ef75b4a57bf18b70231469f7c": {
      "model_module": "@jupyter-widgets/controls",
      "model_module_version": "1.5.0",
      "model_name": "TextModel",
      "state": {
       "description": "Wavelength (nm):",
       "layout": "IPY_MODEL_b4c6cc9946d14fbcb3540493567ad192",
       "placeholder": "Value(s)",
       "style": "IPY_MODEL_a1362ad23a6e4bbe97a8efe4ac7c4bf0"
      }
     },
     "c7c2b708c04c4eda889ef59be7384eda": {
      "model_module": "@jupyter-widgets/base",
      "model_module_version": "1.2.0",
      "model_name": "LayoutModel",
      "state": {}
     },
     "c7e2cf29dc324493a0c7def773ec1c52": {
      "model_module": "@jupyter-widgets/controls",
      "model_module_version": "1.5.0",
      "model_name": "ButtonStyleModel",
      "state": {}
     },
     "c822849eae5c469fb9a6f20a7bb48f28": {
      "model_module": "@jupyter-widgets/controls",
      "model_module_version": "1.5.0",
      "model_name": "DropdownModel",
      "state": {
       "_options_labels": [
        "Green",
        "Yellow",
        "Red"
       ],
       "description": "Safety:",
       "index": 1,
       "layout": "IPY_MODEL_998b4876cfc24c01aa8baa8ed61a11fd",
       "style": "IPY_MODEL_51ea6357cf874aab970968535959d382"
      }
     },
     "c89faba072054fb9849755d21ea83d65": {
      "model_module": "@jupyter-widgets/controls",
      "model_module_version": "1.5.0",
      "model_name": "DropdownModel",
      "state": {
       "_options_labels": [
        "ys",
        "zs",
        "xs",
        "surfacepressure",
        "areapermolecule",
        "fluo01",
        "fluo02",
        "fluo03",
        "fluo04",
        "fluoicr04",
        "fluoocr04",
        "qxy",
        "integration_time",
        "sensorsRelTimestamps",
        "sensorsTimestamps"
       ],
       "description": "yLabel",
       "index": 0,
       "layout": "IPY_MODEL_1ebab382db1545148784305dbb9f0c9b",
       "style": "IPY_MODEL_32ce47250b7a410f9774267a5251cb2d"
      }
     },
     "c8cd84f79f1746eb85fcf74184941487": {
      "model_module": "@jupyter-widgets/controls",
      "model_module_version": "1.5.0",
      "model_name": "ButtonModel",
      "state": {
       "description": "Plot GIXD",
       "layout": "IPY_MODEL_265df178bad945f98ff07262b9266457",
       "style": "IPY_MODEL_9c62c60bad484580bc3a5e7c0f0c5dc5"
      }
     },
     "c8cdf4bc15914c0cb27ded43fa0bacd6": {
      "model_module": "@jupyter-widgets/controls",
      "model_module_version": "1.5.0",
      "model_name": "ButtonStyleModel",
      "state": {}
     },
     "c8d2f378f9254fa1a544fc5214725ef3": {
      "model_module": "@jupyter-widgets/base",
      "model_module_version": "1.2.0",
      "model_name": "LayoutModel",
      "state": {}
     },
     "c8e75b916ea042ac98cae1b81ac84b53": {
      "model_module": "@jupyter-widgets/controls",
      "model_module_version": "1.5.0",
      "model_name": "CheckboxModel",
      "state": {
       "description": "Horizontal focalisation:",
       "disabled": false,
       "layout": "IPY_MODEL_563883aaaf3c4c3bb1c85b4bac7a5e1f",
       "style": "IPY_MODEL_35589d9ef708468cb3140a63228fb2e2",
       "value": true
      }
     },
     "c8ff108867234d92bfa3445bbc163042": {
      "model_module": "@jupyter-widgets/base",
      "model_module_version": "1.2.0",
      "model_name": "LayoutModel",
      "state": {
       "width": "400px"
      }
     },
     "c94c6d48b9c441d0b74be2e4b5a4882c": {
      "model_module": "@jupyter-widgets/output",
      "model_module_version": "1.0.0",
      "model_name": "OutputModel",
      "state": {
       "layout": "IPY_MODEL_3894713cdc1d44e088b3f68bb8accb6e",
       "outputs": [
        {
         "name": "stdout",
         "output_type": "stream",
         "text": "SIRIUS_2020_03_12_0756.nxs: continuous_ascan delta -24 -19 100 5\n"
        }
       ]
      }
     },
     "c9b3dd7cb5ec45a985df0d5904232aba": {
      "model_module": "@jupyter-widgets/base",
      "model_module_version": "1.2.0",
      "model_name": "LayoutModel",
      "state": {}
     },
     "c9de1cfb25714b289e73cdca488fbde0": {
      "model_module": "@jupyter-widgets/controls",
      "model_module_version": "1.5.0",
      "model_name": "ButtonStyleModel",
      "state": {}
     },
     "ca661ddda5e241b0811f3c7ab1fb23a5": {
      "model_module": "@jupyter-widgets/controls",
      "model_module_version": "1.5.0",
      "model_name": "TextModel",
      "state": {
       "description": "Harmonic:",
       "layout": "IPY_MODEL_162425f79766460199b1b8007161a320",
       "placeholder": "Value(s)",
       "style": "IPY_MODEL_376564736768496cbd9f2eb4620bfbf5"
      }
     },
     "ca7664844996440380ea96583b5f0b74": {
      "model_module": "@jupyter-widgets/controls",
      "model_module_version": "1.5.0",
      "model_name": "HBoxModel",
      "state": {
       "children": [
        "IPY_MODEL_9d9b85dca0624690890eda1507d68bfb",
        "IPY_MODEL_1eadd7347e564b90a281e0f685a5aff4"
       ],
       "layout": "IPY_MODEL_5b57e87450574079865e4f6616785755"
      }
     },
     "ca87811341b940b1930d33134cf1d8b3": {
      "model_module": "@jupyter-widgets/controls",
      "model_module_version": "1.5.0",
      "model_name": "HBoxModel",
      "state": {
       "children": [
        "IPY_MODEL_17a89f49846944dcab6a0f7ec3bd527d",
        "IPY_MODEL_6e27312660e84d0f90c52c54098c3d1c"
       ],
       "layout": "IPY_MODEL_7470a95619e84ad29ef39b7e924ce433"
      }
     },
     "caa6d954cea34b27a73f9c93e924ea1f": {
      "model_module": "@jupyter-widgets/controls",
      "model_module_version": "1.5.0",
      "model_name": "ButtonModel",
      "state": {
       "description": "Calib. theta z",
       "layout": "IPY_MODEL_8b459409f6564c29be3b9eed7f0e18a2",
       "style": "IPY_MODEL_2148fc390bab4b58870e898f7eb8d62d"
      }
     },
     "cab627fa29b54112882319c6b746a255": {
      "model_module": "@jupyter-widgets/controls",
      "model_module_version": "1.5.0",
      "model_name": "HBoxModel",
      "state": {
       "children": [
        "IPY_MODEL_ae68a173630140e883b33ec563af4722",
        "IPY_MODEL_f2b82323436742fab97021865f14f42d",
        "IPY_MODEL_6f58d8da27b94fd9825b24992f17d638",
        "IPY_MODEL_6078c96257404ad3835113bfc7be7570"
       ],
       "layout": "IPY_MODEL_8c9fade3771b44328f804b70b9f4f714"
      }
     },
     "caccea2065594b3291a5ec600f6d549c": {
      "model_module": "@jupyter-widgets/controls",
      "model_module_version": "1.5.0",
      "model_name": "ButtonModel",
      "state": {
       "description": "Fit with erf",
       "layout": "IPY_MODEL_4ecd3b3a23fe4333b18094db41047af9",
       "style": "IPY_MODEL_82e7a9f3e5a548cea8c51eed6c9cb7ec"
      }
     },
     "cb5e5b5c95bb41c383656b8ad3378057": {
      "model_module": "@jupyter-widgets/base",
      "model_module_version": "1.2.0",
      "model_name": "LayoutModel",
      "state": {}
     },
     "cb8758b9f6f944e89e6d82c3fe93736e": {
      "model_module": "@jupyter-widgets/base",
      "model_module_version": "1.2.0",
      "model_name": "LayoutModel",
      "state": {}
     },
     "cba8be636f2848f2baf08814694c665e": {
      "model_module": "@jupyter-widgets/output",
      "model_module_version": "1.0.0",
      "model_name": "OutputModel",
      "state": {
       "layout": "IPY_MODEL_6281dc314941429f9f0b6548957df181",
       "outputs": [
        {
         "name": "stdout",
         "output_type": "stream",
         "text": "SIRIUS_2020_03_12_0756.nxs: continuous_ascan delta -24 -19 100 5\n"
        }
       ]
      }
     },
     "cc09ff168d66439098949bf18e686716": {
      "model_module": "@jupyter-widgets/base",
      "model_module_version": "1.2.0",
      "model_name": "LayoutModel",
      "state": {}
     },
     "cc16998d785b4812a4b041a20425d5f2": {
      "model_module": "@jupyter-widgets/controls",
      "model_module_version": "1.5.0",
      "model_name": "ButtonStyleModel",
      "state": {}
     },
     "cc27d424c18340e399e1f9fbc775a46e": {
      "model_module": "@jupyter-widgets/controls",
      "model_module_version": "1.5.0",
      "model_name": "ButtonModel",
      "state": {
       "description": "Fill form",
       "layout": "IPY_MODEL_d712a07d55af456ba2bfa96d1b600524",
       "style": "IPY_MODEL_f9d4ae3c9aa3496397c6d81d2d08b41b"
      }
     },
     "cc2e7b8ceb00423e9e9e9f4df377161e": {
      "model_module": "@jupyter-widgets/base",
      "model_module_version": "1.2.0",
      "model_name": "LayoutModel",
      "state": {}
     },
     "cc30e993d8f6462c9d5c854a9e4085e2": {
      "model_module": "@jupyter-widgets/base",
      "model_module_version": "1.2.0",
      "model_name": "LayoutModel",
      "state": {}
     },
     "cc441dc964424d0daa7fee9e55f140db": {
      "model_module": "@jupyter-widgets/controls",
      "model_module_version": "1.5.0",
      "model_name": "ButtonModel",
      "state": {
       "description": "Fit with gaussian",
       "layout": "IPY_MODEL_c50e12f4b8614a818dfa9ef637f656be",
       "style": "IPY_MODEL_b8328fafffe54a16a3d7cd8ebf0090c2"
      }
     },
     "cc879662c90448b3b711b17521a8ea85": {
      "model_module": "@jupyter-widgets/controls",
      "model_module_version": "1.5.0",
      "model_name": "HBoxModel",
      "state": {
       "children": [
        "IPY_MODEL_08cad5d643974d5eb14afd708e9f1782",
        "IPY_MODEL_538af724aac84c0b8548116342b129cb",
        "IPY_MODEL_d17d5fe28b15443490f661c332f8d749",
        "IPY_MODEL_92651c161e1e4d508b378c60b6396542"
       ],
       "layout": "IPY_MODEL_2bbaf31a55dc469383d3ea702a2a37aa"
      }
     },
     "cce3abbf81d34aae8d9a3a2db5ee5bc8": {
      "model_module": "@jupyter-widgets/controls",
      "model_module_version": "1.5.0",
      "model_name": "DescriptionStyleModel",
      "state": {
       "description_width": "initial"
      }
     },
     "cce5b73f6374464fa5d6aecfc32c77a6": {
      "model_module": "@jupyter-widgets/base",
      "model_module_version": "1.2.0",
      "model_name": "LayoutModel",
      "state": {
       "width": "400px"
      }
     },
     "cd0140c3347f4c478f6a6e91cf59fab5": {
      "model_module": "@jupyter-widgets/base",
      "model_module_version": "1.2.0",
      "model_name": "LayoutModel",
      "state": {
       "width": "200px"
      }
     },
     "cd3428c91e3d4dc19bb6ab9f36fb245c": {
      "model_module": "@jupyter-widgets/base",
      "model_module_version": "1.2.0",
      "model_name": "LayoutModel",
      "state": {}
     },
     "cd43cefe0de1421081ffb6041f786a90": {
      "model_module": "@jupyter-widgets/controls",
      "model_module_version": "1.5.0",
      "model_name": "TextareaModel",
      "state": {
       "description": "Detectors:",
       "layout": "IPY_MODEL_4441b00faa9d4c4c8c1f378e3c734c7a",
       "placeholder": "Type of detectors",
       "style": "IPY_MODEL_65b11263791e463a8f5b0cde30eeb493"
      }
     },
     "cd8510851c044f0c8ee57f998ec5db3d": {
      "model_module": "@jupyter-widgets/base",
      "model_module_version": "1.2.0",
      "model_name": "LayoutModel",
      "state": {}
     },
     "cdeaddc84d3042aa8f711ad28f25d155": {
      "model_module": "@jupyter-widgets/base",
      "model_module_version": "1.2.0",
      "model_name": "LayoutModel",
      "state": {
       "width": "150px"
      }
     },
     "cdff664b548247529de7701f1425381c": {
      "model_module": "@jupyter-widgets/base",
      "model_module_version": "1.2.0",
      "model_name": "LayoutModel",
      "state": {}
     },
     "ce92f99fb60f42319bf2aa97a6f86910": {
      "model_module": "@jupyter-widgets/controls",
      "model_module_version": "1.5.0",
      "model_name": "DescriptionStyleModel",
      "state": {
       "description_width": "initial"
      }
     },
     "ce9e1ec84cdf4523b70633903844e973": {
      "model_module": "@jupyter-widgets/controls",
      "model_module_version": "1.5.0",
      "model_name": "TextModel",
      "state": {
       "description": "Vertical beamsize (mm):",
       "layout": "IPY_MODEL_062de8601ece41ce934797275ec4be6f",
       "placeholder": "Value(s)",
       "style": "IPY_MODEL_b7a04705d76249dc9ac6e55130d8c906"
      }
     },
     "cec9d54dfc9d4af88e6c9df88839ef57": {
      "model_module": "@jupyter-widgets/base",
      "model_module_version": "1.2.0",
      "model_name": "LayoutModel",
      "state": {}
     },
     "cef5e35bdcd74fad9bd11aeaa1f3223a": {
      "model_module": "@jupyter-widgets/base",
      "model_module_version": "1.2.0",
      "model_name": "LayoutModel",
      "state": {}
     },
     "cf671712cd994e9da772a529e18fa328": {
      "model_module": "@jupyter-widgets/controls",
      "model_module_version": "1.5.0",
      "model_name": "DescriptionStyleModel",
      "state": {
       "description_width": "initial"
      }
     },
     "cf9c342a9680473da740a591dadcb5c6": {
      "model_module": "@jupyter-widgets/controls",
      "model_module_version": "1.5.0",
      "model_name": "DescriptionStyleModel",
      "state": {
       "description_width": "initial"
      }
     },
     "cfe11434f70a429fb8ae995dbd6abc98": {
      "model_module": "@jupyter-widgets/controls",
      "model_module_version": "1.5.0",
      "model_name": "ButtonStyleModel",
      "state": {}
     },
     "d002a1575a984c86ba630765d5651760": {
      "model_module": "@jupyter-widgets/controls",
      "model_module_version": "1.5.0",
      "model_name": "HBoxModel",
      "state": {
       "children": [
        "IPY_MODEL_f0c6275885c84efa9b29de4d38c23e41",
        "IPY_MODEL_5a09d891f9244a46804d1a4416ce724e"
       ],
       "layout": "IPY_MODEL_693d0bc9068645eaa6d75a3c3daee706"
      }
     },
     "d03bf638c0464f48b5123016c36911f0": {
      "model_module": "@jupyter-widgets/base",
      "model_module_version": "1.2.0",
      "model_name": "LayoutModel",
      "state": {}
     },
     "d07c8cf28ef84eee985f9753cf722844": {
      "model_module": "@jupyter-widgets/controls",
      "model_module_version": "1.5.0",
      "model_name": "DescriptionStyleModel",
      "state": {
       "description_width": "initial"
      }
     },
     "d093591d794a4f1c8a670a431d2a9c5e": {
      "model_module": "@jupyter-widgets/controls",
      "model_module_version": "1.5.0",
      "model_name": "TextModel",
      "state": {
       "description": "mon2:",
       "layout": "IPY_MODEL_e917d212456d4b2988c1979851b9037e",
       "placeholder": "Empty or type of mon",
       "style": "IPY_MODEL_48aef12830504731a49629845ee2569c"
      }
     },
     "d0a13babfc6545ee94867a19d69c0d0e": {
      "model_module": "@jupyter-widgets/base",
      "model_module_version": "1.2.0",
      "model_name": "LayoutModel",
      "state": {}
     },
     "d0e17eb1844048af900636487043d976": {
      "model_module": "@jupyter-widgets/base",
      "model_module_version": "1.2.0",
      "model_name": "LayoutModel",
      "state": {}
     },
     "d0ec76d252f6408db44c47ad869143bb": {
      "model_module": "@jupyter-widgets/base",
      "model_module_version": "1.2.0",
      "model_name": "LayoutModel",
      "state": {}
     },
     "d100203ccd444ed0a6f142f06384b35e": {
      "model_module": "@jupyter-widgets/base",
      "model_module_version": "1.2.0",
      "model_name": "LayoutModel",
      "state": {
       "height": "40px",
       "width": "250px"
      }
     },
     "d1032f0f8e1d4d5cadaed734f78cda76": {
      "model_module": "@jupyter-widgets/base",
      "model_module_version": "1.2.0",
      "model_name": "LayoutModel",
      "state": {}
     },
     "d1472fdb1e5643919545bf4982e3c577": {
      "model_module": "@jupyter-widgets/base",
      "model_module_version": "1.2.0",
      "model_name": "LayoutModel",
      "state": {}
     },
     "d17d5fe28b15443490f661c332f8d749": {
      "model_module": "@jupyter-widgets/controls",
      "model_module_version": "1.5.0",
      "model_name": "ButtonModel",
      "state": {
       "description": "Convert logs",
       "layout": "IPY_MODEL_f35a50462f19441da5b051ab4d7e78d7",
       "style": "IPY_MODEL_10b8badc245d4e718208b173b809e106"
      }
     },
     "d1898c6ea26a42f0aa23641f3526a291": {
      "model_module": "@jupyter-widgets/controls",
      "model_module_version": "1.5.0",
      "model_name": "DescriptionStyleModel",
      "state": {
       "description_width": "initial"
      }
     },
     "d189cf72bfa94d1684fe7c47192a4ded": {
      "model_module": "@jupyter-widgets/controls",
      "model_module_version": "1.5.0",
      "model_name": "ButtonStyleModel",
      "state": {}
     },
     "d1c32f5b5fbc4160bf2485a3d888da0c": {
      "model_module": "@jupyter-widgets/controls",
      "model_module_version": "1.5.0",
      "model_name": "DropdownModel",
      "state": {
       "_options_labels": [
        "delta",
        "zs",
        "gamma",
        "hu36energy",
        "xs",
        "energydcm",
        "current",
        "mon2",
        "surfacepressure",
        "areapermolecule",
        "qxy",
        "pilatusroi1",
        "integration_time",
        "sensorsRelTimestamps",
        "sensorsTimestamps"
       ],
       "description": "xLabel",
       "index": 0,
       "layout": "IPY_MODEL_446ae40965eb4673a3400d745985d24e",
       "style": "IPY_MODEL_11b24a8e3d76445dabf01d90d789a194"
      }
     },
     "d1c5ad1780fc4738a89cc478b5500c2a": {
      "model_module": "@jupyter-widgets/controls",
      "model_module_version": "1.5.0",
      "model_name": "ButtonModel",
      "state": {
       "description": "Insert positions",
       "layout": "IPY_MODEL_14110fe1de1642c8b543b919cb78020b",
       "style": "IPY_MODEL_3b8061aacc684b5bac1e3b5202b9c4c7"
      }
     },
     "d1e6dd25e1a949f5a21cd11b68dafa32": {
      "model_module": "@jupyter-widgets/controls",
      "model_module_version": "1.5.0",
      "model_name": "TextModel",
      "state": {
       "description": "Current:",
       "layout": "IPY_MODEL_a2ab455042d94793bc480c9af559906c",
       "placeholder": "450 mA, 500 mA, ...",
       "style": "IPY_MODEL_0597213e601441a0a6a4cd903a5f3372"
      }
     },
     "d1fbd45ea58246a09d71685b9e411992": {
      "model_module": "@jupyter-widgets/base",
      "model_module_version": "1.2.0",
      "model_name": "LayoutModel",
      "state": {}
     },
     "d21787dd9e64487693cce979dfceb55b": {
      "model_module": "@jupyter-widgets/controls",
      "model_module_version": "1.5.0",
      "model_name": "DescriptionStyleModel",
      "state": {
       "description_width": "initial"
      }
     },
     "d226fd07330e4c2ba9f650e7787b7718": {
      "model_module": "@jupyter-widgets/controls",
      "model_module_version": "1.5.0",
      "model_name": "DescriptionStyleModel",
      "state": {
       "description_width": "initial"
      }
     },
     "d2a273e22f5549af9a34b6fa44fa747a": {
      "model_module": "@jupyter-widgets/controls",
      "model_module_version": "1.5.0",
      "model_name": "ButtonStyleModel",
      "state": {}
     },
     "d2a5e7fdb49c4543b5c329c6d40a5650": {
      "model_module": "@jupyter-widgets/base",
      "model_module_version": "1.2.0",
      "model_name": "LayoutModel",
      "state": {}
     },
     "d2de938e5b164550bef4675756c67057": {
      "model_module": "@jupyter-widgets/base",
      "model_module_version": "1.2.0",
      "model_name": "LayoutModel",
      "state": {
       "width": "200px"
      }
     },
     "d315b9c40a1e484d98afdf8eafc9a961": {
      "model_module": "@jupyter-widgets/controls",
      "model_module_version": "1.5.0",
      "model_name": "TextModel",
      "state": {
       "description": "Current:",
       "layout": "IPY_MODEL_ef3c54d5330e4692acf81870921e6155",
       "placeholder": "450 mA, 500 mA, ...",
       "style": "IPY_MODEL_e0c540a08d1f4b3a82ed903ff8aa5a1e"
      }
     },
     "d345daee0b8d474e96dd9566601e8b99": {
      "model_module": "@jupyter-widgets/controls",
      "model_module_version": "1.5.0",
      "model_name": "ButtonStyleModel",
      "state": {}
     },
     "d34da27526d643929ab3b3c121e9ac38": {
      "model_module": "@jupyter-widgets/base",
      "model_module_version": "1.2.0",
      "model_name": "LayoutModel",
      "state": {
       "width": "150px"
      }
     },
     "d360ed396eaa426bbfba7038b0d565ac": {
      "model_module": "@jupyter-widgets/controls",
      "model_module_version": "1.5.0",
      "model_name": "ButtonModel",
      "state": {
       "description": "Plot Pilatus",
       "layout": "IPY_MODEL_7e7e2fac96b44ad79f45d596ba45c5bd",
       "style": "IPY_MODEL_37f46ba2a956403f810816cd3c8e2af0"
      }
     },
     "d39097d7cdb3488d916107a1b32bb70b": {
      "model_module": "@jupyter-widgets/base",
      "model_module_version": "1.2.0",
      "model_name": "LayoutModel",
      "state": {}
     },
     "d3aa1a465cde434cb7239e5943f233ac": {
      "model_module": "@jupyter-widgets/controls",
      "model_module_version": "1.5.0",
      "model_name": "DescriptionStyleModel",
      "state": {
       "description_width": "initial"
      }
     },
     "d3b997a7c7744e2e8af64316c8b77c59": {
      "model_module": "@jupyter-widgets/controls",
      "model_module_version": "1.5.0",
      "model_name": "ButtonModel",
      "state": {
       "description": "Export to PDF",
       "layout": "IPY_MODEL_5851c17927884108ad3d3a50c65f6df4",
       "style": "IPY_MODEL_dd5c543d4a2a4db1b5dca22b0a266843"
      }
     },
     "d433c9b5865941e7a8f1f0045f17a1eb": {
      "model_module": "@jupyter-widgets/controls",
      "model_module_version": "1.5.0",
      "model_name": "TextModel",
      "state": {
       "description": "Harmonic:",
       "layout": "IPY_MODEL_ac1a62b3ce5b4317865a384051361bed",
       "placeholder": "Value(s)",
       "style": "IPY_MODEL_1af394891e4e4537bf08a99f95348f54"
      }
     },
     "d46628771a7048f69fce44cbc15b3284": {
      "model_module": "@jupyter-widgets/controls",
      "model_module_version": "1.5.0",
      "model_name": "HBoxModel",
      "state": {
       "children": [
        "IPY_MODEL_3c845eace9d1455796417ec487d6c9bc",
        "IPY_MODEL_0ee70c80497e414bbc2fcf1dfeef5e18"
       ],
       "layout": "IPY_MODEL_332b199d7bd54121831b4a5a776c0bea"
      }
     },
     "d473a948ad4446b693163c769da491d7": {
      "model_module": "@jupyter-widgets/controls",
      "model_module_version": "1.5.0",
      "model_name": "TextareaModel",
      "state": {
       "description": "Remarks:",
       "layout": "IPY_MODEL_43eebc09dfaf4150a458cba7eca2814a",
       "placeholder": "Remarks",
       "style": "IPY_MODEL_84e99931e79c4a2984510df9cba12f59"
      }
     },
     "d507632e655a4e17a3e919be876748b6": {
      "model_module": "@jupyter-widgets/controls",
      "model_module_version": "1.5.0",
      "model_name": "ButtonModel",
      "state": {
       "description": "Insert script",
       "layout": "IPY_MODEL_b1e6c1dd27fd4ab68581747c16c40b3c",
       "style": "IPY_MODEL_fc6f18c2255141a8b5c24d755d09774b"
      }
     },
     "d52e7e25623a44ca8b3b76e99a3cfceb": {
      "model_module": "@jupyter-widgets/base",
      "model_module_version": "1.2.0",
      "model_name": "LayoutModel",
      "state": {}
     },
     "d556f7f2ecad46feb33168969d6b0757": {
      "model_module": "@jupyter-widgets/controls",
      "model_module_version": "1.5.0",
      "model_name": "TextModel",
      "state": {
       "description": "mon4:",
       "layout": "IPY_MODEL_686c1063d637444699b0cf2ea00bf68d",
       "placeholder": "Empty or type of mon",
       "style": "IPY_MODEL_306673712cb14834b14e675293036fea"
      }
     },
     "d583d82fcaff4b158c2eebc54fc6c8c8": {
      "model_module": "@jupyter-widgets/controls",
      "model_module_version": "1.5.0",
      "model_name": "DescriptionStyleModel",
      "state": {
       "description_width": "initial"
      }
     },
     "d5ba40fe766447aaad24959ae72f3268": {
      "model_module": "@jupyter-widgets/controls",
      "model_module_version": "1.5.0",
      "model_name": "ButtonModel",
      "state": {
       "description": "Export to PDF",
       "layout": "IPY_MODEL_50106247eef144f1a408ae6eb01b66df",
       "style": "IPY_MODEL_95c82da67f464e998e4e8fa36d68caa6"
      }
     },
     "d69df750b09f4340b5190375b71e6e3d": {
      "model_module": "@jupyter-widgets/controls",
      "model_module_version": "1.5.0",
      "model_name": "TextModel",
      "state": {
       "description": "Vertical beamsize (mm):",
       "layout": "IPY_MODEL_ef3c54d5330e4692acf81870921e6155",
       "placeholder": "Value(s)",
       "style": "IPY_MODEL_8feb782fced64286ae8889ce30b5e1bf"
      }
     },
     "d6d600863ca446f08f72080cfc6adb9c": {
      "model_module": "@jupyter-widgets/controls",
      "model_module_version": "1.5.0",
      "model_name": "ButtonStyleModel",
      "state": {}
     },
     "d6e515e59e1a415b8b6ad46ab045830b": {
      "model_module": "@jupyter-widgets/controls",
      "model_module_version": "1.5.0",
      "model_name": "DescriptionStyleModel",
      "state": {
       "description_width": "initial"
      }
     },
     "d7101603a3ab46fdbbe3c660791f4772": {
      "model_module": "@jupyter-widgets/controls",
      "model_module_version": "1.5.0",
      "model_name": "HBoxModel",
      "state": {
       "children": [
        "IPY_MODEL_b300bb65ca2c4ee893630bdd1292f878",
        "IPY_MODEL_c2308d896ba24f159a0d8846faaf7333",
        "IPY_MODEL_483657ff8c49485db7958846940ac9f3",
        "IPY_MODEL_10f360f6c0a54dd2ade6df61e746b314"
       ],
       "layout": "IPY_MODEL_9846b2a005524b30951af4a1527e32c5"
      }
     },
     "d712a07d55af456ba2bfa96d1b600524": {
      "model_module": "@jupyter-widgets/base",
      "model_module_version": "1.2.0",
      "model_name": "LayoutModel",
      "state": {}
     },
     "d7542cb877764ec980e7f745006a0442": {
      "model_module": "@jupyter-widgets/controls",
      "model_module_version": "1.5.0",
      "model_name": "HBoxModel",
      "state": {
       "children": [
        "IPY_MODEL_ca661ddda5e241b0811f3c7ab1fb23a5",
        "IPY_MODEL_0b190272ddc6450d8c87928a989db3ec",
        "IPY_MODEL_0f9684fe175447b9aa63785815731d83"
       ],
       "layout": "IPY_MODEL_498271c1d3db4b75a714921a4f4f170a"
      }
     },
     "d773607de8564ee2b4a6d3b196fad6ef": {
      "model_module": "@jupyter-widgets/base",
      "model_module_version": "1.2.0",
      "model_name": "LayoutModel",
      "state": {}
     },
     "d782f4e2843048ea998ca26b41d1c3eb": {
      "model_module": "@jupyter-widgets/base",
      "model_module_version": "1.2.0",
      "model_name": "LayoutModel",
      "state": {}
     },
     "d784806da7624279a800bdaff6866c6a": {
      "model_module": "@jupyter-widgets/controls",
      "model_module_version": "1.5.0",
      "model_name": "TextModel",
      "state": {
       "description": "Date:",
       "layout": "IPY_MODEL_ef3c54d5330e4692acf81870921e6155",
       "placeholder": "DD/MM/YYYY - DD/MM/YYYY",
       "style": "IPY_MODEL_6ac5b3e1ef7041bfac9f8aff478d3c91"
      }
     },
     "d7edf0d59837442ab07d6179dc260e07": {
      "model_module": "@jupyter-widgets/controls",
      "model_module_version": "1.5.0",
      "model_name": "DescriptionStyleModel",
      "state": {
       "description_width": ""
      }
     },
     "d82a5fef747c4254b06bc682750a274f": {
      "model_module": "@jupyter-widgets/controls",
      "model_module_version": "1.5.0",
      "model_name": "HBoxModel",
      "state": {
       "children": [
        "IPY_MODEL_5e79915063cd426d94c8ae8fc4052290",
        "IPY_MODEL_a3e1cead0a3a49dfa05de09c7ac992ea",
        "IPY_MODEL_62fbbbfabd5d4375a22c170510ca110f"
       ],
       "layout": "IPY_MODEL_5dbea576afae4ec8ac13994b5f7a39e2"
      }
     },
     "d868882f3ac641e085f085c1f0d45346": {
      "model_module": "@jupyter-widgets/base",
      "model_module_version": "1.2.0",
      "model_name": "LayoutModel",
      "state": {}
     },
     "d871c5067a79452b95a312fb17e4ff07": {
      "model_module": "@jupyter-widgets/controls",
      "model_module_version": "1.5.0",
      "model_name": "TextModel",
      "state": {
       "description": "mon1:",
       "layout": "IPY_MODEL_e917d212456d4b2988c1979851b9037e",
       "placeholder": "Empty or type of mon",
       "style": "IPY_MODEL_40ab621b96f145bbb47b56f021d2b37d"
      }
     },
     "d91906644ca84a07905cd969cfba751d": {
      "model_module": "@jupyter-widgets/controls",
      "model_module_version": "1.5.0",
      "model_name": "ButtonStyleModel",
      "state": {}
     },
     "d91fde1276cf4149b38fea6b0cff93c0": {
      "model_module": "@jupyter-widgets/controls",
      "model_module_version": "1.5.0",
      "model_name": "ButtonModel",
      "state": {
       "description": "Insert comment",
       "layout": "IPY_MODEL_3302ee1c76d549cc9d0d1e3c957b2093",
       "style": "IPY_MODEL_e6cd7d8222034687bf2adcb7bf492678"
      }
     },
     "d9994dfe734c46e7825a39cb5fa5d539": {
      "model_module": "@jupyter-widgets/controls",
      "model_module_version": "1.5.0",
      "model_name": "DescriptionStyleModel",
      "state": {
       "description_width": "initial"
      }
     },
     "d99fcae6dc8841469f00b38ee331150c": {
      "model_module": "@jupyter-widgets/base",
      "model_module_version": "1.2.0",
      "model_name": "LayoutModel",
      "state": {}
     },
     "d9b053aba24d4b97ae9ad856527d926a": {
      "model_module": "@jupyter-widgets/base",
      "model_module_version": "1.2.0",
      "model_name": "LayoutModel",
      "state": {}
     },
     "d9de6a43ed644c07b545c173fff88a1d": {
      "model_module": "@jupyter-widgets/base",
      "model_module_version": "1.2.0",
      "model_name": "LayoutModel",
      "state": {
       "height": "40px",
       "width": "250px"
      }
     },
     "da1e918b318d453d803fe3f8d68c8fa7": {
      "model_module": "@jupyter-widgets/base",
      "model_module_version": "1.2.0",
      "model_name": "LayoutModel",
      "state": {}
     },
     "da8e5eefe6494085a1044b777e77f9d6": {
      "model_module": "@jupyter-widgets/controls",
      "model_module_version": "1.5.0",
      "model_name": "TextareaModel",
      "state": {
       "description": "Remarks:",
       "layout": "IPY_MODEL_a98e1165cc0341128547c82ecbfcb341",
       "placeholder": "Remarks",
       "style": "IPY_MODEL_1117db5949d3483a93664b211371115e"
      }
     },
     "da91e01698fc4b47ab94c19c49012eb5": {
      "model_module": "@jupyter-widgets/controls",
      "model_module_version": "1.5.0",
      "model_name": "ButtonStyleModel",
      "state": {}
     },
     "da9fa4a54e724189aa8506c5f9d9c70f": {
      "model_module": "@jupyter-widgets/output",
      "model_module_version": "1.0.0",
      "model_name": "OutputModel",
      "state": {
       "layout": "IPY_MODEL_41ba0a472b6e4396baa02b0d0cee17f6",
       "outputs": [
        {
         "data": {
          "image/png": "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\n",
          "text/plain": "<Figure size 432x288 with 1 Axes>"
         },
         "metadata": {
          "needs_background": "light"
         },
         "output_type": "display_data"
        }
       ]
      }
     },
     "db3d9a3008f24594a133c70dc2ed1365": {
      "model_module": "@jupyter-widgets/output",
      "model_module_version": "1.0.0",
      "model_name": "OutputModel",
      "state": {
       "layout": "IPY_MODEL_0487beec638c4a9a8186cc2aeca4e62f",
       "outputs": [
        {
         "data": {
          "image/png": "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\n",
          "text/plain": "<Figure size 432x288 with 1 Axes>"
         },
         "metadata": {
          "needs_background": "light"
         },
         "output_type": "display_data"
        }
       ]
      }
     },
     "db7fe323caec4a2f82ebf516bd33cfca": {
      "model_module": "@jupyter-widgets/controls",
      "model_module_version": "1.5.0",
      "model_name": "ButtonModel",
      "state": {
       "description": "Plot Pilatus",
       "layout": "IPY_MODEL_e0240c0bc72840a7a619d634b413546d",
       "style": "IPY_MODEL_e86088cbdbe341bd9ab6869b7d532949"
      }
     },
     "db995cf073bc454b8fc6af2435856ff4": {
      "model_module": "@jupyter-widgets/controls",
      "model_module_version": "1.5.0",
      "model_name": "ButtonModel",
      "state": {
       "description": "Calib. theta z",
       "layout": "IPY_MODEL_baed91252d954752908716980662a575",
       "style": "IPY_MODEL_91547b80a57244a38b2804fcb96cc73f"
      }
     },
     "dbb91cacbda14f2da53956ecf0c96d5e": {
      "model_module": "@jupyter-widgets/base",
      "model_module_version": "1.2.0",
      "model_name": "LayoutModel",
      "state": {
       "height": "40px",
       "width": "300px"
      }
     },
     "dc08f67008554f21b195cd240d5dd8b4": {
      "model_module": "@jupyter-widgets/controls",
      "model_module_version": "1.5.0",
      "model_name": "DropdownModel",
      "state": {
       "_options_labels": [
        "Green",
        "Yellow",
        "Red"
       ],
       "description": "Safety:",
       "index": 1,
       "layout": "IPY_MODEL_c704f5858be4485b881230a6123db4af",
       "style": "IPY_MODEL_0e5679fc882d48ea8f346ab41abddbae"
      }
     },
     "dc1e5b2cf1e84585a2fcdb2753f9fb79": {
      "model_module": "@jupyter-widgets/base",
      "model_module_version": "1.2.0",
      "model_name": "LayoutModel",
      "state": {}
     },
     "dc38b26898f2496d9ef82d567d3f11ee": {
      "model_module": "@jupyter-widgets/controls",
      "model_module_version": "1.5.0",
      "model_name": "DescriptionStyleModel",
      "state": {
       "description_width": "initial"
      }
     },
     "dc40fb5e14124813b54d1644e43227c9": {
      "model_module": "@jupyter-widgets/controls",
      "model_module_version": "1.5.0",
      "model_name": "HBoxModel",
      "state": {
       "children": [
        "IPY_MODEL_3a7e65f7319842939a3c7397c8e8022e",
        "IPY_MODEL_948f310e73644a85a5289d0d89d61ca8"
       ],
       "layout": "IPY_MODEL_e952eb81ad7c48f0bfdde87e18c35452"
      }
     },
     "dc4be71e6c4b4f1892a7df1186a0797c": {
      "model_module": "@jupyter-widgets/controls",
      "model_module_version": "1.5.0",
      "model_name": "ButtonModel",
      "state": {
       "description": "Insert positions",
       "layout": "IPY_MODEL_b5a0e11805e6420484a6e8e54a1d3654",
       "style": "IPY_MODEL_25782b6401734c1981aedc6c227607a4"
      }
     },
     "dc922da572254dd6bb17a093e6346c07": {
      "model_module": "@jupyter-widgets/controls",
      "model_module_version": "1.5.0",
      "model_name": "ButtonStyleModel",
      "state": {}
     },
     "dc975d1fbead4c96b9ead471fdd976b9": {
      "model_module": "@jupyter-widgets/controls",
      "model_module_version": "1.5.0",
      "model_name": "HBoxModel",
      "state": {
       "children": [
        "IPY_MODEL_30f8469b92c7412380d90c6caf7fd45a",
        "IPY_MODEL_18d6369f36d047df8b3f21a8b6ed41d8"
       ],
       "layout": "IPY_MODEL_cc09ff168d66439098949bf18e686716"
      }
     },
     "dcd99d3504bd4f09953b312407b2bb24": {
      "model_module": "@jupyter-widgets/base",
      "model_module_version": "1.2.0",
      "model_name": "LayoutModel",
      "state": {
       "height": "40px",
       "width": "300px"
      }
     },
     "dcf9a42269504b8184f55e246b2f8079": {
      "model_module": "@jupyter-widgets/controls",
      "model_module_version": "1.5.0",
      "model_name": "ButtonStyleModel",
      "state": {}
     },
     "dd5c0c9fbed2498caafbb9a11d0f31a1": {
      "model_module": "@jupyter-widgets/base",
      "model_module_version": "1.2.0",
      "model_name": "LayoutModel",
      "state": {}
     },
     "dd5c543d4a2a4db1b5dca22b0a266843": {
      "model_module": "@jupyter-widgets/controls",
      "model_module_version": "1.5.0",
      "model_name": "ButtonStyleModel",
      "state": {}
     },
     "dd7464cfe42d40c8b48f5cd487e0693d": {
      "model_module": "@jupyter-widgets/controls",
      "model_module_version": "1.5.0",
      "model_name": "TextModel",
      "state": {
       "description": "Current:",
       "layout": "IPY_MODEL_467985be4ab04d3f82089be5e8da4549",
       "placeholder": "450 mA, 500 mA, ...",
       "style": "IPY_MODEL_28559ede1f8c4e66bc3fddfc20961a5e"
      }
     },
     "dd8e47c3bd3447dcb071f7b43c48a801": {
      "model_module": "@jupyter-widgets/controls",
      "model_module_version": "1.5.0",
      "model_name": "TextModel",
      "state": {
       "description": "mon3:",
       "layout": "IPY_MODEL_686c1063d637444699b0cf2ea00bf68d",
       "placeholder": "Empty or type of mon",
       "style": "IPY_MODEL_00e4c00b954c498187ead4e7396c3a2b"
      }
     },
     "ddbf9d053fe14a47b8c2ff49389760a6": {
      "model_module": "@jupyter-widgets/base",
      "model_module_version": "1.2.0",
      "model_name": "LayoutModel",
      "state": {}
     },
     "ddd5438999fe4db990ce35cb00f0c9cd": {
      "model_module": "@jupyter-widgets/controls",
      "model_module_version": "1.5.0",
      "model_name": "TextModel",
      "state": {
       "description": "Mode:",
       "layout": "IPY_MODEL_a2ab455042d94793bc480c9af559906c",
       "placeholder": "Hybrid, Top-up, ...",
       "style": "IPY_MODEL_194f2d9895e945e986cb27b641248276"
      }
     },
     "de0b9a9f347d44a2822051d68a0ead6a": {
      "model_module": "@jupyter-widgets/controls",
      "model_module_version": "1.5.0",
      "model_name": "ButtonStyleModel",
      "state": {}
     },
     "de123cd9e74a49e5b82d1b525e06beb2": {
      "model_module": "@jupyter-widgets/base",
      "model_module_version": "1.2.0",
      "model_name": "LayoutModel",
      "state": {}
     },
     "de172c7d60524a5aafa6424217d46a24": {
      "model_module": "@jupyter-widgets/controls",
      "model_module_version": "1.5.0",
      "model_name": "DescriptionStyleModel",
      "state": {
       "description_width": "initial"
      }
     },
     "de685eed734d436091b90e1348992a13": {
      "model_module": "@jupyter-widgets/controls",
      "model_module_version": "1.5.0",
      "model_name": "ButtonStyleModel",
      "state": {}
     },
     "de7f13f1c41a4f8f9535e4306416289e": {
      "model_module": "@jupyter-widgets/controls",
      "model_module_version": "1.5.0",
      "model_name": "HBoxModel",
      "state": {
       "children": [
        "IPY_MODEL_2770ec643ff649d1857dc0c76413c0c4",
        "IPY_MODEL_a84b5f3ec1bd478f966654cd9911bcff",
        "IPY_MODEL_71fc66f30aa1466fa635621216caf5c9",
        "IPY_MODEL_0453f63d9a5d41129715de0956486fa5",
        "IPY_MODEL_5a5c6ab1882142cb97fb9f96317ae635"
       ],
       "layout": "IPY_MODEL_d0ec76d252f6408db44c47ad869143bb"
      }
     },
     "deae30e650124a208b35f57f022bd618": {
      "model_module": "@jupyter-widgets/controls",
      "model_module_version": "1.5.0",
      "model_name": "ButtonModel",
      "state": {
       "description": "Add plot to report",
       "layout": "IPY_MODEL_a583835fbd134a809098afd33030c9f1",
       "style": "IPY_MODEL_dfdb1ef73b7e48c9b58227a0b75e4c3f"
      }
     },
     "defeef0cc6544dab8aa21d4301e043bb": {
      "model_module": "@jupyter-widgets/controls",
      "model_module_version": "1.5.0",
      "model_name": "DropdownModel",
      "state": {
       "_options_labels": [
        "M2 Pt Track",
        "M2 B4C Track",
        "No M2"
       ],
       "description": "M2:",
       "index": 0,
       "layout": "IPY_MODEL_9152cef866ca4092a5f2db2532689cde",
       "style": "IPY_MODEL_6a334da4956448d9a7394cd9caa00e34"
      }
     },
     "df42c532466e4169abf6295df9bfd9ef": {
      "model_module": "@jupyter-widgets/base",
      "model_module_version": "1.2.0",
      "model_name": "LayoutModel",
      "state": {}
     },
     "df88026994a640678f1531a6513b830b": {
      "model_module": "@jupyter-widgets/base",
      "model_module_version": "1.2.0",
      "model_name": "LayoutModel",
      "state": {}
     },
     "df9c479a652f4b9b94150ba1dbc15f27": {
      "model_module": "@jupyter-widgets/controls",
      "model_module_version": "1.5.0",
      "model_name": "HBoxModel",
      "state": {
       "children": [
        "IPY_MODEL_9a823fd958ef46e3829681830b9ce606",
        "IPY_MODEL_c71f8063c809454f85d21f28011db5ec",
        "IPY_MODEL_6f94b0aa5fb24670b992337e344e7345",
        "IPY_MODEL_d3b997a7c7744e2e8af64316c8b77c59"
       ],
       "layout": "IPY_MODEL_a1816ed5c74d436fa2c2ec84be5324a1"
      }
     },
     "dfa5e958cd2a4368be09f754f70d283d": {
      "model_module": "@jupyter-widgets/controls",
      "model_module_version": "1.5.0",
      "model_name": "ButtonModel",
      "state": {
       "description": "Insert commands",
       "layout": "IPY_MODEL_ff67d4def6984c999aa59207f4defe8d",
       "style": "IPY_MODEL_bdfd2154c149461f92244c01ad2a2855"
      }
     },
     "dfbf247135904109ba719030a87980c4": {
      "model_module": "@jupyter-widgets/controls",
      "model_module_version": "1.5.0",
      "model_name": "HBoxModel",
      "state": {
       "children": [
        "IPY_MODEL_4b3f8b95aa8b4d8183361643d059fb22",
        "IPY_MODEL_3c200443205846a1b48a0a006c3047c7",
        "IPY_MODEL_a4f54423b71b4c4a8ed64e5e8e659ce1",
        "IPY_MODEL_a2575d6377df4ddb8de2d300fe772fe6"
       ],
       "layout": "IPY_MODEL_556b6b8997434790b122dab8a00ff4b3"
      }
     },
     "dfdb1ef73b7e48c9b58227a0b75e4c3f": {
      "model_module": "@jupyter-widgets/controls",
      "model_module_version": "1.5.0",
      "model_name": "ButtonStyleModel",
      "state": {}
     },
     "dff03b1883c448b6bcd215a818fb732f": {
      "model_module": "@jupyter-widgets/base",
      "model_module_version": "1.2.0",
      "model_name": "LayoutModel",
      "state": {}
     },
     "e0240c0bc72840a7a619d634b413546d": {
      "model_module": "@jupyter-widgets/base",
      "model_module_version": "1.2.0",
      "model_name": "LayoutModel",
      "state": {}
     },
     "e043c525e4734ba69e5c0fb4f61ce0c2": {
      "model_module": "@jupyter-widgets/controls",
      "model_module_version": "1.5.0",
      "model_name": "ButtonModel",
      "state": {
       "description": "Insert script",
       "layout": "IPY_MODEL_29994233024b45b3991fea4f6e3c9d44",
       "style": "IPY_MODEL_6c9c7fe512b34f44a4982fc332ddf0f5"
      }
     },
     "e054cd01a51f4a738e1651877dfca74d": {
      "model_module": "@jupyter-widgets/controls",
      "model_module_version": "1.5.0",
      "model_name": "ButtonStyleModel",
      "state": {}
     },
     "e0550274e912499db22ab5f9834a677b": {
      "model_module": "@jupyter-widgets/base",
      "model_module_version": "1.2.0",
      "model_name": "LayoutModel",
      "state": {}
     },
     "e0980c4196a641549c3d0ad80fd6d3ee": {
      "model_module": "@jupyter-widgets/controls",
      "model_module_version": "1.5.0",
      "model_name": "TextModel",
      "state": {
       "description": "Horizontal beamsize (mm):",
       "layout": "IPY_MODEL_ef3c54d5330e4692acf81870921e6155",
       "placeholder": "Value(s)",
       "style": "IPY_MODEL_5689105935854f9a8573cc4a63c5ca1e"
      }
     },
     "e0b726bd449f4a80bb6c0ae5f7dc4ce4": {
      "model_module": "@jupyter-widgets/controls",
      "model_module_version": "1.5.0",
      "model_name": "HBoxModel",
      "state": {
       "children": [
        "IPY_MODEL_a03b7bc4106e4a21b4f615a1af7d7a6c",
        "IPY_MODEL_b654927e5aba4c388d4b0722e34f03aa",
        "IPY_MODEL_6329eeee4c344c46bc216ab530231b2c"
       ],
       "layout": "IPY_MODEL_a9ff2aba215b4d56a0cfb7826b074c7d"
      }
     },
     "e0c540a08d1f4b3a82ed903ff8aa5a1e": {
      "model_module": "@jupyter-widgets/controls",
      "model_module_version": "1.5.0",
      "model_name": "DescriptionStyleModel",
      "state": {
       "description_width": "initial"
      }
     },
     "e0c711d5f35e478aacbdfefee4000123": {
      "model_module": "@jupyter-widgets/controls",
      "model_module_version": "1.5.0",
      "model_name": "ButtonStyleModel",
      "state": {}
     },
     "e0e589ddb117419e911875d4d9f41205": {
      "model_module": "@jupyter-widgets/base",
      "model_module_version": "1.2.0",
      "model_name": "LayoutModel",
      "state": {}
     },
     "e11e65393639489795b921f74ef63346": {
      "model_module": "@jupyter-widgets/base",
      "model_module_version": "1.2.0",
      "model_name": "LayoutModel",
      "state": {}
     },
     "e16b4960573c4e9e8ff0e4e3c23d54a5": {
      "model_module": "@jupyter-widgets/controls",
      "model_module_version": "1.5.0",
      "model_name": "DescriptionStyleModel",
      "state": {
       "description_width": "initial"
      }
     },
     "e1a2972e413943cfbdb39bbc041fe4db": {
      "model_module": "@jupyter-widgets/controls",
      "model_module_version": "1.5.0",
      "model_name": "ButtonModel",
      "state": {
       "description": "Plot GIXS",
       "layout": "IPY_MODEL_d03bf638c0464f48b5123016c36911f0",
       "style": "IPY_MODEL_c3a535eb8b4d4595bda7dd7d65b5c931"
      }
     },
     "e1e7a568a2df406fabb82301effb257c": {
      "model_module": "@jupyter-widgets/base",
      "model_module_version": "1.2.0",
      "model_name": "LayoutModel",
      "state": {}
     },
     "e25fd4a55a4c403ba23f322ac60ba9dd": {
      "model_module": "@jupyter-widgets/controls",
      "model_module_version": "1.5.0",
      "model_name": "DescriptionStyleModel",
      "state": {
       "description_width": "initial"
      }
     },
     "e2a6949771a648aa9ecaa06c50bf5ae1": {
      "model_module": "@jupyter-widgets/base",
      "model_module_version": "1.2.0",
      "model_name": "LayoutModel",
      "state": {}
     },
     "e2abffcf0c9f4824960ee1e30a987b69": {
      "model_module": "@jupyter-widgets/controls",
      "model_module_version": "1.5.0",
      "model_name": "VBoxModel",
      "state": {
       "_dom_classes": [
        "widget-interact"
       ],
       "children": [
        "IPY_MODEL_31ed0605e42249299bd288fca9dc1f12",
        "IPY_MODEL_b53b7f46d0e5482bbac66bacc7465c8e"
       ],
       "layout": "IPY_MODEL_cec9d54dfc9d4af88e6c9df88839ef57"
      }
     },
     "e2d59d7844b6481a83895e6d95a704c2": {
      "model_module": "@jupyter-widgets/controls",
      "model_module_version": "1.5.0",
      "model_name": "ButtonModel",
      "state": {
       "description": "Insert commands",
       "layout": "IPY_MODEL_e2a6949771a648aa9ecaa06c50bf5ae1",
       "style": "IPY_MODEL_902a42f9a8eb4d7f99dcb805b2534f9a"
      }
     },
     "e2dcf533af574c4ab92b88a1758cc346": {
      "model_module": "@jupyter-widgets/controls",
      "model_module_version": "1.5.0",
      "model_name": "ButtonModel",
      "state": {
       "description": "Insert positions",
       "layout": "IPY_MODEL_dc1e5b2cf1e84585a2fcdb2753f9fb79",
       "style": "IPY_MODEL_1b18e1faa886415c99113d659467e72b"
      }
     },
     "e2e4e95a7d194551a796e5cf073fa6a0": {
      "model_module": "@jupyter-widgets/controls",
      "model_module_version": "1.5.0",
      "model_name": "TextareaModel",
      "state": {
       "description": "Detectors:",
       "layout": "IPY_MODEL_a98e1165cc0341128547c82ecbfcb341",
       "placeholder": "Type of detectors",
       "style": "IPY_MODEL_57247ea47ea3484b8daf7a2184146526"
      }
     },
     "e3019ccc99724081b9b50e70633413ed": {
      "model_module": "@jupyter-widgets/controls",
      "model_module_version": "1.5.0",
      "model_name": "DescriptionStyleModel",
      "state": {
       "description_width": "initial"
      }
     },
     "e31f8cb79dfb44d4b60bbe0a2dcb2fce": {
      "model_module": "@jupyter-widgets/controls",
      "model_module_version": "1.5.0",
      "model_name": "CheckboxModel",
      "state": {
       "description": "Print abs",
       "disabled": false,
       "layout": "IPY_MODEL_a89223ec90af4523b06171b2808174c0",
       "style": "IPY_MODEL_4150bd52eb4748529a0ac2ad901606de",
       "value": false
      }
     },
     "e3241874362d47f08351778b0f058bcf": {
      "model_module": "@jupyter-widgets/controls",
      "model_module_version": "1.5.0",
      "model_name": "DescriptionStyleModel",
      "state": {
       "description_width": "initial"
      }
     },
     "e345ba7d46274b68b10a8263c86e3fc6": {
      "model_module": "@jupyter-widgets/controls",
      "model_module_version": "1.5.0",
      "model_name": "TextModel",
      "state": {
       "description": "Main proposer:",
       "layout": "IPY_MODEL_fcc1a1b0d3664300b8f863a47c8ad19d",
       "placeholder": "Name",
       "style": "IPY_MODEL_5108677e4f974183a01326cde2e410fd"
      }
     },
     "e393eff07a484e60bc8432848fda07d7": {
      "model_module": "@jupyter-widgets/controls",
      "model_module_version": "1.5.0",
      "model_name": "TextModel",
      "state": {
       "description": "Phase (deg):",
       "layout": "IPY_MODEL_34c27c545c9249bea2f28c9bf3bd98ea",
       "placeholder": "Value(s)",
       "style": "IPY_MODEL_6caa77694c034f2a8697a9f3fce1c495",
       "value": "0"
      }
     },
     "e397792dd2f444f7941a112cc93eccd4": {
      "model_module": "@jupyter-widgets/controls",
      "model_module_version": "1.5.0",
      "model_name": "HBoxModel",
      "state": {
       "children": [
        "IPY_MODEL_ec915280b7424013a7691aeb32819d06",
        "IPY_MODEL_defeef0cc6544dab8aa21d4301e043bb",
        "IPY_MODEL_9fd6828343eb4e7cbd7e317fe603656a",
        "IPY_MODEL_033fd0eeec434428b682d52afc0036e0"
       ],
       "layout": "IPY_MODEL_888ecffe6d024a50bdb79af778f091f7"
      }
     },
     "e40716426726464aabe0928a7415e0dc": {
      "model_module": "@jupyter-widgets/base",
      "model_module_version": "1.2.0",
      "model_name": "LayoutModel",
      "state": {}
     },
     "e421fd953fca423ea7dd3a8112faaae4": {
      "model_module": "@jupyter-widgets/controls",
      "model_module_version": "1.5.0",
      "model_name": "VBoxModel",
      "state": {
       "_dom_classes": [
        "widget-interact"
       ],
       "children": [
        "IPY_MODEL_d1c32f5b5fbc4160bf2485a3d888da0c",
        "IPY_MODEL_197570b4744e426d8bc1ebe73424d49b",
        "IPY_MODEL_b0025b828b6042968c306aa5e77cb441"
       ],
       "layout": "IPY_MODEL_9371c1b9dd504dbb9ab2c895c6337b5b"
      }
     },
     "e45aa150835c4756b1bcf302a8fdf78c": {
      "model_module": "@jupyter-widgets/controls",
      "model_module_version": "1.5.0",
      "model_name": "HBoxModel",
      "state": {
       "children": [
        "IPY_MODEL_17ac75c862d243d7928b854001e0aa4c",
        "IPY_MODEL_25cc9df68ec04249b6c72438a827c4fd"
       ],
       "layout": "IPY_MODEL_205300cadf194797bcea790fe5842b87"
      }
     },
     "e48a4d08991d4a2ab9344941662d85b3": {
      "model_module": "@jupyter-widgets/controls",
      "model_module_version": "1.5.0",
      "model_name": "DescriptionStyleModel",
      "state": {
       "description_width": ""
      }
     },
     "e4e00cc594a84a639689514687309fb0": {
      "model_module": "@jupyter-widgets/controls",
      "model_module_version": "1.5.0",
      "model_name": "DescriptionStyleModel",
      "state": {
       "description_width": "initial"
      }
     },
     "e5803fe970a544cc8ce535b6dead2ca7": {
      "model_module": "@jupyter-widgets/controls",
      "model_module_version": "1.5.0",
      "model_name": "DescriptionStyleModel",
      "state": {
       "description_width": "initial"
      }
     },
     "e599639624754bee9a1560bf0d687d1b": {
      "model_module": "@jupyter-widgets/controls",
      "model_module_version": "1.5.0",
      "model_name": "DescriptionStyleModel",
      "state": {
       "description_width": ""
      }
     },
     "e59c11cb1ccf4d56848d16f14f600663": {
      "model_module": "@jupyter-widgets/base",
      "model_module_version": "1.2.0",
      "model_name": "LayoutModel",
      "state": {}
     },
     "e5a6a0cf04b843f0a2224af97b3a50c8": {
      "model_module": "@jupyter-widgets/base",
      "model_module_version": "1.2.0",
      "model_name": "LayoutModel",
      "state": {}
     },
     "e5fd42bd5e744ebf82b693988d3e15c5": {
      "model_module": "@jupyter-widgets/controls",
      "model_module_version": "1.5.0",
      "model_name": "ButtonStyleModel",
      "state": {}
     },
     "e66b4f2dc8584169b8f504008992b7b5": {
      "model_module": "@jupyter-widgets/base",
      "model_module_version": "1.2.0",
      "model_name": "LayoutModel",
      "state": {}
     },
     "e6c076ab88f54d2eb63befc88abfc50c": {
      "model_module": "@jupyter-widgets/controls",
      "model_module_version": "1.5.0",
      "model_name": "DescriptionStyleModel",
      "state": {
       "description_width": "initial"
      }
     },
     "e6c6eb2c8c4b440cbe771c4ac465ff3c": {
      "model_module": "@jupyter-widgets/controls",
      "model_module_version": "1.5.0",
      "model_name": "DescriptionStyleModel",
      "state": {
       "description_width": "initial"
      }
     },
     "e6cd7d8222034687bf2adcb7bf492678": {
      "model_module": "@jupyter-widgets/controls",
      "model_module_version": "1.5.0",
      "model_name": "ButtonStyleModel",
      "state": {}
     },
     "e6de7d7048a44ff7ac6ae29ea2823783": {
      "model_module": "@jupyter-widgets/controls",
      "model_module_version": "1.5.0",
      "model_name": "ButtonStyleModel",
      "state": {}
     },
     "e7189d4ca7d74546aa868a5b7e0c9a8d": {
      "model_module": "@jupyter-widgets/controls",
      "model_module_version": "1.5.0",
      "model_name": "VBoxModel",
      "state": {
       "_dom_classes": [
        "widget-interact"
       ],
       "children": [
        "IPY_MODEL_9861accb04c04257ab00655c1bfbeb9b",
        "IPY_MODEL_01f19ff693334f4b9fbe2cdd51277a87"
       ],
       "layout": "IPY_MODEL_fcf2424fb6924dfba04d00ca5c7eef78"
      }
     },
     "e71f29bcdbf744f6af8cf538b41f6b92": {
      "model_module": "@jupyter-widgets/controls",
      "model_module_version": "1.5.0",
      "model_name": "TextModel",
      "state": {
       "description": "Recording directory:",
       "layout": "IPY_MODEL_563883aaaf3c4c3bb1c85b4bac7a5e1f",
       "placeholder": "Full path to the recording directory",
       "style": "IPY_MODEL_3ace16b9e089415b8d567458c48f3862"
      }
     },
     "e775b28539124992b2f2e023f9abb77b": {
      "model_module": "@jupyter-widgets/base",
      "model_module_version": "1.2.0",
      "model_name": "LayoutModel",
      "state": {}
     },
     "e78521d226f44dbf84b85376b7760c11": {
      "model_module": "@jupyter-widgets/base",
      "model_module_version": "1.2.0",
      "model_name": "LayoutModel",
      "state": {
       "height": "40px",
       "width": "150px"
      }
     },
     "e79f31046c1b4b2bb48a4e3681787350": {
      "model_module": "@jupyter-widgets/controls",
      "model_module_version": "1.5.0",
      "model_name": "DescriptionStyleModel",
      "state": {
       "description_width": "initial"
      }
     },
     "e7c77ef9e5384ba3acc3c65d96cd47d7": {
      "model_module": "@jupyter-widgets/base",
      "model_module_version": "1.2.0",
      "model_name": "LayoutModel",
      "state": {}
     },
     "e7f63263120a4c43a3c7b34a0c363f1b": {
      "model_module": "@jupyter-widgets/controls",
      "model_module_version": "1.5.0",
      "model_name": "ButtonModel",
      "state": {
       "description": "Convert logs",
       "layout": "IPY_MODEL_c105e7a9df854281855f163b1022857b",
       "style": "IPY_MODEL_667a26fbceff400c870f093f738df468"
      }
     },
     "e80f767b8d394b159bd5fe2c5f197bf8": {
      "model_module": "@jupyter-widgets/controls",
      "model_module_version": "1.5.0",
      "model_name": "DropdownModel",
      "state": {
       "_options_labels": [
        "Green",
        "Yellow",
        "Red"
       ],
       "description": "Safety:",
       "index": 1,
       "layout": "IPY_MODEL_be2bb04cf9fa4e2d9e0f32a99f6534b1",
       "style": "IPY_MODEL_17edbf7be1cd443cb6dcdc1181b6b69b"
      }
     },
     "e83cc71f7e6a4ad19c9a203c36a6efc1": {
      "model_module": "@jupyter-widgets/controls",
      "model_module_version": "1.5.0",
      "model_name": "HBoxModel",
      "state": {
       "children": [
        "IPY_MODEL_1010eed76b05461b8749fad38c38a2fd",
        "IPY_MODEL_1d02e96fcb194568bfd9eac4c17260cc",
        "IPY_MODEL_53c5a720e4434c7b9599c4425af0082c",
        "IPY_MODEL_deae30e650124a208b35f57f022bd618"
       ],
       "layout": "IPY_MODEL_e66b4f2dc8584169b8f504008992b7b5"
      }
     },
     "e83d3931957c468f8e6fa683f1994911": {
      "model_module": "@jupyter-widgets/base",
      "model_module_version": "1.2.0",
      "model_name": "LayoutModel",
      "state": {
       "height": "40px",
       "width": "800px"
      }
     },
     "e86088cbdbe341bd9ab6869b7d532949": {
      "model_module": "@jupyter-widgets/controls",
      "model_module_version": "1.5.0",
      "model_name": "ButtonStyleModel",
      "state": {}
     },
     "e86bca7e6bc04aebaacbb03ea445d6ca": {
      "model_module": "@jupyter-widgets/controls",
      "model_module_version": "1.5.0",
      "model_name": "HBoxModel",
      "state": {
       "children": [
        "IPY_MODEL_9a6e1a3fbc824ff19fc2806b00b799a2",
        "IPY_MODEL_25f2133bbbaa4936b21d99a1a52cb425"
       ],
       "layout": "IPY_MODEL_8f16e3a04a8c44f7b137daf54d0dcbaf"
      }
     },
     "e88ed32b14084863a16ad8bc4a67f9b6": {
      "model_module": "@jupyter-widgets/base",
      "model_module_version": "1.2.0",
      "model_name": "LayoutModel",
      "state": {}
     },
     "e8e607a7dba04785a1ffe92d91dbed4d": {
      "model_module": "@jupyter-widgets/controls",
      "model_module_version": "1.5.0",
      "model_name": "ButtonModel",
      "state": {
       "description": "Fit with gaussian",
       "layout": "IPY_MODEL_aa934991831742048a4cfe8e69b979c3",
       "style": "IPY_MODEL_943e233c670c40b6a4c26083138ede22"
      }
     },
     "e8f9843c2e4c41709ba6e158c0c750af": {
      "model_module": "@jupyter-widgets/controls",
      "model_module_version": "1.5.0",
      "model_name": "ButtonStyleModel",
      "state": {}
     },
     "e917d212456d4b2988c1979851b9037e": {
      "model_module": "@jupyter-widgets/base",
      "model_module_version": "1.2.0",
      "model_name": "LayoutModel",
      "state": {
       "height": "40px",
       "width": "200px"
      }
     },
     "e91d7ee34d0d4413b66322378b2c86f8": {
      "model_module": "@jupyter-widgets/base",
      "model_module_version": "1.2.0",
      "model_name": "LayoutModel",
      "state": {}
     },
     "e942e6bca6b542b2873e566f428d8c76": {
      "model_module": "@jupyter-widgets/base",
      "model_module_version": "1.2.0",
      "model_name": "LayoutModel",
      "state": {
       "width": "200px"
      }
     },
     "e94916920a214009822098f6e0f5e087": {
      "model_module": "@jupyter-widgets/controls",
      "model_module_version": "1.5.0",
      "model_name": "TextModel",
      "state": {
       "description": "Energy (keV):",
       "layout": "IPY_MODEL_6faf68ef2f054ab08877f9bd20cd7eb5",
       "placeholder": "Value(s)",
       "style": "IPY_MODEL_3b6608c836034986bb4deaa890f69946"
      }
     },
     "e952eb81ad7c48f0bfdde87e18c35452": {
      "model_module": "@jupyter-widgets/base",
      "model_module_version": "1.2.0",
      "model_name": "LayoutModel",
      "state": {}
     },
     "e98be11f77234b56825e83526eff904a": {
      "model_module": "@jupyter-widgets/controls",
      "model_module_version": "1.5.0",
      "model_name": "ButtonModel",
      "state": {
       "description": "Insert comment",
       "layout": "IPY_MODEL_ee82e5898fe343838dc68dd29b0aef0f",
       "style": "IPY_MODEL_ac6bbb569f184e40be1d5f8517e92c66"
      }
     },
     "e9b3cc16fa6a4658b36b323580279411": {
      "model_module": "@jupyter-widgets/controls",
      "model_module_version": "1.5.0",
      "model_name": "ButtonStyleModel",
      "state": {}
     },
     "e9c645e3b2164545af273cc3f698c859": {
      "model_module": "@jupyter-widgets/controls",
      "model_module_version": "1.5.0",
      "model_name": "ButtonModel",
      "state": {
       "description": "Refresh",
       "layout": "IPY_MODEL_f66cf0c03685475ba3e00ed4d9a3b8d7",
       "style": "IPY_MODEL_c383690d1a0f4bf0893452252fc1573e"
      }
     },
     "e9fc01bbf5024f2a90d7e23a20a6e424": {
      "model_module": "@jupyter-widgets/base",
      "model_module_version": "1.2.0",
      "model_name": "LayoutModel",
      "state": {}
     },
     "ea2346ad6caa4ae39370238b9ccb5643": {
      "model_module": "@jupyter-widgets/controls",
      "model_module_version": "1.5.0",
      "model_name": "ButtonModel",
      "state": {
       "description": "Convert logs",
       "layout": "IPY_MODEL_bc5ea88c10784dd4ad38daf81542ce4c",
       "style": "IPY_MODEL_815ca18079bc4f15ae013baf61b15a9c"
      }
     },
     "ea47603198f949a68a2d7b8e0b4b97f8": {
      "model_module": "@jupyter-widgets/controls",
      "model_module_version": "1.5.0",
      "model_name": "ButtonModel",
      "state": {
       "description": "Convert logs",
       "layout": "IPY_MODEL_20c49110c2754d8584b9f2e5540c012f",
       "style": "IPY_MODEL_c7e2cf29dc324493a0c7def773ec1c52"
      }
     },
     "ea57709a99a0411d9ddf87608cea49fa": {
      "model_module": "@jupyter-widgets/base",
      "model_module_version": "1.2.0",
      "model_name": "LayoutModel",
      "state": {}
     },
     "ea5770bdcb7943bd93be5c410e9f5b4f": {
      "model_module": "@jupyter-widgets/controls",
      "model_module_version": "1.5.0",
      "model_name": "ButtonStyleModel",
      "state": {}
     },
     "ea59478544d14b9a9d58ac7a9639a169": {
      "model_module": "@jupyter-widgets/controls",
      "model_module_version": "1.5.0",
      "model_name": "HBoxModel",
      "state": {
       "children": [
        "IPY_MODEL_dd7464cfe42d40c8b48f5cd487e0693d",
        "IPY_MODEL_12b90e4087c8422e933be7c1b3c5d235"
       ],
       "layout": "IPY_MODEL_a6f2fb43a6914cc1bdfeb266d4fa2b1e"
      }
     },
     "ea66896b53b0469b9d57ba01accf30e8": {
      "model_module": "@jupyter-widgets/controls",
      "model_module_version": "1.5.0",
      "model_name": "ButtonModel",
      "state": {
       "description": "Next action",
       "layout": "IPY_MODEL_9f7ae2a426ce436ebbb35f7115465a52",
       "style": "IPY_MODEL_614d1dbaf6db464ab633b8b20276c51d"
      }
     },
     "eacaffc9e90940fe8f1a03ee8449aed8": {
      "model_module": "@jupyter-widgets/controls",
      "model_module_version": "1.5.0",
      "model_name": "DescriptionStyleModel",
      "state": {
       "description_width": "initial"
      }
     },
     "eb5257da9a24476db76bbb55a459e622": {
      "model_module": "@jupyter-widgets/controls",
      "model_module_version": "1.5.0",
      "model_name": "SelectMultipleModel",
      "state": {
       "_options_labels": [
        "SIRIUS_Isotherm_2019_02_17_01544.nxs",
        "SIRIUS_Fluo_2020_07_03_00422.nxs",
        "SIRIUS_Fluo_2020_07_03_0042.nxs",
        "SIRIUS_2020_07_17_1613.nxs",
        "SIRIUS_2020_07_17_1610.nxs",
        "SIRIUS_2020_07_16_1555.nxs",
        "SIRIUS_2020_03_12_0760.nxs",
        "SIRIUS_2020_03_12_0756.nxs",
        "SIRIUS_2020_03_11_0752.nxs",
        "SIRIUS_2020_03_11_0744.nxs",
        "SIRIUS_2019_11_07_00325.nxs",
        "SIRIUS_2017_12_11_08042.nxs"
       ],
       "description": "Next scan(s):",
       "index": [
        7
       ],
       "layout": "IPY_MODEL_cce5b73f6374464fa5d6aecfc32c77a6",
       "rows": 10,
       "style": "IPY_MODEL_5f3a0dfd70d740f98b3139639a8e0c00"
      }
     },
     "eb5c2cd66f01406a896c5d7a14478ffc": {
      "model_module": "@jupyter-widgets/controls",
      "model_module_version": "1.5.0",
      "model_name": "HBoxModel",
      "state": {
       "children": [
        "IPY_MODEL_2d5da761348147dfa7af937ea1ae2aeb",
        "IPY_MODEL_3a912bad27d64477bb4ca6318fedc21b",
        "IPY_MODEL_caccea2065594b3291a5ec600f6d549c",
        "IPY_MODEL_45b37598205c4a7288d49798a2263751"
       ],
       "layout": "IPY_MODEL_5e1e549aa5d5478ba8187fabe081ea73"
      }
     },
     "eb6a494aed6340799623fc08df64aa9c": {
      "model_module": "@jupyter-widgets/base",
      "model_module_version": "1.2.0",
      "model_name": "LayoutModel",
      "state": {}
     },
     "eb6bb848b883454797a784a5d32f05ca": {
      "model_module": "@jupyter-widgets/controls",
      "model_module_version": "1.5.0",
      "model_name": "DescriptionStyleModel",
      "state": {
       "description_width": "initial"
      }
     },
     "ebbb2c93cb8c48f4bdd689ae221fb6d6": {
      "model_module": "@jupyter-widgets/controls",
      "model_module_version": "1.5.0",
      "model_name": "TextModel",
      "state": {
       "description": "Polarisation:",
       "layout": "IPY_MODEL_686c1063d637444699b0cf2ea00bf68d",
       "placeholder": "Value(s)",
       "style": "IPY_MODEL_d226fd07330e4c2ba9f650e7787b7718",
       "value": "LH"
      }
     },
     "ebf7240c01684dffbdc940ef5955976a": {
      "model_module": "@jupyter-widgets/base",
      "model_module_version": "1.2.0",
      "model_name": "LayoutModel",
      "state": {
       "height": "40px",
       "width": "250px"
      }
     },
     "ec191f9081654c9486be9e6a7eb49873": {
      "model_module": "@jupyter-widgets/controls",
      "model_module_version": "1.5.0",
      "model_name": "SelectMultipleModel",
      "state": {
       "_options_labels": [
        "SIRIUS_Isotherm_2019_02_17_01544.nxs",
        "SIRIUS_Fluo_2020_07_03_00422.nxs",
        "SIRIUS_Fluo_2020_07_03_0042.nxs",
        "SIRIUS_2020_07_17_1613.nxs",
        "SIRIUS_2020_07_17_1610.nxs",
        "SIRIUS_2020_07_16_1555.nxs",
        "SIRIUS_2020_03_12_0760.nxs",
        "SIRIUS_2020_03_12_0756.nxs",
        "SIRIUS_2020_03_11_0752.nxs",
        "SIRIUS_2020_03_11_0744.nxs",
        "SIRIUS_2019_11_07_00325.nxs",
        "SIRIUS_2017_12_11_08042.nxs"
       ],
       "description": "Next scan(s):",
       "index": [],
       "layout": "IPY_MODEL_b6dfcc1057294e44a88d00ab4fa6ffcc",
       "rows": 10,
       "style": "IPY_MODEL_a7d9aaf475d04e8e9bd1b57972d4903b"
      }
     },
     "ec6830b8b4b6495a9a8eeac9f47dec26": {
      "model_module": "@jupyter-widgets/base",
      "model_module_version": "1.2.0",
      "model_name": "LayoutModel",
      "state": {}
     },
     "ec738b61b7174c8799e9f4f02a9fa1d3": {
      "model_module": "@jupyter-widgets/controls",
      "model_module_version": "1.5.0",
      "model_name": "HBoxModel",
      "state": {
       "children": [
        "IPY_MODEL_b135266f3dff42428e7a12bd03607339",
        "IPY_MODEL_3087504e2a894a4e99eec97d01de6744",
        "IPY_MODEL_f95faac4bcee40d694ac9384c7c9da99",
        "IPY_MODEL_db7fe323caec4a2f82ebf516bd33cfca",
        "IPY_MODEL_a50157df55674c84b3bbe71d7837caa2"
       ],
       "layout": "IPY_MODEL_eb6a494aed6340799623fc08df64aa9c"
      }
     },
     "ec794f0af315496183cdcb6244625969": {
      "model_module": "@jupyter-widgets/controls",
      "model_module_version": "1.5.0",
      "model_name": "DescriptionStyleModel",
      "state": {
       "description_width": "initial"
      }
     },
     "ec8a11e581184b15a95b5b4b6d95c163": {
      "model_module": "@jupyter-widgets/controls",
      "model_module_version": "1.5.0",
      "model_name": "SelectMultipleModel",
      "state": {
       "_options_labels": [
        "SIRIUS_Isotherm_2019_02_17_01544.nxs",
        "SIRIUS_Fluo_2020_07_03_00422.nxs",
        "SIRIUS_Fluo_2020_07_03_0042.nxs",
        "SIRIUS_2020_07_17_1613.nxs",
        "SIRIUS_2020_07_17_1610.nxs",
        "SIRIUS_2020_07_16_1555.nxs",
        "SIRIUS_2020_03_12_0760.nxs",
        "SIRIUS_2020_03_12_0756.nxs",
        "SIRIUS_2020_03_11_0752.nxs",
        "SIRIUS_2020_03_11_0744.nxs",
        "SIRIUS_2019_11_07_00325.nxs",
        "SIRIUS_2017_12_11_08042.nxs"
       ],
       "description": "Next scan(s):",
       "index": [
        2
       ],
       "layout": "IPY_MODEL_f8bbbca6a090421cab47124a4ba46764",
       "rows": 10,
       "style": "IPY_MODEL_af7c93471904416c828ce2adca45d44c"
      }
     },
     "ec915280b7424013a7691aeb32819d06": {
      "model_module": "@jupyter-widgets/controls",
      "model_module_version": "1.5.0",
      "model_name": "DropdownModel",
      "state": {
       "_options_labels": [
        "M1-A Pt Track",
        "M1-A B4C Track",
        "M1-B (B4C)",
        "No M1"
       ],
       "description": "M1:",
       "index": 0,
       "layout": "IPY_MODEL_c059b5ef069d43a090707c44b0d256d8",
       "style": "IPY_MODEL_eb6bb848b883454797a784a5d32f05ca"
      }
     },
     "ecaa008b8bd74fb2bb82ff5606ead1be": {
      "model_module": "@jupyter-widgets/controls",
      "model_module_version": "1.5.0",
      "model_name": "ButtonModel",
      "state": {
       "description": "Plot isotherm",
       "layout": "IPY_MODEL_01010430254d4cba99a73a26684cfc73",
       "style": "IPY_MODEL_64dbc991114f420abcdb9d313ed0e18c"
      }
     },
     "ecaf460d858f4282be8658bdc2ffeffc": {
      "model_module": "@jupyter-widgets/controls",
      "model_module_version": "1.5.0",
      "model_name": "DescriptionStyleModel",
      "state": {
       "description_width": "initial"
      }
     },
     "ecebb68a1dd04c5a9b5bf3d69fafd830": {
      "model_module": "@jupyter-widgets/controls",
      "model_module_version": "1.5.0",
      "model_name": "HBoxModel",
      "state": {
       "children": [
        "IPY_MODEL_76d6d5905cc9430a9f89f4b74d44d29d",
        "IPY_MODEL_e9c645e3b2164545af273cc3f698c859"
       ],
       "layout": "IPY_MODEL_9a8db1a75a6141a3b5ba3e94152d1a9b"
      }
     },
     "ecfd5e7e4b464890aba4e1d71db05fa6": {
      "model_module": "@jupyter-widgets/controls",
      "model_module_version": "1.5.0",
      "model_name": "ButtonModel",
      "state": {
       "description": "Print form",
       "layout": "IPY_MODEL_23f70c88b301476dae20bae13fff4cc1",
       "style": "IPY_MODEL_d6d600863ca446f08f72080cfc6adb9c"
      }
     },
     "ed58bc429a054a09959bd07e73c992e9": {
      "model_module": "@jupyter-widgets/controls",
      "model_module_version": "1.5.0",
      "model_name": "ButtonModel",
      "state": {
       "description": "Refresh",
       "layout": "IPY_MODEL_ff0b46a33ffd49b494e5bc4952edb869",
       "style": "IPY_MODEL_201496bd24784611a0d92119e50c56df"
      }
     },
     "ed80cfa1ff0f48309ea15d6cf1440ff8": {
      "model_module": "@jupyter-widgets/controls",
      "model_module_version": "1.5.0",
      "model_name": "TextModel",
      "state": {
       "description": "Users (on site):",
       "layout": "IPY_MODEL_98363491c7d64638bd025ad862cfec75",
       "placeholder": "Names",
       "style": "IPY_MODEL_520213593aa2483b82868da20b95bd83"
      }
     },
     "edb8a8237ecc46ba99e815bd641d0f24": {
      "model_module": "@jupyter-widgets/base",
      "model_module_version": "1.2.0",
      "model_name": "LayoutModel",
      "state": {}
     },
     "edbe3061ed20456cb5a071894332af7d": {
      "model_module": "@jupyter-widgets/base",
      "model_module_version": "1.2.0",
      "model_name": "LayoutModel",
      "state": {}
     },
     "edfea08f9b6142e8b83bc37e9a4e8f24": {
      "model_module": "@jupyter-widgets/base",
      "model_module_version": "1.2.0",
      "model_name": "LayoutModel",
      "state": {}
     },
     "ee25c003a3844fc093ed0791524437b0": {
      "model_module": "@jupyter-widgets/controls",
      "model_module_version": "1.5.0",
      "model_name": "ButtonStyleModel",
      "state": {}
     },
     "ee67dd49e12749579b10fb14eca4efb0": {
      "model_module": "@jupyter-widgets/controls",
      "model_module_version": "1.5.0",
      "model_name": "ButtonStyleModel",
      "state": {}
     },
     "ee7e5a61526c49499a57fd3a3c61e7a9": {
      "model_module": "@jupyter-widgets/controls",
      "model_module_version": "1.5.0",
      "model_name": "TextModel",
      "state": {
       "description": "Type:",
       "layout": "IPY_MODEL_ef3c54d5330e4692acf81870921e6155",
       "placeholder": "Proposal, Commissioning, ...",
       "style": "IPY_MODEL_e79f31046c1b4b2bb48a4e3681787350"
      }
     },
     "ee82e5898fe343838dc68dd29b0aef0f": {
      "model_module": "@jupyter-widgets/base",
      "model_module_version": "1.2.0",
      "model_name": "LayoutModel",
      "state": {}
     },
     "eea060467b154fb9b2e14a49e4854858": {
      "model_module": "@jupyter-widgets/base",
      "model_module_version": "1.2.0",
      "model_name": "LayoutModel",
      "state": {
       "width": "200px"
      }
     },
     "eee80262ce8c496aadb37fbd6873600e": {
      "model_module": "@jupyter-widgets/controls",
      "model_module_version": "1.5.0",
      "model_name": "DescriptionStyleModel",
      "state": {
       "description_width": "initial"
      }
     },
     "ef36cbf220974c2792c66ed85c60e784": {
      "model_module": "@jupyter-widgets/controls",
      "model_module_version": "1.5.0",
      "model_name": "ButtonStyleModel",
      "state": {}
     },
     "ef3c54d5330e4692acf81870921e6155": {
      "model_module": "@jupyter-widgets/base",
      "model_module_version": "1.2.0",
      "model_name": "LayoutModel",
      "state": {
       "height": "40px",
       "width": "300px"
      }
     },
     "ef8e60aca1fc40f6a2ffbb626f9c493e": {
      "model_module": "@jupyter-widgets/controls",
      "model_module_version": "1.5.0",
      "model_name": "ButtonModel",
      "state": {
       "description": "Next action",
       "layout": "IPY_MODEL_29f9c7e21e424e6693c9a7697992c319",
       "style": "IPY_MODEL_0880cd0715834454827e0184d21b5261"
      }
     },
     "efbe718864594ecebe16b5090eee45a6": {
      "model_module": "@jupyter-widgets/controls",
      "model_module_version": "1.5.0",
      "model_name": "DescriptionStyleModel",
      "state": {
       "description_width": "initial"
      }
     },
     "efc85ea576184419b918477ec918cbf3": {
      "model_module": "@jupyter-widgets/controls",
      "model_module_version": "1.5.0",
      "model_name": "TextModel",
      "state": {
       "description": "mon3:",
       "layout": "IPY_MODEL_34c27c545c9249bea2f28c9bf3bd98ea",
       "placeholder": "Empty or type of mon",
       "style": "IPY_MODEL_f0015a8d272b4851b744491015d9e5bc"
      }
     },
     "eff21f8c5c8543efaae950ef95a95104": {
      "model_module": "@jupyter-widgets/base",
      "model_module_version": "1.2.0",
      "model_name": "LayoutModel",
      "state": {}
     },
     "eff37271db884fd886a6265514de2728": {
      "model_module": "@jupyter-widgets/controls",
      "model_module_version": "1.5.0",
      "model_name": "VBoxModel",
      "state": {
       "_dom_classes": [
        "widget-interact"
       ],
       "children": [
        "IPY_MODEL_7aa8743b7bf1409d891e4594ffd685e1",
        "IPY_MODEL_c3e0a696170c456ea081b21c7b00572c"
       ],
       "layout": "IPY_MODEL_03e8eff2f2a44ceb94fbe596819e41b4"
      }
     },
     "eff81c19d83b470caafb125744a0fc7b": {
      "model_module": "@jupyter-widgets/base",
      "model_module_version": "1.2.0",
      "model_name": "LayoutModel",
      "state": {
       "width": "200px"
      }
     },
     "f0015a8d272b4851b744491015d9e5bc": {
      "model_module": "@jupyter-widgets/controls",
      "model_module_version": "1.5.0",
      "model_name": "DescriptionStyleModel",
      "state": {
       "description_width": "initial"
      }
     },
     "f0144034868e42d4bc14d841c7d34d65": {
      "model_module": "@jupyter-widgets/controls",
      "model_module_version": "1.5.0",
      "model_name": "ButtonModel",
      "state": {
       "description": "Insert script",
       "layout": "IPY_MODEL_c1a92704e93b42d6b5dc1547ac336470",
       "style": "IPY_MODEL_8bc9db739d5148169b2bf1eff52e14b5"
      }
     },
     "f0301e2e46ce4a60816cf62497360430": {
      "model_module": "@jupyter-widgets/controls",
      "model_module_version": "1.5.0",
      "model_name": "VBoxModel",
      "state": {
       "_dom_classes": [
        "widget-interact"
       ],
       "children": [
        "IPY_MODEL_ec8a11e581184b15a95b5b4b6d95c163",
        "IPY_MODEL_b945da7057104e3ba69b6785478d1e41"
       ],
       "layout": "IPY_MODEL_a67fff9266e74980ab261cddd2989288"
      }
     },
     "f082f72826034d47953efc16b85a1b67": {
      "model_module": "@jupyter-widgets/controls",
      "model_module_version": "1.5.0",
      "model_name": "DescriptionStyleModel",
      "state": {
       "description_width": "initial"
      }
     },
     "f0b12d51e9344e6c816248caf16f8e55": {
      "model_module": "@jupyter-widgets/controls",
      "model_module_version": "1.5.0",
      "model_name": "ButtonStyleModel",
      "state": {}
     },
     "f0b37d5fdc054efd81c2301e40206787": {
      "model_module": "@jupyter-widgets/controls",
      "model_module_version": "1.5.0",
      "model_name": "ButtonStyleModel",
      "state": {}
     },
     "f0c6275885c84efa9b29de4d38c23e41": {
      "model_module": "@jupyter-widgets/controls",
      "model_module_version": "1.5.0",
      "model_name": "TextModel",
      "state": {
       "description": "Date:",
       "layout": "IPY_MODEL_467985be4ab04d3f82089be5e8da4549",
       "placeholder": "DD/MM/YYYY - DD/MM/YYYY",
       "style": "IPY_MODEL_e6c6eb2c8c4b440cbe771c4ac465ff3c"
      }
     },
     "f116cd4627794686b9d480ba5ad4fce5": {
      "model_module": "@jupyter-widgets/controls",
      "model_module_version": "1.5.0",
      "model_name": "HBoxModel",
      "state": {
       "children": [
        "IPY_MODEL_3e77a4c1f6c14367bf6212bcb5268141",
        "IPY_MODEL_37faeb69b3564ed2bf686a2737e591bf",
        "IPY_MODEL_c73f040ef75b4a57bf18b70231469f7c"
       ],
       "layout": "IPY_MODEL_8bd3aefb75db4056b7348199373c7937"
      }
     },
     "f138c80fb5b14c669d43df14bd5345cf": {
      "model_module": "@jupyter-widgets/controls",
      "model_module_version": "1.5.0",
      "model_name": "DescriptionStyleModel",
      "state": {
       "description_width": "initial"
      }
     },
     "f13d0b57373044b885b1ec3e14fb003b": {
      "model_module": "@jupyter-widgets/controls",
      "model_module_version": "1.5.0",
      "model_name": "DescriptionStyleModel",
      "state": {
       "description_width": "initial"
      }
     },
     "f1cb1091ea724552979ed9e2e71badc2": {
      "model_module": "@jupyter-widgets/controls",
      "model_module_version": "1.5.0",
      "model_name": "CheckboxModel",
      "state": {
       "description": "Vertical focalisation:",
       "disabled": false,
       "layout": "IPY_MODEL_a98e1165cc0341128547c82ecbfcb341",
       "style": "IPY_MODEL_47f323cc734e4581a9b0bf9ea519b175",
       "value": true
      }
     },
     "f20b5e2276ae42a1842b875a8d167e62": {
      "model_module": "@jupyter-widgets/base",
      "model_module_version": "1.2.0",
      "model_name": "LayoutModel",
      "state": {
       "width": "200px"
      }
     },
     "f217a96ab62e45b9af5e6f50fb3076db": {
      "model_module": "@jupyter-widgets/controls",
      "model_module_version": "1.5.0",
      "model_name": "ButtonModel",
      "state": {
       "description": "Insert comment",
       "layout": "IPY_MODEL_7c450c5afdbb489c96daf61ad28dc380",
       "style": "IPY_MODEL_91bf0243bf064544914d3e06e83b8f28"
      }
     },
     "f2323bacbd1d464bb8d3e7f3f7842dd0": {
      "model_module": "@jupyter-widgets/controls",
      "model_module_version": "1.5.0",
      "model_name": "TextModel",
      "state": {
       "description": "Wavelength (nm):",
       "layout": "IPY_MODEL_467985be4ab04d3f82089be5e8da4549",
       "placeholder": "Value(s)",
       "style": "IPY_MODEL_1dedc5835ce747d98371633145f65669"
      }
     },
     "f2b82323436742fab97021865f14f42d": {
      "model_module": "@jupyter-widgets/controls",
      "model_module_version": "1.5.0",
      "model_name": "ButtonModel",
      "state": {
       "description": "Insert script",
       "layout": "IPY_MODEL_07df9ca2c6b04bfab2847e5c1a0f6ed1",
       "style": "IPY_MODEL_cc16998d785b4812a4b041a20425d5f2"
      }
     },
     "f336e7ca2f7248ed99dd8d41737221f3": {
      "model_module": "@jupyter-widgets/controls",
      "model_module_version": "1.5.0",
      "model_name": "HBoxModel",
      "state": {
       "children": [
        "IPY_MODEL_08d9efaf48e9418ebea6eb3bd2371265",
        "IPY_MODEL_cc441dc964424d0daa7fee9e55f140db",
        "IPY_MODEL_26f37bbc365441d9a31440ccf0996f34",
        "IPY_MODEL_62729addddb34730927b6948cad34e54"
       ],
       "layout": "IPY_MODEL_ad3437b5543946bab7b05bda68f54b16"
      }
     },
     "f34786661a424ab7a55821aec403e1cc": {
      "model_module": "@jupyter-widgets/controls",
      "model_module_version": "1.5.0",
      "model_name": "DropdownModel",
      "state": {
       "_options_labels": [
        "M4 Pt Track",
        "M4 Si Track",
        "No M4"
       ],
       "description": "M4:",
       "index": 0,
       "layout": "IPY_MODEL_33f02d14a5484a6287f88b75d153c785",
       "style": "IPY_MODEL_03ff52f4a1d84e208398e9040ffde27e"
      }
     },
     "f35a50462f19441da5b051ab4d7e78d7": {
      "model_module": "@jupyter-widgets/base",
      "model_module_version": "1.2.0",
      "model_name": "LayoutModel",
      "state": {}
     },
     "f381b3ada0b94c0db4415f2c073185d8": {
      "model_module": "@jupyter-widgets/output",
      "model_module_version": "1.0.0",
      "model_name": "OutputModel",
      "state": {
       "layout": "IPY_MODEL_e0550274e912499db22ab5f9834a677b"
      }
     },
     "f3fca6ab6e1044af80dd5425df3efad5": {
      "model_module": "@jupyter-widgets/controls",
      "model_module_version": "1.5.0",
      "model_name": "HBoxModel",
      "state": {
       "children": [
        "IPY_MODEL_472b3ae82cdb4cc6b5aa6f801d25262f",
        "IPY_MODEL_84266d5a44a74e5ebed70493b192956c",
        "IPY_MODEL_dd8e47c3bd3447dcb071f7b43c48a801",
        "IPY_MODEL_d556f7f2ecad46feb33168969d6b0757"
       ],
       "layout": "IPY_MODEL_768b129b48a147fe82992af79a8aa5bb"
      }
     },
     "f406e6913a7e4aa99263d42806c56266": {
      "model_module": "@jupyter-widgets/base",
      "model_module_version": "1.2.0",
      "model_name": "LayoutModel",
      "state": {}
     },
     "f4373133a38b46288234bb3ba4882ffd": {
      "model_module": "@jupyter-widgets/controls",
      "model_module_version": "1.5.0",
      "model_name": "ButtonStyleModel",
      "state": {}
     },
     "f445ac596e47461d894a96b2172ad17d": {
      "model_module": "@jupyter-widgets/output",
      "model_module_version": "1.0.0",
      "model_name": "OutputModel",
      "state": {
       "layout": "IPY_MODEL_9b6bbd2e09ab4e19bf388915cc2e6bc4"
      }
     },
     "f4a25f4ed8014f08b92301b008982e64": {
      "model_module": "@jupyter-widgets/controls",
      "model_module_version": "1.5.0",
      "model_name": "HBoxModel",
      "state": {
       "children": [
        "IPY_MODEL_3ed29208784b4fb3b520ea211262248d",
        "IPY_MODEL_5e000f23e0ee4ab5a3ff692f058b5cd6"
       ],
       "layout": "IPY_MODEL_b8fe2a66b1eb4584a8a497dad9977030"
      }
     },
     "f51e622add5c4d6f8ff4ca4e9d283f0f": {
      "model_module": "@jupyter-widgets/base",
      "model_module_version": "1.2.0",
      "model_name": "LayoutModel",
      "state": {}
     },
     "f5375b8fc4ba4e29aeb8558e5a365abf": {
      "model_module": "@jupyter-widgets/controls",
      "model_module_version": "1.5.0",
      "model_name": "HBoxModel",
      "state": {
       "children": [
        "IPY_MODEL_d91fde1276cf4149b38fea6b0cff93c0",
        "IPY_MODEL_ea66896b53b0469b9d57ba01accf30e8"
       ],
       "layout": "IPY_MODEL_565259c8c8794eaf84cf3c4fecbfdc0f"
      }
     },
     "f545b6737f7b42c49da195707d3de713": {
      "model_module": "@jupyter-widgets/controls",
      "model_module_version": "1.5.0",
      "model_name": "ButtonStyleModel",
      "state": {}
     },
     "f54a7b6f05d947a5bf0e305bc7119131": {
      "model_module": "@jupyter-widgets/base",
      "model_module_version": "1.2.0",
      "model_name": "LayoutModel",
      "state": {}
     },
     "f569fe79366b49da9add9b306469abdd": {
      "model_module": "@jupyter-widgets/base",
      "model_module_version": "1.2.0",
      "model_name": "LayoutModel",
      "state": {}
     },
     "f5784ba5fb9147c8bf1af7dfa07576c2": {
      "model_module": "@jupyter-widgets/controls",
      "model_module_version": "1.5.0",
      "model_name": "DescriptionStyleModel",
      "state": {
       "description_width": "initial"
      }
     },
     "f5bc9fdbeaea48c3942d8ab829ee652c": {
      "model_module": "@jupyter-widgets/controls",
      "model_module_version": "1.5.0",
      "model_name": "ButtonModel",
      "state": {
       "description": "Treat scan(s)",
       "layout": "IPY_MODEL_8ceb327412954b9eac4ffc4c3fc19fd0",
       "style": "IPY_MODEL_8bd07ec73aa6486f97fe3818e1279718"
      }
     },
     "f5ce0fc8327f4b73a2db854b495c9f5e": {
      "model_module": "@jupyter-widgets/controls",
      "model_module_version": "1.5.0",
      "model_name": "HBoxModel",
      "state": {
       "children": [
        "IPY_MODEL_e98be11f77234b56825e83526eff904a",
        "IPY_MODEL_14380f35a1ba4a15b6007255cd8cf08d",
        "IPY_MODEL_d1c5ad1780fc4738a89cc478b5500c2a",
        "IPY_MODEL_dfa5e958cd2a4368be09f754f70d283d"
       ],
       "layout": "IPY_MODEL_416437b862384142b3925e6d6659e1fc"
      }
     },
     "f5de0ebda10f4bdfa38bc6837db1f5fd": {
      "model_module": "@jupyter-widgets/controls",
      "model_module_version": "1.5.0",
      "model_name": "ButtonStyleModel",
      "state": {}
     },
     "f5f5564c2fa94e6093fc616d71e14fea": {
      "model_module": "@jupyter-widgets/controls",
      "model_module_version": "1.5.0",
      "model_name": "ButtonModel",
      "state": {
       "description": "Next action",
       "layout": "IPY_MODEL_3275426790f441f69d4084f57c00b908",
       "style": "IPY_MODEL_0e275f64a3ae46e38a1f071fa1fa13b5"
      }
     },
     "f66cf0c03685475ba3e00ed4d9a3b8d7": {
      "model_module": "@jupyter-widgets/base",
      "model_module_version": "1.2.0",
      "model_name": "LayoutModel",
      "state": {}
     },
     "f6838c7a08244739ae6b2ef2349e1fd4": {
      "model_module": "@jupyter-widgets/controls",
      "model_module_version": "1.5.0",
      "model_name": "DescriptionStyleModel",
      "state": {
       "description_width": "initial"
      }
     },
     "f76c0e6bc50d422fa47b64645386ec17": {
      "model_module": "@jupyter-widgets/controls",
      "model_module_version": "1.5.0",
      "model_name": "SelectMultipleModel",
      "state": {
       "_options_labels": [
        "SIRIUS_Isotherm_2019_02_17_01544.nxs",
        "SIRIUS_Fluo_2020_07_03_00422.nxs",
        "SIRIUS_Fluo_2020_07_03_0042.nxs",
        "SIRIUS_2020_07_17_1613.nxs",
        "SIRIUS_2020_07_17_1610.nxs",
        "SIRIUS_2020_07_16_1555.nxs",
        "SIRIUS_2020_03_12_0760.nxs",
        "SIRIUS_2020_03_12_0756.nxs",
        "SIRIUS_2020_03_11_0752.nxs",
        "SIRIUS_2020_03_11_0744.nxs",
        "SIRIUS_2019_11_07_00325.nxs",
        "SIRIUS_2017_12_11_08042.nxs"
       ],
       "description": "Next scan(s):",
       "index": [],
       "layout": "IPY_MODEL_3cbfc10a566d4068b773cbc1a3008325",
       "rows": 10,
       "style": "IPY_MODEL_94e287c4861b4183b58d6040af696022"
      }
     },
     "f7c7a7998f4841b2a37b90032ab9678d": {
      "model_module": "@jupyter-widgets/base",
      "model_module_version": "1.2.0",
      "model_name": "LayoutModel",
      "state": {}
     },
     "f80d6cc8eefc4a309285c9386b070797": {
      "model_module": "@jupyter-widgets/controls",
      "model_module_version": "1.5.0",
      "model_name": "HBoxModel",
      "state": {
       "children": [
        "IPY_MODEL_ee7e5a61526c49499a57fd3a3c61e7a9",
        "IPY_MODEL_dc08f67008554f21b195cd240d5dd8b4"
       ],
       "layout": "IPY_MODEL_7ef4e69c27124d05861ba6affb6d154a"
      }
     },
     "f84e609d97864091b5ab1aa4bbde238d": {
      "model_module": "@jupyter-widgets/controls",
      "model_module_version": "1.5.0",
      "model_name": "TextModel",
      "state": {
       "description": "Experiment title:",
       "layout": "IPY_MODEL_563883aaaf3c4c3bb1c85b4bac7a5e1f",
       "placeholder": "Title",
       "style": "IPY_MODEL_af01c8a5f3a745feb5de8d988f3bafda",
       "value": "Test of multilayer substrates and sample environment for improving the implementation of the X ray standing wave technique on Test of multilayer substrates and sample environment for improving the implementation of the X ray standing wave technique on Test of multilayer substrates and sample environment for improving the implementation of the X ray standing wave technique on"
      }
     },
     "f8a7b016582d4401ac35d063f3b811bb": {
      "model_module": "@jupyter-widgets/base",
      "model_module_version": "1.2.0",
      "model_name": "LayoutModel",
      "state": {}
     },
     "f8bbbca6a090421cab47124a4ba46764": {
      "model_module": "@jupyter-widgets/base",
      "model_module_version": "1.2.0",
      "model_name": "LayoutModel",
      "state": {
       "width": "400px"
      }
     },
     "f8f06a1b8e6a4d9f9245fb39bcffe510": {
      "model_module": "@jupyter-widgets/output",
      "model_module_version": "1.0.0",
      "model_name": "OutputModel",
      "state": {
       "layout": "IPY_MODEL_5ca8547978a647ca8f8f6dc1de7b6c73"
      }
     },
     "f8f0f7ad849f4d8ea1d76eb92fd652b9": {
      "model_module": "@jupyter-widgets/controls",
      "model_module_version": "1.5.0",
      "model_name": "HBoxModel",
      "state": {
       "children": [
        "IPY_MODEL_6669a61f78d74f988a4ecc1423561cc1",
        "IPY_MODEL_096bdde9588d4f29a44ba3119138dc89",
        "IPY_MODEL_6304b486502849c5869e03e84d2e4f8a",
        "IPY_MODEL_428ca0f06b4e4459983f2556f587a9b1"
       ],
       "layout": "IPY_MODEL_8786a4d7de5e47db84b6fd7b90ae2b90"
      }
     },
     "f8f9abe1af574f93b05787786f947dde": {
      "model_module": "@jupyter-widgets/controls",
      "model_module_version": "1.5.0",
      "model_name": "DescriptionStyleModel",
      "state": {
       "description_width": "initial"
      }
     },
     "f913dbfebe0940e68f21fb5dfa2051dc": {
      "model_module": "@jupyter-widgets/controls",
      "model_module_version": "1.5.0",
      "model_name": "ButtonModel",
      "state": {
       "description": "Fill form",
       "layout": "IPY_MODEL_f406e6913a7e4aa99263d42806c56266",
       "style": "IPY_MODEL_6fbe1032f1614abeb9ae86e1c6af0e66"
      }
     },
     "f920c99c585c4ba2a3dd55857fcad109": {
      "model_module": "@jupyter-widgets/controls",
      "model_module_version": "1.5.0",
      "model_name": "HBoxModel",
      "state": {
       "children": [
        "IPY_MODEL_9a6222c60ca74da6ae1b720a7bee5cfa",
        "IPY_MODEL_230ef068c46b495bbad5d83a3d102bcd"
       ],
       "layout": "IPY_MODEL_40dec1d98b1e4ff19c0a284414cbdf6d"
      }
     },
     "f95faac4bcee40d694ac9384c7c9da99": {
      "model_module": "@jupyter-widgets/controls",
      "model_module_version": "1.5.0",
      "model_name": "ButtonModel",
      "state": {
       "description": "Plot isotherm",
       "layout": "IPY_MODEL_306419b534a7451fac5620f4edb11a18",
       "style": "IPY_MODEL_65f38276a23a45b08ec3970f93ec563b"
      }
     },
     "f9d4ae3c9aa3496397c6d81d2d08b41b": {
      "model_module": "@jupyter-widgets/controls",
      "model_module_version": "1.5.0",
      "model_name": "ButtonStyleModel",
      "state": {}
     },
     "f9ed63439edb471884dc39e95576a3ca": {
      "model_module": "@jupyter-widgets/controls",
      "model_module_version": "1.5.0",
      "model_name": "TextModel",
      "state": {
       "description": "mon3:",
       "layout": "IPY_MODEL_fcc1a1b0d3664300b8f863a47c8ad19d",
       "placeholder": "Empty or type of mon",
       "style": "IPY_MODEL_f6838c7a08244739ae6b2ef2349e1fd4"
      }
     },
     "f9f0de33beb74873a782455311ef1280": {
      "model_module": "@jupyter-widgets/base",
      "model_module_version": "1.2.0",
      "model_name": "LayoutModel",
      "state": {}
     },
     "fa27b55e524a4e77a48b54e48eec0943": {
      "model_module": "@jupyter-widgets/base",
      "model_module_version": "1.2.0",
      "model_name": "LayoutModel",
      "state": {
       "width": "200px"
      }
     },
     "fa5a8ddcd56840058523c04b5a8ad563": {
      "model_module": "@jupyter-widgets/controls",
      "model_module_version": "1.5.0",
      "model_name": "DescriptionStyleModel",
      "state": {
       "description_width": "initial"
      }
     },
     "fa8af925823145659a587ecd67a4e267": {
      "model_module": "@jupyter-widgets/controls",
      "model_module_version": "1.5.0",
      "model_name": "ButtonStyleModel",
      "state": {}
     },
     "fb0f4c0a28664d1b8d434efcb78e3976": {
      "model_module": "@jupyter-widgets/controls",
      "model_module_version": "1.5.0",
      "model_name": "ButtonModel",
      "state": {
       "description": "Calib. theta z",
       "layout": "IPY_MODEL_8b8ea55926d049509d89df03d5e1a2a5",
       "style": "IPY_MODEL_605d35c03cc245efb2d1014227151a44"
      }
     },
     "fb41628d209d4836a2c55923d158bed0": {
      "model_module": "@jupyter-widgets/base",
      "model_module_version": "1.2.0",
      "model_name": "LayoutModel",
      "state": {
       "width": "150px"
      }
     },
     "fbdbd92411ec4c519547cb6c168757b1": {
      "model_module": "@jupyter-widgets/controls",
      "model_module_version": "1.5.0",
      "model_name": "HBoxModel",
      "state": {
       "children": [
        "IPY_MODEL_af502cf8802d4acf9b6e9b21b24da26f",
        "IPY_MODEL_fb0f4c0a28664d1b8d434efcb78e3976",
        "IPY_MODEL_ea47603198f949a68a2d7b8e0b4b97f8",
        "IPY_MODEL_9cd03c62ca0a475bb6e7ab48a4e08c36"
       ],
       "layout": "IPY_MODEL_cc2e7b8ceb00423e9e9e9f4df377161e"
      }
     },
     "fbf75b0d4dc346c49818916a8f631949": {
      "model_module": "@jupyter-widgets/controls",
      "model_module_version": "1.5.0",
      "model_name": "HBoxModel",
      "state": {
       "children": [
        "IPY_MODEL_c8e75b916ea042ac98cae1b81ac84b53",
        "IPY_MODEL_244b6d860faa43169aa986cbc31d42db"
       ],
       "layout": "IPY_MODEL_b71c80e74d954631a49bdb931909ad18"
      }
     },
     "fc1fd21d3b5849eeb2d0216fdbe96046": {
      "model_module": "@jupyter-widgets/controls",
      "model_module_version": "1.5.0",
      "model_name": "ButtonStyleModel",
      "state": {}
     },
     "fc3109f281b840c9b1701d67abb42c15": {
      "model_module": "@jupyter-widgets/base",
      "model_module_version": "1.2.0",
      "model_name": "LayoutModel",
      "state": {}
     },
     "fc6f18c2255141a8b5c24d755d09774b": {
      "model_module": "@jupyter-widgets/controls",
      "model_module_version": "1.5.0",
      "model_name": "ButtonStyleModel",
      "state": {}
     },
     "fcb4bc04f1064475a07182f6a8785728": {
      "model_module": "@jupyter-widgets/controls",
      "model_module_version": "1.5.0",
      "model_name": "DescriptionStyleModel",
      "state": {
       "description_width": ""
      }
     },
     "fcc1a1b0d3664300b8f863a47c8ad19d": {
      "model_module": "@jupyter-widgets/base",
      "model_module_version": "1.2.0",
      "model_name": "LayoutModel",
      "state": {
       "height": "40px",
       "width": "200px"
      }
     },
     "fcc87da3e5864cdab661cabc0d4636d7": {
      "model_module": "@jupyter-widgets/controls",
      "model_module_version": "1.5.0",
      "model_name": "DescriptionStyleModel",
      "state": {
       "description_width": "initial"
      }
     },
     "fcc9f865c53f4dd28e2e4f5dae08431a": {
      "model_module": "@jupyter-widgets/base",
      "model_module_version": "1.2.0",
      "model_name": "LayoutModel",
      "state": {}
     },
     "fcf2424fb6924dfba04d00ca5c7eef78": {
      "model_module": "@jupyter-widgets/base",
      "model_module_version": "1.2.0",
      "model_name": "LayoutModel",
      "state": {}
     },
     "fd16baae317340c4a6eda0deacdea75d": {
      "model_module": "@jupyter-widgets/output",
      "model_module_version": "1.0.0",
      "model_name": "OutputModel",
      "state": {
       "layout": "IPY_MODEL_d0a13babfc6545ee94867a19d69c0d0e"
      }
     },
     "fd56fbdd18fb4e9889de1d6456389871": {
      "model_module": "@jupyter-widgets/controls",
      "model_module_version": "1.5.0",
      "model_name": "DescriptionStyleModel",
      "state": {
       "description_width": "initial"
      }
     },
     "fd663f1535094c9589de3f0ae7d824f1": {
      "model_module": "@jupyter-widgets/controls",
      "model_module_version": "1.5.0",
      "model_name": "HBoxModel",
      "state": {
       "children": [
        "IPY_MODEL_c1fb2b02bdf9475f9c82683e01f90fc0",
        "IPY_MODEL_02856630cd884fd996a74c3adc3254cf",
        "IPY_MODEL_7f231edbf38f463bb828c41dd4ee550c"
       ],
       "layout": "IPY_MODEL_2bcb9bc84f7d486186b7aeb5298e392f"
      }
     },
     "fd87e771c7324dab991a91d50e3e5a73": {
      "model_module": "@jupyter-widgets/controls",
      "model_module_version": "1.5.0",
      "model_name": "ButtonStyleModel",
      "state": {}
     },
     "fe135879db8849b2a85487a45f767431": {
      "model_module": "@jupyter-widgets/controls",
      "model_module_version": "1.5.0",
      "model_name": "ButtonModel",
      "state": {
       "description": "Export to PDF",
       "layout": "IPY_MODEL_92f424f93940485cab6a98f2a2e6e8fa",
       "style": "IPY_MODEL_94c5ed150dc742f79b997f7e6d733c45"
      }
     },
     "febdf768bd6247eb9fa454c3e941448a": {
      "model_module": "@jupyter-widgets/controls",
      "model_module_version": "1.5.0",
      "model_name": "DescriptionStyleModel",
      "state": {
       "description_width": "initial"
      }
     },
     "feeb70baf6f04adea1bba587b27eb25b": {
      "model_module": "@jupyter-widgets/controls",
      "model_module_version": "1.5.0",
      "model_name": "DescriptionStyleModel",
      "state": {
       "description_width": "initial"
      }
     },
     "fef2aec545d0430b90c659218156fea2": {
      "model_module": "@jupyter-widgets/controls",
      "model_module_version": "1.5.0",
      "model_name": "HBoxModel",
      "state": {
       "children": [
        "IPY_MODEL_60b32425e2eb4b858106d13bb6263cae",
        "IPY_MODEL_0dbd5c750fa54a049a70e669808e8137"
       ],
       "layout": "IPY_MODEL_fcc9f865c53f4dd28e2e4f5dae08431a"
      }
     },
     "fef6e8a0b9204cc1902eb88e82816f76": {
      "model_module": "@jupyter-widgets/base",
      "model_module_version": "1.2.0",
      "model_name": "LayoutModel",
      "state": {}
     },
     "ff0b46a33ffd49b494e5bc4952edb869": {
      "model_module": "@jupyter-widgets/base",
      "model_module_version": "1.2.0",
      "model_name": "LayoutModel",
      "state": {}
     },
     "ff1ae59fa02b46869e5800a08331664e": {
      "model_module": "@jupyter-widgets/controls",
      "model_module_version": "1.5.0",
      "model_name": "TextModel",
      "state": {
       "description": "Type:",
       "layout": "IPY_MODEL_467985be4ab04d3f82089be5e8da4549",
       "placeholder": "Proposal, Commissioning, ...",
       "style": "IPY_MODEL_9b0429385e4848228ccabbaefbcfe8f5"
      }
     },
     "ff29165bd7dc44389d3467653c3fd54d": {
      "model_module": "@jupyter-widgets/controls",
      "model_module_version": "1.5.0",
      "model_name": "DropdownModel",
      "state": {
       "_options_labels": [
        "Fixed",
        "Variable"
       ],
       "description": "Fixed/Variable energy:",
       "index": 0,
       "layout": "IPY_MODEL_3b1b4ac9ade047228b8d3c4f365ba1a3",
       "style": "IPY_MODEL_feeb70baf6f04adea1bba587b27eb25b"
      }
     },
     "ff570fab2d044544bd6fc7a9e4a609bc": {
      "model_module": "@jupyter-widgets/controls",
      "model_module_version": "1.5.0",
      "model_name": "DescriptionStyleModel",
      "state": {
       "description_width": "initial"
      }
     },
     "ff67d4def6984c999aa59207f4defe8d": {
      "model_module": "@jupyter-widgets/base",
      "model_module_version": "1.2.0",
      "model_name": "LayoutModel",
      "state": {}
     },
     "ffb7cda424ac4e9ebf3f3c7f535153e3": {
      "model_module": "@jupyter-widgets/base",
      "model_module_version": "1.2.0",
      "model_name": "LayoutModel",
      "state": {
       "width": "400px"
      }
     },
     "fff1b02c87ea4c61aef210688e6012ee": {
      "model_module": "@jupyter-widgets/controls",
      "model_module_version": "1.5.0",
      "model_name": "DescriptionStyleModel",
      "state": {
       "description_width": "initial"
      }
     }
    },
    "version_major": 2,
    "version_minor": 0
   }
  }
 },
 "nbformat": 4,
 "nbformat_minor": 4
}
