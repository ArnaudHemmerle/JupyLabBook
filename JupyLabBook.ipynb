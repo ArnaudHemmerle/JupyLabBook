{
 "cells": [
  {
   "cell_type": "markdown",
   "metadata": {
    "tags": [
     "notPrint"
    ]
   },
   "source": [
    "# JupyLabBook @ SIRIUS"
   ]
  },
  {
   "cell_type": "code",
   "execution_count": null,
   "metadata": {
    "scrolled": true,
    "tags": [
     "notPrint"
    ]
   },
   "outputs": [],
   "source": [
    "import CustomFunctions as CF\n",
    "import FrontendFunctions as FF\n",
    "import PyNexus as PN\n",
    "\n",
    "import numpy as np\n",
    "import matplotlib as mpl\n",
    "import matplotlib.pyplot as plt\n",
    "from IPython.display import set_matplotlib_formats, Javascript, display\n",
    "set_matplotlib_formats('png', 'pdf')\n",
    "    \n",
    "# To have all the cells expanded (not collapsed)\n",
    "display(Javascript('IPython.OutputArea.prototype._should_scroll = function(lines) {return false;}'))\n",
    "        \n",
    "class Experiment:\n",
    "    \"\"\"\n",
    "    Class Experiment is used to pass arguments concerning the current experiment only.\n",
    "    \"\"\"\n",
    "    def __init__(self):\n",
    "        pass\n",
    "    \n",
    "expt = Experiment() \n",
    "\n",
    "# Necessary for saving in pdf\n",
    "expt.notebook_name = 'JupyLabBook.ipynb'\n",
    "\n",
    "# Directory where the data will be saved\n",
    "expt.working_dir = \"/Users/arnaudhemmerle/Documents/Recherche/Analysis/JupyLabBook/working/\"\n",
    "\n",
    "# Directory where the nexus files are \n",
    "expt.recording_dir = \"/Users/arnaudhemmerle/Documents/Recherche/Analysis/JupyLabBook/recording/\"\n",
    "\n",
    "# Directory where the logs are\n",
    "expt.logs_dir = \"/Users/arnaudhemmerle/Documents/Recherche/Analysis/JupyLabBook/logs/\"   \n",
    "\n",
    "######################################\n",
    "FF.Check_files(expt)"
   ]
  }
 ],
 "metadata": {
  "celltoolbar": "Format de la Cellule Texte Brut",
  "kernelspec": {
   "display_name": "Python 3",
   "language": "python",
   "name": "python3"
  },
  "language_info": {
   "codemirror_mode": {
    "name": "ipython",
    "version": 3
   },
   "file_extension": ".py",
   "mimetype": "text/x-python",
   "name": "python",
   "nbconvert_exporter": "python",
   "pygments_lexer": "ipython3",
   "version": "3.7.6"
  }
 },
 "nbformat": 4,
 "nbformat_minor": 4
}
