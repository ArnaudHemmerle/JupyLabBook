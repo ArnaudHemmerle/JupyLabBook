{
 "cells": [
  {
   "cell_type": "markdown",
   "metadata": {
    "tags": [
     "notPrint"
    ]
   },
   "source": [
    "# JupyLabBook @ SIRIUS"
   ]
  },
  {
   "cell_type": "code",
   "execution_count": null,
   "metadata": {
    "scrolled": true,
    "tags": [
     "notPrint"
    ]
   },
   "outputs": [],
   "source": [
    "import CustomFunctions as CF\n",
    "import FrontendFunctions as FF\n",
    "import PyNexus as PN\n",
    "\n",
    "import numpy as np\n",
    "import matplotlib as mpl\n",
    "import matplotlib.pyplot as plt\n",
    "from IPython.display import set_matplotlib_formats, Javascript, display\n",
    "set_matplotlib_formats('png', 'pdf')\n",
    "    \n",
    "# To have all the cells expanded (not collapsed)\n",
    "display(Javascript('IPython.OutputArea.prototype._should_scroll = function(lines) {return false;}'))\n",
    "        \n",
    "class Experiment:\n",
    "    \"\"\"\n",
    "    Class Experiment is used to pass arguments concerning the current experiment only.\n",
    "    \"\"\"\n",
    "    def __init__(self):\n",
    "        pass\n",
    "\n",
    "# Test if the expt already exists (avoid loosing info when reloading this cell)\n",
    "try:\n",
    "    expt.notebook_name\n",
    "except:\n",
    "    expt = Experiment() \n",
    "\n",
    "# Necessary for saving in pdf\n",
    "expt.notebook_name = 'JupyLabBook.ipynb'\n",
    "\n",
    "# Directory where the data will be saved\n",
    "expt.working_dir = \"/Users/arnaudhemmerle/Documents/Recherche/Analysis/JupyLabBook/working/\"\n",
    "\n",
    "# Directory where the nexus files are \n",
    "expt.recording_dir = \"/Users/arnaudhemmerle/Documents/Recherche/Analysis/JupyLabBook/recording/\"\n",
    "\n",
    "# Directory where the logs are\n",
    "expt.logs_dir = \"/Users/arnaudhemmerle/Documents/Recherche/Analysis/JupyLabBook/logs/\"   \n",
    "\n",
    "######################################\n",
    "FF.Check_files(expt)"
   ]
  }
 ],
 "metadata": {
  "celltoolbar": "Format de la Cellule Texte Brut",
  "kernelspec": {
   "display_name": "Python 3",
   "language": "python",
   "name": "python3"
  },
  "language_info": {
   "codemirror_mode": {
    "name": "ipython",
    "version": 3
   },
   "file_extension": ".py",
   "mimetype": "text/x-python",
   "name": "python",
   "nbconvert_exporter": "python",
   "pygments_lexer": "ipython3",
   "version": "3.7.6"
  },
  "widgets": {
   "application/vnd.jupyter.widget-state+json": {
    "state": {
     "027cac8c92a04fce8d6991ef10d97753": {
      "model_module": "@jupyter-widgets/base",
      "model_module_version": "1.2.0",
      "model_name": "LayoutModel",
      "state": {}
     },
     "0447b208a4e5479497be2673227cc51e": {
      "model_module": "@jupyter-widgets/controls",
      "model_module_version": "1.5.0",
      "model_name": "SelectMultipleModel",
      "state": {
       "_options_labels": [
        "SIRIUS_Isotherm_2019_02_17_01544.nxs",
        "SIRIUS_Fluo_2020_07_03_00422.nxs",
        "SIRIUS_Fluo_2020_07_03_0042.nxs",
        "SIRIUS_2020_07_17_1613.nxs",
        "SIRIUS_2020_07_17_1610.nxs",
        "SIRIUS_2020_07_16_1555.nxs",
        "SIRIUS_2020_03_12_0760.nxs",
        "SIRIUS_2020_03_12_0756.nxs",
        "SIRIUS_2020_03_11_0752.nxs",
        "SIRIUS_2020_03_11_0744.nxs",
        "SIRIUS_2019_11_07_00325.nxs",
        "SIRIUS_2017_12_11_08042.nxs"
       ],
       "description": "Next scan(s):",
       "index": [],
       "layout": "IPY_MODEL_7c4e2c3d05a9435898dde5ccb34d5238",
       "rows": 10,
       "style": "IPY_MODEL_a3d58abdc6c54840b63bee405173bac2"
      }
     },
     "04abb35fe2d04686bea8ce8b011fae35": {
      "model_module": "@jupyter-widgets/controls",
      "model_module_version": "1.5.0",
      "model_name": "ButtonModel",
      "state": {
       "description": "Insert positions",
       "layout": "IPY_MODEL_2c928753a2094b55a138ef3b883e1bb5",
       "style": "IPY_MODEL_e7871159728943158745540f16202b23"
      }
     },
     "0f223048c9634e8fadbf90a107865d94": {
      "model_module": "@jupyter-widgets/controls",
      "model_module_version": "1.5.0",
      "model_name": "ButtonStyleModel",
      "state": {}
     },
     "10cb0adb1505465e81cdf72aebc25b8b": {
      "model_module": "@jupyter-widgets/base",
      "model_module_version": "1.2.0",
      "model_name": "LayoutModel",
      "state": {}
     },
     "12c432957f5c42e48c16430d5bd9f789": {
      "model_module": "@jupyter-widgets/controls",
      "model_module_version": "1.5.0",
      "model_name": "ButtonStyleModel",
      "state": {}
     },
     "14470241e79a434e9abd3d451d414dad": {
      "model_module": "@jupyter-widgets/base",
      "model_module_version": "1.2.0",
      "model_name": "LayoutModel",
      "state": {}
     },
     "16e67f2fd167496c97bde36bd1842608": {
      "model_module": "@jupyter-widgets/base",
      "model_module_version": "1.2.0",
      "model_name": "LayoutModel",
      "state": {}
     },
     "18ea62820594402b9e2746a281e8fb49": {
      "model_module": "@jupyter-widgets/base",
      "model_module_version": "1.2.0",
      "model_name": "LayoutModel",
      "state": {}
     },
     "1b42f1b652c24c5e93c17f7016b7b1b4": {
      "model_module": "@jupyter-widgets/base",
      "model_module_version": "1.2.0",
      "model_name": "LayoutModel",
      "state": {}
     },
     "1ce6e75661994f729dde1140f59d058f": {
      "model_module": "@jupyter-widgets/controls",
      "model_module_version": "1.5.0",
      "model_name": "ButtonModel",
      "state": {
       "description": "Export to PDF",
       "layout": "IPY_MODEL_2a53f30e310f4cf888864fcc140956da",
       "style": "IPY_MODEL_0f223048c9634e8fadbf90a107865d94"
      }
     },
     "1df2b31bb97b42bfb9eebb7b4c799d57": {
      "model_module": "@jupyter-widgets/controls",
      "model_module_version": "1.5.0",
      "model_name": "ButtonStyleModel",
      "state": {}
     },
     "2a53f30e310f4cf888864fcc140956da": {
      "model_module": "@jupyter-widgets/base",
      "model_module_version": "1.2.0",
      "model_name": "LayoutModel",
      "state": {}
     },
     "2b6f8ff0f00c4b03b2858305a6d58a5a": {
      "model_module": "@jupyter-widgets/controls",
      "model_module_version": "1.5.0",
      "model_name": "ButtonStyleModel",
      "state": {}
     },
     "2c928753a2094b55a138ef3b883e1bb5": {
      "model_module": "@jupyter-widgets/base",
      "model_module_version": "1.2.0",
      "model_name": "LayoutModel",
      "state": {}
     },
     "2d40fcf5ec3c4d6a8cfb1527e2d937ee": {
      "model_module": "@jupyter-widgets/controls",
      "model_module_version": "1.5.0",
      "model_name": "ButtonModel",
      "state": {
       "description": "Refresh",
       "layout": "IPY_MODEL_91105c9b62da45a1bb1aef09d67c91a2",
       "style": "IPY_MODEL_9a81af71c7d84fa3b1f47536249eea20"
      }
     },
     "2f2d3863881444798447eb25b14ecd89": {
      "model_module": "@jupyter-widgets/controls",
      "model_module_version": "1.5.0",
      "model_name": "ButtonStyleModel",
      "state": {}
     },
     "31b74a59962647d3927cf204588f2c31": {
      "model_module": "@jupyter-widgets/controls",
      "model_module_version": "1.5.0",
      "model_name": "ButtonModel",
      "state": {
       "description": "Refresh",
       "layout": "IPY_MODEL_c5d746d7194a4b0694cb9ed2775cdf3d",
       "style": "IPY_MODEL_12c432957f5c42e48c16430d5bd9f789"
      }
     },
     "357bf239808246f3b2550800633fe53a": {
      "model_module": "@jupyter-widgets/controls",
      "model_module_version": "1.5.0",
      "model_name": "ButtonModel",
      "state": {
       "description": "Insert positions",
       "layout": "IPY_MODEL_1b42f1b652c24c5e93c17f7016b7b1b4",
       "style": "IPY_MODEL_ea220e0a37164773bddf4956d32b5b9f"
      }
     },
     "363f2ecca5ed4724bd2ad8d5cf172fe9": {
      "model_module": "@jupyter-widgets/controls",
      "model_module_version": "1.5.0",
      "model_name": "ButtonModel",
      "state": {
       "description": "Insert script",
       "layout": "IPY_MODEL_74b3ef05114945cea4d93c6d900de0d3",
       "style": "IPY_MODEL_5a3b4fcdd2f241a6bc921bdbf040063f"
      }
     },
     "3941ca9fc5db4cd9ac0a78c92ce4b9af": {
      "model_module": "@jupyter-widgets/base",
      "model_module_version": "1.2.0",
      "model_name": "LayoutModel",
      "state": {}
     },
     "39609e9c3a8c40fab08f1da02d955440": {
      "model_module": "@jupyter-widgets/base",
      "model_module_version": "1.2.0",
      "model_name": "LayoutModel",
      "state": {}
     },
     "39944250fee345848d04ea9a4e79b9b6": {
      "model_module": "@jupyter-widgets/controls",
      "model_module_version": "1.5.0",
      "model_name": "ButtonStyleModel",
      "state": {}
     },
     "3a91bdadd9c44a5db146e8f156c5c3a0": {
      "model_module": "@jupyter-widgets/controls",
      "model_module_version": "1.5.0",
      "model_name": "ButtonStyleModel",
      "state": {}
     },
     "3c11064261e243a49ec19f234eadc186": {
      "model_module": "@jupyter-widgets/controls",
      "model_module_version": "1.5.0",
      "model_name": "ButtonModel",
      "state": {
       "description": "Insert script",
       "layout": "IPY_MODEL_bd69feb7b86e4e408f084b2375ed6cbe",
       "style": "IPY_MODEL_7186ecbf8e454067b054d751922056c5"
      }
     },
     "42420433033b4b2785d94c3e869ad201": {
      "model_module": "@jupyter-widgets/base",
      "model_module_version": "1.2.0",
      "model_name": "LayoutModel",
      "state": {}
     },
     "42b08f0951da422396cdb022dbcaa52a": {
      "model_module": "@jupyter-widgets/output",
      "model_module_version": "1.0.0",
      "model_name": "OutputModel",
      "state": {
       "layout": "IPY_MODEL_df412be958424b43b3b1a65964260dd0"
      }
     },
     "43dd511ed1b54d73a5960313734db16b": {
      "model_module": "@jupyter-widgets/controls",
      "model_module_version": "1.5.0",
      "model_name": "ButtonModel",
      "state": {
       "description": "Insert commands",
       "layout": "IPY_MODEL_bf370edd7a664cf487af1805de1a89d2",
       "style": "IPY_MODEL_51cd446f3c204697b6683c72e93d6e8c"
      }
     },
     "47eb523c3c9945debceba02afdc87bbc": {
      "model_module": "@jupyter-widgets/controls",
      "model_module_version": "1.5.0",
      "model_name": "HBoxModel",
      "state": {
       "children": [
        "IPY_MODEL_bc6af19fce9b463a8b32bbbf7d42ee35",
        "IPY_MODEL_9aa4888539a649f5a2b66e061a542f6d",
        "IPY_MODEL_79ec4f72f7dd47fcaeabf134744f5db5",
        "IPY_MODEL_1ce6e75661994f729dde1140f59d058f"
       ],
       "layout": "IPY_MODEL_cfe72a2c715f4e9ea9114d835bed346e"
      }
     },
     "4a7a0d57c40d4b05b4a0ae3b099f6a95": {
      "model_module": "@jupyter-widgets/controls",
      "model_module_version": "1.5.0",
      "model_name": "SelectMultipleModel",
      "state": {
       "_options_labels": [
        "SIRIUS_Isotherm_2019_02_17_01544.nxs",
        "SIRIUS_Fluo_2020_07_03_00422.nxs",
        "SIRIUS_Fluo_2020_07_03_0042.nxs",
        "SIRIUS_2020_07_17_1613.nxs",
        "SIRIUS_2020_07_17_1610.nxs",
        "SIRIUS_2020_07_16_1555.nxs",
        "SIRIUS_2020_03_12_0760.nxs",
        "SIRIUS_2020_03_12_0756.nxs",
        "SIRIUS_2020_03_11_0752.nxs",
        "SIRIUS_2020_03_11_0744.nxs",
        "SIRIUS_2019_11_07_00325.nxs",
        "SIRIUS_2017_12_11_08042.nxs"
       ],
       "description": "Next scan(s):",
       "index": [],
       "layout": "IPY_MODEL_b621c078329247eb9318db504c77dbd2",
       "rows": 10,
       "style": "IPY_MODEL_6a83e9bc2dcc4faf90ee68f7eaec8f04"
      }
     },
     "4b6034dfec604e6e84016e567cc96b75": {
      "model_module": "@jupyter-widgets/base",
      "model_module_version": "1.2.0",
      "model_name": "LayoutModel",
      "state": {}
     },
     "4f4daec1f47b42e99eb9d0c43d75ee67": {
      "model_module": "@jupyter-widgets/base",
      "model_module_version": "1.2.0",
      "model_name": "LayoutModel",
      "state": {}
     },
     "51aab2cb203e4d4b951d573e98f500d7": {
      "model_module": "@jupyter-widgets/controls",
      "model_module_version": "1.5.0",
      "model_name": "HBoxModel",
      "state": {
       "children": [
        "IPY_MODEL_524f6b54ab1d4f02bcc37da8b99d2d29",
        "IPY_MODEL_afc5b0102b71478683485bcea0e52446",
        "IPY_MODEL_72bf4e9a7dde445db306241565891062",
        "IPY_MODEL_826524c3a0384160ac5cbff3a3c5a6bc"
       ],
       "layout": "IPY_MODEL_8323833c6b17436bbd2d6c638b0aca4d"
      }
     },
     "51cd446f3c204697b6683c72e93d6e8c": {
      "model_module": "@jupyter-widgets/controls",
      "model_module_version": "1.5.0",
      "model_name": "ButtonStyleModel",
      "state": {}
     },
     "5245498bb20e4b438dda17d03793b630": {
      "model_module": "@jupyter-widgets/base",
      "model_module_version": "1.2.0",
      "model_name": "LayoutModel",
      "state": {}
     },
     "524f6b54ab1d4f02bcc37da8b99d2d29": {
      "model_module": "@jupyter-widgets/controls",
      "model_module_version": "1.5.0",
      "model_name": "ButtonModel",
      "state": {
       "description": "Fill form",
       "layout": "IPY_MODEL_4f4daec1f47b42e99eb9d0c43d75ee67",
       "style": "IPY_MODEL_3a91bdadd9c44a5db146e8f156c5c3a0"
      }
     },
     "5a3b4fcdd2f241a6bc921bdbf040063f": {
      "model_module": "@jupyter-widgets/controls",
      "model_module_version": "1.5.0",
      "model_name": "ButtonStyleModel",
      "state": {}
     },
     "5e17889e297042d28d069ade1819fe7e": {
      "model_module": "@jupyter-widgets/controls",
      "model_module_version": "1.5.0",
      "model_name": "ButtonModel",
      "state": {
       "description": "Treat scan(s)",
       "layout": "IPY_MODEL_5245498bb20e4b438dda17d03793b630",
       "style": "IPY_MODEL_2f2d3863881444798447eb25b14ecd89"
      }
     },
     "6a83e9bc2dcc4faf90ee68f7eaec8f04": {
      "model_module": "@jupyter-widgets/controls",
      "model_module_version": "1.5.0",
      "model_name": "DescriptionStyleModel",
      "state": {
       "description_width": ""
      }
     },
     "6fcafcc8a1454238b439dc30d11fe50b": {
      "model_module": "@jupyter-widgets/controls",
      "model_module_version": "1.5.0",
      "model_name": "HBoxModel",
      "state": {
       "children": [
        "IPY_MODEL_5e17889e297042d28d069ade1819fe7e",
        "IPY_MODEL_2d40fcf5ec3c4d6a8cfb1527e2d937ee"
       ],
       "layout": "IPY_MODEL_cbb244932a54404c8c6e6e9be86ec1c4"
      }
     },
     "7125ac340db44245b3b0e54a8b582357": {
      "model_module": "@jupyter-widgets/base",
      "model_module_version": "1.2.0",
      "model_name": "LayoutModel",
      "state": {}
     },
     "7186ecbf8e454067b054d751922056c5": {
      "model_module": "@jupyter-widgets/controls",
      "model_module_version": "1.5.0",
      "model_name": "ButtonStyleModel",
      "state": {}
     },
     "72bf4e9a7dde445db306241565891062": {
      "model_module": "@jupyter-widgets/controls",
      "model_module_version": "1.5.0",
      "model_name": "ButtonModel",
      "state": {
       "description": "Convert logs",
       "layout": "IPY_MODEL_14470241e79a434e9abd3d451d414dad",
       "style": "IPY_MODEL_e3496f1ccea14fcc8deac2195c89b5be"
      }
     },
     "74b3ef05114945cea4d93c6d900de0d3": {
      "model_module": "@jupyter-widgets/base",
      "model_module_version": "1.2.0",
      "model_name": "LayoutModel",
      "state": {}
     },
     "79ec4f72f7dd47fcaeabf134744f5db5": {
      "model_module": "@jupyter-widgets/controls",
      "model_module_version": "1.5.0",
      "model_name": "ButtonModel",
      "state": {
       "description": "Convert logs",
       "layout": "IPY_MODEL_7125ac340db44245b3b0e54a8b582357",
       "style": "IPY_MODEL_aca7a94d0264433b943a797894c20003"
      }
     },
     "7aff35bf5bec47b7a39dc215361b38da": {
      "model_module": "@jupyter-widgets/controls",
      "model_module_version": "1.5.0",
      "model_name": "ButtonStyleModel",
      "state": {}
     },
     "7c4e2c3d05a9435898dde5ccb34d5238": {
      "model_module": "@jupyter-widgets/base",
      "model_module_version": "1.2.0",
      "model_name": "LayoutModel",
      "state": {
       "width": "400px"
      }
     },
     "8217f994d44749db9572efb6a0418c7b": {
      "model_module": "@jupyter-widgets/controls",
      "model_module_version": "1.5.0",
      "model_name": "HBoxModel",
      "state": {
       "children": [
        "IPY_MODEL_ac323fac80ac439aa2952d9801e3e1ff",
        "IPY_MODEL_31b74a59962647d3927cf204588f2c31"
       ],
       "layout": "IPY_MODEL_39609e9c3a8c40fab08f1da02d955440"
      }
     },
     "826524c3a0384160ac5cbff3a3c5a6bc": {
      "model_module": "@jupyter-widgets/controls",
      "model_module_version": "1.5.0",
      "model_name": "ButtonModel",
      "state": {
       "description": "Export to PDF",
       "layout": "IPY_MODEL_16e67f2fd167496c97bde36bd1842608",
       "style": "IPY_MODEL_ec8a9005e9d94e4d8f9755a6b0ee516e"
      }
     },
     "8323833c6b17436bbd2d6c638b0aca4d": {
      "model_module": "@jupyter-widgets/base",
      "model_module_version": "1.2.0",
      "model_name": "LayoutModel",
      "state": {}
     },
     "84683e3c69304259a95850154315e68a": {
      "model_module": "@jupyter-widgets/base",
      "model_module_version": "1.2.0",
      "model_name": "LayoutModel",
      "state": {}
     },
     "84cf70bed0aa4defab06248ef263a8c2": {
      "model_module": "@jupyter-widgets/controls",
      "model_module_version": "1.5.0",
      "model_name": "ButtonModel",
      "state": {
       "description": "Insert commands",
       "layout": "IPY_MODEL_4b6034dfec604e6e84016e567cc96b75",
       "style": "IPY_MODEL_b93e533c794e41e3bdf781c932544ff8"
      }
     },
     "8a164a78c6da4cbd8a4748ae985ca116": {
      "model_module": "@jupyter-widgets/controls",
      "model_module_version": "1.5.0",
      "model_name": "HBoxModel",
      "state": {
       "children": [
        "IPY_MODEL_d780f6b7e389465a9add3d3a3af230ea",
        "IPY_MODEL_363f2ecca5ed4724bd2ad8d5cf172fe9",
        "IPY_MODEL_04abb35fe2d04686bea8ce8b011fae35",
        "IPY_MODEL_84cf70bed0aa4defab06248ef263a8c2"
       ],
       "layout": "IPY_MODEL_cbd74bdec7cb4314a72c6bf757107c07"
      }
     },
     "8ac4d449281e46b183f9040913332476": {
      "model_module": "@jupyter-widgets/base",
      "model_module_version": "1.2.0",
      "model_name": "LayoutModel",
      "state": {}
     },
     "91105c9b62da45a1bb1aef09d67c91a2": {
      "model_module": "@jupyter-widgets/base",
      "model_module_version": "1.2.0",
      "model_name": "LayoutModel",
      "state": {}
     },
     "9a81af71c7d84fa3b1f47536249eea20": {
      "model_module": "@jupyter-widgets/controls",
      "model_module_version": "1.5.0",
      "model_name": "ButtonStyleModel",
      "state": {}
     },
     "9aa4888539a649f5a2b66e061a542f6d": {
      "model_module": "@jupyter-widgets/controls",
      "model_module_version": "1.5.0",
      "model_name": "ButtonModel",
      "state": {
       "description": "Calib. theta z",
       "layout": "IPY_MODEL_9fdea9f8c8954d46a8f6910007e16697",
       "style": "IPY_MODEL_39944250fee345848d04ea9a4e79b9b6"
      }
     },
     "9b74692f08e44f27bf27e256a2c83734": {
      "model_module": "@jupyter-widgets/controls",
      "model_module_version": "1.5.0",
      "model_name": "VBoxModel",
      "state": {
       "_dom_classes": [
        "widget-interact"
       ],
       "children": [
        "IPY_MODEL_4a7a0d57c40d4b05b4a0ae3b099f6a95",
        "IPY_MODEL_a4f7f42d0ddf47198ee635c88be4a263"
       ],
       "layout": "IPY_MODEL_3941ca9fc5db4cd9ac0a78c92ce4b9af"
      }
     },
     "9fdea9f8c8954d46a8f6910007e16697": {
      "model_module": "@jupyter-widgets/base",
      "model_module_version": "1.2.0",
      "model_name": "LayoutModel",
      "state": {}
     },
     "a3d58abdc6c54840b63bee405173bac2": {
      "model_module": "@jupyter-widgets/controls",
      "model_module_version": "1.5.0",
      "model_name": "DescriptionStyleModel",
      "state": {
       "description_width": ""
      }
     },
     "a4f7f42d0ddf47198ee635c88be4a263": {
      "model_module": "@jupyter-widgets/output",
      "model_module_version": "1.0.0",
      "model_name": "OutputModel",
      "state": {
       "layout": "IPY_MODEL_fec18b23592e45b29380662b4e0bc781"
      }
     },
     "a9ef0157d75c430e8b9e9634667893d2": {
      "model_module": "@jupyter-widgets/base",
      "model_module_version": "1.2.0",
      "model_name": "LayoutModel",
      "state": {}
     },
     "ac323fac80ac439aa2952d9801e3e1ff": {
      "model_module": "@jupyter-widgets/controls",
      "model_module_version": "1.5.0",
      "model_name": "ButtonModel",
      "state": {
       "description": "Treat scan(s)",
       "layout": "IPY_MODEL_027cac8c92a04fce8d6991ef10d97753",
       "style": "IPY_MODEL_7aff35bf5bec47b7a39dc215361b38da"
      }
     },
     "aca7a94d0264433b943a797894c20003": {
      "model_module": "@jupyter-widgets/controls",
      "model_module_version": "1.5.0",
      "model_name": "ButtonStyleModel",
      "state": {}
     },
     "afc5b0102b71478683485bcea0e52446": {
      "model_module": "@jupyter-widgets/controls",
      "model_module_version": "1.5.0",
      "model_name": "ButtonModel",
      "state": {
       "description": "Calib. theta z",
       "layout": "IPY_MODEL_84683e3c69304259a95850154315e68a",
       "style": "IPY_MODEL_c75e53521004405e9a9bd61623ec185b"
      }
     },
     "b621c078329247eb9318db504c77dbd2": {
      "model_module": "@jupyter-widgets/base",
      "model_module_version": "1.2.0",
      "model_name": "LayoutModel",
      "state": {
       "width": "400px"
      }
     },
     "b93e533c794e41e3bdf781c932544ff8": {
      "model_module": "@jupyter-widgets/controls",
      "model_module_version": "1.5.0",
      "model_name": "ButtonStyleModel",
      "state": {}
     },
     "bc6af19fce9b463a8b32bbbf7d42ee35": {
      "model_module": "@jupyter-widgets/controls",
      "model_module_version": "1.5.0",
      "model_name": "ButtonModel",
      "state": {
       "description": "Fill form",
       "layout": "IPY_MODEL_a9ef0157d75c430e8b9e9634667893d2",
       "style": "IPY_MODEL_1df2b31bb97b42bfb9eebb7b4c799d57"
      }
     },
     "bd3babea46324ab7864ad45bbce3919b": {
      "model_module": "@jupyter-widgets/controls",
      "model_module_version": "1.5.0",
      "model_name": "ButtonStyleModel",
      "state": {}
     },
     "bd69feb7b86e4e408f084b2375ed6cbe": {
      "model_module": "@jupyter-widgets/base",
      "model_module_version": "1.2.0",
      "model_name": "LayoutModel",
      "state": {}
     },
     "be0b0d5d65f74b7495648246c4a7ab37": {
      "model_module": "@jupyter-widgets/base",
      "model_module_version": "1.2.0",
      "model_name": "LayoutModel",
      "state": {}
     },
     "bf370edd7a664cf487af1805de1a89d2": {
      "model_module": "@jupyter-widgets/base",
      "model_module_version": "1.2.0",
      "model_name": "LayoutModel",
      "state": {}
     },
     "bf6a07285a504acd805b1b1e21ecc1e3": {
      "model_module": "@jupyter-widgets/controls",
      "model_module_version": "1.5.0",
      "model_name": "VBoxModel",
      "state": {
       "_dom_classes": [
        "widget-interact"
       ],
       "children": [
        "IPY_MODEL_0447b208a4e5479497be2673227cc51e",
        "IPY_MODEL_42b08f0951da422396cdb022dbcaa52a"
       ],
       "layout": "IPY_MODEL_c338e3a03d2d420da057ece79e3bad74"
      }
     },
     "c338e3a03d2d420da057ece79e3bad74": {
      "model_module": "@jupyter-widgets/base",
      "model_module_version": "1.2.0",
      "model_name": "LayoutModel",
      "state": {}
     },
     "c5d746d7194a4b0694cb9ed2775cdf3d": {
      "model_module": "@jupyter-widgets/base",
      "model_module_version": "1.2.0",
      "model_name": "LayoutModel",
      "state": {}
     },
     "c75e53521004405e9a9bd61623ec185b": {
      "model_module": "@jupyter-widgets/controls",
      "model_module_version": "1.5.0",
      "model_name": "ButtonStyleModel",
      "state": {}
     },
     "cbb244932a54404c8c6e6e9be86ec1c4": {
      "model_module": "@jupyter-widgets/base",
      "model_module_version": "1.2.0",
      "model_name": "LayoutModel",
      "state": {}
     },
     "cbd74bdec7cb4314a72c6bf757107c07": {
      "model_module": "@jupyter-widgets/base",
      "model_module_version": "1.2.0",
      "model_name": "LayoutModel",
      "state": {}
     },
     "cfe72a2c715f4e9ea9114d835bed346e": {
      "model_module": "@jupyter-widgets/base",
      "model_module_version": "1.2.0",
      "model_name": "LayoutModel",
      "state": {}
     },
     "d780f6b7e389465a9add3d3a3af230ea": {
      "model_module": "@jupyter-widgets/controls",
      "model_module_version": "1.5.0",
      "model_name": "ButtonModel",
      "state": {
       "description": "Insert comment",
       "layout": "IPY_MODEL_8ac4d449281e46b183f9040913332476",
       "style": "IPY_MODEL_bd3babea46324ab7864ad45bbce3919b"
      }
     },
     "d791be0479a7499cb1145c76c26bad8c": {
      "model_module": "@jupyter-widgets/controls",
      "model_module_version": "1.5.0",
      "model_name": "ButtonModel",
      "state": {
       "description": "Insert comment",
       "layout": "IPY_MODEL_18ea62820594402b9e2746a281e8fb49",
       "style": "IPY_MODEL_2b6f8ff0f00c4b03b2858305a6d58a5a"
      }
     },
     "df412be958424b43b3b1a65964260dd0": {
      "model_module": "@jupyter-widgets/base",
      "model_module_version": "1.2.0",
      "model_name": "LayoutModel",
      "state": {}
     },
     "e3496f1ccea14fcc8deac2195c89b5be": {
      "model_module": "@jupyter-widgets/controls",
      "model_module_version": "1.5.0",
      "model_name": "ButtonStyleModel",
      "state": {}
     },
     "e7871159728943158745540f16202b23": {
      "model_module": "@jupyter-widgets/controls",
      "model_module_version": "1.5.0",
      "model_name": "ButtonStyleModel",
      "state": {}
     },
     "ea220e0a37164773bddf4956d32b5b9f": {
      "model_module": "@jupyter-widgets/controls",
      "model_module_version": "1.5.0",
      "model_name": "ButtonStyleModel",
      "state": {}
     },
     "ec8a9005e9d94e4d8f9755a6b0ee516e": {
      "model_module": "@jupyter-widgets/controls",
      "model_module_version": "1.5.0",
      "model_name": "ButtonStyleModel",
      "state": {}
     },
     "fec18b23592e45b29380662b4e0bc781": {
      "model_module": "@jupyter-widgets/base",
      "model_module_version": "1.2.0",
      "model_name": "LayoutModel",
      "state": {}
     },
     "ffadf93bf99c4213b9a4603d9009675f": {
      "model_module": "@jupyter-widgets/controls",
      "model_module_version": "1.5.0",
      "model_name": "HBoxModel",
      "state": {
       "children": [
        "IPY_MODEL_d791be0479a7499cb1145c76c26bad8c",
        "IPY_MODEL_3c11064261e243a49ec19f234eadc186",
        "IPY_MODEL_357bf239808246f3b2550800633fe53a",
        "IPY_MODEL_43dd511ed1b54d73a5960313734db16b"
       ],
       "layout": "IPY_MODEL_10cb0adb1505465e81cdf72aebc25b8b"
      }
     }
    },
    "version_major": 2,
    "version_minor": 0
   }
  }
 },
 "nbformat": 4,
 "nbformat_minor": 4
}
