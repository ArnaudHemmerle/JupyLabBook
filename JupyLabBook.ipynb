{
 "cells": [
  {
   "cell_type": "markdown",
   "metadata": {
    "tags": [
     "notPrint"
    ]
   },
   "source": [
    "# JupyLabBook @ SIRIUS"
   ]
  },
  {
   "cell_type": "code",
   "execution_count": null,
   "metadata": {
    "scrolled": true,
    "tags": [
     "notPrint"
    ]
   },
   "outputs": [],
   "source": [
    "__version__ = '2.0'\n",
    "print(\"JupyLabBook version: %s\"%__version__)\n",
    "print(\"More info on: %s\"%\"https://github.com/ArnaudHemmerle/JupyLabBook\")\n",
    "\n",
    "# import custom libraries\n",
    "import lib.frontend as FE\n",
    "from lib.extraction.common import PyNexus as PN\n",
    "from lib.extraction import GIXD as GIXD\n",
    "from lib.extraction import GIXS as GIXS\n",
    "from lib.extraction import PilatusSum as PilatusSum\n",
    "from lib.extraction import Isotherm as Isotherm\n",
    "from lib.extraction import Sensors1D as Sensors1D\n",
    "from lib.extraction import XRF as XRF\n",
    "\n",
    "#import useful libraries\n",
    "import numpy as np\n",
    "import matplotlib.pyplot as plt\n",
    "from IPython.display import set_matplotlib_formats, Javascript, display\n",
    "\n",
    "# necessary for plotting in the notebook\n",
    "%matplotlib inline\n",
    "\n",
    "# to avoid having a large notebook\n",
    "set_matplotlib_formats('png', 'pdf')\n",
    "    \n",
    "# to have all the cells expanded (not collapsed)\n",
    "display(Javascript('IPython.OutputArea.prototype._should_scroll = function(lines) {return false;}'))\n",
    "        \n",
    "# define the class experiment\n",
    "class Experiment:\n",
    "    \"\"\"\n",
    "    Class Experiment is used to pass arguments concerning the current experiment only.\n",
    "    \"\"\"\n",
    "    def __init__(self):\n",
    "        pass\n",
    "\n",
    "# test if the expt already exists (avoid loosing info when reloading this cell)\n",
    "try:\n",
    "    expt.notebook_name\n",
    "except:\n",
    "    expt = Experiment() \n",
    "\n",
    "# necessary for saving in pdf\n",
    "expt.notebook_name = 'JupyLabBook.ipynb'\n",
    "\n",
    "# directory where the data will be saved\n",
    "expt.working_dir = \"working/\"\n",
    "\n",
    "# directory where the nexus files are \n",
    "expt.recording_dir = \"recording/\"\n",
    "\n",
    "# directory where the logs are\n",
    "expt.logs_dir = \"logs/\"   \n",
    "\n",
    "FE.Action.Check_and_init(expt)"
   ]
  }
 ],
 "metadata": {
  "celltoolbar": "Format de la Cellule Texte Brut",
  "kernelspec": {
   "display_name": "Python 3",
   "language": "python",
   "name": "python3"
  },
  "language_info": {
   "codemirror_mode": {
    "name": "ipython",
    "version": 3
   },
   "file_extension": ".py",
   "mimetype": "text/x-python",
   "name": "python",
   "nbconvert_exporter": "python",
   "pygments_lexer": "ipython3",
   "version": "3.8.6"
  }
 },
 "nbformat": 4,
 "nbformat_minor": 4
}
