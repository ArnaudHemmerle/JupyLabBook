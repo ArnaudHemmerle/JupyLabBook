{
 "cells": [
  {
   "cell_type": "markdown",
   "metadata": {
    "tags": [
     "notPrint"
    ]
   },
   "source": [
    "# JupyLabBook @ SIRIUS"
   ]
  },
  {
   "cell_type": "code",
   "execution_count": 1,
   "metadata": {
    "scrolled": true,
    "tags": [
     "notPrint"
    ]
   },
   "outputs": [
    {
     "name": "stdout",
     "output_type": "stream",
     "text": [
      "Versions of modules used:\n",
      "CustomFunctions: 0.4\n",
      "FrontendFunctions: 0.5\n",
      "PyNexus: v4.1\n",
      "Check that you are using the last versions of the modules and read the manual on: \n",
      "https://github.com/ArnaudHemmerle/JupyLabBook\n",
      "\n"
     ]
    }
   ],
   "source": [
    "import CustomFunctions as CF\n",
    "import FrontendFunctions as FF\n",
    "import PyNexus as PN\n",
    "\n",
    "import numpy as np\n",
    "import matplotlib as mpl\n",
    "import matplotlib.pyplot as plt\n",
    "\n",
    "\n",
    "from IPython.display import set_matplotlib_formats\n",
    "if 'is_HR' in locals():\n",
    "    # Used to generate a high-resolution PDF\n",
    "    set_matplotlib_formats('png', 'pdf')\n",
    "    \n",
    "class Experiment:\n",
    "    \"\"\"\n",
    "    Class Experiment is used to pass arguments concerning the current experiment only.\n",
    "    \"\"\"\n",
    "    def __init__(self):\n",
    "        pass\n",
    "    \n",
    "expt = Experiment() \n",
    "\n",
    "# Necessary for saving in pdf\n",
    "expt.notebook_name = 'JupyLabBook.ipynb'\n",
    "\n",
    "# Directory where the data will be saved\n",
    "expt.working_dir = \"/Users/arnaudhemmerle/Documents/Recherche/Analysis/JupyLabBook/working/\"\n",
    "\n",
    "# Directory where the nexus files are \n",
    "expt.recording_dir = \"/Users/arnaudhemmerle/Documents/Recherche/Analysis/JupyLabBook/recording/\"\n",
    "\n",
    "# Directory where the logs are\n",
    "expt.logs_dir = \"/Users/arnaudhemmerle/Documents/Recherche/Analysis/JupyLabBook/logs/\"   \n",
    "\n",
    "# Plot/save parameters\n",
    "expt.moytocreate=(10, 20, 40)\n",
    "expt.binsize=10\n",
    "expt.nblevels=50\n",
    "expt.cmap = 'viridis'\n",
    "\n",
    "#######################\n",
    "\"\"\"\n",
    "General parameters for data reduction\n",
    "Comment/uncomment depending on the types of experiment\n",
    "\n",
    "Mandatory for GIXD: \n",
    "wavelength, thetac, thetai\n",
    "Can be determined by a widget:\n",
    "channel0, thetazfactor\n",
    "\n",
    "Mandatory for GIXS: \n",
    "wavelength, thetai, distance, pixel_PONI_x, pixel_PONI_y\n",
    "\n",
    "Mandatory for XRF:\n",
    "first_channel, last_channel, list_elems\n",
    "\"\"\"\n",
    "\n",
    "# Wavelength in nm\n",
    "expt.wavelength = 0.155\n",
    "\n",
    "# Critical angle in rad\n",
    "expt.thetac = 0.0027\n",
    "\n",
    "# Incident angle in rad\n",
    "expt.thetai = 0.0019 \n",
    "\n",
    "######################################\n",
    "FF.Check_files(expt)"
   ]
  },
  {
   "cell_type": "code",
   "execution_count": 2,
   "metadata": {
    "tags": [
     "notPrint"
    ]
   },
   "outputs": [
    {
     "data": {
      "application/javascript": [
       " "
      ],
      "text/plain": [
       "<IPython.core.display.Javascript object>"
      ]
     },
     "metadata": {},
     "output_type": "display_data"
    },
    {
     "data": {
      "application/javascript": [
       " "
      ],
      "text/plain": [
       "<IPython.core.display.Javascript object>"
      ]
     },
     "metadata": {},
     "output_type": "display_data"
    }
   ],
   "source": [
    "FF.Choose_action(expt)"
   ]
  }
 ],
 "metadata": {
  "celltoolbar": "Format de la Cellule Texte Brut",
  "kernelspec": {
   "display_name": "Python 3",
   "language": "python",
   "name": "python3"
  },
  "language_info": {
   "codemirror_mode": {
    "name": "ipython",
    "version": 3
   },
   "file_extension": ".py",
   "mimetype": "text/x-python",
   "name": "python",
   "nbconvert_exporter": "python",
   "pygments_lexer": "ipython3",
   "version": "3.7.6"
  }
 },
 "nbformat": 4,
 "nbformat_minor": 4
}
